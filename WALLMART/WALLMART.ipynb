{
 "cells": [
  {
   "cell_type": "code",
   "execution_count": 1795,
   "metadata": {
    "executionInfo": {
     "elapsed": 11509,
     "status": "ok",
     "timestamp": 1743747796650,
     "user": {
      "displayName": "Gdleds Led",
      "userId": "04477971106892264481"
     },
     "user_tz": -120
    },
    "id": "VlSgIS6dOs9c"
   },
   "outputs": [],
   "source": [
    "import pandas as pd\n",
    "import numpy as np\n",
    "import holidays\n",
    "import plotly.express as px\n",
    "import plotly.figure_factory as ff\n",
    "import plotly.graph_objects as go\n",
    "\n",
    "from sklearn.model_selection import train_test_split\n",
    "from sklearn.pipeline import Pipeline\n",
    "from sklearn.impute import SimpleImputer\n",
    "from sklearn.preprocessing import  OneHotEncoder, StandardScaler\n",
    "from sklearn.compose import ColumnTransformer\n",
    "from sklearn.linear_model import Ridge, Lasso\n",
    "from sklearn.model_selection import cross_val_score, GridSearchCV\n",
    "from sklearn.metrics import r2_score, accuracy_score, mean_absolute_error\n",
    "from sklearn.linear_model import LinearRegression\n",
    "from plotly.subplots import make_subplots\n"
   ]
  },
  {
   "cell_type": "code",
   "execution_count": 1796,
   "metadata": {
    "executionInfo": {
     "elapsed": 3,
     "status": "ok",
     "timestamp": 1743747874706,
     "user": {
      "displayName": "Gdleds Led",
      "userId": "04477971106892264481"
     },
     "user_tz": -120
    },
    "id": "Fh6Z5HkgOvAU"
   },
   "outputs": [],
   "source": [
    "filepath ='Walmart_Store_sales.csv'"
   ]
  },
  {
   "cell_type": "code",
   "execution_count": 1797,
   "metadata": {
    "colab": {
     "base_uri": "https://localhost:8080/",
     "height": 684
    },
    "executionInfo": {
     "elapsed": 1802,
     "status": "ok",
     "timestamp": 1743747877455,
     "user": {
      "displayName": "Gdleds Led",
      "userId": "04477971106892264481"
     },
     "user_tz": -120
    },
    "id": "ZGZpvzUtO8_t",
    "outputId": "8431cda6-a22e-473d-9d5e-45229771b88f"
   },
   "outputs": [
    {
     "data": {
      "text/html": [
       "<div>\n",
       "<style scoped>\n",
       "    .dataframe tbody tr th:only-of-type {\n",
       "        vertical-align: middle;\n",
       "    }\n",
       "\n",
       "    .dataframe tbody tr th {\n",
       "        vertical-align: top;\n",
       "    }\n",
       "\n",
       "    .dataframe thead th {\n",
       "        text-align: right;\n",
       "    }\n",
       "</style>\n",
       "<table border=\"1\" class=\"dataframe\">\n",
       "  <thead>\n",
       "    <tr style=\"text-align: right;\">\n",
       "      <th></th>\n",
       "      <th>Store</th>\n",
       "      <th>Date</th>\n",
       "      <th>Weekly_Sales</th>\n",
       "      <th>Holiday_Flag</th>\n",
       "      <th>Temperature</th>\n",
       "      <th>Fuel_Price</th>\n",
       "      <th>CPI</th>\n",
       "      <th>Unemployment</th>\n",
       "    </tr>\n",
       "  </thead>\n",
       "  <tbody>\n",
       "    <tr>\n",
       "      <th>0</th>\n",
       "      <td>6.0</td>\n",
       "      <td>18-02-2011</td>\n",
       "      <td>1572117.54</td>\n",
       "      <td>NaN</td>\n",
       "      <td>59.61</td>\n",
       "      <td>3.045</td>\n",
       "      <td>214.777523</td>\n",
       "      <td>6.858</td>\n",
       "    </tr>\n",
       "    <tr>\n",
       "      <th>1</th>\n",
       "      <td>13.0</td>\n",
       "      <td>25-03-2011</td>\n",
       "      <td>1807545.43</td>\n",
       "      <td>0.0</td>\n",
       "      <td>42.38</td>\n",
       "      <td>3.435</td>\n",
       "      <td>128.616064</td>\n",
       "      <td>7.470</td>\n",
       "    </tr>\n",
       "    <tr>\n",
       "      <th>2</th>\n",
       "      <td>17.0</td>\n",
       "      <td>27-07-2012</td>\n",
       "      <td>NaN</td>\n",
       "      <td>0.0</td>\n",
       "      <td>NaN</td>\n",
       "      <td>NaN</td>\n",
       "      <td>130.719581</td>\n",
       "      <td>5.936</td>\n",
       "    </tr>\n",
       "    <tr>\n",
       "      <th>3</th>\n",
       "      <td>11.0</td>\n",
       "      <td>NaN</td>\n",
       "      <td>1244390.03</td>\n",
       "      <td>0.0</td>\n",
       "      <td>84.57</td>\n",
       "      <td>NaN</td>\n",
       "      <td>214.556497</td>\n",
       "      <td>7.346</td>\n",
       "    </tr>\n",
       "    <tr>\n",
       "      <th>4</th>\n",
       "      <td>6.0</td>\n",
       "      <td>28-05-2010</td>\n",
       "      <td>1644470.66</td>\n",
       "      <td>0.0</td>\n",
       "      <td>78.89</td>\n",
       "      <td>2.759</td>\n",
       "      <td>212.412888</td>\n",
       "      <td>7.092</td>\n",
       "    </tr>\n",
       "    <tr>\n",
       "      <th>...</th>\n",
       "      <td>...</td>\n",
       "      <td>...</td>\n",
       "      <td>...</td>\n",
       "      <td>...</td>\n",
       "      <td>...</td>\n",
       "      <td>...</td>\n",
       "      <td>...</td>\n",
       "      <td>...</td>\n",
       "    </tr>\n",
       "    <tr>\n",
       "      <th>145</th>\n",
       "      <td>14.0</td>\n",
       "      <td>18-06-2010</td>\n",
       "      <td>2248645.59</td>\n",
       "      <td>0.0</td>\n",
       "      <td>72.62</td>\n",
       "      <td>2.780</td>\n",
       "      <td>182.442420</td>\n",
       "      <td>8.899</td>\n",
       "    </tr>\n",
       "    <tr>\n",
       "      <th>146</th>\n",
       "      <td>7.0</td>\n",
       "      <td>NaN</td>\n",
       "      <td>716388.81</td>\n",
       "      <td>NaN</td>\n",
       "      <td>20.74</td>\n",
       "      <td>2.778</td>\n",
       "      <td>NaN</td>\n",
       "      <td>NaN</td>\n",
       "    </tr>\n",
       "    <tr>\n",
       "      <th>147</th>\n",
       "      <td>17.0</td>\n",
       "      <td>11-06-2010</td>\n",
       "      <td>845252.21</td>\n",
       "      <td>0.0</td>\n",
       "      <td>57.14</td>\n",
       "      <td>2.841</td>\n",
       "      <td>126.111903</td>\n",
       "      <td>NaN</td>\n",
       "    </tr>\n",
       "    <tr>\n",
       "      <th>148</th>\n",
       "      <td>8.0</td>\n",
       "      <td>12-08-2011</td>\n",
       "      <td>856796.10</td>\n",
       "      <td>0.0</td>\n",
       "      <td>86.05</td>\n",
       "      <td>3.638</td>\n",
       "      <td>219.007525</td>\n",
       "      <td>NaN</td>\n",
       "    </tr>\n",
       "    <tr>\n",
       "      <th>149</th>\n",
       "      <td>19.0</td>\n",
       "      <td>20-04-2012</td>\n",
       "      <td>1255087.26</td>\n",
       "      <td>0.0</td>\n",
       "      <td>55.20</td>\n",
       "      <td>4.170</td>\n",
       "      <td>137.923067</td>\n",
       "      <td>8.150</td>\n",
       "    </tr>\n",
       "  </tbody>\n",
       "</table>\n",
       "<p>150 rows × 8 columns</p>\n",
       "</div>"
      ],
      "text/plain": [
       "     Store        Date  Weekly_Sales  Holiday_Flag  Temperature  Fuel_Price  \\\n",
       "0      6.0  18-02-2011    1572117.54           NaN        59.61       3.045   \n",
       "1     13.0  25-03-2011    1807545.43           0.0        42.38       3.435   \n",
       "2     17.0  27-07-2012           NaN           0.0          NaN         NaN   \n",
       "3     11.0         NaN    1244390.03           0.0        84.57         NaN   \n",
       "4      6.0  28-05-2010    1644470.66           0.0        78.89       2.759   \n",
       "..     ...         ...           ...           ...          ...         ...   \n",
       "145   14.0  18-06-2010    2248645.59           0.0        72.62       2.780   \n",
       "146    7.0         NaN     716388.81           NaN        20.74       2.778   \n",
       "147   17.0  11-06-2010     845252.21           0.0        57.14       2.841   \n",
       "148    8.0  12-08-2011     856796.10           0.0        86.05       3.638   \n",
       "149   19.0  20-04-2012    1255087.26           0.0        55.20       4.170   \n",
       "\n",
       "            CPI  Unemployment  \n",
       "0    214.777523         6.858  \n",
       "1    128.616064         7.470  \n",
       "2    130.719581         5.936  \n",
       "3    214.556497         7.346  \n",
       "4    212.412888         7.092  \n",
       "..          ...           ...  \n",
       "145  182.442420         8.899  \n",
       "146         NaN           NaN  \n",
       "147  126.111903           NaN  \n",
       "148  219.007525           NaN  \n",
       "149  137.923067         8.150  \n",
       "\n",
       "[150 rows x 8 columns]"
      ]
     },
     "metadata": {},
     "output_type": "display_data"
    },
    {
     "data": {
      "text/plain": [
       "((150, 8),\n",
       "    Store        Date  Weekly_Sales  Holiday_Flag  Temperature  Fuel_Price  \\\n",
       " 0    6.0  18-02-2011    1572117.54           NaN        59.61       3.045   \n",
       " 1   13.0  25-03-2011    1807545.43           0.0        42.38       3.435   \n",
       " 2   17.0  27-07-2012           NaN           0.0          NaN         NaN   \n",
       " 3   11.0         NaN    1244390.03           0.0        84.57         NaN   \n",
       " 4    6.0  28-05-2010    1644470.66           0.0        78.89       2.759   \n",
       " \n",
       "           CPI  Unemployment  \n",
       " 0  214.777523         6.858  \n",
       " 1  128.616064         7.470  \n",
       " 2  130.719581         5.936  \n",
       " 3  214.556497         7.346  \n",
       " 4  212.412888         7.092  ,\n",
       " None)"
      ]
     },
     "execution_count": 1797,
     "metadata": {},
     "output_type": "execute_result"
    }
   ],
   "source": [
    "df=pd.read_csv(filepath)\n",
    "df.shape, df.head(), display(df),"
   ]
  },
  {
   "cell_type": "code",
   "execution_count": 1798,
   "metadata": {
    "colab": {
     "base_uri": "https://localhost:8080/",
     "height": 394
    },
    "executionInfo": {
     "elapsed": 35,
     "status": "ok",
     "timestamp": 1743747879608,
     "user": {
      "displayName": "Gdleds Led",
      "userId": "04477971106892264481"
     },
     "user_tz": -120
    },
    "id": "IO1_tgDuPnD9",
    "outputId": "b7ad55c0-a4cb-4d55-e4cf-1cf68a48809e"
   },
   "outputs": [
    {
     "data": {
      "text/html": [
       "<div>\n",
       "<style scoped>\n",
       "    .dataframe tbody tr th:only-of-type {\n",
       "        vertical-align: middle;\n",
       "    }\n",
       "\n",
       "    .dataframe tbody tr th {\n",
       "        vertical-align: top;\n",
       "    }\n",
       "\n",
       "    .dataframe thead th {\n",
       "        text-align: right;\n",
       "    }\n",
       "</style>\n",
       "<table border=\"1\" class=\"dataframe\">\n",
       "  <thead>\n",
       "    <tr style=\"text-align: right;\">\n",
       "      <th></th>\n",
       "      <th>Store</th>\n",
       "      <th>Date</th>\n",
       "      <th>Weekly_Sales</th>\n",
       "      <th>Holiday_Flag</th>\n",
       "      <th>Temperature</th>\n",
       "      <th>Fuel_Price</th>\n",
       "      <th>CPI</th>\n",
       "      <th>Unemployment</th>\n",
       "    </tr>\n",
       "  </thead>\n",
       "  <tbody>\n",
       "    <tr>\n",
       "      <th>count</th>\n",
       "      <td>150.000000</td>\n",
       "      <td>132</td>\n",
       "      <td>1.360000e+02</td>\n",
       "      <td>138.000000</td>\n",
       "      <td>132.000000</td>\n",
       "      <td>136.000000</td>\n",
       "      <td>138.000000</td>\n",
       "      <td>135.000000</td>\n",
       "    </tr>\n",
       "    <tr>\n",
       "      <th>unique</th>\n",
       "      <td>NaN</td>\n",
       "      <td>85</td>\n",
       "      <td>NaN</td>\n",
       "      <td>NaN</td>\n",
       "      <td>NaN</td>\n",
       "      <td>NaN</td>\n",
       "      <td>NaN</td>\n",
       "      <td>NaN</td>\n",
       "    </tr>\n",
       "    <tr>\n",
       "      <th>top</th>\n",
       "      <td>NaN</td>\n",
       "      <td>19-10-2012</td>\n",
       "      <td>NaN</td>\n",
       "      <td>NaN</td>\n",
       "      <td>NaN</td>\n",
       "      <td>NaN</td>\n",
       "      <td>NaN</td>\n",
       "      <td>NaN</td>\n",
       "    </tr>\n",
       "    <tr>\n",
       "      <th>freq</th>\n",
       "      <td>NaN</td>\n",
       "      <td>4</td>\n",
       "      <td>NaN</td>\n",
       "      <td>NaN</td>\n",
       "      <td>NaN</td>\n",
       "      <td>NaN</td>\n",
       "      <td>NaN</td>\n",
       "      <td>NaN</td>\n",
       "    </tr>\n",
       "    <tr>\n",
       "      <th>mean</th>\n",
       "      <td>9.866667</td>\n",
       "      <td>NaN</td>\n",
       "      <td>1.249536e+06</td>\n",
       "      <td>0.079710</td>\n",
       "      <td>61.398106</td>\n",
       "      <td>3.320853</td>\n",
       "      <td>179.898509</td>\n",
       "      <td>7.598430</td>\n",
       "    </tr>\n",
       "    <tr>\n",
       "      <th>std</th>\n",
       "      <td>6.231191</td>\n",
       "      <td>NaN</td>\n",
       "      <td>6.474630e+05</td>\n",
       "      <td>0.271831</td>\n",
       "      <td>18.378901</td>\n",
       "      <td>0.478149</td>\n",
       "      <td>40.274956</td>\n",
       "      <td>1.577173</td>\n",
       "    </tr>\n",
       "    <tr>\n",
       "      <th>min</th>\n",
       "      <td>1.000000</td>\n",
       "      <td>NaN</td>\n",
       "      <td>2.689290e+05</td>\n",
       "      <td>0.000000</td>\n",
       "      <td>18.790000</td>\n",
       "      <td>2.514000</td>\n",
       "      <td>126.111903</td>\n",
       "      <td>5.143000</td>\n",
       "    </tr>\n",
       "    <tr>\n",
       "      <th>25%</th>\n",
       "      <td>4.000000</td>\n",
       "      <td>NaN</td>\n",
       "      <td>6.050757e+05</td>\n",
       "      <td>0.000000</td>\n",
       "      <td>45.587500</td>\n",
       "      <td>2.852250</td>\n",
       "      <td>131.970831</td>\n",
       "      <td>6.597500</td>\n",
       "    </tr>\n",
       "    <tr>\n",
       "      <th>50%</th>\n",
       "      <td>9.000000</td>\n",
       "      <td>NaN</td>\n",
       "      <td>1.261424e+06</td>\n",
       "      <td>0.000000</td>\n",
       "      <td>62.985000</td>\n",
       "      <td>3.451000</td>\n",
       "      <td>197.908893</td>\n",
       "      <td>7.470000</td>\n",
       "    </tr>\n",
       "    <tr>\n",
       "      <th>75%</th>\n",
       "      <td>15.750000</td>\n",
       "      <td>NaN</td>\n",
       "      <td>1.806386e+06</td>\n",
       "      <td>0.000000</td>\n",
       "      <td>76.345000</td>\n",
       "      <td>3.706250</td>\n",
       "      <td>214.934616</td>\n",
       "      <td>8.150000</td>\n",
       "    </tr>\n",
       "    <tr>\n",
       "      <th>max</th>\n",
       "      <td>20.000000</td>\n",
       "      <td>NaN</td>\n",
       "      <td>2.771397e+06</td>\n",
       "      <td>1.000000</td>\n",
       "      <td>91.650000</td>\n",
       "      <td>4.193000</td>\n",
       "      <td>226.968844</td>\n",
       "      <td>14.313000</td>\n",
       "    </tr>\n",
       "  </tbody>\n",
       "</table>\n",
       "</div>"
      ],
      "text/plain": [
       "             Store        Date  Weekly_Sales  Holiday_Flag  Temperature  \\\n",
       "count   150.000000         132  1.360000e+02    138.000000   132.000000   \n",
       "unique         NaN          85           NaN           NaN          NaN   \n",
       "top            NaN  19-10-2012           NaN           NaN          NaN   \n",
       "freq           NaN           4           NaN           NaN          NaN   \n",
       "mean      9.866667         NaN  1.249536e+06      0.079710    61.398106   \n",
       "std       6.231191         NaN  6.474630e+05      0.271831    18.378901   \n",
       "min       1.000000         NaN  2.689290e+05      0.000000    18.790000   \n",
       "25%       4.000000         NaN  6.050757e+05      0.000000    45.587500   \n",
       "50%       9.000000         NaN  1.261424e+06      0.000000    62.985000   \n",
       "75%      15.750000         NaN  1.806386e+06      0.000000    76.345000   \n",
       "max      20.000000         NaN  2.771397e+06      1.000000    91.650000   \n",
       "\n",
       "        Fuel_Price         CPI  Unemployment  \n",
       "count   136.000000  138.000000    135.000000  \n",
       "unique         NaN         NaN           NaN  \n",
       "top            NaN         NaN           NaN  \n",
       "freq           NaN         NaN           NaN  \n",
       "mean      3.320853  179.898509      7.598430  \n",
       "std       0.478149   40.274956      1.577173  \n",
       "min       2.514000  126.111903      5.143000  \n",
       "25%       2.852250  131.970831      6.597500  \n",
       "50%       3.451000  197.908893      7.470000  \n",
       "75%       3.706250  214.934616      8.150000  \n",
       "max       4.193000  226.968844     14.313000  "
      ]
     },
     "execution_count": 1798,
     "metadata": {},
     "output_type": "execute_result"
    }
   ],
   "source": [
    "df.describe(include='all')"
   ]
  },
  {
   "cell_type": "code",
   "execution_count": 1799,
   "metadata": {
    "colab": {
     "base_uri": "https://localhost:8080/"
    },
    "executionInfo": {
     "elapsed": 4,
     "status": "ok",
     "timestamp": 1743747881596,
     "user": {
      "displayName": "Gdleds Led",
      "userId": "04477971106892264481"
     },
     "user_tz": -120
    },
    "id": "-WXEYsKAQ06U",
    "outputId": "ecdc80a6-9ed1-488c-aeb6-31be5481d00f"
   },
   "outputs": [
    {
     "name": "stdout",
     "output_type": "stream",
     "text": [
      "<class 'pandas.core.frame.DataFrame'>\n",
      "RangeIndex: 150 entries, 0 to 149\n",
      "Data columns (total 8 columns):\n",
      " #   Column        Non-Null Count  Dtype  \n",
      "---  ------        --------------  -----  \n",
      " 0   Store         150 non-null    float64\n",
      " 1   Date          132 non-null    object \n",
      " 2   Weekly_Sales  136 non-null    float64\n",
      " 3   Holiday_Flag  138 non-null    float64\n",
      " 4   Temperature   132 non-null    float64\n",
      " 5   Fuel_Price    136 non-null    float64\n",
      " 6   CPI           138 non-null    float64\n",
      " 7   Unemployment  135 non-null    float64\n",
      "dtypes: float64(7), object(1)\n",
      "memory usage: 9.5+ KB\n"
     ]
    }
   ],
   "source": [
    "df.info()"
   ]
  },
  {
   "cell_type": "code",
   "execution_count": 1800,
   "metadata": {},
   "outputs": [],
   "source": [
    "df['Store'] = df['Store'].astype(int)\n"
   ]
  },
  {
   "cell_type": "code",
   "execution_count": 1801,
   "metadata": {
    "colab": {
     "base_uri": "https://localhost:8080/",
     "height": 335
    },
    "executionInfo": {
     "elapsed": 13,
     "status": "ok",
     "timestamp": 1743747886499,
     "user": {
      "displayName": "Gdleds Led",
      "userId": "04477971106892264481"
     },
     "user_tz": -120
    },
    "id": "gPus6-nYWMoU",
    "outputId": "4cd53606-9fd3-4823-8d76-f909d1b5203b"
   },
   "outputs": [
    {
     "data": {
      "text/plain": [
       "Store            0\n",
       "Date            18\n",
       "Weekly_Sales    14\n",
       "Holiday_Flag    12\n",
       "Temperature     18\n",
       "Fuel_Price      14\n",
       "CPI             12\n",
       "Unemployment    15\n",
       "dtype: int64"
      ]
     },
     "execution_count": 1801,
     "metadata": {},
     "output_type": "execute_result"
    }
   ],
   "source": [
    "\n",
    "df.isna().sum()"
   ]
  },
  {
   "cell_type": "code",
   "execution_count": 1802,
   "metadata": {},
   "outputs": [
    {
     "name": "stdout",
     "output_type": "stream",
     "text": [
      "le magasin 1 a 12.99% de valeur manquante\n",
      "le magasin 2 a 12.5% de valeur manquante\n",
      "le magasin 3 a 9.52% de valeur manquante\n",
      "le magasin 4 a 8.16% de valeur manquante\n",
      "le magasin 5 a 11.11% de valeur manquante\n",
      "le magasin 6 a 10.2% de valeur manquante\n",
      "le magasin 7 a 8.93% de valeur manquante\n",
      "le magasin 8 a 7.14% de valeur manquante\n",
      "le magasin 9 a 10.71% de valeur manquante\n",
      "le magasin 10 a 11.43% de valeur manquante\n",
      "le magasin 11 a 14.29% de valeur manquante\n",
      "le magasin 12 a 2.86% de valeur manquante\n",
      "le magasin 13 a 3.17% de valeur manquante\n",
      "le magasin 14 a 14.29% de valeur manquante\n",
      "le magasin 15 a 10.71% de valeur manquante\n",
      "le magasin 16 a 3.57% de valeur manquante\n",
      "le magasin 17 a 17.86% de valeur manquante\n",
      "le magasin 18 a 8.57% de valeur manquante\n",
      "le magasin 19 a 4.76% de valeur manquante\n",
      "le magasin 20 a 12.24% de valeur manquante\n"
     ]
    }
   ],
   "source": [
    "def null_value(col):\n",
    "    # Group by the 'Store' column and sum the number of missing values for each store\n",
    "    df_null = df.groupby(col).apply(lambda group: group.isna().sum(), include_groups=False)\n",
    "\n",
    "    # Group by the 'Store' column and sum the number of present values for each store\n",
    "    df_value = df.groupby(col).apply(lambda group: group.notna().sum(), include_groups=False)\n",
    "\n",
    "    # Iterate over the results and print the number of missing and present values for each store\n",
    "    for store in df_null.index:\n",
    "        null_counts = df_null.loc[store]\n",
    "        value_counts = df_value.loc[store]\n",
    "        total_null = null_counts.sum()\n",
    "        total_value = value_counts.sum()\n",
    "        ratio_null= round((total_null*100)/(total_value+total_null),2)\n",
    "        print(f'le magasin {store} a {ratio_null}% de valeur manquante')\n",
    "\n",
    "null_value('Store')\n"
   ]
  },
  {
   "cell_type": "code",
   "execution_count": 1803,
   "metadata": {},
   "outputs": [],
   "source": [
    "# On supprime les ligne où la valeur de Weekly_Sales est absente\n",
    "df= df.dropna(subset=['Weekly_Sales'],axis=0)"
   ]
  },
  {
   "cell_type": "code",
   "execution_count": 1804,
   "metadata": {},
   "outputs": [
    {
     "data": {
      "text/plain": [
       "Store            0\n",
       "Date            18\n",
       "Weekly_Sales     0\n",
       "Holiday_Flag    11\n",
       "Temperature     15\n",
       "Fuel_Price      12\n",
       "CPI             11\n",
       "Unemployment    14\n",
       "dtype: int64"
      ]
     },
     "execution_count": 1804,
     "metadata": {},
     "output_type": "execute_result"
    }
   ],
   "source": [
    "df.isna().sum()"
   ]
  },
  {
   "cell_type": "markdown",
   "metadata": {},
   "source": [
    "Contrôle des outliers"
   ]
  },
  {
   "cell_type": "code",
   "execution_count": 1805,
   "metadata": {
    "colab": {
     "base_uri": "https://localhost:8080/",
     "height": 520
    },
    "executionInfo": {
     "elapsed": 9,
     "status": "ok",
     "timestamp": 1743747888485,
     "user": {
      "displayName": "Gdleds Led",
      "userId": "04477971106892264481"
     },
     "user_tz": -120
    },
    "id": "daKfGJhxOpn1",
    "outputId": "4edcf698-6f74-4a8d-ee23-77535a056afb"
   },
   "outputs": [
    {
     "data": {
      "application/vnd.plotly.v1+json": {
       "config": {
        "plotlyServerURL": "https://plot.ly"
       },
       "data": [
        {
         "name": "Temperature",
         "type": "box",
         "xaxis": "x",
         "y": {
          "bdata": "rkfhehTOTUBxPQrXozBFQBSuR+F6JFVAKVyPwvW4U0AAAAAAAAD4fzMzMzMzc1FA16NwPQr3Q0AK16NwPYo+QI/C9ShcD05AexSuR+G6VEDD9ShcjwJKQK5H4XoUTkJAj8L1KFwvUEApXI/C9QhOQArXo3A9OlFA9ihcj8IVU0AUrkfhelQ1QHE9CtejEElA4XoUrkchQ0C4HoXrUVhTQFyPwvUofElAKVyPwvWIQ0DhehSuR2FJQClcj8L1aEZArkfhehTuSUCamZmZmflFQFyPwvUonEZAAAAAAAAA+H+amZmZmRlRQArXo3A9yjJAAAAAAACAQkDNzMzMzOxVQOF6FK5HoUBAXI/C9SgMVEAAAAAAAAD4f2ZmZmZmdlRAexSuR+FaTkDXo3A9CjdJQAAAAAAAAPh/AAAAAAAA+H/NzMzMzMxMQOF6FK5HQUNAcT0K16NQS0A9CtejcJ1UQAAAAAAAkFBAmpmZmZnpVkCF61G4HiVIQK5H4XoUjk5AuB6F61HYTUDhehSuR0FVQOF6FK5H4URASOF6FK63VUDNzMzMzMxPQHsUrkfhulJAAAAAAAAA+H/NzMzMzGxCQAAAAAAAAPh/j8L1KFzPTEDD9Shcj2JKQHsUrkfhSlFAuB6F61E4QkDXo3A9CrdFQHsUrkfhalJAexSuR+HaRkDD9Shcj8JWQGZmZmZmZjtApHA9CtdjQkCuR+F6FE5VQK5H4XoU/lBAexSuR+HKUkD2KFyPwrVHQAAAAAAAIE9ASOF6FK5XUUB7FK5H4fpIQAAAAAAAAPh/w/UoXI9iSkCuR+F6FP5TQLgehetRWEZAAAAAAAAA+H9cj8L1KMxSQIXrUbge5UNAexSuR+EaU0BxPQrXo6BTQArXo3A9OlFAAAAAAAAA+H8AAAAAAAD4f65H4XoUnlNAUrgeheuxUkDhehSuR+FIQFK4HoXr4VBAFK5H4XqUVkAUrkfherRTQOF6FK5H4VRAAAAAAABgR0AAAAAAAHBRQDMzMzMzM0VAzczMzMysVECF61G4HjVSQFK4HoXrcUFA7FG4HoWrQEBI4XoUrkdRQJqZmZmZ2TxAAAAAAAAA+H+4HoXrUdhDQHsUrkfhWkBAmpmZmZl5UUAAAAAAAAD4f2ZmZmZmpkNAj8L1KFy/VEApXI/C9ShBQBSuR+F61FJAexSuR+FaVkDsUbgehetMQAAAAAAAAPh/cT0K16MQUUAUrkfhevRPQIXrUbge5U5AzczMzMz8UkAAAAAAAFBSQAAAAAAAQEpAAAAAAAAA+H/2KFyPwrVUQLgehetR6FRA9ihcj8IlVUBcj8L1KBxWQI/C9Shcj1JAzczMzMxMSUCPwvUoXC9PQMP1KFyP4lJAUrgeheuhU0Bcj8L1KFxSQEjhehSuJ1JAPQrXo3C9NEBSuB6F65FMQDMzMzMzg1VAmpmZmZmZS0A=",
          "dtype": "f8"
         },
         "yaxis": "y"
        },
        {
         "name": "Fuel_price",
         "type": "box",
         "xaxis": "x2",
         "y": {
          "bdata": "XI/C9ShcCEB7FK5H4XoLQAAAAAAAAPh/30+Nl24SBkA/NV66SQwGQC2yne+nRhBAVg4tsp3vDECsHFpkO98IQHE9CtejcAxAO99PjZduDECgGi/dJAYHQIlBYOXQIg5ArBxaZDvfDUBt5/up8dIGQD0K16NwPQZAzczMzMzMBkDo+6nx0k0GQAAAAAAAAPh/zczMzMzMBUD+1HjpJjEPQARWDi2yHRBATmIQWDm0B0Dl0CLb+X4QQMdLN4lBYA5ASgwCK4cWCkA5tMh2vp8OQFK4HoXrUQdAyXa+nxovDEATg8DKocUQQG3n+6nx0ghAAAAAAAAA+H/Xo3A9CtcLQB1aZDvfTw5AI9v5fmq8C0Av3SQGgZUOQI/C9ShcjwxAx0s3iUFgCkBkO99PjRcQQBKDwMqhRQ1A16NwPQrXDUDhehSuR+ELQPyp8dJNYgRAcT0K16NwDEAfhetRuB4FQESLbOf7qQdARrbz/dR4DUAAAAAAAAAOQOf7qfHSTQ5Abef7qfHSBUDTTWIQWDkFQAAAAAAAAA1AhxbZzvdTDUDJdr6fGi8NQMHKoUW28wRAH4XrUbgeBUCPwvUoXI8NQMl2vp8aLxBAdZMYBFYOD0AX2c73U+MJQI2XbhKDwAxA/tR46SYxCUCyne+nxksKQLx0kxgEVgZA+n5qvHSTBEDP91PjpZsNQOkmMQisHAlA8KfGSzeJBkDByqFFtvMEQI2XbhKDwAxAEVg5tMh2BkAv3SQGgRUQQBFYObTIdgpAAAAAAAAA+H9fukkMAisGQArXo3A9Cg1AFK5H4XoUDEAtsp3vp8YPQAMrhxbZzgdA8tJNYhBYDkAbL90kBoENQLbz/dR46Q1AfT81XrpJDkCJQWDl0CIFQArXo3A9Cg1AvHSTGARWBUAMAiuHFlkQQBSuR+F6FA5AokW28/3UBkAAAAAAAAD4fwAAAAAAAPh/AAAAAAAA+H9QjZduEoMGQH9qvHSTGAVAAAAAAAAA+H+F61G4HoUOQOF6FK5H4QZA+FPjpZvECkDb+X5qvHQHQAAAAAAAAPh//Knx0k1iBEBzaJHtfD8HQDvfT42XbglALbKd76fGDUDpJjEIrBwEQAAAAAAAAPh/4XoUrkfhBUASg8DKoUUHQLByaJHtfA9Af2q8dJMYBUAlBoGVQ4sJQA4tsp3vpwRA2/l+arx0DUD4U+Olm8QMQH0/NV66SQ5AAAAAAAAA+H8RWDm0yHYKQOSlm8QgsAVADAIrhxbZDEC4HoXrUbgOQAisHFpkOwxA2s73U+OlBkBqvHSTGAQNQCcxCKwcWghAjZduEoPAC0BMN4lBYOUIQNv5fmq8dA5AO99PjZduDkAAAAAAAAD4f0jhehSuRwpApHA9CtejBUCNl24Sg8AMQD0K16NwPQZA001iEFg5BkDufD81XroGQLTIdr6fGg1ArkfhehSuEEA=",
          "dtype": "f8"
         },
         "yaxis": "y2"
        },
        {
         "name": "CPI",
         "type": "box",
         "xaxis": "x3",
         "y": {
          "bdata": "TswfeOHYakBA9+XMthNgQIaKYNLO0WpAJh3lYDaNakBuvrYjQYpfQMIJO3td22BAZB75g8GgakAAAAAAAAD4f3odzIE5BGxAFwlcDT9ia0DUpwtnbZhgQKlnQShvGmhAjtt5LMema0AQ6bevA49fQMqmXOGdfGpAAAAAAAAA+H+HbkCV5HBgQAAAAAAAAPh/kYDR5Y22Z0AmGHN8GRFrQGx4eqUsXWFAVWe1wJ57YEBFR3L5D0FhQCuSZXd3Y2BAAAAAAAAA+H988xsmmhpoQDlFR3L5o19AsuA0M6koa0BOS2L/ayFgQKUPApdsnWhAAAAAAAAA+H+D4bd8v91qQMI5fgOuvmBAfSgsTLp3a0DNMP8y6chgQDJ3LSEfImBAtG4oIT1Sa0Ad1DTeTD9hQKX5vhMOxGhAMn7QaQzOa0DVKlX9JUxoQIdi4dq/Z2pA4fCCiNSIa0Driyn9qX1qQOMryyGzkGBABFq6gm3xakDf4jz3Oa1oQFcPTvqxXmBAQ5CDEiZ1akCIDFC/sNxqQCZWodzRH2dAmhNqPAdXYECwfbcvljBgQH+tAQD23WpA0vgqnp+cakCITb+f9bpnQBihjn3/PWdAcI9KVqpUYEDy9tZ2SbhfQE1XZgCeAGxAWybD8bw8YEDcTUsHRsxfQE59IHmnk2BA7VV1oJjNakBCkChZcyZgQAAAAAAAAPh/XynLEMeyX0DO2hJeJ3JqQKVUeIaf7WtAU+8EVimSaUCJVpNMszJhQF6PeGgOR2tAAAAAAAAA+H+XgPM9/u1qQENOBBblrWtA0G14MFj9a0BVz5N89vtgQMlsNZATYmpAjcCzmDNhYEBcNXRYhidsQGGfpdAer2pADZqnhPHkakCFc7J5AdVqQAAAAAAAAPh/K7kvDH3WakD1V37P/iFgQCzCA7l6RGdAIwrSMcxKakA8xnDQ+ddqQChIbHcPXmpAHOviNhqIX0Cb5h2n6IhfQDGbW3wl2WpAoaAUrVxra0BKe4MvTO5gQF8pyxDHsl9A2Vw1z9EpbEAlG7T8JZNgQAAAAAAAAPh/upPjqeLTakBF9GvrZ4lgQEANKVCVlGlAl5APejZFYUASnzvBPl5qQGHm8WrvSGBAkSxgAvfhakCq8dJNYnRgQOyhfawgt2hA/LA5YojgakA6gDRSJdNmQFZW5CEd3GpAAmswaHwBa0AwMfGiCsNoQPajlwcf8GpAthxDWyneYEAHANjKlbRrQFK0F3a9sGdAQpAoWXMmYECZAXhV8UVhQF/VWS1wWmBA0HWGTvSiX0CUQmok0yRgQGJw3klVh19AmpmZmZkjYEA3Eg33NohfQDfewl94IGtAzmhQ2dWyaEDiua3j7pFqQAAAAAAAAPh/caMS6N3PakBrPY3FAF9sQDAzx00ozmZAAAAAAAAA+H9WFApsKYdfQPvs26Q9YGtA2hAtw4k9YUA=",
          "dtype": "f8"
         },
         "yaxis": "y3"
        },
        {
         "name": "Unemployment",
         "type": "box",
         "xaxis": "x4",
         "y": {
          "bdata": "O99PjZduG0DhehSuR+EdQPyp8dJNYh1Aku18PzVeHEAv3SQGgZUfQG0Sg8DKoR5A8tJNYhDYG0AAAAAAAAD4f6BFtvP9VBtAMzMzMzOzGUC28/3UeKkiQHE9CtejMCFAMQisHFpkHUAK16NwPYobQJLtfD81XhxA5/up8dLNH0CBlUOLbGciQN0kBoGVwx1AkxgEVg7tIUDb+X5qvPQZQCPb+X5qfCBAMzMzMzOzIEDNzMzMzEwgQM/3U+OlGxZAoEW28/1UG0BCYOXQIlsZQArXo3A9ihpAMzMzMzOzG0BGtvP91HgrQFCNl24SgyBADAIrhxbZIEAAAAAAAAD4fy/dJAaBFR9A+FPjpZtEHkAzMzMzM/MhQGQQWDm0yBdAMzMzMzMzGUDP91PjpZsgQFg5tMh2PhhAbxKDwMqhG0BYObTIdj4hQIPAyqFFNiBA7nw/NV46HECWQ4ts5/sZQKabxCCwMiBADgIrhxbZH0DazvdT46UYQFyPwvUo3BdA+n5qvHRTIEAAAAAAAAD4fwwCK4cWGSFArkfhehSuHEA3XrpJDIIbQMP1KFyPQhlAMQisHFrkG0AMAiuHFtkgQJhuEoPACiFArkfhehQuHkDHSzeJQaAsQOWlm8QgsBVA30+Nl26SFECwcmiR7XwhQMl2vp8aryJARLbz/dR4HUCoxks3iQErQLbz/dR4qSJArkfhehQuH0DazvdT4yUfQAAAAAAAAPh/BoGVQ4tsH0ASg8DKocUfQBBYObTIdh9Az/dT46UbHkA9CtejcD0aQBKDwMqhxRdAoEW28/1UG0DTTWIQWDkfQHSTGARWDiBAcT0K16PwGEAOLbKd76caQPLSTWIQ2BtA001iEFi5H0D4U+Olm8QZQFg5tMh2vhdAAAAAAAAA+H9GtvP91HgrQAAAAAAAQCFACKwcWmQ7H0AZBFYOLTIZQAAAAAAAAPh/PzVeukkMI0Dn+6nx0s0fQKwcWmQ7Xx1A7nw/NV46HEBI4XoUrschQDdeukkMghxADi2yne+nGkCmm8QgsDIgQJZDi2zn+yFAGQRWDi0yGUAAAAAAAAD4f1YOLbKd7x1AzczMzMxMIEAAAAAAAAD4f9Ei2/l+ahhAqMZLN4lBHkAAAAAAAAD4f65H4XoULiBA8KfGSzeJGUAAAAAAAAD4f8P1KFyPQhlABFYOLbIdGkCxcmiR7XwfQO58PzVeuh5AbRKDwMqhHkB9PzVeuskcQEW28/3UeBtAN166SQyCG0BSuB6F6xEhQNEi2/l+ahhAAAAAAAAA+H/6fmq8dJMWQFyPwvUoXCxA+n5qvHSTFkDZzvdT42UiQOxRuB6FaxtArkfhehQuIEDfT42XbhIbQH0/NV66yRxArBxaZDtfHUCJQWDl0CIYQD81XrpJzCFAAAAAAAAA+H8AAAAAAAD4fwAAAAAAAPh/zczMzMxMIEA=",
          "dtype": "f8"
         },
         "yaxis": "y4"
        }
       ],
       "layout": {
        "annotations": [
         {
          "font": {
           "size": 16
          },
          "showarrow": false,
          "text": "Temperature",
          "x": 0.225,
          "xanchor": "center",
          "xref": "paper",
          "y": 1,
          "yanchor": "bottom",
          "yref": "paper"
         },
         {
          "font": {
           "size": 16
          },
          "showarrow": false,
          "text": "Fuel Price",
          "x": 0.775,
          "xanchor": "center",
          "xref": "paper",
          "y": 1,
          "yanchor": "bottom",
          "yref": "paper"
         },
         {
          "font": {
           "size": 16
          },
          "showarrow": false,
          "text": "CPI",
          "x": 0.225,
          "xanchor": "center",
          "xref": "paper",
          "y": 0.375,
          "yanchor": "bottom",
          "yref": "paper"
         },
         {
          "font": {
           "size": 16
          },
          "showarrow": false,
          "text": "Unemployment",
          "x": 0.775,
          "xanchor": "center",
          "xref": "paper",
          "y": 0.375,
          "yanchor": "bottom",
          "yref": "paper"
         }
        ],
        "template": {
         "data": {
          "bar": [
           {
            "error_x": {
             "color": "#2a3f5f"
            },
            "error_y": {
             "color": "#2a3f5f"
            },
            "marker": {
             "line": {
              "color": "#E5ECF6",
              "width": 0.5
             },
             "pattern": {
              "fillmode": "overlay",
              "size": 10,
              "solidity": 0.2
             }
            },
            "type": "bar"
           }
          ],
          "barpolar": [
           {
            "marker": {
             "line": {
              "color": "#E5ECF6",
              "width": 0.5
             },
             "pattern": {
              "fillmode": "overlay",
              "size": 10,
              "solidity": 0.2
             }
            },
            "type": "barpolar"
           }
          ],
          "carpet": [
           {
            "aaxis": {
             "endlinecolor": "#2a3f5f",
             "gridcolor": "white",
             "linecolor": "white",
             "minorgridcolor": "white",
             "startlinecolor": "#2a3f5f"
            },
            "baxis": {
             "endlinecolor": "#2a3f5f",
             "gridcolor": "white",
             "linecolor": "white",
             "minorgridcolor": "white",
             "startlinecolor": "#2a3f5f"
            },
            "type": "carpet"
           }
          ],
          "choropleth": [
           {
            "colorbar": {
             "outlinewidth": 0,
             "ticks": ""
            },
            "type": "choropleth"
           }
          ],
          "contour": [
           {
            "colorbar": {
             "outlinewidth": 0,
             "ticks": ""
            },
            "colorscale": [
             [
              0,
              "#0d0887"
             ],
             [
              0.1111111111111111,
              "#46039f"
             ],
             [
              0.2222222222222222,
              "#7201a8"
             ],
             [
              0.3333333333333333,
              "#9c179e"
             ],
             [
              0.4444444444444444,
              "#bd3786"
             ],
             [
              0.5555555555555556,
              "#d8576b"
             ],
             [
              0.6666666666666666,
              "#ed7953"
             ],
             [
              0.7777777777777778,
              "#fb9f3a"
             ],
             [
              0.8888888888888888,
              "#fdca26"
             ],
             [
              1,
              "#f0f921"
             ]
            ],
            "type": "contour"
           }
          ],
          "contourcarpet": [
           {
            "colorbar": {
             "outlinewidth": 0,
             "ticks": ""
            },
            "type": "contourcarpet"
           }
          ],
          "heatmap": [
           {
            "colorbar": {
             "outlinewidth": 0,
             "ticks": ""
            },
            "colorscale": [
             [
              0,
              "#0d0887"
             ],
             [
              0.1111111111111111,
              "#46039f"
             ],
             [
              0.2222222222222222,
              "#7201a8"
             ],
             [
              0.3333333333333333,
              "#9c179e"
             ],
             [
              0.4444444444444444,
              "#bd3786"
             ],
             [
              0.5555555555555556,
              "#d8576b"
             ],
             [
              0.6666666666666666,
              "#ed7953"
             ],
             [
              0.7777777777777778,
              "#fb9f3a"
             ],
             [
              0.8888888888888888,
              "#fdca26"
             ],
             [
              1,
              "#f0f921"
             ]
            ],
            "type": "heatmap"
           }
          ],
          "histogram": [
           {
            "marker": {
             "pattern": {
              "fillmode": "overlay",
              "size": 10,
              "solidity": 0.2
             }
            },
            "type": "histogram"
           }
          ],
          "histogram2d": [
           {
            "colorbar": {
             "outlinewidth": 0,
             "ticks": ""
            },
            "colorscale": [
             [
              0,
              "#0d0887"
             ],
             [
              0.1111111111111111,
              "#46039f"
             ],
             [
              0.2222222222222222,
              "#7201a8"
             ],
             [
              0.3333333333333333,
              "#9c179e"
             ],
             [
              0.4444444444444444,
              "#bd3786"
             ],
             [
              0.5555555555555556,
              "#d8576b"
             ],
             [
              0.6666666666666666,
              "#ed7953"
             ],
             [
              0.7777777777777778,
              "#fb9f3a"
             ],
             [
              0.8888888888888888,
              "#fdca26"
             ],
             [
              1,
              "#f0f921"
             ]
            ],
            "type": "histogram2d"
           }
          ],
          "histogram2dcontour": [
           {
            "colorbar": {
             "outlinewidth": 0,
             "ticks": ""
            },
            "colorscale": [
             [
              0,
              "#0d0887"
             ],
             [
              0.1111111111111111,
              "#46039f"
             ],
             [
              0.2222222222222222,
              "#7201a8"
             ],
             [
              0.3333333333333333,
              "#9c179e"
             ],
             [
              0.4444444444444444,
              "#bd3786"
             ],
             [
              0.5555555555555556,
              "#d8576b"
             ],
             [
              0.6666666666666666,
              "#ed7953"
             ],
             [
              0.7777777777777778,
              "#fb9f3a"
             ],
             [
              0.8888888888888888,
              "#fdca26"
             ],
             [
              1,
              "#f0f921"
             ]
            ],
            "type": "histogram2dcontour"
           }
          ],
          "mesh3d": [
           {
            "colorbar": {
             "outlinewidth": 0,
             "ticks": ""
            },
            "type": "mesh3d"
           }
          ],
          "parcoords": [
           {
            "line": {
             "colorbar": {
              "outlinewidth": 0,
              "ticks": ""
             }
            },
            "type": "parcoords"
           }
          ],
          "pie": [
           {
            "automargin": true,
            "type": "pie"
           }
          ],
          "scatter": [
           {
            "fillpattern": {
             "fillmode": "overlay",
             "size": 10,
             "solidity": 0.2
            },
            "type": "scatter"
           }
          ],
          "scatter3d": [
           {
            "line": {
             "colorbar": {
              "outlinewidth": 0,
              "ticks": ""
             }
            },
            "marker": {
             "colorbar": {
              "outlinewidth": 0,
              "ticks": ""
             }
            },
            "type": "scatter3d"
           }
          ],
          "scattercarpet": [
           {
            "marker": {
             "colorbar": {
              "outlinewidth": 0,
              "ticks": ""
             }
            },
            "type": "scattercarpet"
           }
          ],
          "scattergeo": [
           {
            "marker": {
             "colorbar": {
              "outlinewidth": 0,
              "ticks": ""
             }
            },
            "type": "scattergeo"
           }
          ],
          "scattergl": [
           {
            "marker": {
             "colorbar": {
              "outlinewidth": 0,
              "ticks": ""
             }
            },
            "type": "scattergl"
           }
          ],
          "scattermap": [
           {
            "marker": {
             "colorbar": {
              "outlinewidth": 0,
              "ticks": ""
             }
            },
            "type": "scattermap"
           }
          ],
          "scattermapbox": [
           {
            "marker": {
             "colorbar": {
              "outlinewidth": 0,
              "ticks": ""
             }
            },
            "type": "scattermapbox"
           }
          ],
          "scatterpolar": [
           {
            "marker": {
             "colorbar": {
              "outlinewidth": 0,
              "ticks": ""
             }
            },
            "type": "scatterpolar"
           }
          ],
          "scatterpolargl": [
           {
            "marker": {
             "colorbar": {
              "outlinewidth": 0,
              "ticks": ""
             }
            },
            "type": "scatterpolargl"
           }
          ],
          "scatterternary": [
           {
            "marker": {
             "colorbar": {
              "outlinewidth": 0,
              "ticks": ""
             }
            },
            "type": "scatterternary"
           }
          ],
          "surface": [
           {
            "colorbar": {
             "outlinewidth": 0,
             "ticks": ""
            },
            "colorscale": [
             [
              0,
              "#0d0887"
             ],
             [
              0.1111111111111111,
              "#46039f"
             ],
             [
              0.2222222222222222,
              "#7201a8"
             ],
             [
              0.3333333333333333,
              "#9c179e"
             ],
             [
              0.4444444444444444,
              "#bd3786"
             ],
             [
              0.5555555555555556,
              "#d8576b"
             ],
             [
              0.6666666666666666,
              "#ed7953"
             ],
             [
              0.7777777777777778,
              "#fb9f3a"
             ],
             [
              0.8888888888888888,
              "#fdca26"
             ],
             [
              1,
              "#f0f921"
             ]
            ],
            "type": "surface"
           }
          ],
          "table": [
           {
            "cells": {
             "fill": {
              "color": "#EBF0F8"
             },
             "line": {
              "color": "white"
             }
            },
            "header": {
             "fill": {
              "color": "#C8D4E3"
             },
             "line": {
              "color": "white"
             }
            },
            "type": "table"
           }
          ]
         },
         "layout": {
          "annotationdefaults": {
           "arrowcolor": "#2a3f5f",
           "arrowhead": 0,
           "arrowwidth": 1
          },
          "autotypenumbers": "strict",
          "coloraxis": {
           "colorbar": {
            "outlinewidth": 0,
            "ticks": ""
           }
          },
          "colorscale": {
           "diverging": [
            [
             0,
             "#8e0152"
            ],
            [
             0.1,
             "#c51b7d"
            ],
            [
             0.2,
             "#de77ae"
            ],
            [
             0.3,
             "#f1b6da"
            ],
            [
             0.4,
             "#fde0ef"
            ],
            [
             0.5,
             "#f7f7f7"
            ],
            [
             0.6,
             "#e6f5d0"
            ],
            [
             0.7,
             "#b8e186"
            ],
            [
             0.8,
             "#7fbc41"
            ],
            [
             0.9,
             "#4d9221"
            ],
            [
             1,
             "#276419"
            ]
           ],
           "sequential": [
            [
             0,
             "#0d0887"
            ],
            [
             0.1111111111111111,
             "#46039f"
            ],
            [
             0.2222222222222222,
             "#7201a8"
            ],
            [
             0.3333333333333333,
             "#9c179e"
            ],
            [
             0.4444444444444444,
             "#bd3786"
            ],
            [
             0.5555555555555556,
             "#d8576b"
            ],
            [
             0.6666666666666666,
             "#ed7953"
            ],
            [
             0.7777777777777778,
             "#fb9f3a"
            ],
            [
             0.8888888888888888,
             "#fdca26"
            ],
            [
             1,
             "#f0f921"
            ]
           ],
           "sequentialminus": [
            [
             0,
             "#0d0887"
            ],
            [
             0.1111111111111111,
             "#46039f"
            ],
            [
             0.2222222222222222,
             "#7201a8"
            ],
            [
             0.3333333333333333,
             "#9c179e"
            ],
            [
             0.4444444444444444,
             "#bd3786"
            ],
            [
             0.5555555555555556,
             "#d8576b"
            ],
            [
             0.6666666666666666,
             "#ed7953"
            ],
            [
             0.7777777777777778,
             "#fb9f3a"
            ],
            [
             0.8888888888888888,
             "#fdca26"
            ],
            [
             1,
             "#f0f921"
            ]
           ]
          },
          "colorway": [
           "#636efa",
           "#EF553B",
           "#00cc96",
           "#ab63fa",
           "#FFA15A",
           "#19d3f3",
           "#FF6692",
           "#B6E880",
           "#FF97FF",
           "#FECB52"
          ],
          "font": {
           "color": "#2a3f5f"
          },
          "geo": {
           "bgcolor": "white",
           "lakecolor": "white",
           "landcolor": "#E5ECF6",
           "showlakes": true,
           "showland": true,
           "subunitcolor": "white"
          },
          "hoverlabel": {
           "align": "left"
          },
          "hovermode": "closest",
          "mapbox": {
           "style": "light"
          },
          "paper_bgcolor": "white",
          "plot_bgcolor": "#E5ECF6",
          "polar": {
           "angularaxis": {
            "gridcolor": "white",
            "linecolor": "white",
            "ticks": ""
           },
           "bgcolor": "#E5ECF6",
           "radialaxis": {
            "gridcolor": "white",
            "linecolor": "white",
            "ticks": ""
           }
          },
          "scene": {
           "xaxis": {
            "backgroundcolor": "#E5ECF6",
            "gridcolor": "white",
            "gridwidth": 2,
            "linecolor": "white",
            "showbackground": true,
            "ticks": "",
            "zerolinecolor": "white"
           },
           "yaxis": {
            "backgroundcolor": "#E5ECF6",
            "gridcolor": "white",
            "gridwidth": 2,
            "linecolor": "white",
            "showbackground": true,
            "ticks": "",
            "zerolinecolor": "white"
           },
           "zaxis": {
            "backgroundcolor": "#E5ECF6",
            "gridcolor": "white",
            "gridwidth": 2,
            "linecolor": "white",
            "showbackground": true,
            "ticks": "",
            "zerolinecolor": "white"
           }
          },
          "shapedefaults": {
           "line": {
            "color": "#2a3f5f"
           }
          },
          "ternary": {
           "aaxis": {
            "gridcolor": "white",
            "linecolor": "white",
            "ticks": ""
           },
           "baxis": {
            "gridcolor": "white",
            "linecolor": "white",
            "ticks": ""
           },
           "bgcolor": "#E5ECF6",
           "caxis": {
            "gridcolor": "white",
            "linecolor": "white",
            "ticks": ""
           }
          },
          "title": {
           "x": 0.05
          },
          "xaxis": {
           "automargin": true,
           "gridcolor": "white",
           "linecolor": "white",
           "ticks": "",
           "title": {
            "standoff": 15
           },
           "zerolinecolor": "white",
           "zerolinewidth": 2
          },
          "yaxis": {
           "automargin": true,
           "gridcolor": "white",
           "linecolor": "white",
           "ticks": "",
           "title": {
            "standoff": 15
           },
           "zerolinecolor": "white",
           "zerolinewidth": 2
          }
         }
        },
        "title": {
         "text": "Boxplot de la distribution"
        },
        "xaxis": {
         "anchor": "y",
         "domain": [
          0,
          0.45
         ]
        },
        "xaxis2": {
         "anchor": "y2",
         "domain": [
          0.55,
          1
         ]
        },
        "xaxis3": {
         "anchor": "y3",
         "domain": [
          0,
          0.45
         ]
        },
        "xaxis4": {
         "anchor": "y4",
         "domain": [
          0.55,
          1
         ]
        },
        "yaxis": {
         "anchor": "x",
         "domain": [
          0.625,
          1
         ]
        },
        "yaxis2": {
         "anchor": "x2",
         "domain": [
          0.625,
          1
         ]
        },
        "yaxis3": {
         "anchor": "x3",
         "domain": [
          0,
          0.375
         ]
        },
        "yaxis4": {
         "anchor": "x4",
         "domain": [
          0,
          0.375
         ]
        }
       }
      }
     },
     "metadata": {},
     "output_type": "display_data"
    }
   ],
   "source": [
    "# On crée une figure avec une grille de 2x3 pour afficher nos boxplot\n",
    "fig = make_subplots(rows=2, cols=2, subplot_titles=('Temperature', 'Fuel Price', 'CPI', 'Unemployment'))\n",
    "\n",
    "# on crée nos boxplot pour chaque variables\n",
    "fig.add_trace(go.Box(y=df['Temperature'], name='Temperature'), row=1, col=1)\n",
    "fig.add_trace(go.Box(y=df['Fuel_Price'], name='Fuel_price'), row=1, col=2)\n",
    "fig.add_trace(go.Box(y=df['CPI'], name='CPI'), row=2, col=1)\n",
    "fig.add_trace(go.Box(y=df['Unemployment'],name='Unemployment'), row=2, col=2)\n",
    "\n",
    "fig.update_layout(title_text=\"Boxplot de la distribution\")\n",
    "fig.show()\n"
   ]
  },
  {
   "cell_type": "markdown",
   "metadata": {},
   "source": [
    "Nous avons des outliers uniquement chez les Unemployement, nous allons les traiter."
   ]
  },
  {
   "cell_type": "code",
   "execution_count": 1806,
   "metadata": {},
   "outputs": [],
   "source": [
    "columns = ['Unemployment'] \n",
    "\n",
    "for c in columns:\n",
    "    mean_col = df[c].mean()\n",
    "    std_col = df[c].std()\n",
    "    outliers = (df[c] < mean_col - 3*std_col)|(df[c] > mean_col + 3*std_col)\n",
    "    df=df[~outliers]\n",
    "    \n",
    "    \n"
   ]
  },
  {
   "cell_type": "code",
   "execution_count": 1807,
   "metadata": {},
   "outputs": [
    {
     "data": {
      "text/plain": [
       "((131, 8),\n",
       " Store            0\n",
       " Date            18\n",
       " Weekly_Sales     0\n",
       " Holiday_Flag    11\n",
       " Temperature     14\n",
       " Fuel_Price      12\n",
       " CPI             11\n",
       " Unemployment    14\n",
       " dtype: int64)"
      ]
     },
     "execution_count": 1807,
     "metadata": {},
     "output_type": "execute_result"
    }
   ],
   "source": [
    "df.shape, df.isna().sum()"
   ]
  },
  {
   "cell_type": "markdown",
   "metadata": {},
   "source": [
    "Nous avons encore des valeurs manquantes. Nous pouvons facilement traiter les jours fériés grace à la bibliothèque 'holidays'."
   ]
  },
  {
   "cell_type": "code",
   "execution_count": 1808,
   "metadata": {},
   "outputs": [
    {
     "data": {
      "text/html": [
       "<div>\n",
       "<style scoped>\n",
       "    .dataframe tbody tr th:only-of-type {\n",
       "        vertical-align: middle;\n",
       "    }\n",
       "\n",
       "    .dataframe tbody tr th {\n",
       "        vertical-align: top;\n",
       "    }\n",
       "\n",
       "    .dataframe thead th {\n",
       "        text-align: right;\n",
       "    }\n",
       "</style>\n",
       "<table border=\"1\" class=\"dataframe\">\n",
       "  <thead>\n",
       "    <tr style=\"text-align: right;\">\n",
       "      <th></th>\n",
       "      <th>Store</th>\n",
       "      <th>Date</th>\n",
       "      <th>Weekly_Sales</th>\n",
       "      <th>Holiday_Flag</th>\n",
       "      <th>Temperature</th>\n",
       "      <th>Fuel_Price</th>\n",
       "      <th>CPI</th>\n",
       "      <th>Unemployment</th>\n",
       "    </tr>\n",
       "  </thead>\n",
       "  <tbody>\n",
       "    <tr>\n",
       "      <th>0</th>\n",
       "      <td>6</td>\n",
       "      <td>18-02-2011</td>\n",
       "      <td>1572117.54</td>\n",
       "      <td>NaN</td>\n",
       "      <td>59.61</td>\n",
       "      <td>3.045</td>\n",
       "      <td>214.777523</td>\n",
       "      <td>6.858</td>\n",
       "    </tr>\n",
       "    <tr>\n",
       "      <th>15</th>\n",
       "      <td>6</td>\n",
       "      <td>30-04-2010</td>\n",
       "      <td>1498080.16</td>\n",
       "      <td>NaN</td>\n",
       "      <td>68.91</td>\n",
       "      <td>2.780</td>\n",
       "      <td>211.894272</td>\n",
       "      <td>7.092</td>\n",
       "    </tr>\n",
       "    <tr>\n",
       "      <th>43</th>\n",
       "      <td>7</td>\n",
       "      <td>26-08-2011</td>\n",
       "      <td>629994.47</td>\n",
       "      <td>NaN</td>\n",
       "      <td>57.60</td>\n",
       "      <td>3.485</td>\n",
       "      <td>194.379637</td>\n",
       "      <td>8.622</td>\n",
       "    </tr>\n",
       "    <tr>\n",
       "      <th>48</th>\n",
       "      <td>1</td>\n",
       "      <td>05-08-2011</td>\n",
       "      <td>1624383.75</td>\n",
       "      <td>NaN</td>\n",
       "      <td>91.65</td>\n",
       "      <td>3.684</td>\n",
       "      <td>215.544618</td>\n",
       "      <td>7.962</td>\n",
       "    </tr>\n",
       "    <tr>\n",
       "      <th>53</th>\n",
       "      <td>14</td>\n",
       "      <td>25-03-2011</td>\n",
       "      <td>1879451.23</td>\n",
       "      <td>NaN</td>\n",
       "      <td>41.76</td>\n",
       "      <td>3.625</td>\n",
       "      <td>184.994368</td>\n",
       "      <td>8.549</td>\n",
       "    </tr>\n",
       "    <tr>\n",
       "      <th>65</th>\n",
       "      <td>10</td>\n",
       "      <td>NaN</td>\n",
       "      <td>1714309.90</td>\n",
       "      <td>NaN</td>\n",
       "      <td>43.43</td>\n",
       "      <td>3.287</td>\n",
       "      <td>127.191774</td>\n",
       "      <td>8.744</td>\n",
       "    </tr>\n",
       "    <tr>\n",
       "      <th>73</th>\n",
       "      <td>1</td>\n",
       "      <td>27-08-2010</td>\n",
       "      <td>1449142.92</td>\n",
       "      <td>NaN</td>\n",
       "      <td>85.22</td>\n",
       "      <td>2.619</td>\n",
       "      <td>211.567306</td>\n",
       "      <td>7.787</td>\n",
       "    </tr>\n",
       "    <tr>\n",
       "      <th>90</th>\n",
       "      <td>9</td>\n",
       "      <td>09-07-2010</td>\n",
       "      <td>485389.15</td>\n",
       "      <td>NaN</td>\n",
       "      <td>78.51</td>\n",
       "      <td>2.642</td>\n",
       "      <td>214.656430</td>\n",
       "      <td>6.442</td>\n",
       "    </tr>\n",
       "    <tr>\n",
       "      <th>118</th>\n",
       "      <td>9</td>\n",
       "      <td>18-06-2010</td>\n",
       "      <td>513073.87</td>\n",
       "      <td>NaN</td>\n",
       "      <td>82.99</td>\n",
       "      <td>2.637</td>\n",
       "      <td>215.016648</td>\n",
       "      <td>6.384</td>\n",
       "    </tr>\n",
       "    <tr>\n",
       "      <th>136</th>\n",
       "      <td>4</td>\n",
       "      <td>08-07-2011</td>\n",
       "      <td>2066541.86</td>\n",
       "      <td>NaN</td>\n",
       "      <td>84.59</td>\n",
       "      <td>3.469</td>\n",
       "      <td>129.112500</td>\n",
       "      <td>5.644</td>\n",
       "    </tr>\n",
       "    <tr>\n",
       "      <th>146</th>\n",
       "      <td>7</td>\n",
       "      <td>NaN</td>\n",
       "      <td>716388.81</td>\n",
       "      <td>NaN</td>\n",
       "      <td>20.74</td>\n",
       "      <td>2.778</td>\n",
       "      <td>NaN</td>\n",
       "      <td>NaN</td>\n",
       "    </tr>\n",
       "  </tbody>\n",
       "</table>\n",
       "</div>"
      ],
      "text/plain": [
       "     Store        Date  Weekly_Sales  Holiday_Flag  Temperature  Fuel_Price  \\\n",
       "0        6  18-02-2011    1572117.54           NaN        59.61       3.045   \n",
       "15       6  30-04-2010    1498080.16           NaN        68.91       2.780   \n",
       "43       7  26-08-2011     629994.47           NaN        57.60       3.485   \n",
       "48       1  05-08-2011    1624383.75           NaN        91.65       3.684   \n",
       "53      14  25-03-2011    1879451.23           NaN        41.76       3.625   \n",
       "65      10         NaN    1714309.90           NaN        43.43       3.287   \n",
       "73       1  27-08-2010    1449142.92           NaN        85.22       2.619   \n",
       "90       9  09-07-2010     485389.15           NaN        78.51       2.642   \n",
       "118      9  18-06-2010     513073.87           NaN        82.99       2.637   \n",
       "136      4  08-07-2011    2066541.86           NaN        84.59       3.469   \n",
       "146      7         NaN     716388.81           NaN        20.74       2.778   \n",
       "\n",
       "            CPI  Unemployment  \n",
       "0    214.777523         6.858  \n",
       "15   211.894272         7.092  \n",
       "43   194.379637         8.622  \n",
       "48   215.544618         7.962  \n",
       "53   184.994368         8.549  \n",
       "65   127.191774         8.744  \n",
       "73   211.567306         7.787  \n",
       "90   214.656430         6.442  \n",
       "118  215.016648         6.384  \n",
       "136  129.112500         5.644  \n",
       "146         NaN           NaN  "
      ]
     },
     "execution_count": 1808,
     "metadata": {},
     "output_type": "execute_result"
    }
   ],
   "source": [
    "# On filtre les NaN de la colonne jour férié\n",
    "mask_holiday = df['Holiday_Flag'].isna()\n",
    "df_holiday = df[mask_holiday]\n",
    "df_holiday"
   ]
  },
  {
   "cell_type": "code",
   "execution_count": 1809,
   "metadata": {},
   "outputs": [
    {
     "data": {
      "text/plain": [
       "0      False\n",
       "15     False\n",
       "43     False\n",
       "48     False\n",
       "53     False\n",
       "65     False\n",
       "73     False\n",
       "90     False\n",
       "118    False\n",
       "136    False\n",
       "146    False\n",
       "Name: Holiday, dtype: bool"
      ]
     },
     "execution_count": 1809,
     "metadata": {},
     "output_type": "execute_result"
    }
   ],
   "source": [
    "# Récupération des jours fériés de 2010 et 2011\n",
    "us_holiday=holidays.US(years=[2010, 2011]) \n",
    "df_holiday['Date'] = pd.to_datetime(df_holiday['Date'], format = \"%d-%m-%Y\")\n",
    "df_holiday['Holiday']= df_holiday['Date'].dt.date.isin(us_holiday.keys())\n",
    "df_holiday['Holiday']\n"
   ]
  },
  {
   "cell_type": "markdown",
   "metadata": {},
   "source": [
    "Nous n'avons pas de jour férié identifé nous mettons donc à 0"
   ]
  },
  {
   "cell_type": "code",
   "execution_count": 1810,
   "metadata": {},
   "outputs": [],
   "source": [
    "df['Holiday_Flag'] = df['Holiday_Flag'].fillna(0)"
   ]
  },
  {
   "cell_type": "code",
   "execution_count": 1811,
   "metadata": {},
   "outputs": [
    {
     "name": "stdout",
     "output_type": "stream",
     "text": [
      "Holiday_Flag\n",
      "0.0    123\n",
      "1.0      8\n",
      "Name: count, dtype: int64\n",
      "valeur manquante : 0\n"
     ]
    }
   ],
   "source": [
    "# Vérification des nouvelles valeurs\n",
    "print(df['Holiday_Flag'].value_counts())\n",
    "print('valeur manquante :', df['Holiday_Flag'].isna().sum())"
   ]
  },
  {
   "cell_type": "markdown",
   "metadata": {},
   "source": [
    "Pour ce qui est des dernières valeurs manquantes, nous allons supprimer les lignes avec uniquement les dates manquantes, pour les autres nous pourrons appliquer une méthode d'imputation lors du préprocessing. "
   ]
  },
  {
   "cell_type": "code",
   "execution_count": 1812,
   "metadata": {},
   "outputs": [],
   "source": [
    "df= df.dropna(subset=['Date'])"
   ]
  },
  {
   "cell_type": "markdown",
   "metadata": {},
   "source": [
    "Nous créons des colonnes année, mois et jour."
   ]
  },
  {
   "cell_type": "code",
   "execution_count": 1813,
   "metadata": {},
   "outputs": [
    {
     "data": {
      "text/html": [
       "<div>\n",
       "<style scoped>\n",
       "    .dataframe tbody tr th:only-of-type {\n",
       "        vertical-align: middle;\n",
       "    }\n",
       "\n",
       "    .dataframe tbody tr th {\n",
       "        vertical-align: top;\n",
       "    }\n",
       "\n",
       "    .dataframe thead th {\n",
       "        text-align: right;\n",
       "    }\n",
       "</style>\n",
       "<table border=\"1\" class=\"dataframe\">\n",
       "  <thead>\n",
       "    <tr style=\"text-align: right;\">\n",
       "      <th></th>\n",
       "      <th>Store</th>\n",
       "      <th>Date</th>\n",
       "      <th>Weekly_Sales</th>\n",
       "      <th>Holiday_Flag</th>\n",
       "      <th>Temperature</th>\n",
       "      <th>Fuel_Price</th>\n",
       "      <th>CPI</th>\n",
       "      <th>Unemployment</th>\n",
       "      <th>year</th>\n",
       "      <th>month</th>\n",
       "      <th>day</th>\n",
       "    </tr>\n",
       "  </thead>\n",
       "  <tbody>\n",
       "    <tr>\n",
       "      <th>0</th>\n",
       "      <td>6</td>\n",
       "      <td>2011-02-18</td>\n",
       "      <td>1572117.54</td>\n",
       "      <td>0.0</td>\n",
       "      <td>59.61</td>\n",
       "      <td>3.045</td>\n",
       "      <td>214.777523</td>\n",
       "      <td>6.858</td>\n",
       "      <td>2011</td>\n",
       "      <td>2</td>\n",
       "      <td>18</td>\n",
       "    </tr>\n",
       "    <tr>\n",
       "      <th>1</th>\n",
       "      <td>13</td>\n",
       "      <td>2011-03-25</td>\n",
       "      <td>1807545.43</td>\n",
       "      <td>0.0</td>\n",
       "      <td>42.38</td>\n",
       "      <td>3.435</td>\n",
       "      <td>128.616064</td>\n",
       "      <td>7.470</td>\n",
       "      <td>2011</td>\n",
       "      <td>3</td>\n",
       "      <td>25</td>\n",
       "    </tr>\n",
       "    <tr>\n",
       "      <th>4</th>\n",
       "      <td>6</td>\n",
       "      <td>2010-05-28</td>\n",
       "      <td>1644470.66</td>\n",
       "      <td>0.0</td>\n",
       "      <td>78.89</td>\n",
       "      <td>2.759</td>\n",
       "      <td>212.412888</td>\n",
       "      <td>7.092</td>\n",
       "      <td>2010</td>\n",
       "      <td>5</td>\n",
       "      <td>28</td>\n",
       "    </tr>\n",
       "    <tr>\n",
       "      <th>5</th>\n",
       "      <td>4</td>\n",
       "      <td>2010-05-28</td>\n",
       "      <td>1857533.70</td>\n",
       "      <td>0.0</td>\n",
       "      <td>NaN</td>\n",
       "      <td>2.756</td>\n",
       "      <td>126.160226</td>\n",
       "      <td>7.896</td>\n",
       "      <td>2010</td>\n",
       "      <td>5</td>\n",
       "      <td>28</td>\n",
       "    </tr>\n",
       "    <tr>\n",
       "      <th>6</th>\n",
       "      <td>15</td>\n",
       "      <td>2011-06-03</td>\n",
       "      <td>695396.19</td>\n",
       "      <td>0.0</td>\n",
       "      <td>69.80</td>\n",
       "      <td>4.069</td>\n",
       "      <td>134.855161</td>\n",
       "      <td>7.658</td>\n",
       "      <td>2011</td>\n",
       "      <td>6</td>\n",
       "      <td>3</td>\n",
       "    </tr>\n",
       "  </tbody>\n",
       "</table>\n",
       "</div>"
      ],
      "text/plain": [
       "   Store       Date  Weekly_Sales  Holiday_Flag  Temperature  Fuel_Price  \\\n",
       "0      6 2011-02-18    1572117.54           0.0        59.61       3.045   \n",
       "1     13 2011-03-25    1807545.43           0.0        42.38       3.435   \n",
       "4      6 2010-05-28    1644470.66           0.0        78.89       2.759   \n",
       "5      4 2010-05-28    1857533.70           0.0          NaN       2.756   \n",
       "6     15 2011-06-03     695396.19           0.0        69.80       4.069   \n",
       "\n",
       "          CPI  Unemployment  year  month  day  \n",
       "0  214.777523         6.858  2011      2   18  \n",
       "1  128.616064         7.470  2011      3   25  \n",
       "4  212.412888         7.092  2010      5   28  \n",
       "5  126.160226         7.896  2010      5   28  \n",
       "6  134.855161         7.658  2011      6    3  "
      ]
     },
     "execution_count": 1813,
     "metadata": {},
     "output_type": "execute_result"
    }
   ],
   "source": [
    "df['Date'] = pd.to_datetime(df['Date'], format = \"%d-%m-%Y\")\n",
    "df['year'] = df['Date'].dt.year\n",
    "df['month'] = df['Date'].dt.month\n",
    "df['day'] = df['Date'].dt.day\n",
    "df.shape\n",
    "df.head(5)"
   ]
  },
  {
   "cell_type": "markdown",
   "metadata": {},
   "source": [
    "# Analyse de la matrice de corrélation "
   ]
  },
  {
   "cell_type": "code",
   "execution_count": 1814,
   "metadata": {
    "colab": {
     "base_uri": "https://localhost:8080/",
     "height": 542
    },
    "executionInfo": {
     "elapsed": 35,
     "status": "ok",
     "timestamp": 1743749644732,
     "user": {
      "displayName": "Gdleds Led",
      "userId": "04477971106892264481"
     },
     "user_tz": -120
    },
    "id": "EY6FC9vw8dNZ",
    "outputId": "d89f5469-64e6-4ed2-e666-f2bd1233eec4"
   },
   "outputs": [
    {
     "data": {
      "application/vnd.plotly.v1+json": {
       "config": {
        "plotlyServerURL": "https://plot.ly"
       },
       "data": [
        {
         "coloraxis": "coloraxis",
         "hovertemplate": "Variables: %{x}<br>Variables: %{y}<br>Correlation: %{z}<extra></extra>",
         "name": "0",
         "texttemplate": "%{z}",
         "type": "heatmap",
         "x": [
          "Store",
          "Date",
          "Weekly_Sales",
          "Holiday_Flag",
          "Temperature",
          "Fuel_Price",
          "CPI",
          "Unemployment",
          "year",
          "month",
          "day"
         ],
         "xaxis": "x",
         "y": [
          "Store",
          "Date",
          "Weekly_Sales",
          "Holiday_Flag",
          "Temperature",
          "Fuel_Price",
          "CPI",
          "Unemployment",
          "year",
          "month",
          "day"
         ],
         "yaxis": "y",
         "z": {
          "bdata": "AAAAAAAA8D+amZmZmZmpv6RwPQrXo8A/exSuR+F6hL/sUbgehevRv3sUrkfhesQ/hetRuB6F47+PwvUoXI/SP7gehetRuJ6/uB6F61G4nr97FK5H4Xqkv5qZmZmZmam/AAAAAAAA8D+amZmZmZmpv3sUrkfheoS/7FG4HoXrsb/sUbgehevpP3sUrkfhepS/KVyPwvUozL9mZmZmZmbuPwrXo3A9Crc/uB6F61G4vr+kcD0K16PAP5qZmZmZmam/AAAAAAAA8D+4HoXrUbieP1K4HoXrUci/exSuR+F6lL8K16NwPQrXvwrXo3A9Csc/exSuR+F6pL97FK5H4XqEv3sUrkfheqS/exSuR+F6hL97FK5H4XqEv7gehetRuJ4/AAAAAAAA8D8zMzMzMzPTv8P1KFyPwsW/w/UoXI/CxT8K16NwPQq3P3sUrkfheoQ/mpmZmZmZqb+4HoXrUbiev+xRuB6F69G/7FG4HoXrsb9SuB6F61HIvzMzMzMzM9O/AAAAAAAA8D+4HoXrUbiuv8P1KFyPwsU/4XoUrkfhyr97FK5H4XrEv6RwPQrXo9A/KVyPwvUovD97FK5H4XrEP+xRuB6F6+k/exSuR+F6lL/D9Shcj8LFv7gehetRuK6/AAAAAAAA8D97FK5H4XrEv3sUrkfheoS/j8L1KFyP6j+4HoXrUbi+v5qZmZmZmam/hetRuB6F4797FK5H4XqUvwrXo3A9Cte/w/UoXI/CxT/D9Shcj8LFP3sUrkfhesS/AAAAAAAA8D97FK5H4XrEv3sUrkfhepS/exSuR+F6hL/D9Shcj8LFP4/C9Shcj9I/KVyPwvUozL8K16NwPQrHPwrXo3A9Crc/4XoUrkfhyr97FK5H4XqEv3sUrkfhesS/AAAAAAAA8D/D9Shcj8LFv7gehetRuL6/uB6F61G4nr+4HoXrUbiev2ZmZmZmZu4/exSuR+F6pL97FK5H4XqEP3sUrkfhesS/j8L1KFyP6j97FK5H4XqUv8P1KFyPwsW/AAAAAAAA8D9xPQrXo3DNv6RwPQrXo8C/uB6F61G4nr8K16NwPQq3P3sUrkfheoS/mpmZmZmZqb+kcD0K16PQP7gehetRuL6/exSuR+F6hL+4HoXrUbi+v3E9CtejcM2/AAAAAAAA8D97FK5H4XqUv3sUrkfheqS/uB6F61G4vr97FK5H4Xqkv7gehetRuJ6/KVyPwvUovD+amZmZmZmpv8P1KFyPwsU/uB6F61G4nr+kcD0K16PAv3sUrkfhepS/AAAAAAAA8D8=",
          "dtype": "f8",
          "shape": "11, 11"
         }
        }
       ],
       "layout": {
        "coloraxis": {
         "colorbar": {
          "title": {
           "text": "Correlation"
          }
         },
         "colorscale": [
          [
           0,
           "rgb(103,0,31)"
          ],
          [
           0.1,
           "rgb(178,24,43)"
          ],
          [
           0.2,
           "rgb(214,96,77)"
          ],
          [
           0.3,
           "rgb(244,165,130)"
          ],
          [
           0.4,
           "rgb(253,219,199)"
          ],
          [
           0.5,
           "rgb(247,247,247)"
          ],
          [
           0.6,
           "rgb(209,229,240)"
          ],
          [
           0.7,
           "rgb(146,197,222)"
          ],
          [
           0.8,
           "rgb(67,147,195)"
          ],
          [
           0.9,
           "rgb(33,102,172)"
          ],
          [
           1,
           "rgb(5,48,97)"
          ]
         ]
        },
        "height": 800,
        "margin": {
         "t": 60
        },
        "template": {
         "data": {
          "bar": [
           {
            "error_x": {
             "color": "#2a3f5f"
            },
            "error_y": {
             "color": "#2a3f5f"
            },
            "marker": {
             "line": {
              "color": "#E5ECF6",
              "width": 0.5
             },
             "pattern": {
              "fillmode": "overlay",
              "size": 10,
              "solidity": 0.2
             }
            },
            "type": "bar"
           }
          ],
          "barpolar": [
           {
            "marker": {
             "line": {
              "color": "#E5ECF6",
              "width": 0.5
             },
             "pattern": {
              "fillmode": "overlay",
              "size": 10,
              "solidity": 0.2
             }
            },
            "type": "barpolar"
           }
          ],
          "carpet": [
           {
            "aaxis": {
             "endlinecolor": "#2a3f5f",
             "gridcolor": "white",
             "linecolor": "white",
             "minorgridcolor": "white",
             "startlinecolor": "#2a3f5f"
            },
            "baxis": {
             "endlinecolor": "#2a3f5f",
             "gridcolor": "white",
             "linecolor": "white",
             "minorgridcolor": "white",
             "startlinecolor": "#2a3f5f"
            },
            "type": "carpet"
           }
          ],
          "choropleth": [
           {
            "colorbar": {
             "outlinewidth": 0,
             "ticks": ""
            },
            "type": "choropleth"
           }
          ],
          "contour": [
           {
            "colorbar": {
             "outlinewidth": 0,
             "ticks": ""
            },
            "colorscale": [
             [
              0,
              "#0d0887"
             ],
             [
              0.1111111111111111,
              "#46039f"
             ],
             [
              0.2222222222222222,
              "#7201a8"
             ],
             [
              0.3333333333333333,
              "#9c179e"
             ],
             [
              0.4444444444444444,
              "#bd3786"
             ],
             [
              0.5555555555555556,
              "#d8576b"
             ],
             [
              0.6666666666666666,
              "#ed7953"
             ],
             [
              0.7777777777777778,
              "#fb9f3a"
             ],
             [
              0.8888888888888888,
              "#fdca26"
             ],
             [
              1,
              "#f0f921"
             ]
            ],
            "type": "contour"
           }
          ],
          "contourcarpet": [
           {
            "colorbar": {
             "outlinewidth": 0,
             "ticks": ""
            },
            "type": "contourcarpet"
           }
          ],
          "heatmap": [
           {
            "colorbar": {
             "outlinewidth": 0,
             "ticks": ""
            },
            "colorscale": [
             [
              0,
              "#0d0887"
             ],
             [
              0.1111111111111111,
              "#46039f"
             ],
             [
              0.2222222222222222,
              "#7201a8"
             ],
             [
              0.3333333333333333,
              "#9c179e"
             ],
             [
              0.4444444444444444,
              "#bd3786"
             ],
             [
              0.5555555555555556,
              "#d8576b"
             ],
             [
              0.6666666666666666,
              "#ed7953"
             ],
             [
              0.7777777777777778,
              "#fb9f3a"
             ],
             [
              0.8888888888888888,
              "#fdca26"
             ],
             [
              1,
              "#f0f921"
             ]
            ],
            "type": "heatmap"
           }
          ],
          "histogram": [
           {
            "marker": {
             "pattern": {
              "fillmode": "overlay",
              "size": 10,
              "solidity": 0.2
             }
            },
            "type": "histogram"
           }
          ],
          "histogram2d": [
           {
            "colorbar": {
             "outlinewidth": 0,
             "ticks": ""
            },
            "colorscale": [
             [
              0,
              "#0d0887"
             ],
             [
              0.1111111111111111,
              "#46039f"
             ],
             [
              0.2222222222222222,
              "#7201a8"
             ],
             [
              0.3333333333333333,
              "#9c179e"
             ],
             [
              0.4444444444444444,
              "#bd3786"
             ],
             [
              0.5555555555555556,
              "#d8576b"
             ],
             [
              0.6666666666666666,
              "#ed7953"
             ],
             [
              0.7777777777777778,
              "#fb9f3a"
             ],
             [
              0.8888888888888888,
              "#fdca26"
             ],
             [
              1,
              "#f0f921"
             ]
            ],
            "type": "histogram2d"
           }
          ],
          "histogram2dcontour": [
           {
            "colorbar": {
             "outlinewidth": 0,
             "ticks": ""
            },
            "colorscale": [
             [
              0,
              "#0d0887"
             ],
             [
              0.1111111111111111,
              "#46039f"
             ],
             [
              0.2222222222222222,
              "#7201a8"
             ],
             [
              0.3333333333333333,
              "#9c179e"
             ],
             [
              0.4444444444444444,
              "#bd3786"
             ],
             [
              0.5555555555555556,
              "#d8576b"
             ],
             [
              0.6666666666666666,
              "#ed7953"
             ],
             [
              0.7777777777777778,
              "#fb9f3a"
             ],
             [
              0.8888888888888888,
              "#fdca26"
             ],
             [
              1,
              "#f0f921"
             ]
            ],
            "type": "histogram2dcontour"
           }
          ],
          "mesh3d": [
           {
            "colorbar": {
             "outlinewidth": 0,
             "ticks": ""
            },
            "type": "mesh3d"
           }
          ],
          "parcoords": [
           {
            "line": {
             "colorbar": {
              "outlinewidth": 0,
              "ticks": ""
             }
            },
            "type": "parcoords"
           }
          ],
          "pie": [
           {
            "automargin": true,
            "type": "pie"
           }
          ],
          "scatter": [
           {
            "fillpattern": {
             "fillmode": "overlay",
             "size": 10,
             "solidity": 0.2
            },
            "type": "scatter"
           }
          ],
          "scatter3d": [
           {
            "line": {
             "colorbar": {
              "outlinewidth": 0,
              "ticks": ""
             }
            },
            "marker": {
             "colorbar": {
              "outlinewidth": 0,
              "ticks": ""
             }
            },
            "type": "scatter3d"
           }
          ],
          "scattercarpet": [
           {
            "marker": {
             "colorbar": {
              "outlinewidth": 0,
              "ticks": ""
             }
            },
            "type": "scattercarpet"
           }
          ],
          "scattergeo": [
           {
            "marker": {
             "colorbar": {
              "outlinewidth": 0,
              "ticks": ""
             }
            },
            "type": "scattergeo"
           }
          ],
          "scattergl": [
           {
            "marker": {
             "colorbar": {
              "outlinewidth": 0,
              "ticks": ""
             }
            },
            "type": "scattergl"
           }
          ],
          "scattermap": [
           {
            "marker": {
             "colorbar": {
              "outlinewidth": 0,
              "ticks": ""
             }
            },
            "type": "scattermap"
           }
          ],
          "scattermapbox": [
           {
            "marker": {
             "colorbar": {
              "outlinewidth": 0,
              "ticks": ""
             }
            },
            "type": "scattermapbox"
           }
          ],
          "scatterpolar": [
           {
            "marker": {
             "colorbar": {
              "outlinewidth": 0,
              "ticks": ""
             }
            },
            "type": "scatterpolar"
           }
          ],
          "scatterpolargl": [
           {
            "marker": {
             "colorbar": {
              "outlinewidth": 0,
              "ticks": ""
             }
            },
            "type": "scatterpolargl"
           }
          ],
          "scatterternary": [
           {
            "marker": {
             "colorbar": {
              "outlinewidth": 0,
              "ticks": ""
             }
            },
            "type": "scatterternary"
           }
          ],
          "surface": [
           {
            "colorbar": {
             "outlinewidth": 0,
             "ticks": ""
            },
            "colorscale": [
             [
              0,
              "#0d0887"
             ],
             [
              0.1111111111111111,
              "#46039f"
             ],
             [
              0.2222222222222222,
              "#7201a8"
             ],
             [
              0.3333333333333333,
              "#9c179e"
             ],
             [
              0.4444444444444444,
              "#bd3786"
             ],
             [
              0.5555555555555556,
              "#d8576b"
             ],
             [
              0.6666666666666666,
              "#ed7953"
             ],
             [
              0.7777777777777778,
              "#fb9f3a"
             ],
             [
              0.8888888888888888,
              "#fdca26"
             ],
             [
              1,
              "#f0f921"
             ]
            ],
            "type": "surface"
           }
          ],
          "table": [
           {
            "cells": {
             "fill": {
              "color": "#EBF0F8"
             },
             "line": {
              "color": "white"
             }
            },
            "header": {
             "fill": {
              "color": "#C8D4E3"
             },
             "line": {
              "color": "white"
             }
            },
            "type": "table"
           }
          ]
         },
         "layout": {
          "annotationdefaults": {
           "arrowcolor": "#2a3f5f",
           "arrowhead": 0,
           "arrowwidth": 1
          },
          "autotypenumbers": "strict",
          "coloraxis": {
           "colorbar": {
            "outlinewidth": 0,
            "ticks": ""
           }
          },
          "colorscale": {
           "diverging": [
            [
             0,
             "#8e0152"
            ],
            [
             0.1,
             "#c51b7d"
            ],
            [
             0.2,
             "#de77ae"
            ],
            [
             0.3,
             "#f1b6da"
            ],
            [
             0.4,
             "#fde0ef"
            ],
            [
             0.5,
             "#f7f7f7"
            ],
            [
             0.6,
             "#e6f5d0"
            ],
            [
             0.7,
             "#b8e186"
            ],
            [
             0.8,
             "#7fbc41"
            ],
            [
             0.9,
             "#4d9221"
            ],
            [
             1,
             "#276419"
            ]
           ],
           "sequential": [
            [
             0,
             "#0d0887"
            ],
            [
             0.1111111111111111,
             "#46039f"
            ],
            [
             0.2222222222222222,
             "#7201a8"
            ],
            [
             0.3333333333333333,
             "#9c179e"
            ],
            [
             0.4444444444444444,
             "#bd3786"
            ],
            [
             0.5555555555555556,
             "#d8576b"
            ],
            [
             0.6666666666666666,
             "#ed7953"
            ],
            [
             0.7777777777777778,
             "#fb9f3a"
            ],
            [
             0.8888888888888888,
             "#fdca26"
            ],
            [
             1,
             "#f0f921"
            ]
           ],
           "sequentialminus": [
            [
             0,
             "#0d0887"
            ],
            [
             0.1111111111111111,
             "#46039f"
            ],
            [
             0.2222222222222222,
             "#7201a8"
            ],
            [
             0.3333333333333333,
             "#9c179e"
            ],
            [
             0.4444444444444444,
             "#bd3786"
            ],
            [
             0.5555555555555556,
             "#d8576b"
            ],
            [
             0.6666666666666666,
             "#ed7953"
            ],
            [
             0.7777777777777778,
             "#fb9f3a"
            ],
            [
             0.8888888888888888,
             "#fdca26"
            ],
            [
             1,
             "#f0f921"
            ]
           ]
          },
          "colorway": [
           "#636efa",
           "#EF553B",
           "#00cc96",
           "#ab63fa",
           "#FFA15A",
           "#19d3f3",
           "#FF6692",
           "#B6E880",
           "#FF97FF",
           "#FECB52"
          ],
          "font": {
           "color": "#2a3f5f"
          },
          "geo": {
           "bgcolor": "white",
           "lakecolor": "white",
           "landcolor": "#E5ECF6",
           "showlakes": true,
           "showland": true,
           "subunitcolor": "white"
          },
          "hoverlabel": {
           "align": "left"
          },
          "hovermode": "closest",
          "mapbox": {
           "style": "light"
          },
          "paper_bgcolor": "white",
          "plot_bgcolor": "#E5ECF6",
          "polar": {
           "angularaxis": {
            "gridcolor": "white",
            "linecolor": "white",
            "ticks": ""
           },
           "bgcolor": "#E5ECF6",
           "radialaxis": {
            "gridcolor": "white",
            "linecolor": "white",
            "ticks": ""
           }
          },
          "scene": {
           "xaxis": {
            "backgroundcolor": "#E5ECF6",
            "gridcolor": "white",
            "gridwidth": 2,
            "linecolor": "white",
            "showbackground": true,
            "ticks": "",
            "zerolinecolor": "white"
           },
           "yaxis": {
            "backgroundcolor": "#E5ECF6",
            "gridcolor": "white",
            "gridwidth": 2,
            "linecolor": "white",
            "showbackground": true,
            "ticks": "",
            "zerolinecolor": "white"
           },
           "zaxis": {
            "backgroundcolor": "#E5ECF6",
            "gridcolor": "white",
            "gridwidth": 2,
            "linecolor": "white",
            "showbackground": true,
            "ticks": "",
            "zerolinecolor": "white"
           }
          },
          "shapedefaults": {
           "line": {
            "color": "#2a3f5f"
           }
          },
          "ternary": {
           "aaxis": {
            "gridcolor": "white",
            "linecolor": "white",
            "ticks": ""
           },
           "baxis": {
            "gridcolor": "white",
            "linecolor": "white",
            "ticks": ""
           },
           "bgcolor": "#E5ECF6",
           "caxis": {
            "gridcolor": "white",
            "linecolor": "white",
            "ticks": ""
           }
          },
          "title": {
           "x": 0.05
          },
          "xaxis": {
           "automargin": true,
           "gridcolor": "white",
           "linecolor": "white",
           "ticks": "",
           "title": {
            "standoff": 15
           },
           "zerolinecolor": "white",
           "zerolinewidth": 2
          },
          "yaxis": {
           "automargin": true,
           "gridcolor": "white",
           "linecolor": "white",
           "ticks": "",
           "title": {
            "standoff": 15
           },
           "zerolinecolor": "white",
           "zerolinewidth": 2
          }
         }
        },
        "width": 800,
        "xaxis": {
         "anchor": "y",
         "constrain": "domain",
         "domain": [
          0,
          1
         ],
         "scaleanchor": "y",
         "title": {
          "text": "Variables"
         }
        },
        "yaxis": {
         "anchor": "x",
         "autorange": "reversed",
         "constrain": "domain",
         "domain": [
          0,
          1
         ],
         "title": {
          "text": "Variables"
         }
        }
       }
      }
     },
     "metadata": {},
     "output_type": "display_data"
    }
   ],
   "source": [
    "# Corrélation matrix\n",
    "corr = df.corr().round(2)\n",
    "fig=px.imshow(corr, \n",
    "            labels=dict(x=\"Variables\", y=\"Variables\", color=\"Correlation\"),\n",
    "            x=corr.columns,\n",
    "            y=corr.columns,\n",
    "            color_continuous_scale='RdBu',\n",
    "            text_auto=True)\n",
    "fig.update_layout(width=800, height=800)  \n",
    "# Ajoute les valeurs dans les cellules)\n",
    "# fig = ff.create_annotated_heatmap(corr.values,\n",
    "#                                   x = corr.columns.tolist(),\n",
    "#                                   y = corr.index.tolist())\n",
    "fig.show()"
   ]
  },
  {
   "cell_type": "markdown",
   "metadata": {},
   "source": [
    "### Impact sur les ventes de la semaine:\n",
    "- CPI corrélation négative: L'indice prix a un impact négatif sur les ventes de la semaine. Plus celui ci augmente plus cela aura un impact négatif sur le CA de la semaine. Les clients sont sensibles à l'inflation qui a un impact direct sur leur pouvoir d'achat\n",
    "- Temperature corrélation négative: Les températures ont un impact modéré sur les ventes de la semaine. Certains types de magasins peuvent être sensibles à la météo\n",
    "- Store corrélation positive: Certains magasins doivent réaliser plus de CA que d'autres \n",
    "Unemployment corrélation positive : Très étonnant plus il y a de chomeur et plus l'impact sur le CA est positif. Peut etre un phénomène local mais pas national.\n",
    "\n",
    "### Corrélation entre variables\n",
    "- Fuel Price/Date/Year : Le prix du carburant évolue à la hausse avec le temps. Forte corrélation de ces variables donc attention à leur utilisation, risque de redondance.\n",
    "- CPI/Store : Des magasins sont plus sensilbes à la variation de l'indice prix, certains sont situés dans des secteurs où le cout de la vie est plus faible et d'autres plus élevé.\n",
    "\n",
    "### Une faible corrélation avec les weekly_sales\n",
    "De façon global il n'y a pas une seul varible explicative clair qui impacte le CA de la semaine. Il faudra s'appuyer sur plusieurs variables non linéaire afin de réaliser un modele de machine learning nous permettant de prédire les ventes de la semaines.\n",
    "Il y a une très faible risque de mutlicolinéarité ( -0.3 et +0.3) des variables hors mis le Fuel/Date/Years où il faudra etre attentif à leur utilisation."
   ]
  },
  {
   "cell_type": "code",
   "execution_count": 1815,
   "metadata": {},
   "outputs": [
    {
     "data": {
      "application/vnd.plotly.v1+json": {
       "config": {
        "plotlyServerURL": "https://plot.ly"
       },
       "data": [
        {
         "hovertemplate": "CPI=%{x}<br>Weekly_Sales=%{y}<extra></extra>",
         "legendgroup": "",
         "marker": {
          "color": "#636efa",
          "symbol": "circle"
         },
         "mode": "markers",
         "name": "",
         "orientation": "v",
         "showlegend": false,
         "type": "scatter",
         "x": {
          "bdata": "TswfeOHYakBA9+XMthNgQCYd5WA2jWpAbr62I0GKX0DCCTt7XdtgQGQe+YPBoGpAAAAAAAAA+H8XCVwNP2JrQNSnC2dtmGBAqWdBKG8aaECO23ksx6ZrQBDpt68Dj19AyqZc4Z18akAAAAAAAAD4fwAAAAAAAPh/kYDR5Y22Z0AmGHN8GRFrQGx4eqUsXWFAVWe1wJ57YEBFR3L5D0FhQCuSZXd3Y2BAAAAAAAAA+H988xsmmhpoQDlFR3L5o19AsuA0M6koa0ClDwKXbJ1oQAAAAAAAAPh/wjl+A66+YEB9KCxMundrQM0w/zLpyGBAMnctIR8iYEC0bighPVJrQB3UNN5MP2FApfm+Ew7EaEDVKlX9JUxoQIdi4dq/Z2pA4fCCiNSIa0Driyn9qX1qQOMryyGzkGBABFq6gm3xakDf4jz3Oa1oQFcPTvqxXmBAQ5CDEiZ1akCIDFC/sNxqQCZWodzRH2dAmhNqPAdXYECwfbcvljBgQH+tAQD23WpA0vgqnp+cakCITb+f9bpnQBihjn3/PWdAcI9KVqpUYEBNV2YAngBsQFsmw/G8PGBATn0geaeTYEDtVXWgmM1qQAAAAAAAAPh/XynLEMeyX0DO2hJeJ3JqQKVUeIaf7WtAU+8EVimSaUCJVpNMszJhQF6PeGgOR2tAAAAAAAAA+H+XgPM9/u1qQMlsNZATYmpAXDV0WIYnbECFc7J5AdVqQCzCA7l6RGdAIwrSMcxKakA8xnDQ+ddqQChIbHcPXmpAHOviNhqIX0Cb5h2n6IhfQDGbW3wl2WpAoaAUrVxra0BfKcsQx7JfQNlcNc/RKWxAJRu0/CWTYEAAAAAAAAD4f7qT46ni02pARfRr62eJYEBADSlQlZRpQJeQD3o2RWFAEp87wT5eakBh5vFq70hgQJEsYAL34WpAqvHSTWJ0YEDsoX2sILdoQPywOWKI4GpAOoA0UiXTZkBWVuQhHdxqQAJrMGh8AWtAMDHxogrDaED2o5cHH/BqQLYcQ1sp3mBABwDYypW0a0BStBd2vbBnQEKQKFlzJmBAX9VZLXBaYEDQdYZO9KJfQJRCaiTTJGBAmpmZmZkjYEA33sJfeCBrQM5oUNnVsmhA4rmt4+6RakAAAAAAAAD4f3GjEujdz2pAaz2NxQBfbEAwM8dNKM5mQFYUCmwph19A++zbpD1ga0DaEC3DiT1hQA==",
          "dtype": "f8"
         },
         "xaxis": "x",
         "y": {
          "bdata": "pHA9ihX9N0HhehRuuZQ7QY/C9ai2FzlBMzMzs/1XPEEUrkdhyDglQZqZmZnBz0BBFK5HoSPXQ0EAAAAAtVArQTMzMzPkay9BMzMzMzhGGUF7FK7HoJg5QaRwPYouTilBj8L1KODbNkEUrkehVXo+QSlcj0Jwj0JBexSuR/IfIUGkcD0KyMERQQAAAACfYzBBMzMzc0/GNUEK16NwT3A1QeF6FK6MEixBrkfhejptFkEpXI/CFJMaQVK4HoXVHydBj8L1aHWsNUGkcD2KCTIhQdejcD1Isj9BCtej8IRTM0EpXI/CA0sWQQrXo3D7Jy5BuB6F6xilPkHNzMzMigkTQVyPwnVEVS1BH4XrUXoRIEEK16Pw1DkjQQrXo3DlDTlBMzMzs6poPEHsUbgeBGoQQeF6FK7aojdBAAAAwD/JOEE9CtejnZsdQT0K12PnDj9B16NwvYw/PUHsUbgePRUfQa5H4TqbrTxBpHA9yq+OO0Fcj8L1hjA8QfYoXI/hHytBexSux5RhN0HXo3D9xtQ+QeF6FO7v+T9BUrgeBeNePkGamZmZOCATQVyPwpXiJEVBmpmZ2SXLMUEUrkfh2CwcQVyPwrXOPDhBzczMLI7HQkG4HoXrthw2QVK4HsXkAjdB7FG43o8bPkFcj8J15mkhQTMzM7ObfTdBZmZmpvdOO0EzMzMzPbofQaRwPcpi0zpBCtejcMVdGkGamZmZNKAdQSlcj8IIzz1BAAAAgOvMNkEfhetRYEEqQcP1KFwnOxJB9ihcT+z6OkFcj8K1Csw+QWZmZmazOBZBPQrXI2B1O0HhehRuFJFBQc3MzMynmhlBXI/C9XvZNEEUrkeh5/k/Qc3MzMziWy5BpHA9ylorM0GkcD3KOXY7QcP1KFy+ZzZBUrgexVE1QEFcj8I1lqQ7QSlcj4I60DpBAAAAgM0qJEHXo3A98OkbQa5H4XrHUB9BmpmZGSp0PEEzMzOzx4gpQeF6FK4YyxBBmpmZGek+IkG4HoWrvl42QRSuR6FRZDZBFK5H4dtXGEGPwvWo2r4iQRSuR2GlED5B7FG4nm7oPkG4HoXrRxsqQT0K12MHEj9Bw/Uo3G2IP0HhehTuvgM5QaRwPYoHQiBBCtejcA1sEkGamZmZOZ4YQTMzMzOjOhhBH4XrUQTpGUG4HoXL4idBQbgehWuIyylBMzMzM7glKkEpXI9CryYzQQ==",
          "dtype": "f8"
         },
         "yaxis": "y"
        },
        {
         "hovertemplate": "<b>OLS trendline</b><br>Weekly_Sales = -6004.08 * CPI + 2.31084e+06<br>R<sup>2</sup>=0.130010<br><br>CPI=%{x}<br>Weekly_Sales=%{y} <b>(trend)</b><extra></extra>",
         "legendgroup": "",
         "marker": {
          "color": "#636efa",
          "symbol": "circle"
         },
         "mode": "lines",
         "name": "",
         "showlegend": false,
         "type": "scatter",
         "x": {
          "bdata": "VhQKbCmHX0Ac6+I2GohfQJvmHafoiF9Abr62I0GKX0AQ6bevA49fQNB1hk70ol9AOUVHcvmjX0BfKcsQx7JfQF8pyxDHsl9AQPflzLYTYEAydy0hHyJgQJqZmZmZI2BAlEJqJNMkYEBCkChZcyZgQLB9ty+WMGBAWybD8bw8YEBh5vFq70hgQHCPSlaqVGBAmhNqPAdXYEBf1VktcFpgQFcPTvqxXmBAK5Jld3djYECq8dJNYnRgQFVntcCee2BARfRr62eJYEDjK8shs5BgQCUbtPwlk2BATn0geaeTYEDUpwtnbZhgQMI5fgOuvmBAzTD/MunIYEDCCTt7XdtgQLYcQ1sp3mBAiVaTTLMyYUDaEC3DiT1hQB3UNN5MP2FARUdy+Q9BYUCXkA96NkVhQGx4eqUsXWFAMDPHTSjOZkA6gDRSJdNmQCZWodzRH2dAGKGOff89Z0AswgO5ekRnQFK0F3a9sGdAkYDR5Y22Z0CITb+f9bpnQKlnQShvGmhAfPMbJpoaaEDVKlX9JUxoQKUPApdsnWhA3+I89zmtaEDOaFDZ1bJoQOyhfawgt2hAMDHxogrDaECl+b4TDsRoQFPvBFYpkmlAQA0pUJWUaUAjCtIxzEpqQChIbHcPXmpAEp87wT5eakDJbDWQE2JqQIdi4dq/Z2pAztoSXidyakBDkIMSJnVqQMqmXOGdfGpA64sp/al9akAmHeVgNo1qQOK5rePukWpA0vgqnp+cakBkHvmDwaBqQO1VdaCYzWpAcaMS6N3PakC6k+Op4tNqQIVzsnkB1WpAPMZw0PnXakBOzB944dhqQDGbW3wl2WpAVlbkIR3cakCIDFC/sNxqQH+tAQD23WpA/LA5YojgakCRLGAC9+FqQJeA8z3+7WpA9qOXBx/wakAEWrqCbfFqQAJrMGh8AWtAJhhzfBkRa0A33sJfeCBrQLLgNDOpKGtAXo94aA5Ha0C0bighPVJrQPvs26Q9YGtAFwlcDT9ia0ChoBStXGtrQH0oLEy6d2tA4fCCiNSIa0CO23ksx6ZrQAcA2MqVtGtApVR4hp/ta0BNV2YAngBsQFw1dFiGJ2xA2Vw1z9EpbEBrPY3FAF9sQA==",
          "dtype": "f8"
         },
         "xaxis": "x",
         "y": {
          "bdata": "li5wFPm0N0Fs1snWoLQ3Qbz8AzBVtDdBMLFn8tazN0Gw1eBlGLI3QffD/sHJqjdBBBd9D2qqN0GlaN9Q/aQ3QaVo31D9pDdBRG2r4j16N0GVhDyirm83QWdmvD6ZbjdBTuiMcbNtN0FYwc1lgmw3QRS5gJYUZTdBVVZipixcN0Hg/yIgPFM3QVvjhzmjSjdBOkvJ4edIN0HICOoVaEY3QXqJOFlJQzdB8tg2GMo/N0FC9XXvYzM3QXos6DwWLjdBpOK6o/sjN0EP4xwfox43QZZxx6/XHDdBTqefyHgcN0FPi+w0+Rg3QQyGmgDw/DZBpMQMWXD1NkFqBDvT6ec2QTzqSCXd5TZBuM8XU+enNkGBYCbd9Z82Qew5SD2rnjZBKrpCnWCdNkGGwnbiVZo2QaTw0QbGiDZBexQ779OLMkF05IP7K4gyQZK3IdP5TzJBpbbRjds5MkFgCQV4GzUyQQMwk8XC5TFBLz/K3X/hMUES5TBVRd4xQbz9eaJLmDFBp9oPICyYMUG3pzbh23MxQR30UExKODFB2lYQXLUsMUGPo7v4mCgxQaOQ1J5zJTFBCk+WPbgcMUHcdlsX+hsxQUUjqdLqhDBByI7UbSSDMEEY3+/0L/svQRASUn/z3i9BlHUhLq7eL0GOAZp4ENkvQdgliaS/0C9BTLKFW3/BL0Es7YJ9G70vQXJ2ihUpsi9BdrJiFKCwL0HSL1Z21ZkvQYReTPrpki9BSt+YXj6DL0GUPvOoL30vQZKRShx1Oy9Bgm8FDCE4L0H4zocNPTIvQQgN66GYMC9BcI3IGD4sL0H+eQaH6iovQeqPdtOGKi9BeswWTi0mL0HwodDsVCUvQXzsByh4Iy9BNhMcErMfL0GG0++nmR0vQeg6uf33Cy9BbIhMa9kIL0GEL40f7wYvQeD4KDRl7y5B2AZEH4LYLkF+kPIz+sEuQca8BJf4tS5Beonqk2qJLkGYTrJIBnkuQQK23PR/ZC5B5Cu+YY9hLkEiNiSpMlQuQdovGl0SQi5BcG82kQApLkGitDF+Gv0tQcRnCE7d6C1BRvI8fUGVLUHipYffaXktQSgzQ5hhQC1BAHhcdwQ9LUFwP2sZD+8sQQ==",
          "dtype": "f8"
         },
         "yaxis": "y"
        }
       ],
       "layout": {
        "legend": {
         "tracegroupgap": 0
        },
        "margin": {
         "t": 60
        },
        "template": {
         "data": {
          "bar": [
           {
            "error_x": {
             "color": "#2a3f5f"
            },
            "error_y": {
             "color": "#2a3f5f"
            },
            "marker": {
             "line": {
              "color": "#E5ECF6",
              "width": 0.5
             },
             "pattern": {
              "fillmode": "overlay",
              "size": 10,
              "solidity": 0.2
             }
            },
            "type": "bar"
           }
          ],
          "barpolar": [
           {
            "marker": {
             "line": {
              "color": "#E5ECF6",
              "width": 0.5
             },
             "pattern": {
              "fillmode": "overlay",
              "size": 10,
              "solidity": 0.2
             }
            },
            "type": "barpolar"
           }
          ],
          "carpet": [
           {
            "aaxis": {
             "endlinecolor": "#2a3f5f",
             "gridcolor": "white",
             "linecolor": "white",
             "minorgridcolor": "white",
             "startlinecolor": "#2a3f5f"
            },
            "baxis": {
             "endlinecolor": "#2a3f5f",
             "gridcolor": "white",
             "linecolor": "white",
             "minorgridcolor": "white",
             "startlinecolor": "#2a3f5f"
            },
            "type": "carpet"
           }
          ],
          "choropleth": [
           {
            "colorbar": {
             "outlinewidth": 0,
             "ticks": ""
            },
            "type": "choropleth"
           }
          ],
          "contour": [
           {
            "colorbar": {
             "outlinewidth": 0,
             "ticks": ""
            },
            "colorscale": [
             [
              0,
              "#0d0887"
             ],
             [
              0.1111111111111111,
              "#46039f"
             ],
             [
              0.2222222222222222,
              "#7201a8"
             ],
             [
              0.3333333333333333,
              "#9c179e"
             ],
             [
              0.4444444444444444,
              "#bd3786"
             ],
             [
              0.5555555555555556,
              "#d8576b"
             ],
             [
              0.6666666666666666,
              "#ed7953"
             ],
             [
              0.7777777777777778,
              "#fb9f3a"
             ],
             [
              0.8888888888888888,
              "#fdca26"
             ],
             [
              1,
              "#f0f921"
             ]
            ],
            "type": "contour"
           }
          ],
          "contourcarpet": [
           {
            "colorbar": {
             "outlinewidth": 0,
             "ticks": ""
            },
            "type": "contourcarpet"
           }
          ],
          "heatmap": [
           {
            "colorbar": {
             "outlinewidth": 0,
             "ticks": ""
            },
            "colorscale": [
             [
              0,
              "#0d0887"
             ],
             [
              0.1111111111111111,
              "#46039f"
             ],
             [
              0.2222222222222222,
              "#7201a8"
             ],
             [
              0.3333333333333333,
              "#9c179e"
             ],
             [
              0.4444444444444444,
              "#bd3786"
             ],
             [
              0.5555555555555556,
              "#d8576b"
             ],
             [
              0.6666666666666666,
              "#ed7953"
             ],
             [
              0.7777777777777778,
              "#fb9f3a"
             ],
             [
              0.8888888888888888,
              "#fdca26"
             ],
             [
              1,
              "#f0f921"
             ]
            ],
            "type": "heatmap"
           }
          ],
          "histogram": [
           {
            "marker": {
             "pattern": {
              "fillmode": "overlay",
              "size": 10,
              "solidity": 0.2
             }
            },
            "type": "histogram"
           }
          ],
          "histogram2d": [
           {
            "colorbar": {
             "outlinewidth": 0,
             "ticks": ""
            },
            "colorscale": [
             [
              0,
              "#0d0887"
             ],
             [
              0.1111111111111111,
              "#46039f"
             ],
             [
              0.2222222222222222,
              "#7201a8"
             ],
             [
              0.3333333333333333,
              "#9c179e"
             ],
             [
              0.4444444444444444,
              "#bd3786"
             ],
             [
              0.5555555555555556,
              "#d8576b"
             ],
             [
              0.6666666666666666,
              "#ed7953"
             ],
             [
              0.7777777777777778,
              "#fb9f3a"
             ],
             [
              0.8888888888888888,
              "#fdca26"
             ],
             [
              1,
              "#f0f921"
             ]
            ],
            "type": "histogram2d"
           }
          ],
          "histogram2dcontour": [
           {
            "colorbar": {
             "outlinewidth": 0,
             "ticks": ""
            },
            "colorscale": [
             [
              0,
              "#0d0887"
             ],
             [
              0.1111111111111111,
              "#46039f"
             ],
             [
              0.2222222222222222,
              "#7201a8"
             ],
             [
              0.3333333333333333,
              "#9c179e"
             ],
             [
              0.4444444444444444,
              "#bd3786"
             ],
             [
              0.5555555555555556,
              "#d8576b"
             ],
             [
              0.6666666666666666,
              "#ed7953"
             ],
             [
              0.7777777777777778,
              "#fb9f3a"
             ],
             [
              0.8888888888888888,
              "#fdca26"
             ],
             [
              1,
              "#f0f921"
             ]
            ],
            "type": "histogram2dcontour"
           }
          ],
          "mesh3d": [
           {
            "colorbar": {
             "outlinewidth": 0,
             "ticks": ""
            },
            "type": "mesh3d"
           }
          ],
          "parcoords": [
           {
            "line": {
             "colorbar": {
              "outlinewidth": 0,
              "ticks": ""
             }
            },
            "type": "parcoords"
           }
          ],
          "pie": [
           {
            "automargin": true,
            "type": "pie"
           }
          ],
          "scatter": [
           {
            "fillpattern": {
             "fillmode": "overlay",
             "size": 10,
             "solidity": 0.2
            },
            "type": "scatter"
           }
          ],
          "scatter3d": [
           {
            "line": {
             "colorbar": {
              "outlinewidth": 0,
              "ticks": ""
             }
            },
            "marker": {
             "colorbar": {
              "outlinewidth": 0,
              "ticks": ""
             }
            },
            "type": "scatter3d"
           }
          ],
          "scattercarpet": [
           {
            "marker": {
             "colorbar": {
              "outlinewidth": 0,
              "ticks": ""
             }
            },
            "type": "scattercarpet"
           }
          ],
          "scattergeo": [
           {
            "marker": {
             "colorbar": {
              "outlinewidth": 0,
              "ticks": ""
             }
            },
            "type": "scattergeo"
           }
          ],
          "scattergl": [
           {
            "marker": {
             "colorbar": {
              "outlinewidth": 0,
              "ticks": ""
             }
            },
            "type": "scattergl"
           }
          ],
          "scattermap": [
           {
            "marker": {
             "colorbar": {
              "outlinewidth": 0,
              "ticks": ""
             }
            },
            "type": "scattermap"
           }
          ],
          "scattermapbox": [
           {
            "marker": {
             "colorbar": {
              "outlinewidth": 0,
              "ticks": ""
             }
            },
            "type": "scattermapbox"
           }
          ],
          "scatterpolar": [
           {
            "marker": {
             "colorbar": {
              "outlinewidth": 0,
              "ticks": ""
             }
            },
            "type": "scatterpolar"
           }
          ],
          "scatterpolargl": [
           {
            "marker": {
             "colorbar": {
              "outlinewidth": 0,
              "ticks": ""
             }
            },
            "type": "scatterpolargl"
           }
          ],
          "scatterternary": [
           {
            "marker": {
             "colorbar": {
              "outlinewidth": 0,
              "ticks": ""
             }
            },
            "type": "scatterternary"
           }
          ],
          "surface": [
           {
            "colorbar": {
             "outlinewidth": 0,
             "ticks": ""
            },
            "colorscale": [
             [
              0,
              "#0d0887"
             ],
             [
              0.1111111111111111,
              "#46039f"
             ],
             [
              0.2222222222222222,
              "#7201a8"
             ],
             [
              0.3333333333333333,
              "#9c179e"
             ],
             [
              0.4444444444444444,
              "#bd3786"
             ],
             [
              0.5555555555555556,
              "#d8576b"
             ],
             [
              0.6666666666666666,
              "#ed7953"
             ],
             [
              0.7777777777777778,
              "#fb9f3a"
             ],
             [
              0.8888888888888888,
              "#fdca26"
             ],
             [
              1,
              "#f0f921"
             ]
            ],
            "type": "surface"
           }
          ],
          "table": [
           {
            "cells": {
             "fill": {
              "color": "#EBF0F8"
             },
             "line": {
              "color": "white"
             }
            },
            "header": {
             "fill": {
              "color": "#C8D4E3"
             },
             "line": {
              "color": "white"
             }
            },
            "type": "table"
           }
          ]
         },
         "layout": {
          "annotationdefaults": {
           "arrowcolor": "#2a3f5f",
           "arrowhead": 0,
           "arrowwidth": 1
          },
          "autotypenumbers": "strict",
          "coloraxis": {
           "colorbar": {
            "outlinewidth": 0,
            "ticks": ""
           }
          },
          "colorscale": {
           "diverging": [
            [
             0,
             "#8e0152"
            ],
            [
             0.1,
             "#c51b7d"
            ],
            [
             0.2,
             "#de77ae"
            ],
            [
             0.3,
             "#f1b6da"
            ],
            [
             0.4,
             "#fde0ef"
            ],
            [
             0.5,
             "#f7f7f7"
            ],
            [
             0.6,
             "#e6f5d0"
            ],
            [
             0.7,
             "#b8e186"
            ],
            [
             0.8,
             "#7fbc41"
            ],
            [
             0.9,
             "#4d9221"
            ],
            [
             1,
             "#276419"
            ]
           ],
           "sequential": [
            [
             0,
             "#0d0887"
            ],
            [
             0.1111111111111111,
             "#46039f"
            ],
            [
             0.2222222222222222,
             "#7201a8"
            ],
            [
             0.3333333333333333,
             "#9c179e"
            ],
            [
             0.4444444444444444,
             "#bd3786"
            ],
            [
             0.5555555555555556,
             "#d8576b"
            ],
            [
             0.6666666666666666,
             "#ed7953"
            ],
            [
             0.7777777777777778,
             "#fb9f3a"
            ],
            [
             0.8888888888888888,
             "#fdca26"
            ],
            [
             1,
             "#f0f921"
            ]
           ],
           "sequentialminus": [
            [
             0,
             "#0d0887"
            ],
            [
             0.1111111111111111,
             "#46039f"
            ],
            [
             0.2222222222222222,
             "#7201a8"
            ],
            [
             0.3333333333333333,
             "#9c179e"
            ],
            [
             0.4444444444444444,
             "#bd3786"
            ],
            [
             0.5555555555555556,
             "#d8576b"
            ],
            [
             0.6666666666666666,
             "#ed7953"
            ],
            [
             0.7777777777777778,
             "#fb9f3a"
            ],
            [
             0.8888888888888888,
             "#fdca26"
            ],
            [
             1,
             "#f0f921"
            ]
           ]
          },
          "colorway": [
           "#636efa",
           "#EF553B",
           "#00cc96",
           "#ab63fa",
           "#FFA15A",
           "#19d3f3",
           "#FF6692",
           "#B6E880",
           "#FF97FF",
           "#FECB52"
          ],
          "font": {
           "color": "#2a3f5f"
          },
          "geo": {
           "bgcolor": "white",
           "lakecolor": "white",
           "landcolor": "#E5ECF6",
           "showlakes": true,
           "showland": true,
           "subunitcolor": "white"
          },
          "hoverlabel": {
           "align": "left"
          },
          "hovermode": "closest",
          "mapbox": {
           "style": "light"
          },
          "paper_bgcolor": "white",
          "plot_bgcolor": "#E5ECF6",
          "polar": {
           "angularaxis": {
            "gridcolor": "white",
            "linecolor": "white",
            "ticks": ""
           },
           "bgcolor": "#E5ECF6",
           "radialaxis": {
            "gridcolor": "white",
            "linecolor": "white",
            "ticks": ""
           }
          },
          "scene": {
           "xaxis": {
            "backgroundcolor": "#E5ECF6",
            "gridcolor": "white",
            "gridwidth": 2,
            "linecolor": "white",
            "showbackground": true,
            "ticks": "",
            "zerolinecolor": "white"
           },
           "yaxis": {
            "backgroundcolor": "#E5ECF6",
            "gridcolor": "white",
            "gridwidth": 2,
            "linecolor": "white",
            "showbackground": true,
            "ticks": "",
            "zerolinecolor": "white"
           },
           "zaxis": {
            "backgroundcolor": "#E5ECF6",
            "gridcolor": "white",
            "gridwidth": 2,
            "linecolor": "white",
            "showbackground": true,
            "ticks": "",
            "zerolinecolor": "white"
           }
          },
          "shapedefaults": {
           "line": {
            "color": "#2a3f5f"
           }
          },
          "ternary": {
           "aaxis": {
            "gridcolor": "white",
            "linecolor": "white",
            "ticks": ""
           },
           "baxis": {
            "gridcolor": "white",
            "linecolor": "white",
            "ticks": ""
           },
           "bgcolor": "#E5ECF6",
           "caxis": {
            "gridcolor": "white",
            "linecolor": "white",
            "ticks": ""
           }
          },
          "title": {
           "x": 0.05
          },
          "xaxis": {
           "automargin": true,
           "gridcolor": "white",
           "linecolor": "white",
           "ticks": "",
           "title": {
            "standoff": 15
           },
           "zerolinecolor": "white",
           "zerolinewidth": 2
          },
          "yaxis": {
           "automargin": true,
           "gridcolor": "white",
           "linecolor": "white",
           "ticks": "",
           "title": {
            "standoff": 15
           },
           "zerolinecolor": "white",
           "zerolinewidth": 2
          }
         }
        },
        "xaxis": {
         "anchor": "y",
         "domain": [
          0,
          1
         ],
         "title": {
          "text": "CPI"
         }
        },
        "yaxis": {
         "anchor": "x",
         "domain": [
          0,
          1
         ],
         "title": {
          "text": "Weekly_Sales"
         }
        }
       }
      }
     },
     "metadata": {},
     "output_type": "display_data"
    }
   ],
   "source": [
    "fig = px.scatter(df, x='CPI', y='Weekly_Sales', trendline='ols')\n",
    "fig.show()"
   ]
  },
  {
   "cell_type": "markdown",
   "metadata": {},
   "source": [
    "- CPI corrélation négative: L'indice prix a un impact négatif sur les ventes de la semaine. Plus celui ci augmente plus cela aura un impact négatif sur le CA de la semaine. Les clients sont sensibles à l'inflation qui a un impact direct sur leur pouvoir d'achat.\n",
    "Nous avons 3 clusters : Les magasins ayant un faible CPI se trouvent majoritairement dans une tranche de CA de 1 à 2M avec une variation à +/- 0.5M. Pour ceux ayant le plus fort CPI, les magasins ont des CA < 0.5M et 2M.Dans ce cluster il y a 2 groupes de CA magasins bien distinct ceux inférieur à 0.5M et ceux se situant entre 1.5M et 2M. Le troisieme cluster compte beaucoup moins de magasins et se décompose de la même manière que le magasins ayant un fort CPI avec un écart signifiquatif du CA entre 2 groupes de magasins."
   ]
  },
  {
   "cell_type": "code",
   "execution_count": 1816,
   "metadata": {},
   "outputs": [
    {
     "data": {
      "application/vnd.plotly.v1+json": {
       "config": {
        "plotlyServerURL": "https://plot.ly"
       },
       "data": [
        {
         "hovertemplate": "Temperature=%{x}<br>Weekly_Sales=%{y}<extra></extra>",
         "legendgroup": "",
         "marker": {
          "color": "#636efa",
          "symbol": "circle"
         },
         "mode": "markers",
         "name": "",
         "orientation": "v",
         "showlegend": false,
         "type": "scatter",
         "x": {
          "bdata": "rkfhehTOTUBxPQrXozBFQClcj8L1uFNAAAAAAAAA+H8zMzMzM3NRQNejcD0K90NACtejcD2KPkB7FK5H4bpUQMP1KFyPAkpArkfhehROQkCPwvUoXC9QQClcj8L1CE5ACtejcD06UUD2KFyPwhVTQHE9CtejEElA4XoUrkchQ0C4HoXrUVhTQFyPwvUofElAKVyPwvWIQ0DhehSuR2FJQClcj8L1aEZArkfhehTuSUCamZmZmflFQFyPwvUonEZAAAAAAAAA+H8K16NwPcoyQAAAAAAAgEJA4XoUrkehQEBcj8L1KAxUQAAAAAAAAPh/ZmZmZmZ2VEB7FK5H4VpOQNejcD0KN0lAAAAAAAAA+H/NzMzMzMxMQOF6FK5HQUNAcT0K16NQS0A9CtejcJ1UQAAAAAAAkFBAmpmZmZnpVkCF61G4HiVIQK5H4XoUjk5AuB6F61HYTUDhehSuR0FVQOF6FK5H4URASOF6FK63VUDNzMzMzMxPQHsUrkfhulJAAAAAAAAA+H/NzMzMzGxCQAAAAAAAAPh/j8L1KFzPTEB7FK5H4UpRQLgehetROEJAexSuR+FqUkB7FK5H4dpGQGZmZmZmZjtApHA9CtdjQkCuR+F6FE5VQK5H4XoU/lBAexSuR+HKUkD2KFyPwrVHQAAAAAAAIE9ASOF6FK5XUUB7FK5H4fpIQLgehetRWEZAXI/C9SjMUkBxPQrXo6BTQK5H4XoUnlNAUrgeheuxUkDhehSuR+FIQFK4HoXr4VBAFK5H4XqUVkAUrkfherRTQOF6FK5H4VRAAAAAAABgR0AzMzMzMzNFQM3MzMzMrFRAhetRuB41UkBSuB6F63FBQOxRuB6Fq0BASOF6FK5HUUCamZmZmdk8QAAAAAAAAPh/uB6F61HYQ0B7FK5H4VpAQJqZmZmZeVFAAAAAAAAA+H9mZmZmZqZDQI/C9Shcv1RAKVyPwvUoQUAUrkfhetRSQHsUrkfhWlZA7FG4HoXrTEAAAAAAAAD4f3E9CtejEFFAFK5H4Xr0T0CF61G4HuVOQM3MzMzM/FJAAAAAAABASkAAAAAAAAD4f/YoXI/CtVRA9ihcj8IlVUCPwvUoXI9SQM3MzMzMTElAj8L1KFwvT0DD9Shcj+JSQFK4HoXroVNAXI/C9ShcUkBI4XoUridSQFK4HoXrkUxAMzMzMzODVUCamZmZmZlLQA==",
          "dtype": "f8"
         },
         "xaxis": "x",
         "y": {
          "bdata": "pHA9ihX9N0HhehRuuZQ7QY/C9ai2FzlBMzMzs/1XPEEUrkdhyDglQZqZmZnBz0BBFK5HoSPXQ0EAAAAAtVArQTMzMzPkay9BMzMzMzhGGUF7FK7HoJg5QaRwPYouTilBj8L1KODbNkEUrkehVXo+QSlcj0Jwj0JBexSuR/IfIUGkcD0KyMERQQAAAACfYzBBMzMzc0/GNUEK16NwT3A1QeF6FK6MEixBrkfhejptFkEpXI/CFJMaQVK4HoXVHydBj8L1aHWsNUGkcD2KCTIhQdejcD1Isj9BCtej8IRTM0EpXI/CA0sWQQrXo3D7Jy5BuB6F6xilPkHNzMzMigkTQVyPwnVEVS1BH4XrUXoRIEEK16Pw1DkjQQrXo3DlDTlBMzMzs6poPEHsUbgeBGoQQeF6FK7aojdBAAAAwD/JOEE9CtejnZsdQT0K12PnDj9B16NwvYw/PUHsUbgePRUfQa5H4TqbrTxBpHA9yq+OO0Fcj8L1hjA8QfYoXI/hHytBexSux5RhN0HXo3D9xtQ+QeF6FO7v+T9BUrgeBeNePkGamZmZOCATQVyPwpXiJEVBmpmZ2SXLMUEUrkfh2CwcQVyPwrXOPDhBzczMLI7HQkG4HoXrthw2QVK4HsXkAjdB7FG43o8bPkFcj8J15mkhQTMzM7ObfTdBZmZmpvdOO0EzMzMzPbofQaRwPcpi0zpBCtejcMVdGkGamZmZNKAdQSlcj8IIzz1BAAAAgOvMNkEfhetRYEEqQcP1KFwnOxJB9ihcT+z6OkFcj8K1Csw+QWZmZmazOBZBPQrXI2B1O0HhehRuFJFBQc3MzMynmhlBXI/C9XvZNEEUrkeh5/k/Qc3MzMziWy5BpHA9ylorM0GkcD3KOXY7QcP1KFy+ZzZBUrgexVE1QEFcj8I1lqQ7QSlcj4I60DpBAAAAgM0qJEHXo3A98OkbQa5H4XrHUB9BmpmZGSp0PEEzMzOzx4gpQeF6FK4YyxBBmpmZGek+IkG4HoWrvl42QRSuR6FRZDZBFK5H4dtXGEGPwvWo2r4iQRSuR2GlED5B7FG4nm7oPkG4HoXrRxsqQT0K12MHEj9Bw/Uo3G2IP0HhehTuvgM5QaRwPYoHQiBBCtejcA1sEkGamZmZOZ4YQTMzMzOjOhhBH4XrUQTpGUG4HoXL4idBQbgehWuIyylBMzMzM7glKkEpXI9CryYzQQ==",
          "dtype": "f8"
         },
         "yaxis": "y"
        },
        {
         "hovertemplate": "<b>OLS trendline</b><br>Weekly_Sales = -7444.52 * Temperature + 1.71364e+06<br>R<sup>2</sup>=0.037172<br><br>Temperature=%{x}<br>Weekly_Sales=%{y} <b>(trend)</b><extra></extra>",
         "legendgroup": "",
         "marker": {
          "color": "#636efa",
          "symbol": "circle"
         },
         "mode": "lines",
         "name": "",
         "showlegend": false,
         "type": "scatter",
         "x": {
          "bdata": "CtejcD3KMkBmZmZmZmY7QJqZmZmZ2TxACtejcD2KPkB7FK5H4VpAQOF6FK5HoUBA7FG4HoWrQEApXI/C9ShBQFK4HoXrcUFAuB6F61E4QkCuR+F6FE5CQKRwPQrXY0JAzczMzMxsQkAAAAAAAIBCQOF6FK5HIUNA4XoUrkdBQ0ApXI/C9YhDQGZmZmZmpkNAuB6F61HYQ0DXo3A9CvdDQOF6FK5H4URAcT0K16MwRUAzMzMzMzNFQJqZmZmZ+UVAuB6F61FYRkApXI/C9WhGQFyPwvUonEZAexSuR+HaRkAAAAAAAGBHQPYoXI/CtUdAhetRuB4lSEDhehSuR+FIQHsUrkfh+khAcT0K16MQSUDXo3A9CjdJQM3MzMzMTElA4XoUrkdhSUBcj8L1KHxJQK5H4XoU7klAw/UoXI8CSkAAAAAAAEBKQHE9CtejUEtAmpmZmZmZS0BSuB6F65FMQM3MzMzMzExAj8L1KFzPTEDsUbgehetMQK5H4XoUzk1AuB6F61HYTUApXI/C9QhOQHsUrkfhWk5ArkfhehSOTkCF61G4HuVOQAAAAAAAIE9Aj8L1KFwvT0DNzMzMzMxPQBSuR+F69E9Aj8L1KFwvUEAAAAAAAJBQQFK4HoXr4VBArkfhehT+UEBxPQrXoxBRQArXo3A9OlFASOF6FK5HUUB7FK5H4UpRQEjhehSuV1FAMzMzMzNzUUCamZmZmXlRQEjhehSuJ1JAhetRuB41UkBcj8L1KFxSQHsUrkfhalJAj8L1KFyPUkBSuB6F67FSQHsUrkfhulJAexSuR+HKUkBcj8L1KMxSQBSuR+F61FJAw/UoXI/iUkDNzMzMzPxSQPYoXI/CFVNAuB6F61FYU0CuR+F6FJ5TQHE9CtejoFNAUrgeheuhU0AUrkfherRTQClcj8L1uFNAXI/C9SgMVEBmZmZmZnZUQD0K16NwnVRAzczMzMysVED2KFyPwrVUQHsUrkfhulRAj8L1KFy/VEDhehSuR+FUQPYoXI/CJVVA4XoUrkdBVUCuR+F6FE5VQDMzMzMzg1VASOF6FK63VUB7FK5H4VpWQBSuR+F6lFZAmpmZmZnpVkA=",
          "dtype": "f8"
         },
         "xaxis": "x",
         "y": {
          "bdata": "lpbOZH0DOEH5DHoNHAk3QU/0nn7x3jZBXBVJQMytNkHVqf2isW42QcH4LiazXjZBUmFbll9cNkFPYnv03z82QWDLt5NMLzZBbTUUkTkCNkGjk3L/R/01Qdnx0G1W+DVBWc33T032NUFrEUui8PE1QWeABolMzTVBL0eRZwfGNUEtI8h4vrU1QdHPRzsOrzVBmU0g3rajNUFPh6UuvJw1QVtfnbSEZzVBxon1GX1VNUHrowA26FQ1QfgNXTPVJzVBP9X3QFASNUEs/z93iA41QQYKHqjmAjVBhAou16b0NEHuWW+JaNY0QbZF47TswjRB6jbG+J+pNEFkOPaF4H40QdI9ZZ4PeTRBCJzDDB50NEEsJGqxZGs0QWKCyB9zZjRBhlMhAMxhNEEF5pWmsFs0QV7xgwbPQTRBgcLc5ic9NEHuNeeHMi80QR2WhbJB8TNBLv/BUa7gM0EC5/bxQ6gzQUpA9nbjmjNBb1oBk06aM0EAenvH6JMzQZ8DUvlvYDNBMWx+aRxeM0HmXFF+D1MzQXahtP9yQDNBUaySMNE0M0EqJQzqCiEzQXJ+C2+qEzNBTBtOFy0QM0ER4/hTaOwyQUf4pIZk4zJBMrVxkkHLMkH26rdXWJ8yQRZ0flofejJBOrNyw1NtMkFLrhPa5GQyQe5/fOn9UTJBbBLxj+JLMkHI0wxWbkoyQTXZe26dRDJBRotqSRw4MkH8DaLVMzUyQWDxh7sa5jFB4IP8Yf/fMUE6IU85Qs4xQd3NzvuRxzFB7jYLm/62MUHH+DaQSqcxQcavhFQ4ozFBj3YPM/ObMUG0kBpPXpsxQaG6YoWWlzFBMtrcuTCRMUEecsB4RIUxQebvmBvteTFBUT/aza5bMUEWUDdG/DsxQV+ETX7SOjFBhJ5Ymj06MUGWmfmwzjExQRV1IJPFLzFBWhjysfcJMUEwkovJsdkwQYkv3qD0xzBBP2lj8fnAMEE+ILG157wwQdCI3SWUujBBUGQECIu4MEEYmSpvIakwQbiPfMsDijBBykFrpoJ9MEE2R9q+sXcwQSIEp8qOXzBB+jNuSLZHMEFRcut/HfsvQSej0lvFxi9BHTiX7Wp5L0E=",
          "dtype": "f8"
         },
         "yaxis": "y"
        }
       ],
       "layout": {
        "legend": {
         "tracegroupgap": 0
        },
        "margin": {
         "t": 60
        },
        "template": {
         "data": {
          "bar": [
           {
            "error_x": {
             "color": "#2a3f5f"
            },
            "error_y": {
             "color": "#2a3f5f"
            },
            "marker": {
             "line": {
              "color": "#E5ECF6",
              "width": 0.5
             },
             "pattern": {
              "fillmode": "overlay",
              "size": 10,
              "solidity": 0.2
             }
            },
            "type": "bar"
           }
          ],
          "barpolar": [
           {
            "marker": {
             "line": {
              "color": "#E5ECF6",
              "width": 0.5
             },
             "pattern": {
              "fillmode": "overlay",
              "size": 10,
              "solidity": 0.2
             }
            },
            "type": "barpolar"
           }
          ],
          "carpet": [
           {
            "aaxis": {
             "endlinecolor": "#2a3f5f",
             "gridcolor": "white",
             "linecolor": "white",
             "minorgridcolor": "white",
             "startlinecolor": "#2a3f5f"
            },
            "baxis": {
             "endlinecolor": "#2a3f5f",
             "gridcolor": "white",
             "linecolor": "white",
             "minorgridcolor": "white",
             "startlinecolor": "#2a3f5f"
            },
            "type": "carpet"
           }
          ],
          "choropleth": [
           {
            "colorbar": {
             "outlinewidth": 0,
             "ticks": ""
            },
            "type": "choropleth"
           }
          ],
          "contour": [
           {
            "colorbar": {
             "outlinewidth": 0,
             "ticks": ""
            },
            "colorscale": [
             [
              0,
              "#0d0887"
             ],
             [
              0.1111111111111111,
              "#46039f"
             ],
             [
              0.2222222222222222,
              "#7201a8"
             ],
             [
              0.3333333333333333,
              "#9c179e"
             ],
             [
              0.4444444444444444,
              "#bd3786"
             ],
             [
              0.5555555555555556,
              "#d8576b"
             ],
             [
              0.6666666666666666,
              "#ed7953"
             ],
             [
              0.7777777777777778,
              "#fb9f3a"
             ],
             [
              0.8888888888888888,
              "#fdca26"
             ],
             [
              1,
              "#f0f921"
             ]
            ],
            "type": "contour"
           }
          ],
          "contourcarpet": [
           {
            "colorbar": {
             "outlinewidth": 0,
             "ticks": ""
            },
            "type": "contourcarpet"
           }
          ],
          "heatmap": [
           {
            "colorbar": {
             "outlinewidth": 0,
             "ticks": ""
            },
            "colorscale": [
             [
              0,
              "#0d0887"
             ],
             [
              0.1111111111111111,
              "#46039f"
             ],
             [
              0.2222222222222222,
              "#7201a8"
             ],
             [
              0.3333333333333333,
              "#9c179e"
             ],
             [
              0.4444444444444444,
              "#bd3786"
             ],
             [
              0.5555555555555556,
              "#d8576b"
             ],
             [
              0.6666666666666666,
              "#ed7953"
             ],
             [
              0.7777777777777778,
              "#fb9f3a"
             ],
             [
              0.8888888888888888,
              "#fdca26"
             ],
             [
              1,
              "#f0f921"
             ]
            ],
            "type": "heatmap"
           }
          ],
          "histogram": [
           {
            "marker": {
             "pattern": {
              "fillmode": "overlay",
              "size": 10,
              "solidity": 0.2
             }
            },
            "type": "histogram"
           }
          ],
          "histogram2d": [
           {
            "colorbar": {
             "outlinewidth": 0,
             "ticks": ""
            },
            "colorscale": [
             [
              0,
              "#0d0887"
             ],
             [
              0.1111111111111111,
              "#46039f"
             ],
             [
              0.2222222222222222,
              "#7201a8"
             ],
             [
              0.3333333333333333,
              "#9c179e"
             ],
             [
              0.4444444444444444,
              "#bd3786"
             ],
             [
              0.5555555555555556,
              "#d8576b"
             ],
             [
              0.6666666666666666,
              "#ed7953"
             ],
             [
              0.7777777777777778,
              "#fb9f3a"
             ],
             [
              0.8888888888888888,
              "#fdca26"
             ],
             [
              1,
              "#f0f921"
             ]
            ],
            "type": "histogram2d"
           }
          ],
          "histogram2dcontour": [
           {
            "colorbar": {
             "outlinewidth": 0,
             "ticks": ""
            },
            "colorscale": [
             [
              0,
              "#0d0887"
             ],
             [
              0.1111111111111111,
              "#46039f"
             ],
             [
              0.2222222222222222,
              "#7201a8"
             ],
             [
              0.3333333333333333,
              "#9c179e"
             ],
             [
              0.4444444444444444,
              "#bd3786"
             ],
             [
              0.5555555555555556,
              "#d8576b"
             ],
             [
              0.6666666666666666,
              "#ed7953"
             ],
             [
              0.7777777777777778,
              "#fb9f3a"
             ],
             [
              0.8888888888888888,
              "#fdca26"
             ],
             [
              1,
              "#f0f921"
             ]
            ],
            "type": "histogram2dcontour"
           }
          ],
          "mesh3d": [
           {
            "colorbar": {
             "outlinewidth": 0,
             "ticks": ""
            },
            "type": "mesh3d"
           }
          ],
          "parcoords": [
           {
            "line": {
             "colorbar": {
              "outlinewidth": 0,
              "ticks": ""
             }
            },
            "type": "parcoords"
           }
          ],
          "pie": [
           {
            "automargin": true,
            "type": "pie"
           }
          ],
          "scatter": [
           {
            "fillpattern": {
             "fillmode": "overlay",
             "size": 10,
             "solidity": 0.2
            },
            "type": "scatter"
           }
          ],
          "scatter3d": [
           {
            "line": {
             "colorbar": {
              "outlinewidth": 0,
              "ticks": ""
             }
            },
            "marker": {
             "colorbar": {
              "outlinewidth": 0,
              "ticks": ""
             }
            },
            "type": "scatter3d"
           }
          ],
          "scattercarpet": [
           {
            "marker": {
             "colorbar": {
              "outlinewidth": 0,
              "ticks": ""
             }
            },
            "type": "scattercarpet"
           }
          ],
          "scattergeo": [
           {
            "marker": {
             "colorbar": {
              "outlinewidth": 0,
              "ticks": ""
             }
            },
            "type": "scattergeo"
           }
          ],
          "scattergl": [
           {
            "marker": {
             "colorbar": {
              "outlinewidth": 0,
              "ticks": ""
             }
            },
            "type": "scattergl"
           }
          ],
          "scattermap": [
           {
            "marker": {
             "colorbar": {
              "outlinewidth": 0,
              "ticks": ""
             }
            },
            "type": "scattermap"
           }
          ],
          "scattermapbox": [
           {
            "marker": {
             "colorbar": {
              "outlinewidth": 0,
              "ticks": ""
             }
            },
            "type": "scattermapbox"
           }
          ],
          "scatterpolar": [
           {
            "marker": {
             "colorbar": {
              "outlinewidth": 0,
              "ticks": ""
             }
            },
            "type": "scatterpolar"
           }
          ],
          "scatterpolargl": [
           {
            "marker": {
             "colorbar": {
              "outlinewidth": 0,
              "ticks": ""
             }
            },
            "type": "scatterpolargl"
           }
          ],
          "scatterternary": [
           {
            "marker": {
             "colorbar": {
              "outlinewidth": 0,
              "ticks": ""
             }
            },
            "type": "scatterternary"
           }
          ],
          "surface": [
           {
            "colorbar": {
             "outlinewidth": 0,
             "ticks": ""
            },
            "colorscale": [
             [
              0,
              "#0d0887"
             ],
             [
              0.1111111111111111,
              "#46039f"
             ],
             [
              0.2222222222222222,
              "#7201a8"
             ],
             [
              0.3333333333333333,
              "#9c179e"
             ],
             [
              0.4444444444444444,
              "#bd3786"
             ],
             [
              0.5555555555555556,
              "#d8576b"
             ],
             [
              0.6666666666666666,
              "#ed7953"
             ],
             [
              0.7777777777777778,
              "#fb9f3a"
             ],
             [
              0.8888888888888888,
              "#fdca26"
             ],
             [
              1,
              "#f0f921"
             ]
            ],
            "type": "surface"
           }
          ],
          "table": [
           {
            "cells": {
             "fill": {
              "color": "#EBF0F8"
             },
             "line": {
              "color": "white"
             }
            },
            "header": {
             "fill": {
              "color": "#C8D4E3"
             },
             "line": {
              "color": "white"
             }
            },
            "type": "table"
           }
          ]
         },
         "layout": {
          "annotationdefaults": {
           "arrowcolor": "#2a3f5f",
           "arrowhead": 0,
           "arrowwidth": 1
          },
          "autotypenumbers": "strict",
          "coloraxis": {
           "colorbar": {
            "outlinewidth": 0,
            "ticks": ""
           }
          },
          "colorscale": {
           "diverging": [
            [
             0,
             "#8e0152"
            ],
            [
             0.1,
             "#c51b7d"
            ],
            [
             0.2,
             "#de77ae"
            ],
            [
             0.3,
             "#f1b6da"
            ],
            [
             0.4,
             "#fde0ef"
            ],
            [
             0.5,
             "#f7f7f7"
            ],
            [
             0.6,
             "#e6f5d0"
            ],
            [
             0.7,
             "#b8e186"
            ],
            [
             0.8,
             "#7fbc41"
            ],
            [
             0.9,
             "#4d9221"
            ],
            [
             1,
             "#276419"
            ]
           ],
           "sequential": [
            [
             0,
             "#0d0887"
            ],
            [
             0.1111111111111111,
             "#46039f"
            ],
            [
             0.2222222222222222,
             "#7201a8"
            ],
            [
             0.3333333333333333,
             "#9c179e"
            ],
            [
             0.4444444444444444,
             "#bd3786"
            ],
            [
             0.5555555555555556,
             "#d8576b"
            ],
            [
             0.6666666666666666,
             "#ed7953"
            ],
            [
             0.7777777777777778,
             "#fb9f3a"
            ],
            [
             0.8888888888888888,
             "#fdca26"
            ],
            [
             1,
             "#f0f921"
            ]
           ],
           "sequentialminus": [
            [
             0,
             "#0d0887"
            ],
            [
             0.1111111111111111,
             "#46039f"
            ],
            [
             0.2222222222222222,
             "#7201a8"
            ],
            [
             0.3333333333333333,
             "#9c179e"
            ],
            [
             0.4444444444444444,
             "#bd3786"
            ],
            [
             0.5555555555555556,
             "#d8576b"
            ],
            [
             0.6666666666666666,
             "#ed7953"
            ],
            [
             0.7777777777777778,
             "#fb9f3a"
            ],
            [
             0.8888888888888888,
             "#fdca26"
            ],
            [
             1,
             "#f0f921"
            ]
           ]
          },
          "colorway": [
           "#636efa",
           "#EF553B",
           "#00cc96",
           "#ab63fa",
           "#FFA15A",
           "#19d3f3",
           "#FF6692",
           "#B6E880",
           "#FF97FF",
           "#FECB52"
          ],
          "font": {
           "color": "#2a3f5f"
          },
          "geo": {
           "bgcolor": "white",
           "lakecolor": "white",
           "landcolor": "#E5ECF6",
           "showlakes": true,
           "showland": true,
           "subunitcolor": "white"
          },
          "hoverlabel": {
           "align": "left"
          },
          "hovermode": "closest",
          "mapbox": {
           "style": "light"
          },
          "paper_bgcolor": "white",
          "plot_bgcolor": "#E5ECF6",
          "polar": {
           "angularaxis": {
            "gridcolor": "white",
            "linecolor": "white",
            "ticks": ""
           },
           "bgcolor": "#E5ECF6",
           "radialaxis": {
            "gridcolor": "white",
            "linecolor": "white",
            "ticks": ""
           }
          },
          "scene": {
           "xaxis": {
            "backgroundcolor": "#E5ECF6",
            "gridcolor": "white",
            "gridwidth": 2,
            "linecolor": "white",
            "showbackground": true,
            "ticks": "",
            "zerolinecolor": "white"
           },
           "yaxis": {
            "backgroundcolor": "#E5ECF6",
            "gridcolor": "white",
            "gridwidth": 2,
            "linecolor": "white",
            "showbackground": true,
            "ticks": "",
            "zerolinecolor": "white"
           },
           "zaxis": {
            "backgroundcolor": "#E5ECF6",
            "gridcolor": "white",
            "gridwidth": 2,
            "linecolor": "white",
            "showbackground": true,
            "ticks": "",
            "zerolinecolor": "white"
           }
          },
          "shapedefaults": {
           "line": {
            "color": "#2a3f5f"
           }
          },
          "ternary": {
           "aaxis": {
            "gridcolor": "white",
            "linecolor": "white",
            "ticks": ""
           },
           "baxis": {
            "gridcolor": "white",
            "linecolor": "white",
            "ticks": ""
           },
           "bgcolor": "#E5ECF6",
           "caxis": {
            "gridcolor": "white",
            "linecolor": "white",
            "ticks": ""
           }
          },
          "title": {
           "x": 0.05
          },
          "xaxis": {
           "automargin": true,
           "gridcolor": "white",
           "linecolor": "white",
           "ticks": "",
           "title": {
            "standoff": 15
           },
           "zerolinecolor": "white",
           "zerolinewidth": 2
          },
          "yaxis": {
           "automargin": true,
           "gridcolor": "white",
           "linecolor": "white",
           "ticks": "",
           "title": {
            "standoff": 15
           },
           "zerolinecolor": "white",
           "zerolinewidth": 2
          }
         }
        },
        "xaxis": {
         "anchor": "y",
         "domain": [
          0,
          1
         ],
         "title": {
          "text": "Temperature"
         }
        },
        "yaxis": {
         "anchor": "x",
         "domain": [
          0,
          1
         ],
         "title": {
          "text": "Weekly_Sales"
         }
        }
       }
      }
     },
     "metadata": {},
     "output_type": "display_data"
    }
   ],
   "source": [
    "fig = px.scatter(df, x='Temperature', y='Weekly_Sales', trendline='ols')\n",
    "fig.show()"
   ]
  },
  {
   "cell_type": "markdown",
   "metadata": {},
   "source": [
    "- Temperature corrélation négative: Les températures ont un impact modéré sur les ventes de la semaine. Certains types de magasins peuvent être sensibles à la météo"
   ]
  },
  {
   "cell_type": "code",
   "execution_count": 1817,
   "metadata": {},
   "outputs": [
    {
     "data": {
      "application/vnd.plotly.v1+json": {
       "config": {
        "plotlyServerURL": "https://plot.ly"
       },
       "data": [
        {
         "hovertemplate": "Unemployment=%{x}<br>Weekly_Sales=%{y}<extra></extra>",
         "legendgroup": "",
         "marker": {
          "color": "#636efa",
          "symbol": "circle"
         },
         "mode": "markers",
         "name": "",
         "orientation": "v",
         "showlegend": false,
         "type": "scatter",
         "x": {
          "bdata": "O99PjZduG0DhehSuR+EdQJLtfD81XhxAL90kBoGVH0BtEoPAyqEeQPLSTWIQ2BtAAAAAAAAA+H8zMzMzM7MZQLbz/dR4qSJAcT0K16MwIUAxCKwcWmQdQArXo3A9ihtAku18PzVeHEDn+6nx0s0fQN0kBoGVwx1AkxgEVg7tIUDb+X5qvPQZQCPb+X5qfCBAMzMzMzOzIEDNzMzMzEwgQM/3U+OlGxZAoEW28/1UG0BCYOXQIlsZQArXo3A9ihpAMzMzMzOzG0BQjZduEoMgQAwCK4cW2SBAL90kBoEVH0D4U+Olm0QeQDMzMzMz8yFAZBBYObTIF0AzMzMzMzMZQM/3U+OlmyBAWDm0yHY+GEBYObTIdj4hQIPAyqFFNiBA7nw/NV46HECWQ4ts5/sZQKabxCCwMiBADgIrhxbZH0DazvdT46UYQFyPwvUo3BdA+n5qvHRTIEAAAAAAAAD4fwwCK4cWGSFArkfhehSuHEA3XrpJDIIbQMP1KFyPQhlAMQisHFrkG0AMAiuHFtkgQJhuEoPACiFArkfhehQuHkDlpZvEILAVQN9PjZdukhRAyXa+nxqvIkBEtvP91HgdQLbz/dR4qSJArkfhehQuH0DazvdT4yUfQAAAAAAAAPh/BoGVQ4tsH0ASg8DKocUfQBBYObTIdh9Az/dT46UbHkA9CtejcD0aQHSTGARWDiBADi2yne+nGkD4U+Olm8QZQAAAAAAAQCFACKwcWmQ7H0AZBFYOLTIZQAAAAAAAAPh/PzVeukkMI0Dn+6nx0s0fQKwcWmQ7Xx1A7nw/NV46HEA3XrpJDIIcQA4tsp3vpxpAppvEILAyIECWQ4ts5/shQBkEVg4tMhlAAAAAAAAA+H9WDi2yne8dQM3MzMzMTCBAAAAAAAAA+H/RItv5fmoYQKjGSzeJQR5AAAAAAAAA+H+uR+F6FC4gQPCnxks3iRlAAAAAAAAA+H/D9Shcj0IZQARWDi2yHRpAsXJoke18H0DufD81XroeQG0Sg8DKoR5AfT81XrrJHEBFtvP91HgbQDdeukkMghtA0SLb+X5qGEAAAAAAAAD4f/p+arx0kxZA+n5qvHSTFkDsUbgehWsbQK5H4XoULiBA30+Nl24SG0B9PzVeuskcQKwcWmQ7Xx1AiUFg5dAiGEA/NV66ScwhQAAAAAAAAPh/AAAAAAAA+H/NzMzMzEwgQA==",
          "dtype": "f8"
         },
         "xaxis": "x",
         "y": {
          "bdata": "pHA9ihX9N0HhehRuuZQ7QY/C9ai2FzlBMzMzs/1XPEEUrkdhyDglQZqZmZnBz0BBFK5HoSPXQ0EAAAAAtVArQTMzMzPkay9BMzMzMzhGGUF7FK7HoJg5QaRwPYouTilBj8L1KODbNkEUrkehVXo+QSlcj0Jwj0JBexSuR/IfIUGkcD0KyMERQQAAAACfYzBBMzMzc0/GNUEK16NwT3A1QeF6FK6MEixBrkfhejptFkEpXI/CFJMaQVK4HoXVHydBj8L1aHWsNUGkcD2KCTIhQdejcD1Isj9BCtej8IRTM0EpXI/CA0sWQQrXo3D7Jy5BuB6F6xilPkHNzMzMigkTQVyPwnVEVS1BH4XrUXoRIEEK16Pw1DkjQQrXo3DlDTlBMzMzs6poPEHsUbgeBGoQQeF6FK7aojdBAAAAwD/JOEE9CtejnZsdQT0K12PnDj9B16NwvYw/PUHsUbgePRUfQa5H4TqbrTxBpHA9yq+OO0Fcj8L1hjA8QfYoXI/hHytBexSux5RhN0HXo3D9xtQ+QeF6FO7v+T9BUrgeBeNePkGamZmZOCATQVyPwpXiJEVBmpmZ2SXLMUEUrkfh2CwcQVyPwrXOPDhBzczMLI7HQkG4HoXrthw2QVK4HsXkAjdB7FG43o8bPkFcj8J15mkhQTMzM7ObfTdBZmZmpvdOO0EzMzMzPbofQaRwPcpi0zpBCtejcMVdGkGamZmZNKAdQSlcj8IIzz1BAAAAgOvMNkEfhetRYEEqQcP1KFwnOxJB9ihcT+z6OkFcj8K1Csw+QWZmZmazOBZBPQrXI2B1O0HhehRuFJFBQc3MzMynmhlBXI/C9XvZNEEUrkeh5/k/Qc3MzMziWy5BpHA9ylorM0GkcD3KOXY7QcP1KFy+ZzZBUrgexVE1QEFcj8I1lqQ7QSlcj4I60DpBAAAAgM0qJEHXo3A98OkbQa5H4XrHUB9BmpmZGSp0PEEzMzOzx4gpQeF6FK4YyxBBmpmZGek+IkG4HoWrvl42QRSuR6FRZDZBFK5H4dtXGEGPwvWo2r4iQRSuR2GlED5B7FG4nm7oPkG4HoXrRxsqQT0K12MHEj9Bw/Uo3G2IP0HhehTuvgM5QaRwPYoHQiBBCtejcA1sEkGamZmZOZ4YQTMzMzOjOhhBH4XrUQTpGUG4HoXL4idBQbgehWuIyylBMzMzM7glKkEpXI9CryYzQQ==",
          "dtype": "f8"
         },
         "yaxis": "y"
        },
        {
         "hovertemplate": "<b>OLS trendline</b><br>Weekly_Sales = 121229 * Unemployment + 378640<br>R<sup>2</sup>=0.030785<br><br>Unemployment=%{x}<br>Weekly_Sales=%{y} <b>(trend)</b><extra></extra>",
         "legendgroup": "",
         "marker": {
          "color": "#636efa",
          "symbol": "circle"
         },
         "mode": "lines",
         "name": "",
         "showlegend": false,
         "type": "scatter",
         "x": {
          "bdata": "30+Nl26SFEDlpZvEILAVQM/3U+OlGxZA+n5qvHSTFkD6fmq8dJMWQGQQWDm0yBdAXI/C9SjcF0CJQWDl0CIYQFg5tMh2PhhA0SLb+X5qGEDRItv5fmoYQNrO91PjpRhAGQRWDi0yGUAZBFYOLTIZQDMzMzMzMxlAw/UoXI9CGUDD9Shcj0IZQEJg5dAiWxlA8KfGSzeJGUAzMzMzM7MZQPhT46WbxBlA2/l+arz0GUCWQ4ts5/sZQARWDi2yHRpAPQrXo3A9GkAK16NwPYoaQA4tsp3vpxpADi2yne+nGkDfT42XbhIbQKBFtvP9VBtA7FG4HoVrG0A730+Nl24bQEW28/3UeBtAN166SQyCG0A3XrpJDIIbQArXo3A9ihtAMzMzMzOzG0Dy0k1iENgbQDEIrBxa5BtA7nw/NV46HEDufD81XjocQJLtfD81XhxAku18PzVeHEA3XrpJDIIcQK5H4XoUrhxAfT81XrrJHEB9PzVeuskcQKwcWmQ7Xx1ArBxaZDtfHUAxCKwcWmQdQES28/3UeB1A3SQGgZXDHUDhehSuR+EdQFYOLbKd7x1Az/dT46UbHkCuR+F6FC4eQKjGSzeJQR5A+FPjpZtEHkBtEoPAyqEeQG0Sg8DKoR5A7nw/NV66HkAv3SQGgRUfQNrO91PjJR9ArkfhehQuH0AIrBxaZDsfQAaBlUOLbB9AEFg5tMh2H0CxcmiR7XwfQC/dJAaBlR9AEoPAyqHFH0Dn+6nx0s0fQOf7qfHSzR9ADgIrhxbZH0B0kxgEVg4gQK5H4XoULiBArkfhehQuIECmm8QgsDIgQKabxCCwMiBAg8DKoUU2IEDNzMzMzEwgQM3MzMzMTCBAzczMzMxMIED6fmq8dFMgQCPb+X5qfCBAUI2XbhKDIEDP91PjpZsgQDMzMzMzsyBADAIrhxbZIEAMAiuHFtkgQJhuEoPACiFADAIrhxYZIUBxPQrXozAhQFg5tMh2PiFAAAAAAABAIUA/NV66ScwhQJMYBFYO7SFAMzMzMzPzIUCWQ4ts5/shQLbz/dR4qSJAtvP91HipIkDJdr6fGq8iQD81XrpJDCNA",
          "dtype": "f8"
         },
         "xaxis": "x",
         "y": {
          "bdata": "X6KvNg6VLkGztUPOS50vQc4ogeleADBBgMFRqsY3MEGAwVGqxjcwQb/vdLjJxjBBvlCoEMnPMEF9vrPXdfAwQaamMgQ//TBBIZ1I2ZsRMUEhnUjZmxExQQgxbBwTLTFBoJv5b/NtMUGgm/lv820xQYQMg6psbjFB8KmQGId1MUHwqZAYh3UxQWo/c5XkgDFBrxec3zOWMUFfLJ8/nqkxQZarvyKrsTFBpGX74ezHMUHoe717PcsxQXAJdQfe2jFBLbUZHozpMUFKyF1EEA0yQT2S7+XLGjJBPZLv5csaMkFOb8WtC0wyQXcZq4rTajJBKM16kj51MkHWHxdCqnYyQcmIdYtmezJB2IBKmql/MkHYgEqaqX8yQQAIlm5zgzJBy6sPlGSWMkECjGPPcKcyQb/W1I0frTJB6uHtwubUMkHq4e3C5tQyQTxRuMN55TJBPFG4w3nlMkGOwILEDPYyQQi3mJlpCjNBMJ8XxjIXM0EwnxfGMhczQdYBeihWXDNB1gF6KFZcM0FQNilNtF4zQTQI5t8saDNBiDkXkb6KM0F7A6kyepgzQQIwLWYbnzNBfSZDO3izM0GYFu1Y/rszQZl3ILH9xDNBSMq8YGnGM0G265cvgfEzQbbrly+B8TNBMIF6rN78M0HUwEIGBCc0QSbP2a6XLjRBTlYlg2EyNEHwESB8iTg0QeQ85XVETzRB1qVDvwBUNEE2S3we2FY0Qa/gXps1YjRBvpqaWnd4NEHmIeYuQXw0QeYh5i5BfDRBwPvNsnaBNEHNFj3Kt6A0QUhuhvcTvjRBSG6G9xO+NEFWZlsGV8I0QVZmWwZXwjRBmnwdoKfFNEH647yvfdo0QfrjvK992jRB+uO8r33aNEGcn7eopeA0QTLnqvOHBjVB1KKl7K8MNUHIzWrmaiM1QfEWHWszOTVBKbnXVj5cNUEpuddWPlw1QfZ/64QtijVBBNnz62+XNUEuIqZwOK01QVcKJZ0BujVBBl3BTG27NUE2MtzzLT02QXprOJZ8WzZBOLapVCthNkFuNco3OGk2Qci0yrvACTdByLTKu8AJN0GgjrI/9g43QXzRaN0lZTdB",
          "dtype": "f8"
         },
         "yaxis": "y"
        }
       ],
       "layout": {
        "legend": {
         "tracegroupgap": 0
        },
        "margin": {
         "t": 60
        },
        "template": {
         "data": {
          "bar": [
           {
            "error_x": {
             "color": "#2a3f5f"
            },
            "error_y": {
             "color": "#2a3f5f"
            },
            "marker": {
             "line": {
              "color": "#E5ECF6",
              "width": 0.5
             },
             "pattern": {
              "fillmode": "overlay",
              "size": 10,
              "solidity": 0.2
             }
            },
            "type": "bar"
           }
          ],
          "barpolar": [
           {
            "marker": {
             "line": {
              "color": "#E5ECF6",
              "width": 0.5
             },
             "pattern": {
              "fillmode": "overlay",
              "size": 10,
              "solidity": 0.2
             }
            },
            "type": "barpolar"
           }
          ],
          "carpet": [
           {
            "aaxis": {
             "endlinecolor": "#2a3f5f",
             "gridcolor": "white",
             "linecolor": "white",
             "minorgridcolor": "white",
             "startlinecolor": "#2a3f5f"
            },
            "baxis": {
             "endlinecolor": "#2a3f5f",
             "gridcolor": "white",
             "linecolor": "white",
             "minorgridcolor": "white",
             "startlinecolor": "#2a3f5f"
            },
            "type": "carpet"
           }
          ],
          "choropleth": [
           {
            "colorbar": {
             "outlinewidth": 0,
             "ticks": ""
            },
            "type": "choropleth"
           }
          ],
          "contour": [
           {
            "colorbar": {
             "outlinewidth": 0,
             "ticks": ""
            },
            "colorscale": [
             [
              0,
              "#0d0887"
             ],
             [
              0.1111111111111111,
              "#46039f"
             ],
             [
              0.2222222222222222,
              "#7201a8"
             ],
             [
              0.3333333333333333,
              "#9c179e"
             ],
             [
              0.4444444444444444,
              "#bd3786"
             ],
             [
              0.5555555555555556,
              "#d8576b"
             ],
             [
              0.6666666666666666,
              "#ed7953"
             ],
             [
              0.7777777777777778,
              "#fb9f3a"
             ],
             [
              0.8888888888888888,
              "#fdca26"
             ],
             [
              1,
              "#f0f921"
             ]
            ],
            "type": "contour"
           }
          ],
          "contourcarpet": [
           {
            "colorbar": {
             "outlinewidth": 0,
             "ticks": ""
            },
            "type": "contourcarpet"
           }
          ],
          "heatmap": [
           {
            "colorbar": {
             "outlinewidth": 0,
             "ticks": ""
            },
            "colorscale": [
             [
              0,
              "#0d0887"
             ],
             [
              0.1111111111111111,
              "#46039f"
             ],
             [
              0.2222222222222222,
              "#7201a8"
             ],
             [
              0.3333333333333333,
              "#9c179e"
             ],
             [
              0.4444444444444444,
              "#bd3786"
             ],
             [
              0.5555555555555556,
              "#d8576b"
             ],
             [
              0.6666666666666666,
              "#ed7953"
             ],
             [
              0.7777777777777778,
              "#fb9f3a"
             ],
             [
              0.8888888888888888,
              "#fdca26"
             ],
             [
              1,
              "#f0f921"
             ]
            ],
            "type": "heatmap"
           }
          ],
          "histogram": [
           {
            "marker": {
             "pattern": {
              "fillmode": "overlay",
              "size": 10,
              "solidity": 0.2
             }
            },
            "type": "histogram"
           }
          ],
          "histogram2d": [
           {
            "colorbar": {
             "outlinewidth": 0,
             "ticks": ""
            },
            "colorscale": [
             [
              0,
              "#0d0887"
             ],
             [
              0.1111111111111111,
              "#46039f"
             ],
             [
              0.2222222222222222,
              "#7201a8"
             ],
             [
              0.3333333333333333,
              "#9c179e"
             ],
             [
              0.4444444444444444,
              "#bd3786"
             ],
             [
              0.5555555555555556,
              "#d8576b"
             ],
             [
              0.6666666666666666,
              "#ed7953"
             ],
             [
              0.7777777777777778,
              "#fb9f3a"
             ],
             [
              0.8888888888888888,
              "#fdca26"
             ],
             [
              1,
              "#f0f921"
             ]
            ],
            "type": "histogram2d"
           }
          ],
          "histogram2dcontour": [
           {
            "colorbar": {
             "outlinewidth": 0,
             "ticks": ""
            },
            "colorscale": [
             [
              0,
              "#0d0887"
             ],
             [
              0.1111111111111111,
              "#46039f"
             ],
             [
              0.2222222222222222,
              "#7201a8"
             ],
             [
              0.3333333333333333,
              "#9c179e"
             ],
             [
              0.4444444444444444,
              "#bd3786"
             ],
             [
              0.5555555555555556,
              "#d8576b"
             ],
             [
              0.6666666666666666,
              "#ed7953"
             ],
             [
              0.7777777777777778,
              "#fb9f3a"
             ],
             [
              0.8888888888888888,
              "#fdca26"
             ],
             [
              1,
              "#f0f921"
             ]
            ],
            "type": "histogram2dcontour"
           }
          ],
          "mesh3d": [
           {
            "colorbar": {
             "outlinewidth": 0,
             "ticks": ""
            },
            "type": "mesh3d"
           }
          ],
          "parcoords": [
           {
            "line": {
             "colorbar": {
              "outlinewidth": 0,
              "ticks": ""
             }
            },
            "type": "parcoords"
           }
          ],
          "pie": [
           {
            "automargin": true,
            "type": "pie"
           }
          ],
          "scatter": [
           {
            "fillpattern": {
             "fillmode": "overlay",
             "size": 10,
             "solidity": 0.2
            },
            "type": "scatter"
           }
          ],
          "scatter3d": [
           {
            "line": {
             "colorbar": {
              "outlinewidth": 0,
              "ticks": ""
             }
            },
            "marker": {
             "colorbar": {
              "outlinewidth": 0,
              "ticks": ""
             }
            },
            "type": "scatter3d"
           }
          ],
          "scattercarpet": [
           {
            "marker": {
             "colorbar": {
              "outlinewidth": 0,
              "ticks": ""
             }
            },
            "type": "scattercarpet"
           }
          ],
          "scattergeo": [
           {
            "marker": {
             "colorbar": {
              "outlinewidth": 0,
              "ticks": ""
             }
            },
            "type": "scattergeo"
           }
          ],
          "scattergl": [
           {
            "marker": {
             "colorbar": {
              "outlinewidth": 0,
              "ticks": ""
             }
            },
            "type": "scattergl"
           }
          ],
          "scattermap": [
           {
            "marker": {
             "colorbar": {
              "outlinewidth": 0,
              "ticks": ""
             }
            },
            "type": "scattermap"
           }
          ],
          "scattermapbox": [
           {
            "marker": {
             "colorbar": {
              "outlinewidth": 0,
              "ticks": ""
             }
            },
            "type": "scattermapbox"
           }
          ],
          "scatterpolar": [
           {
            "marker": {
             "colorbar": {
              "outlinewidth": 0,
              "ticks": ""
             }
            },
            "type": "scatterpolar"
           }
          ],
          "scatterpolargl": [
           {
            "marker": {
             "colorbar": {
              "outlinewidth": 0,
              "ticks": ""
             }
            },
            "type": "scatterpolargl"
           }
          ],
          "scatterternary": [
           {
            "marker": {
             "colorbar": {
              "outlinewidth": 0,
              "ticks": ""
             }
            },
            "type": "scatterternary"
           }
          ],
          "surface": [
           {
            "colorbar": {
             "outlinewidth": 0,
             "ticks": ""
            },
            "colorscale": [
             [
              0,
              "#0d0887"
             ],
             [
              0.1111111111111111,
              "#46039f"
             ],
             [
              0.2222222222222222,
              "#7201a8"
             ],
             [
              0.3333333333333333,
              "#9c179e"
             ],
             [
              0.4444444444444444,
              "#bd3786"
             ],
             [
              0.5555555555555556,
              "#d8576b"
             ],
             [
              0.6666666666666666,
              "#ed7953"
             ],
             [
              0.7777777777777778,
              "#fb9f3a"
             ],
             [
              0.8888888888888888,
              "#fdca26"
             ],
             [
              1,
              "#f0f921"
             ]
            ],
            "type": "surface"
           }
          ],
          "table": [
           {
            "cells": {
             "fill": {
              "color": "#EBF0F8"
             },
             "line": {
              "color": "white"
             }
            },
            "header": {
             "fill": {
              "color": "#C8D4E3"
             },
             "line": {
              "color": "white"
             }
            },
            "type": "table"
           }
          ]
         },
         "layout": {
          "annotationdefaults": {
           "arrowcolor": "#2a3f5f",
           "arrowhead": 0,
           "arrowwidth": 1
          },
          "autotypenumbers": "strict",
          "coloraxis": {
           "colorbar": {
            "outlinewidth": 0,
            "ticks": ""
           }
          },
          "colorscale": {
           "diverging": [
            [
             0,
             "#8e0152"
            ],
            [
             0.1,
             "#c51b7d"
            ],
            [
             0.2,
             "#de77ae"
            ],
            [
             0.3,
             "#f1b6da"
            ],
            [
             0.4,
             "#fde0ef"
            ],
            [
             0.5,
             "#f7f7f7"
            ],
            [
             0.6,
             "#e6f5d0"
            ],
            [
             0.7,
             "#b8e186"
            ],
            [
             0.8,
             "#7fbc41"
            ],
            [
             0.9,
             "#4d9221"
            ],
            [
             1,
             "#276419"
            ]
           ],
           "sequential": [
            [
             0,
             "#0d0887"
            ],
            [
             0.1111111111111111,
             "#46039f"
            ],
            [
             0.2222222222222222,
             "#7201a8"
            ],
            [
             0.3333333333333333,
             "#9c179e"
            ],
            [
             0.4444444444444444,
             "#bd3786"
            ],
            [
             0.5555555555555556,
             "#d8576b"
            ],
            [
             0.6666666666666666,
             "#ed7953"
            ],
            [
             0.7777777777777778,
             "#fb9f3a"
            ],
            [
             0.8888888888888888,
             "#fdca26"
            ],
            [
             1,
             "#f0f921"
            ]
           ],
           "sequentialminus": [
            [
             0,
             "#0d0887"
            ],
            [
             0.1111111111111111,
             "#46039f"
            ],
            [
             0.2222222222222222,
             "#7201a8"
            ],
            [
             0.3333333333333333,
             "#9c179e"
            ],
            [
             0.4444444444444444,
             "#bd3786"
            ],
            [
             0.5555555555555556,
             "#d8576b"
            ],
            [
             0.6666666666666666,
             "#ed7953"
            ],
            [
             0.7777777777777778,
             "#fb9f3a"
            ],
            [
             0.8888888888888888,
             "#fdca26"
            ],
            [
             1,
             "#f0f921"
            ]
           ]
          },
          "colorway": [
           "#636efa",
           "#EF553B",
           "#00cc96",
           "#ab63fa",
           "#FFA15A",
           "#19d3f3",
           "#FF6692",
           "#B6E880",
           "#FF97FF",
           "#FECB52"
          ],
          "font": {
           "color": "#2a3f5f"
          },
          "geo": {
           "bgcolor": "white",
           "lakecolor": "white",
           "landcolor": "#E5ECF6",
           "showlakes": true,
           "showland": true,
           "subunitcolor": "white"
          },
          "hoverlabel": {
           "align": "left"
          },
          "hovermode": "closest",
          "mapbox": {
           "style": "light"
          },
          "paper_bgcolor": "white",
          "plot_bgcolor": "#E5ECF6",
          "polar": {
           "angularaxis": {
            "gridcolor": "white",
            "linecolor": "white",
            "ticks": ""
           },
           "bgcolor": "#E5ECF6",
           "radialaxis": {
            "gridcolor": "white",
            "linecolor": "white",
            "ticks": ""
           }
          },
          "scene": {
           "xaxis": {
            "backgroundcolor": "#E5ECF6",
            "gridcolor": "white",
            "gridwidth": 2,
            "linecolor": "white",
            "showbackground": true,
            "ticks": "",
            "zerolinecolor": "white"
           },
           "yaxis": {
            "backgroundcolor": "#E5ECF6",
            "gridcolor": "white",
            "gridwidth": 2,
            "linecolor": "white",
            "showbackground": true,
            "ticks": "",
            "zerolinecolor": "white"
           },
           "zaxis": {
            "backgroundcolor": "#E5ECF6",
            "gridcolor": "white",
            "gridwidth": 2,
            "linecolor": "white",
            "showbackground": true,
            "ticks": "",
            "zerolinecolor": "white"
           }
          },
          "shapedefaults": {
           "line": {
            "color": "#2a3f5f"
           }
          },
          "ternary": {
           "aaxis": {
            "gridcolor": "white",
            "linecolor": "white",
            "ticks": ""
           },
           "baxis": {
            "gridcolor": "white",
            "linecolor": "white",
            "ticks": ""
           },
           "bgcolor": "#E5ECF6",
           "caxis": {
            "gridcolor": "white",
            "linecolor": "white",
            "ticks": ""
           }
          },
          "title": {
           "x": 0.05
          },
          "xaxis": {
           "automargin": true,
           "gridcolor": "white",
           "linecolor": "white",
           "ticks": "",
           "title": {
            "standoff": 15
           },
           "zerolinecolor": "white",
           "zerolinewidth": 2
          },
          "yaxis": {
           "automargin": true,
           "gridcolor": "white",
           "linecolor": "white",
           "ticks": "",
           "title": {
            "standoff": 15
           },
           "zerolinecolor": "white",
           "zerolinewidth": 2
          }
         }
        },
        "xaxis": {
         "anchor": "y",
         "domain": [
          0,
          1
         ],
         "title": {
          "text": "Unemployment"
         }
        },
        "yaxis": {
         "anchor": "x",
         "domain": [
          0,
          1
         ],
         "title": {
          "text": "Weekly_Sales"
         }
        }
       }
      }
     },
     "metadata": {},
     "output_type": "display_data"
    }
   ],
   "source": [
    "fig = px.scatter(df, x='Unemployment', y='Weekly_Sales', trendline='ols')\n",
    "fig.show()"
   ]
  },
  {
   "cell_type": "markdown",
   "metadata": {},
   "source": [
    "- Unemployment corrélation positive : Très étonnant plus il y a de chomeur et plus l'impact sur le CA est positif. Pas forcement étonnant cela dit étant donné que les gens ne travaillent pas, les restaurants, repas de midi au travail tout autant de consommation qui se font habituellement via des services exterieur se retrouvent à se faire à la maison. Pour exemple le COVID, certe vu a une autre échelle, montre bien des modes de consommation différents avec des magasins qui ont réalisé de très gros CA pendant cette période."
   ]
  },
  {
   "cell_type": "markdown",
   "metadata": {},
   "source": [
    "# PREPROCESSING"
   ]
  },
  {
   "cell_type": "code",
   "execution_count": 1818,
   "metadata": {
    "colab": {
     "base_uri": "https://localhost:8080/"
    },
    "executionInfo": {
     "elapsed": 3,
     "status": "ok",
     "timestamp": 1743749646687,
     "user": {
      "displayName": "Gdleds Led",
      "userId": "04477971106892264481"
     },
     "user_tz": -120
    },
    "id": "72xglKywYSbq",
    "outputId": "9b4a7699-e511-47da-ca1d-9f10180e1969"
   },
   "outputs": [
    {
     "name": "stdout",
     "output_type": "stream",
     "text": [
      "     Store       Date  Holiday_Flag  Temperature  Fuel_Price         CPI  \\\n",
      "0        6 2011-02-18           0.0        59.61       3.045  214.777523   \n",
      "1       13 2011-03-25           0.0        42.38       3.435  128.616064   \n",
      "4        6 2010-05-28           0.0        78.89       2.759  212.412888   \n",
      "5        4 2010-05-28           0.0          NaN       2.756  126.160226   \n",
      "6       15 2011-06-03           0.0        69.80       4.069  134.855161   \n",
      "..     ...        ...           ...          ...         ...         ...   \n",
      "144      3 2012-10-19           0.0        73.44       3.594  226.968844   \n",
      "145     14 2010-06-18           0.0        72.62       2.780  182.442420   \n",
      "147     17 2010-06-11           0.0        57.14       2.841  126.111903   \n",
      "148      8 2011-08-12           0.0        86.05       3.638  219.007525   \n",
      "149     19 2012-04-20           0.0        55.20       4.170  137.923067   \n",
      "\n",
      "     Unemployment  year  month  day  \n",
      "0           6.858  2011      2   18  \n",
      "1           7.470  2011      3   25  \n",
      "4           7.092  2010      5   28  \n",
      "5           7.896  2010      5   28  \n",
      "6           7.658  2011      6    3  \n",
      "..            ...   ...    ...  ...  \n",
      "144         6.034  2012     10   19  \n",
      "145         8.899  2010      6   18  \n",
      "147           NaN  2010      6   11  \n",
      "148           NaN  2011      8   12  \n",
      "149         8.150  2012      4   20  \n",
      "\n",
      "[113 rows x 10 columns] 0    1572117.54\n",
      "1    1807545.43\n",
      "4    1644470.66\n",
      "5    1857533.70\n",
      "6     695396.19\n",
      "Name: Weekly_Sales, dtype: float64\n"
     ]
    }
   ],
   "source": [
    "\n",
    "target = \"Weekly_Sales\"\n",
    "X = df.drop(target, axis=1)\n",
    "Y = df.loc[:,target]\n",
    "\n",
    "print(X, Y.head())\n"
   ]
  },
  {
   "cell_type": "code",
   "execution_count": 1819,
   "metadata": {
    "executionInfo": {
     "elapsed": 1,
     "status": "ok",
     "timestamp": 1743749648669,
     "user": {
      "displayName": "Gdleds Led",
      "userId": "04477971106892264481"
     },
     "user_tz": -120
    },
    "id": "4hRIpLp3Y-Em"
   },
   "outputs": [],
   "source": [
    "X_train, X_test, Y_train, Y_test = train_test_split(X,Y, test_size=0.2, random_state=0)"
   ]
  },
  {
   "cell_type": "code",
   "execution_count": 1820,
   "metadata": {},
   "outputs": [
    {
     "data": {
      "text/plain": [
       "(90, 10)"
      ]
     },
     "execution_count": 1820,
     "metadata": {},
     "output_type": "execute_result"
    }
   ],
   "source": [
    "X_train.shape"
   ]
  },
  {
   "cell_type": "code",
   "execution_count": 1821,
   "metadata": {
    "executionInfo": {
     "elapsed": 2,
     "status": "ok",
     "timestamp": 1743749649630,
     "user": {
      "displayName": "Gdleds Led",
      "userId": "04477971106892264481"
     },
     "user_tz": -120
    },
    "id": "ynmapHtgaCdX"
   },
   "outputs": [],
   "source": [
    "numeric_features = ['Temperature','Fuel_Price', 'CPI','Unemployment', 'year', 'month', 'day']#[col for col in df.columns if col not in [target, 'Date', 'Holiday_Flag','Store']] #df.drop(target, axis=1).columns\n",
    "numeric_transformer = Pipeline(steps=[\n",
    "    ('imputer', SimpleImputer(strategy='mean')),\n",
    "    ('scaler', StandardScaler())\n",
    "])\n",
    "categorical_features= ['Store', 'Holiday_Flag']\n",
    "categorical_transformer = Pipeline(steps=[\n",
    "    ('imputer', SimpleImputer(strategy='most_frequent')),\n",
    "    ('encoder', OneHotEncoder(handle_unknown='ignore'))\n",
    "    ])"
   ]
  },
  {
   "cell_type": "code",
   "execution_count": 1822,
   "metadata": {
    "executionInfo": {
     "elapsed": 1,
     "status": "ok",
     "timestamp": 1743749651279,
     "user": {
      "displayName": "Gdleds Led",
      "userId": "04477971106892264481"
     },
     "user_tz": -120
    },
    "id": "yZlxRyXEaUcg"
   },
   "outputs": [],
   "source": [
    "preprocessor = ColumnTransformer(\n",
    "    transformers=[\n",
    "        ('num',  numeric_transformer, numeric_features),\n",
    "        ('cat', categorical_transformer, categorical_features)\n",
    "    ])\n",
    "\n",
    "model= LinearRegression()"
   ]
  },
  {
   "cell_type": "code",
   "execution_count": 1823,
   "metadata": {},
   "outputs": [
    {
     "name": "stdout",
     "output_type": "stream",
     "text": [
      "[[ 1.52824945e+00 -1.36747759e+00  9.86281451e-01 -9.67330408e-16\n",
      "  -1.05558715e+00 -2.76032796e-02  1.01737744e+00  0.00000000e+00\n",
      "   0.00000000e+00  0.00000000e+00  0.00000000e+00  0.00000000e+00\n",
      "   0.00000000e+00  0.00000000e+00  0.00000000e+00  1.00000000e+00\n",
      "   0.00000000e+00  0.00000000e+00  0.00000000e+00  0.00000000e+00\n",
      "   0.00000000e+00  0.00000000e+00  0.00000000e+00  0.00000000e+00\n",
      "   0.00000000e+00  0.00000000e+00  1.00000000e+00  0.00000000e+00]\n",
      " [-4.16373351e-01 -8.77527971e-01 -1.15855666e+00  2.08608974e+00\n",
      "  -1.05558715e+00  1.21454430e+00 -1.61052027e-01  0.00000000e+00\n",
      "   0.00000000e+00  0.00000000e+00  0.00000000e+00  0.00000000e+00\n",
      "   0.00000000e+00  0.00000000e+00  0.00000000e+00  0.00000000e+00\n",
      "   0.00000000e+00  0.00000000e+00  0.00000000e+00  0.00000000e+00\n",
      "   0.00000000e+00  0.00000000e+00  0.00000000e+00  1.00000000e+00\n",
      "   0.00000000e+00  0.00000000e+00  1.00000000e+00  0.00000000e+00]]\n",
      "done...........\n",
      "[[ 1.93531073e-01 -9.67028174e-16  9.25274539e-01 -7.05317688e-01\n",
      "  -1.05558715e+00  1.52508120e+00 -5.14580868e-01  0.00000000e+00\n",
      "   0.00000000e+00  0.00000000e+00  0.00000000e+00  1.00000000e+00\n",
      "   0.00000000e+00  0.00000000e+00  0.00000000e+00  0.00000000e+00\n",
      "   0.00000000e+00  0.00000000e+00  0.00000000e+00  0.00000000e+00\n",
      "   0.00000000e+00  0.00000000e+00  0.00000000e+00  0.00000000e+00\n",
      "   0.00000000e+00  0.00000000e+00  1.00000000e+00  0.00000000e+00]\n",
      " [ 3.33190347e-01  9.86458135e-01  1.15119843e+00 -7.36297022e-02\n",
      "   1.41201918e+00 -9.59213966e-01 -4.32090805e-02  1.00000000e+00\n",
      "   0.00000000e+00  0.00000000e+00  0.00000000e+00  0.00000000e+00\n",
      "   0.00000000e+00  0.00000000e+00  0.00000000e+00  0.00000000e+00\n",
      "   0.00000000e+00  0.00000000e+00  0.00000000e+00  0.00000000e+00\n",
      "   0.00000000e+00  0.00000000e+00  0.00000000e+00  0.00000000e+00\n",
      "   0.00000000e+00  0.00000000e+00  1.00000000e+00  0.00000000e+00]]\n"
     ]
    }
   ],
   "source": [
    "# Preprocessing sur le X_train\n",
    "X_train= preprocessor.fit_transform(X_train)\n",
    "print(X_train[0:2,:])\n",
    "print('done...........')\n",
    "# Preprocessing sur le X_test\n",
    "X_test = preprocessor.transform(X_test)\n",
    "print(X_test[0:2,:])"
   ]
  },
  {
   "cell_type": "code",
   "execution_count": 1824,
   "metadata": {
    "colab": {
     "base_uri": "https://localhost:8080/"
    },
    "executionInfo": {
     "elapsed": 6,
     "status": "ok",
     "timestamp": 1743749652044,
     "user": {
      "displayName": "Gdleds Led",
      "userId": "04477971106892264481"
     },
     "user_tz": -120
    },
    "id": "yNQfXwx1ZNOo",
    "outputId": "0a90fa41-a5cb-48a0-82e9-13e6b9b8c1aa"
   },
   "outputs": [
    {
     "data": {
      "text/html": [
       "<style>#sk-container-id-37 {\n",
       "  /* Definition of color scheme common for light and dark mode */\n",
       "  --sklearn-color-text: #000;\n",
       "  --sklearn-color-text-muted: #666;\n",
       "  --sklearn-color-line: gray;\n",
       "  /* Definition of color scheme for unfitted estimators */\n",
       "  --sklearn-color-unfitted-level-0: #fff5e6;\n",
       "  --sklearn-color-unfitted-level-1: #f6e4d2;\n",
       "  --sklearn-color-unfitted-level-2: #ffe0b3;\n",
       "  --sklearn-color-unfitted-level-3: chocolate;\n",
       "  /* Definition of color scheme for fitted estimators */\n",
       "  --sklearn-color-fitted-level-0: #f0f8ff;\n",
       "  --sklearn-color-fitted-level-1: #d4ebff;\n",
       "  --sklearn-color-fitted-level-2: #b3dbfd;\n",
       "  --sklearn-color-fitted-level-3: cornflowerblue;\n",
       "\n",
       "  /* Specific color for light theme */\n",
       "  --sklearn-color-text-on-default-background: var(--sg-text-color, var(--theme-code-foreground, var(--jp-content-font-color1, black)));\n",
       "  --sklearn-color-background: var(--sg-background-color, var(--theme-background, var(--jp-layout-color0, white)));\n",
       "  --sklearn-color-border-box: var(--sg-text-color, var(--theme-code-foreground, var(--jp-content-font-color1, black)));\n",
       "  --sklearn-color-icon: #696969;\n",
       "\n",
       "  @media (prefers-color-scheme: dark) {\n",
       "    /* Redefinition of color scheme for dark theme */\n",
       "    --sklearn-color-text-on-default-background: var(--sg-text-color, var(--theme-code-foreground, var(--jp-content-font-color1, white)));\n",
       "    --sklearn-color-background: var(--sg-background-color, var(--theme-background, var(--jp-layout-color0, #111)));\n",
       "    --sklearn-color-border-box: var(--sg-text-color, var(--theme-code-foreground, var(--jp-content-font-color1, white)));\n",
       "    --sklearn-color-icon: #878787;\n",
       "  }\n",
       "}\n",
       "\n",
       "#sk-container-id-37 {\n",
       "  color: var(--sklearn-color-text);\n",
       "}\n",
       "\n",
       "#sk-container-id-37 pre {\n",
       "  padding: 0;\n",
       "}\n",
       "\n",
       "#sk-container-id-37 input.sk-hidden--visually {\n",
       "  border: 0;\n",
       "  clip: rect(1px 1px 1px 1px);\n",
       "  clip: rect(1px, 1px, 1px, 1px);\n",
       "  height: 1px;\n",
       "  margin: -1px;\n",
       "  overflow: hidden;\n",
       "  padding: 0;\n",
       "  position: absolute;\n",
       "  width: 1px;\n",
       "}\n",
       "\n",
       "#sk-container-id-37 div.sk-dashed-wrapped {\n",
       "  border: 1px dashed var(--sklearn-color-line);\n",
       "  margin: 0 0.4em 0.5em 0.4em;\n",
       "  box-sizing: border-box;\n",
       "  padding-bottom: 0.4em;\n",
       "  background-color: var(--sklearn-color-background);\n",
       "}\n",
       "\n",
       "#sk-container-id-37 div.sk-container {\n",
       "  /* jupyter's `normalize.less` sets `[hidden] { display: none; }`\n",
       "     but bootstrap.min.css set `[hidden] { display: none !important; }`\n",
       "     so we also need the `!important` here to be able to override the\n",
       "     default hidden behavior on the sphinx rendered scikit-learn.org.\n",
       "     See: https://github.com/scikit-learn/scikit-learn/issues/21755 */\n",
       "  display: inline-block !important;\n",
       "  position: relative;\n",
       "}\n",
       "\n",
       "#sk-container-id-37 div.sk-text-repr-fallback {\n",
       "  display: none;\n",
       "}\n",
       "\n",
       "div.sk-parallel-item,\n",
       "div.sk-serial,\n",
       "div.sk-item {\n",
       "  /* draw centered vertical line to link estimators */\n",
       "  background-image: linear-gradient(var(--sklearn-color-text-on-default-background), var(--sklearn-color-text-on-default-background));\n",
       "  background-size: 2px 100%;\n",
       "  background-repeat: no-repeat;\n",
       "  background-position: center center;\n",
       "}\n",
       "\n",
       "/* Parallel-specific style estimator block */\n",
       "\n",
       "#sk-container-id-37 div.sk-parallel-item::after {\n",
       "  content: \"\";\n",
       "  width: 100%;\n",
       "  border-bottom: 2px solid var(--sklearn-color-text-on-default-background);\n",
       "  flex-grow: 1;\n",
       "}\n",
       "\n",
       "#sk-container-id-37 div.sk-parallel {\n",
       "  display: flex;\n",
       "  align-items: stretch;\n",
       "  justify-content: center;\n",
       "  background-color: var(--sklearn-color-background);\n",
       "  position: relative;\n",
       "}\n",
       "\n",
       "#sk-container-id-37 div.sk-parallel-item {\n",
       "  display: flex;\n",
       "  flex-direction: column;\n",
       "}\n",
       "\n",
       "#sk-container-id-37 div.sk-parallel-item:first-child::after {\n",
       "  align-self: flex-end;\n",
       "  width: 50%;\n",
       "}\n",
       "\n",
       "#sk-container-id-37 div.sk-parallel-item:last-child::after {\n",
       "  align-self: flex-start;\n",
       "  width: 50%;\n",
       "}\n",
       "\n",
       "#sk-container-id-37 div.sk-parallel-item:only-child::after {\n",
       "  width: 0;\n",
       "}\n",
       "\n",
       "/* Serial-specific style estimator block */\n",
       "\n",
       "#sk-container-id-37 div.sk-serial {\n",
       "  display: flex;\n",
       "  flex-direction: column;\n",
       "  align-items: center;\n",
       "  background-color: var(--sklearn-color-background);\n",
       "  padding-right: 1em;\n",
       "  padding-left: 1em;\n",
       "}\n",
       "\n",
       "\n",
       "/* Toggleable style: style used for estimator/Pipeline/ColumnTransformer box that is\n",
       "clickable and can be expanded/collapsed.\n",
       "- Pipeline and ColumnTransformer use this feature and define the default style\n",
       "- Estimators will overwrite some part of the style using the `sk-estimator` class\n",
       "*/\n",
       "\n",
       "/* Pipeline and ColumnTransformer style (default) */\n",
       "\n",
       "#sk-container-id-37 div.sk-toggleable {\n",
       "  /* Default theme specific background. It is overwritten whether we have a\n",
       "  specific estimator or a Pipeline/ColumnTransformer */\n",
       "  background-color: var(--sklearn-color-background);\n",
       "}\n",
       "\n",
       "/* Toggleable label */\n",
       "#sk-container-id-37 label.sk-toggleable__label {\n",
       "  cursor: pointer;\n",
       "  display: flex;\n",
       "  width: 100%;\n",
       "  margin-bottom: 0;\n",
       "  padding: 0.5em;\n",
       "  box-sizing: border-box;\n",
       "  text-align: center;\n",
       "  align-items: start;\n",
       "  justify-content: space-between;\n",
       "  gap: 0.5em;\n",
       "}\n",
       "\n",
       "#sk-container-id-37 label.sk-toggleable__label .caption {\n",
       "  font-size: 0.6rem;\n",
       "  font-weight: lighter;\n",
       "  color: var(--sklearn-color-text-muted);\n",
       "}\n",
       "\n",
       "#sk-container-id-37 label.sk-toggleable__label-arrow:before {\n",
       "  /* Arrow on the left of the label */\n",
       "  content: \"▸\";\n",
       "  float: left;\n",
       "  margin-right: 0.25em;\n",
       "  color: var(--sklearn-color-icon);\n",
       "}\n",
       "\n",
       "#sk-container-id-37 label.sk-toggleable__label-arrow:hover:before {\n",
       "  color: var(--sklearn-color-text);\n",
       "}\n",
       "\n",
       "/* Toggleable content - dropdown */\n",
       "\n",
       "#sk-container-id-37 div.sk-toggleable__content {\n",
       "  display: none;\n",
       "  text-align: left;\n",
       "  /* unfitted */\n",
       "  background-color: var(--sklearn-color-unfitted-level-0);\n",
       "}\n",
       "\n",
       "#sk-container-id-37 div.sk-toggleable__content.fitted {\n",
       "  /* fitted */\n",
       "  background-color: var(--sklearn-color-fitted-level-0);\n",
       "}\n",
       "\n",
       "#sk-container-id-37 div.sk-toggleable__content pre {\n",
       "  margin: 0.2em;\n",
       "  border-radius: 0.25em;\n",
       "  color: var(--sklearn-color-text);\n",
       "  /* unfitted */\n",
       "  background-color: var(--sklearn-color-unfitted-level-0);\n",
       "}\n",
       "\n",
       "#sk-container-id-37 div.sk-toggleable__content.fitted pre {\n",
       "  /* unfitted */\n",
       "  background-color: var(--sklearn-color-fitted-level-0);\n",
       "}\n",
       "\n",
       "#sk-container-id-37 input.sk-toggleable__control:checked~div.sk-toggleable__content {\n",
       "  /* Expand drop-down */\n",
       "  display: block;\n",
       "  width: 100%;\n",
       "  overflow: visible;\n",
       "}\n",
       "\n",
       "#sk-container-id-37 input.sk-toggleable__control:checked~label.sk-toggleable__label-arrow:before {\n",
       "  content: \"▾\";\n",
       "}\n",
       "\n",
       "/* Pipeline/ColumnTransformer-specific style */\n",
       "\n",
       "#sk-container-id-37 div.sk-label input.sk-toggleable__control:checked~label.sk-toggleable__label {\n",
       "  color: var(--sklearn-color-text);\n",
       "  background-color: var(--sklearn-color-unfitted-level-2);\n",
       "}\n",
       "\n",
       "#sk-container-id-37 div.sk-label.fitted input.sk-toggleable__control:checked~label.sk-toggleable__label {\n",
       "  background-color: var(--sklearn-color-fitted-level-2);\n",
       "}\n",
       "\n",
       "/* Estimator-specific style */\n",
       "\n",
       "/* Colorize estimator box */\n",
       "#sk-container-id-37 div.sk-estimator input.sk-toggleable__control:checked~label.sk-toggleable__label {\n",
       "  /* unfitted */\n",
       "  background-color: var(--sklearn-color-unfitted-level-2);\n",
       "}\n",
       "\n",
       "#sk-container-id-37 div.sk-estimator.fitted input.sk-toggleable__control:checked~label.sk-toggleable__label {\n",
       "  /* fitted */\n",
       "  background-color: var(--sklearn-color-fitted-level-2);\n",
       "}\n",
       "\n",
       "#sk-container-id-37 div.sk-label label.sk-toggleable__label,\n",
       "#sk-container-id-37 div.sk-label label {\n",
       "  /* The background is the default theme color */\n",
       "  color: var(--sklearn-color-text-on-default-background);\n",
       "}\n",
       "\n",
       "/* On hover, darken the color of the background */\n",
       "#sk-container-id-37 div.sk-label:hover label.sk-toggleable__label {\n",
       "  color: var(--sklearn-color-text);\n",
       "  background-color: var(--sklearn-color-unfitted-level-2);\n",
       "}\n",
       "\n",
       "/* Label box, darken color on hover, fitted */\n",
       "#sk-container-id-37 div.sk-label.fitted:hover label.sk-toggleable__label.fitted {\n",
       "  color: var(--sklearn-color-text);\n",
       "  background-color: var(--sklearn-color-fitted-level-2);\n",
       "}\n",
       "\n",
       "/* Estimator label */\n",
       "\n",
       "#sk-container-id-37 div.sk-label label {\n",
       "  font-family: monospace;\n",
       "  font-weight: bold;\n",
       "  display: inline-block;\n",
       "  line-height: 1.2em;\n",
       "}\n",
       "\n",
       "#sk-container-id-37 div.sk-label-container {\n",
       "  text-align: center;\n",
       "}\n",
       "\n",
       "/* Estimator-specific */\n",
       "#sk-container-id-37 div.sk-estimator {\n",
       "  font-family: monospace;\n",
       "  border: 1px dotted var(--sklearn-color-border-box);\n",
       "  border-radius: 0.25em;\n",
       "  box-sizing: border-box;\n",
       "  margin-bottom: 0.5em;\n",
       "  /* unfitted */\n",
       "  background-color: var(--sklearn-color-unfitted-level-0);\n",
       "}\n",
       "\n",
       "#sk-container-id-37 div.sk-estimator.fitted {\n",
       "  /* fitted */\n",
       "  background-color: var(--sklearn-color-fitted-level-0);\n",
       "}\n",
       "\n",
       "/* on hover */\n",
       "#sk-container-id-37 div.sk-estimator:hover {\n",
       "  /* unfitted */\n",
       "  background-color: var(--sklearn-color-unfitted-level-2);\n",
       "}\n",
       "\n",
       "#sk-container-id-37 div.sk-estimator.fitted:hover {\n",
       "  /* fitted */\n",
       "  background-color: var(--sklearn-color-fitted-level-2);\n",
       "}\n",
       "\n",
       "/* Specification for estimator info (e.g. \"i\" and \"?\") */\n",
       "\n",
       "/* Common style for \"i\" and \"?\" */\n",
       "\n",
       ".sk-estimator-doc-link,\n",
       "a:link.sk-estimator-doc-link,\n",
       "a:visited.sk-estimator-doc-link {\n",
       "  float: right;\n",
       "  font-size: smaller;\n",
       "  line-height: 1em;\n",
       "  font-family: monospace;\n",
       "  background-color: var(--sklearn-color-background);\n",
       "  border-radius: 1em;\n",
       "  height: 1em;\n",
       "  width: 1em;\n",
       "  text-decoration: none !important;\n",
       "  margin-left: 0.5em;\n",
       "  text-align: center;\n",
       "  /* unfitted */\n",
       "  border: var(--sklearn-color-unfitted-level-1) 1pt solid;\n",
       "  color: var(--sklearn-color-unfitted-level-1);\n",
       "}\n",
       "\n",
       ".sk-estimator-doc-link.fitted,\n",
       "a:link.sk-estimator-doc-link.fitted,\n",
       "a:visited.sk-estimator-doc-link.fitted {\n",
       "  /* fitted */\n",
       "  border: var(--sklearn-color-fitted-level-1) 1pt solid;\n",
       "  color: var(--sklearn-color-fitted-level-1);\n",
       "}\n",
       "\n",
       "/* On hover */\n",
       "div.sk-estimator:hover .sk-estimator-doc-link:hover,\n",
       ".sk-estimator-doc-link:hover,\n",
       "div.sk-label-container:hover .sk-estimator-doc-link:hover,\n",
       ".sk-estimator-doc-link:hover {\n",
       "  /* unfitted */\n",
       "  background-color: var(--sklearn-color-unfitted-level-3);\n",
       "  color: var(--sklearn-color-background);\n",
       "  text-decoration: none;\n",
       "}\n",
       "\n",
       "div.sk-estimator.fitted:hover .sk-estimator-doc-link.fitted:hover,\n",
       ".sk-estimator-doc-link.fitted:hover,\n",
       "div.sk-label-container:hover .sk-estimator-doc-link.fitted:hover,\n",
       ".sk-estimator-doc-link.fitted:hover {\n",
       "  /* fitted */\n",
       "  background-color: var(--sklearn-color-fitted-level-3);\n",
       "  color: var(--sklearn-color-background);\n",
       "  text-decoration: none;\n",
       "}\n",
       "\n",
       "/* Span, style for the box shown on hovering the info icon */\n",
       ".sk-estimator-doc-link span {\n",
       "  display: none;\n",
       "  z-index: 9999;\n",
       "  position: relative;\n",
       "  font-weight: normal;\n",
       "  right: .2ex;\n",
       "  padding: .5ex;\n",
       "  margin: .5ex;\n",
       "  width: min-content;\n",
       "  min-width: 20ex;\n",
       "  max-width: 50ex;\n",
       "  color: var(--sklearn-color-text);\n",
       "  box-shadow: 2pt 2pt 4pt #999;\n",
       "  /* unfitted */\n",
       "  background: var(--sklearn-color-unfitted-level-0);\n",
       "  border: .5pt solid var(--sklearn-color-unfitted-level-3);\n",
       "}\n",
       "\n",
       ".sk-estimator-doc-link.fitted span {\n",
       "  /* fitted */\n",
       "  background: var(--sklearn-color-fitted-level-0);\n",
       "  border: var(--sklearn-color-fitted-level-3);\n",
       "}\n",
       "\n",
       ".sk-estimator-doc-link:hover span {\n",
       "  display: block;\n",
       "}\n",
       "\n",
       "/* \"?\"-specific style due to the `<a>` HTML tag */\n",
       "\n",
       "#sk-container-id-37 a.estimator_doc_link {\n",
       "  float: right;\n",
       "  font-size: 1rem;\n",
       "  line-height: 1em;\n",
       "  font-family: monospace;\n",
       "  background-color: var(--sklearn-color-background);\n",
       "  border-radius: 1rem;\n",
       "  height: 1rem;\n",
       "  width: 1rem;\n",
       "  text-decoration: none;\n",
       "  /* unfitted */\n",
       "  color: var(--sklearn-color-unfitted-level-1);\n",
       "  border: var(--sklearn-color-unfitted-level-1) 1pt solid;\n",
       "}\n",
       "\n",
       "#sk-container-id-37 a.estimator_doc_link.fitted {\n",
       "  /* fitted */\n",
       "  border: var(--sklearn-color-fitted-level-1) 1pt solid;\n",
       "  color: var(--sklearn-color-fitted-level-1);\n",
       "}\n",
       "\n",
       "/* On hover */\n",
       "#sk-container-id-37 a.estimator_doc_link:hover {\n",
       "  /* unfitted */\n",
       "  background-color: var(--sklearn-color-unfitted-level-3);\n",
       "  color: var(--sklearn-color-background);\n",
       "  text-decoration: none;\n",
       "}\n",
       "\n",
       "#sk-container-id-37 a.estimator_doc_link.fitted:hover {\n",
       "  /* fitted */\n",
       "  background-color: var(--sklearn-color-fitted-level-3);\n",
       "}\n",
       "\n",
       ".estimator-table summary {\n",
       "    padding: .5rem;\n",
       "    font-family: monospace;\n",
       "    cursor: pointer;\n",
       "}\n",
       "\n",
       ".estimator-table details[open] {\n",
       "    padding-left: 0.1rem;\n",
       "    padding-right: 0.1rem;\n",
       "    padding-bottom: 0.3rem;\n",
       "}\n",
       "\n",
       ".estimator-table .parameters-table {\n",
       "    margin-left: auto !important;\n",
       "    margin-right: auto !important;\n",
       "}\n",
       "\n",
       ".estimator-table .parameters-table tr:nth-child(odd) {\n",
       "    background-color: #fff;\n",
       "}\n",
       "\n",
       ".estimator-table .parameters-table tr:nth-child(even) {\n",
       "    background-color: #f6f6f6;\n",
       "}\n",
       "\n",
       ".estimator-table .parameters-table tr:hover {\n",
       "    background-color: #e0e0e0;\n",
       "}\n",
       "\n",
       ".estimator-table table td {\n",
       "    border: 1px solid rgba(106, 105, 104, 0.232);\n",
       "}\n",
       "\n",
       ".user-set td {\n",
       "    color:rgb(255, 94, 0);\n",
       "    text-align: left;\n",
       "}\n",
       "\n",
       ".user-set td.value pre {\n",
       "    color:rgb(255, 94, 0) !important;\n",
       "    background-color: transparent !important;\n",
       "}\n",
       "\n",
       ".default td {\n",
       "    color: black;\n",
       "    text-align: left;\n",
       "}\n",
       "\n",
       ".user-set td i,\n",
       ".default td i {\n",
       "    color: black;\n",
       "}\n",
       "\n",
       ".copy-paste-icon {\n",
       "    background-image: url(data:image/svg+xml;base64,PHN2ZyB4bWxucz0iaHR0cDovL3d3dy53My5vcmcvMjAwMC9zdmciIHZpZXdCb3g9IjAgMCA0NDggNTEyIj48IS0tIUZvbnQgQXdlc29tZSBGcmVlIDYuNy4yIGJ5IEBmb250YXdlc29tZSAtIGh0dHBzOi8vZm9udGF3ZXNvbWUuY29tIExpY2Vuc2UgLSBodHRwczovL2ZvbnRhd2Vzb21lLmNvbS9saWNlbnNlL2ZyZWUgQ29weXJpZ2h0IDIwMjUgRm9udGljb25zLCBJbmMuLS0+PHBhdGggZD0iTTIwOCAwTDMzMi4xIDBjMTIuNyAwIDI0LjkgNS4xIDMzLjkgMTQuMWw2Ny45IDY3LjljOSA5IDE0LjEgMjEuMiAxNC4xIDMzLjlMNDQ4IDMzNmMwIDI2LjUtMjEuNSA0OC00OCA0OGwtMTkyIDBjLTI2LjUgMC00OC0yMS41LTQ4LTQ4bDAtMjg4YzAtMjYuNSAyMS41LTQ4IDQ4LTQ4ek00OCAxMjhsODAgMCAwIDY0LTY0IDAgMCAyNTYgMTkyIDAgMC0zMiA2NCAwIDAgNDhjMCAyNi41LTIxLjUgNDgtNDggNDhMNDggNTEyYy0yNi41IDAtNDgtMjEuNS00OC00OEwwIDE3NmMwLTI2LjUgMjEuNS00OCA0OC00OHoiLz48L3N2Zz4=);\n",
       "    background-repeat: no-repeat;\n",
       "    background-size: 14px 14px;\n",
       "    background-position: 0;\n",
       "    display: inline-block;\n",
       "    width: 14px;\n",
       "    height: 14px;\n",
       "    cursor: pointer;\n",
       "}\n",
       "</style><body><div id=\"sk-container-id-37\" class=\"sk-top-container\"><div class=\"sk-text-repr-fallback\"><pre>LinearRegression()</pre><b>In a Jupyter environment, please rerun this cell to show the HTML representation or trust the notebook. <br />On GitHub, the HTML representation is unable to render, please try loading this page with nbviewer.org.</b></div><div class=\"sk-container\" hidden><div class=\"sk-item\"><div class=\"sk-estimator fitted sk-toggleable\"><input class=\"sk-toggleable__control sk-hidden--visually\" id=\"sk-estimator-id-37\" type=\"checkbox\" checked><label for=\"sk-estimator-id-37\" class=\"sk-toggleable__label fitted sk-toggleable__label-arrow\"><div><div>LinearRegression</div></div><div><a class=\"sk-estimator-doc-link fitted\" rel=\"noreferrer\" target=\"_blank\" href=\"https://scikit-learn.org/1.7/modules/generated/sklearn.linear_model.LinearRegression.html\">?<span>Documentation for LinearRegression</span></a><span class=\"sk-estimator-doc-link fitted\">i<span>Fitted</span></span></div></label><div class=\"sk-toggleable__content fitted\" data-param-prefix=\"\">\n",
       "        <div class=\"estimator-table\">\n",
       "            <details>\n",
       "                <summary>Parameters</summary>\n",
       "                <table class=\"parameters-table\">\n",
       "                  <tbody>\n",
       "                    \n",
       "        <tr class=\"default\">\n",
       "            <td><i class=\"copy-paste-icon\"\n",
       "                 onclick=\"copyToClipboard('fit_intercept',\n",
       "                          this.parentElement.nextElementSibling)\"\n",
       "            ></i></td>\n",
       "            <td class=\"param\">fit_intercept&nbsp;</td>\n",
       "            <td class=\"value\">True</td>\n",
       "        </tr>\n",
       "    \n",
       "\n",
       "        <tr class=\"default\">\n",
       "            <td><i class=\"copy-paste-icon\"\n",
       "                 onclick=\"copyToClipboard('copy_X',\n",
       "                          this.parentElement.nextElementSibling)\"\n",
       "            ></i></td>\n",
       "            <td class=\"param\">copy_X&nbsp;</td>\n",
       "            <td class=\"value\">True</td>\n",
       "        </tr>\n",
       "    \n",
       "\n",
       "        <tr class=\"default\">\n",
       "            <td><i class=\"copy-paste-icon\"\n",
       "                 onclick=\"copyToClipboard('tol',\n",
       "                          this.parentElement.nextElementSibling)\"\n",
       "            ></i></td>\n",
       "            <td class=\"param\">tol&nbsp;</td>\n",
       "            <td class=\"value\">1e-06</td>\n",
       "        </tr>\n",
       "    \n",
       "\n",
       "        <tr class=\"default\">\n",
       "            <td><i class=\"copy-paste-icon\"\n",
       "                 onclick=\"copyToClipboard('n_jobs',\n",
       "                          this.parentElement.nextElementSibling)\"\n",
       "            ></i></td>\n",
       "            <td class=\"param\">n_jobs&nbsp;</td>\n",
       "            <td class=\"value\">None</td>\n",
       "        </tr>\n",
       "    \n",
       "\n",
       "        <tr class=\"default\">\n",
       "            <td><i class=\"copy-paste-icon\"\n",
       "                 onclick=\"copyToClipboard('positive',\n",
       "                          this.parentElement.nextElementSibling)\"\n",
       "            ></i></td>\n",
       "            <td class=\"param\">positive&nbsp;</td>\n",
       "            <td class=\"value\">False</td>\n",
       "        </tr>\n",
       "    \n",
       "                  </tbody>\n",
       "                </table>\n",
       "            </details>\n",
       "        </div>\n",
       "    </div></div></div></div></div><script>function copyToClipboard(text, element) {\n",
       "    // Get the parameter prefix from the closest toggleable content\n",
       "    const toggleableContent = element.closest('.sk-toggleable__content');\n",
       "    const paramPrefix = toggleableContent ? toggleableContent.dataset.paramPrefix : '';\n",
       "    const fullParamName = paramPrefix ? `${paramPrefix}${text}` : text;\n",
       "\n",
       "    const originalStyle = element.style;\n",
       "    const computedStyle = window.getComputedStyle(element);\n",
       "    const originalWidth = computedStyle.width;\n",
       "    const originalHTML = element.innerHTML.replace('Copied!', '');\n",
       "\n",
       "    navigator.clipboard.writeText(fullParamName)\n",
       "        .then(() => {\n",
       "            element.style.width = originalWidth;\n",
       "            element.style.color = 'green';\n",
       "            element.innerHTML = \"Copied!\";\n",
       "\n",
       "            setTimeout(() => {\n",
       "                element.innerHTML = originalHTML;\n",
       "                element.style = originalStyle;\n",
       "            }, 2000);\n",
       "        })\n",
       "        .catch(err => {\n",
       "            console.error('Failed to copy:', err);\n",
       "            element.style.color = 'red';\n",
       "            element.innerHTML = \"Failed!\";\n",
       "            setTimeout(() => {\n",
       "                element.innerHTML = originalHTML;\n",
       "                element.style = originalStyle;\n",
       "            }, 2000);\n",
       "        });\n",
       "    return false;\n",
       "}\n",
       "\n",
       "document.querySelectorAll('.fa-regular.fa-copy').forEach(function(element) {\n",
       "    const toggleableContent = element.closest('.sk-toggleable__content');\n",
       "    const paramPrefix = toggleableContent ? toggleableContent.dataset.paramPrefix : '';\n",
       "    const paramName = element.parentElement.nextElementSibling.textContent.trim();\n",
       "    const fullParamName = paramPrefix ? `${paramPrefix}${paramName}` : paramName;\n",
       "\n",
       "    element.setAttribute('title', fullParamName);\n",
       "});\n",
       "</script></body>"
      ],
      "text/plain": [
       "LinearRegression()"
      ]
     },
     "execution_count": 1824,
     "metadata": {},
     "output_type": "execute_result"
    }
   ],
   "source": [
    "model.fit(X_train, Y_train)\n"
   ]
  },
  {
   "cell_type": "code",
   "execution_count": 1825,
   "metadata": {},
   "outputs": [],
   "source": [
    "Y_train_pred = model.predict(X_train)\n",
    "Y_test_pred = model.predict(X_test)"
   ]
  },
  {
   "cell_type": "code",
   "execution_count": 1826,
   "metadata": {
    "colab": {
     "base_uri": "https://localhost:8080/"
    },
    "executionInfo": {
     "elapsed": 8,
     "status": "ok",
     "timestamp": 1743749663906,
     "user": {
      "displayName": "Gdleds Led",
      "userId": "04477971106892264481"
     },
     "user_tz": -120
    },
    "id": "vgHmIImHMqXb",
    "outputId": "bc041c87-cebf-43e0-b13f-b918064cbe8d"
   },
   "outputs": [
    {
     "name": "stdout",
     "output_type": "stream",
     "text": [
      "R2score on training set :  0.9727237843593463\n",
      "R2score on test set :  0.9396190073986592\n"
     ]
    }
   ],
   "source": [
    "# R2 Score \n",
    "print(\"R2score on training set : \", r2_score(Y_train, Y_train_pred))\n",
    "print(\"R2score on test set : \", r2_score(Y_test, Y_test_pred))"
   ]
  },
  {
   "cell_type": "code",
   "execution_count": 1827,
   "metadata": {},
   "outputs": [
    {
     "name": "stdout",
     "output_type": "stream",
     "text": [
      "MAE on training set :  83585.16277908167\n",
      "MAE on test set :  125016.44563683988\n"
     ]
    }
   ],
   "source": [
    "# MAE\n",
    "print(\"MAE on training set : \", mean_absolute_error(Y_train, Y_train_pred))\n",
    "print(\"MAE on test set : \", mean_absolute_error(Y_test, Y_test_pred))"
   ]
  },
  {
   "cell_type": "markdown",
   "metadata": {},
   "source": [
    "# Régularisation et optimisation des hyperparamètres:\n",
    "####     > Ridge = Minimise la MSE en ajustant une pénalité sur les coefficients, tout en conservant toutes les variables (aucun coefficient n'est nul)\n",
    "####      > Lasso = Minimise la MSE en ajustant une pénalité sur les coefficients, jusqu'à supprimer certaines variables (certains coefficients deviennent nuls)."
   ]
  },
  {
   "cell_type": "code",
   "execution_count": null,
   "metadata": {},
   "outputs": [
    {
     "name": "stdout",
     "output_type": "stream",
     "text": [
      "R2score on training set : 0.93944472421982\n",
      "R2score on test set :  0.9239670316161102\n"
     ]
    }
   ],
   "source": [
    "# Modèle Ridge simple\n",
    "regressor_ridge = Ridge()\n",
    "regressor_ridge.fit(X_train, Y_train)\n",
    "print('R2score on training set :', regressor_ridge.score(X_train,Y_train))\n",
    "print('R2score on test set : ', regressor_ridge.score(X_test, Y_test))"
   ]
  },
  {
   "cell_type": "code",
   "execution_count": null,
   "metadata": {},
   "outputs": [
    {
     "name": "stdout",
     "output_type": "stream",
     "text": [
      "R2score on training set : 0.5889770805776278\n",
      "R2score on test set :  0.5916070839574004\n"
     ]
    }
   ],
   "source": [
    "# Modifions l'alpha du Ridge sur 2 nouveaux fit afin de voir quel resultat nous avons\n",
    "regressor_ridge1 = Ridge(alpha=10)\n",
    "regressor_ridge1.fit(X_train, Y_train)\n",
    "print('R2score on training set :', regressor_ridge1.score(X_train,Y_train))\n",
    "print('R2score on test set : ', regressor_ridge1.score(X_test, Y_test))"
   ]
  },
  {
   "cell_type": "code",
   "execution_count": 1830,
   "metadata": {},
   "outputs": [
    {
     "name": "stdout",
     "output_type": "stream",
     "text": [
      "R2score on training set : 0.0314966140883689\n",
      "R2score on test set :  0.021687658914468222\n"
     ]
    }
   ],
   "source": [
    "regressor_ridge2 = Ridge(alpha=1000)\n",
    "regressor_ridge2.fit(X_train, Y_train)\n",
    "print('R2score on training set :', regressor_ridge2.score(X_train,Y_train))\n",
    "print('R2score on test set : ', regressor_ridge2.score(X_test, Y_test))"
   ]
  },
  {
   "cell_type": "code",
   "execution_count": 1831,
   "metadata": {},
   "outputs": [],
   "source": [
    "# Récupération des noms des features\n",
    "feature_names = preprocessor.get_feature_names_out()"
   ]
  },
  {
   "cell_type": "code",
   "execution_count": 1832,
   "metadata": {},
   "outputs": [
    {
     "data": {
      "text/html": [
       "<div>\n",
       "<style scoped>\n",
       "    .dataframe tbody tr th:only-of-type {\n",
       "        vertical-align: middle;\n",
       "    }\n",
       "\n",
       "    .dataframe tbody tr th {\n",
       "        vertical-align: top;\n",
       "    }\n",
       "\n",
       "    .dataframe thead th {\n",
       "        text-align: right;\n",
       "    }\n",
       "</style>\n",
       "<table border=\"1\" class=\"dataframe\">\n",
       "  <thead>\n",
       "    <tr style=\"text-align: right;\">\n",
       "      <th></th>\n",
       "      <th>Features</th>\n",
       "      <th>Ridge</th>\n",
       "      <th>Ridge1</th>\n",
       "      <th>Ridge2</th>\n",
       "    </tr>\n",
       "  </thead>\n",
       "  <tbody>\n",
       "    <tr>\n",
       "      <th>0</th>\n",
       "      <td>num__Temperature</td>\n",
       "      <td>-38883.839378</td>\n",
       "      <td>-66582.586837</td>\n",
       "      <td>-9513.840956</td>\n",
       "    </tr>\n",
       "    <tr>\n",
       "      <th>1</th>\n",
       "      <td>num__Fuel_Price</td>\n",
       "      <td>-27777.076897</td>\n",
       "      <td>3524.944583</td>\n",
       "      <td>2029.721889</td>\n",
       "    </tr>\n",
       "    <tr>\n",
       "      <th>2</th>\n",
       "      <td>num__CPI</td>\n",
       "      <td>-147906.524503</td>\n",
       "      <td>-140210.285654</td>\n",
       "      <td>-15541.903863</td>\n",
       "    </tr>\n",
       "    <tr>\n",
       "      <th>3</th>\n",
       "      <td>num__Unemployment</td>\n",
       "      <td>-3226.071456</td>\n",
       "      <td>37312.789704</td>\n",
       "      <td>6560.630462</td>\n",
       "    </tr>\n",
       "    <tr>\n",
       "      <th>4</th>\n",
       "      <td>num__year</td>\n",
       "      <td>9998.363457</td>\n",
       "      <td>-19635.783190</td>\n",
       "      <td>-2222.298735</td>\n",
       "    </tr>\n",
       "    <tr>\n",
       "      <th>5</th>\n",
       "      <td>num__month</td>\n",
       "      <td>67409.386560</td>\n",
       "      <td>41049.693191</td>\n",
       "      <td>781.792366</td>\n",
       "    </tr>\n",
       "    <tr>\n",
       "      <th>6</th>\n",
       "      <td>num__day</td>\n",
       "      <td>-32635.456565</td>\n",
       "      <td>-13224.316041</td>\n",
       "      <td>-1751.546013</td>\n",
       "    </tr>\n",
       "    <tr>\n",
       "      <th>7</th>\n",
       "      <td>cat__Store_1.0</td>\n",
       "      <td>359638.366249</td>\n",
       "      <td>163336.201494</td>\n",
       "      <td>1824.104985</td>\n",
       "    </tr>\n",
       "    <tr>\n",
       "      <th>8</th>\n",
       "      <td>cat__Store_2.0</td>\n",
       "      <td>650358.714480</td>\n",
       "      <td>255439.993087</td>\n",
       "      <td>3355.829754</td>\n",
       "    </tr>\n",
       "    <tr>\n",
       "      <th>9</th>\n",
       "      <td>cat__Store_3.0</td>\n",
       "      <td>-661713.402504</td>\n",
       "      <td>-331241.713230</td>\n",
       "      <td>-7706.440446</td>\n",
       "    </tr>\n",
       "    <tr>\n",
       "      <th>10</th>\n",
       "      <td>cat__Store_4.0</td>\n",
       "      <td>571311.294814</td>\n",
       "      <td>225389.476826</td>\n",
       "      <td>3542.114408</td>\n",
       "    </tr>\n",
       "    <tr>\n",
       "      <th>11</th>\n",
       "      <td>cat__Store_5.0</td>\n",
       "      <td>-653003.129709</td>\n",
       "      <td>-212312.873752</td>\n",
       "      <td>-3823.522178</td>\n",
       "    </tr>\n",
       "    <tr>\n",
       "      <th>12</th>\n",
       "      <td>cat__Store_6.0</td>\n",
       "      <td>411911.468151</td>\n",
       "      <td>141038.652698</td>\n",
       "      <td>1184.581303</td>\n",
       "    </tr>\n",
       "    <tr>\n",
       "      <th>13</th>\n",
       "      <td>cat__Store_7.0</td>\n",
       "      <td>-585073.649221</td>\n",
       "      <td>-266894.511292</td>\n",
       "      <td>-3853.086535</td>\n",
       "    </tr>\n",
       "    <tr>\n",
       "      <th>14</th>\n",
       "      <td>cat__Store_8.0</td>\n",
       "      <td>-175965.638376</td>\n",
       "      <td>-59157.116630</td>\n",
       "      <td>-1454.031910</td>\n",
       "    </tr>\n",
       "    <tr>\n",
       "      <th>15</th>\n",
       "      <td>cat__Store_9.0</td>\n",
       "      <td>-486272.550873</td>\n",
       "      <td>-138303.536466</td>\n",
       "      <td>-2260.907665</td>\n",
       "    </tr>\n",
       "    <tr>\n",
       "      <th>16</th>\n",
       "      <td>cat__Store_10.0</td>\n",
       "      <td>335311.805492</td>\n",
       "      <td>75711.569050</td>\n",
       "      <td>1140.528755</td>\n",
       "    </tr>\n",
       "    <tr>\n",
       "      <th>17</th>\n",
       "      <td>cat__Store_11.0</td>\n",
       "      <td>261306.789190</td>\n",
       "      <td>49815.873836</td>\n",
       "      <td>490.069897</td>\n",
       "    </tr>\n",
       "    <tr>\n",
       "      <th>18</th>\n",
       "      <td>cat__Store_13.0</td>\n",
       "      <td>468553.884979</td>\n",
       "      <td>245757.945690</td>\n",
       "      <td>5491.356560</td>\n",
       "    </tr>\n",
       "    <tr>\n",
       "      <th>19</th>\n",
       "      <td>cat__Store_14.0</td>\n",
       "      <td>771956.094206</td>\n",
       "      <td>343739.947756</td>\n",
       "      <td>6322.153355</td>\n",
       "    </tr>\n",
       "    <tr>\n",
       "      <th>20</th>\n",
       "      <td>cat__Store_15.0</td>\n",
       "      <td>-546116.827217</td>\n",
       "      <td>-178975.332640</td>\n",
       "      <td>-1991.219357</td>\n",
       "    </tr>\n",
       "    <tr>\n",
       "      <th>21</th>\n",
       "      <td>cat__Store_16.0</td>\n",
       "      <td>-440729.619054</td>\n",
       "      <td>-104808.320516</td>\n",
       "      <td>-1525.679308</td>\n",
       "    </tr>\n",
       "    <tr>\n",
       "      <th>22</th>\n",
       "      <td>cat__Store_17.0</td>\n",
       "      <td>-589032.330668</td>\n",
       "      <td>-219870.502358</td>\n",
       "      <td>-2321.676270</td>\n",
       "    </tr>\n",
       "    <tr>\n",
       "      <th>23</th>\n",
       "      <td>cat__Store_18.0</td>\n",
       "      <td>-294113.273688</td>\n",
       "      <td>-140388.532954</td>\n",
       "      <td>-1251.769405</td>\n",
       "    </tr>\n",
       "    <tr>\n",
       "      <th>24</th>\n",
       "      <td>cat__Store_19.0</td>\n",
       "      <td>2205.306867</td>\n",
       "      <td>-23990.568432</td>\n",
       "      <td>711.174812</td>\n",
       "    </tr>\n",
       "    <tr>\n",
       "      <th>25</th>\n",
       "      <td>cat__Store_20.0</td>\n",
       "      <td>599466.696883</td>\n",
       "      <td>175713.347833</td>\n",
       "      <td>2126.419245</td>\n",
       "    </tr>\n",
       "    <tr>\n",
       "      <th>26</th>\n",
       "      <td>cat__Holiday_Flag_0.0</td>\n",
       "      <td>-26755.501802</td>\n",
       "      <td>-21993.444134</td>\n",
       "      <td>-324.174174</td>\n",
       "    </tr>\n",
       "    <tr>\n",
       "      <th>27</th>\n",
       "      <td>cat__Holiday_Flag_1.0</td>\n",
       "      <td>26755.501802</td>\n",
       "      <td>21993.444134</td>\n",
       "      <td>324.174174</td>\n",
       "    </tr>\n",
       "  </tbody>\n",
       "</table>\n",
       "</div>"
      ],
      "text/plain": [
       "                 Features          Ridge         Ridge1        Ridge2\n",
       "0        num__Temperature  -38883.839378  -66582.586837  -9513.840956\n",
       "1         num__Fuel_Price  -27777.076897    3524.944583   2029.721889\n",
       "2                num__CPI -147906.524503 -140210.285654 -15541.903863\n",
       "3       num__Unemployment   -3226.071456   37312.789704   6560.630462\n",
       "4               num__year    9998.363457  -19635.783190  -2222.298735\n",
       "5              num__month   67409.386560   41049.693191    781.792366\n",
       "6                num__day  -32635.456565  -13224.316041  -1751.546013\n",
       "7          cat__Store_1.0  359638.366249  163336.201494   1824.104985\n",
       "8          cat__Store_2.0  650358.714480  255439.993087   3355.829754\n",
       "9          cat__Store_3.0 -661713.402504 -331241.713230  -7706.440446\n",
       "10         cat__Store_4.0  571311.294814  225389.476826   3542.114408\n",
       "11         cat__Store_5.0 -653003.129709 -212312.873752  -3823.522178\n",
       "12         cat__Store_6.0  411911.468151  141038.652698   1184.581303\n",
       "13         cat__Store_7.0 -585073.649221 -266894.511292  -3853.086535\n",
       "14         cat__Store_8.0 -175965.638376  -59157.116630  -1454.031910\n",
       "15         cat__Store_9.0 -486272.550873 -138303.536466  -2260.907665\n",
       "16        cat__Store_10.0  335311.805492   75711.569050   1140.528755\n",
       "17        cat__Store_11.0  261306.789190   49815.873836    490.069897\n",
       "18        cat__Store_13.0  468553.884979  245757.945690   5491.356560\n",
       "19        cat__Store_14.0  771956.094206  343739.947756   6322.153355\n",
       "20        cat__Store_15.0 -546116.827217 -178975.332640  -1991.219357\n",
       "21        cat__Store_16.0 -440729.619054 -104808.320516  -1525.679308\n",
       "22        cat__Store_17.0 -589032.330668 -219870.502358  -2321.676270\n",
       "23        cat__Store_18.0 -294113.273688 -140388.532954  -1251.769405\n",
       "24        cat__Store_19.0    2205.306867  -23990.568432    711.174812\n",
       "25        cat__Store_20.0  599466.696883  175713.347833   2126.419245\n",
       "26  cat__Holiday_Flag_0.0  -26755.501802  -21993.444134   -324.174174\n",
       "27  cat__Holiday_Flag_1.0   26755.501802   21993.444134    324.174174"
      ]
     },
     "execution_count": 1832,
     "metadata": {},
     "output_type": "execute_result"
    }
   ],
   "source": [
    "# Création d'un DataFrame reprennant nos coef pour différents alpha\n",
    "data_dict = {\n",
    "    'Features': feature_names,\n",
    "    'Ridge': regressor_ridge.coef_,\n",
    "    'Ridge1': regressor_ridge1.coef_,\n",
    "    'Ridge2': regressor_ridge2.coef_\n",
    "            }\n",
    "recap_ridge = pd.DataFrame(data=data_dict)\n",
    "recap_ridge"
   ]
  },
  {
   "cell_type": "markdown",
   "metadata": {},
   "source": [
    "Ridge ne fait pas de sélection de variables (contrairement au Lasso) → il ne met jamais exactement un coefficient à 0, mais réduit tous les coefficients vers zéro quand alpha augmente. Il applique une réduction uniforme de l’importance des features.\n",
    "\n",
    "Plus l'alpha augmente et plus notre modèle devient moins performant \n"
   ]
  },
  {
   "cell_type": "code",
   "execution_count": 1833,
   "metadata": {},
   "outputs": [
    {
     "name": "stdout",
     "output_type": "stream",
     "text": [
      "R2score on training set : 0.9727237827081738\n",
      "R2score on test set :  0.939624170537073\n"
     ]
    }
   ],
   "source": [
    "# Même process que Ridge avec 3 alpha différents et création du Dataframe Coef\n",
    "regressor_lasso = Lasso(max_iter=100000)\n",
    "regressor_lasso.fit(X_train, Y_train)\n",
    "print('R2score on training set :', regressor_lasso.score(X_train,Y_train))\n",
    "print('R2score on test set : ', regressor_lasso.score(X_test, Y_test))"
   ]
  },
  {
   "cell_type": "code",
   "execution_count": 1834,
   "metadata": {},
   "outputs": [
    {
     "name": "stdout",
     "output_type": "stream",
     "text": [
      "R2score on training set : 0.9727237431566603\n",
      "R2score on test set :  0.9396458780475373\n"
     ]
    }
   ],
   "source": [
    "regressor_lasso1 = Lasso(alpha=5, max_iter=1000000)\n",
    "regressor_lasso1.fit(X_train, Y_train)\n",
    "print('R2score on training set :', regressor_lasso1.score(X_train,Y_train))\n",
    "print('R2score on test set : ', regressor_lasso1.score(X_test, Y_test))"
   ]
  },
  {
   "cell_type": "code",
   "execution_count": 1835,
   "metadata": {},
   "outputs": [
    {
     "name": "stdout",
     "output_type": "stream",
     "text": [
      "R2score on training set : 0.9727236199497183\n",
      "R2score on test set :  0.9396758785782592\n"
     ]
    }
   ],
   "source": [
    "regressor_lasso2 = Lasso(alpha=10,  max_iter=100000)\n",
    "regressor_lasso2.fit(X_train, Y_train)\n",
    "print('R2score on training set :', regressor_lasso2.score(X_train,Y_train))\n",
    "print('R2score on test set : ', regressor_lasso2.score(X_test, Y_test))"
   ]
  },
  {
   "cell_type": "code",
   "execution_count": 1836,
   "metadata": {},
   "outputs": [
    {
     "data": {
      "text/html": [
       "<div>\n",
       "<style scoped>\n",
       "    .dataframe tbody tr th:only-of-type {\n",
       "        vertical-align: middle;\n",
       "    }\n",
       "\n",
       "    .dataframe tbody tr th {\n",
       "        vertical-align: top;\n",
       "    }\n",
       "\n",
       "    .dataframe thead th {\n",
       "        text-align: right;\n",
       "    }\n",
       "</style>\n",
       "<table border=\"1\" class=\"dataframe\">\n",
       "  <thead>\n",
       "    <tr style=\"text-align: right;\">\n",
       "      <th></th>\n",
       "      <th>Features</th>\n",
       "      <th>Lasso</th>\n",
       "      <th>Lasso1</th>\n",
       "      <th>Lasso2</th>\n",
       "    </tr>\n",
       "  </thead>\n",
       "  <tbody>\n",
       "    <tr>\n",
       "      <th>0</th>\n",
       "      <td>num__Temperature</td>\n",
       "      <td>-3.150660e+04</td>\n",
       "      <td>-3.150660e+04</td>\n",
       "      <td>-3.150660e+04</td>\n",
       "    </tr>\n",
       "    <tr>\n",
       "      <th>1</th>\n",
       "      <td>num__Fuel_Price</td>\n",
       "      <td>-4.128519e+04</td>\n",
       "      <td>-4.128519e+04</td>\n",
       "      <td>-4.128519e+04</td>\n",
       "    </tr>\n",
       "    <tr>\n",
       "      <th>2</th>\n",
       "      <td>num__CPI</td>\n",
       "      <td>-9.553405e+04</td>\n",
       "      <td>-9.553405e+04</td>\n",
       "      <td>-9.553405e+04</td>\n",
       "    </tr>\n",
       "    <tr>\n",
       "      <th>3</th>\n",
       "      <td>num__Unemployment</td>\n",
       "      <td>-7.192310e+04</td>\n",
       "      <td>-7.192310e+04</td>\n",
       "      <td>-7.192310e+04</td>\n",
       "    </tr>\n",
       "    <tr>\n",
       "      <th>4</th>\n",
       "      <td>num__year</td>\n",
       "      <td>4.277918e+03</td>\n",
       "      <td>4.277918e+03</td>\n",
       "      <td>4.277918e+03</td>\n",
       "    </tr>\n",
       "    <tr>\n",
       "      <th>5</th>\n",
       "      <td>num__month</td>\n",
       "      <td>7.466588e+04</td>\n",
       "      <td>7.466588e+04</td>\n",
       "      <td>7.466588e+04</td>\n",
       "    </tr>\n",
       "    <tr>\n",
       "      <th>6</th>\n",
       "      <td>num__day</td>\n",
       "      <td>-3.797510e+04</td>\n",
       "      <td>-3.797510e+04</td>\n",
       "      <td>-3.797510e+04</td>\n",
       "    </tr>\n",
       "    <tr>\n",
       "      <th>7</th>\n",
       "      <td>cat__Store_1.0</td>\n",
       "      <td>2.749943e+05</td>\n",
       "      <td>2.749943e+05</td>\n",
       "      <td>2.749943e+05</td>\n",
       "    </tr>\n",
       "    <tr>\n",
       "      <th>8</th>\n",
       "      <td>cat__Store_2.0</td>\n",
       "      <td>6.308184e+05</td>\n",
       "      <td>6.308184e+05</td>\n",
       "      <td>6.308184e+05</td>\n",
       "    </tr>\n",
       "    <tr>\n",
       "      <th>9</th>\n",
       "      <td>cat__Store_3.0</td>\n",
       "      <td>-9.311898e+05</td>\n",
       "      <td>-9.311898e+05</td>\n",
       "      <td>-9.311898e+05</td>\n",
       "    </tr>\n",
       "    <tr>\n",
       "      <th>10</th>\n",
       "      <td>cat__Store_4.0</td>\n",
       "      <td>5.543980e+05</td>\n",
       "      <td>5.543980e+05</td>\n",
       "      <td>5.543980e+05</td>\n",
       "    </tr>\n",
       "    <tr>\n",
       "      <th>11</th>\n",
       "      <td>cat__Store_5.0</td>\n",
       "      <td>-1.090686e+06</td>\n",
       "      <td>-1.090686e+06</td>\n",
       "      <td>-1.090686e+06</td>\n",
       "    </tr>\n",
       "    <tr>\n",
       "      <th>12</th>\n",
       "      <td>cat__Store_6.0</td>\n",
       "      <td>3.076468e+05</td>\n",
       "      <td>3.076468e+05</td>\n",
       "      <td>3.076468e+05</td>\n",
       "    </tr>\n",
       "    <tr>\n",
       "      <th>13</th>\n",
       "      <td>cat__Store_7.0</td>\n",
       "      <td>-7.250539e+05</td>\n",
       "      <td>-7.250539e+05</td>\n",
       "      <td>-7.250539e+05</td>\n",
       "    </tr>\n",
       "    <tr>\n",
       "      <th>14</th>\n",
       "      <td>cat__Store_8.0</td>\n",
       "      <td>-4.392996e+05</td>\n",
       "      <td>-4.392996e+05</td>\n",
       "      <td>-4.392996e+05</td>\n",
       "    </tr>\n",
       "    <tr>\n",
       "      <th>15</th>\n",
       "      <td>cat__Store_9.0</td>\n",
       "      <td>-8.973208e+05</td>\n",
       "      <td>-8.973208e+05</td>\n",
       "      <td>-8.973208e+05</td>\n",
       "    </tr>\n",
       "    <tr>\n",
       "      <th>16</th>\n",
       "      <td>cat__Store_10.0</td>\n",
       "      <td>5.390890e+05</td>\n",
       "      <td>5.390890e+05</td>\n",
       "      <td>5.390890e+05</td>\n",
       "    </tr>\n",
       "    <tr>\n",
       "      <th>17</th>\n",
       "      <td>cat__Store_11.0</td>\n",
       "      <td>4.367351e+05</td>\n",
       "      <td>4.367351e+05</td>\n",
       "      <td>4.367351e+05</td>\n",
       "    </tr>\n",
       "    <tr>\n",
       "      <th>18</th>\n",
       "      <td>cat__Store_13.0</td>\n",
       "      <td>4.385180e+05</td>\n",
       "      <td>4.385180e+05</td>\n",
       "      <td>4.385180e+05</td>\n",
       "    </tr>\n",
       "    <tr>\n",
       "      <th>19</th>\n",
       "      <td>cat__Store_14.0</td>\n",
       "      <td>8.218135e+05</td>\n",
       "      <td>8.218135e+05</td>\n",
       "      <td>8.218135e+05</td>\n",
       "    </tr>\n",
       "    <tr>\n",
       "      <th>20</th>\n",
       "      <td>cat__Store_15.0</td>\n",
       "      <td>-7.546429e+05</td>\n",
       "      <td>-7.546429e+05</td>\n",
       "      <td>-7.546429e+05</td>\n",
       "    </tr>\n",
       "    <tr>\n",
       "      <th>21</th>\n",
       "      <td>cat__Store_16.0</td>\n",
       "      <td>-8.796019e+05</td>\n",
       "      <td>-8.796019e+05</td>\n",
       "      <td>-8.796019e+05</td>\n",
       "    </tr>\n",
       "    <tr>\n",
       "      <th>22</th>\n",
       "      <td>cat__Store_17.0</td>\n",
       "      <td>-8.220156e+05</td>\n",
       "      <td>-8.220156e+05</td>\n",
       "      <td>-8.220156e+05</td>\n",
       "    </tr>\n",
       "    <tr>\n",
       "      <th>23</th>\n",
       "      <td>cat__Store_18.0</td>\n",
       "      <td>-3.269869e+05</td>\n",
       "      <td>-3.269869e+05</td>\n",
       "      <td>-3.269869e+05</td>\n",
       "    </tr>\n",
       "    <tr>\n",
       "      <th>24</th>\n",
       "      <td>cat__Store_19.0</td>\n",
       "      <td>0.000000e+00</td>\n",
       "      <td>0.000000e+00</td>\n",
       "      <td>0.000000e+00</td>\n",
       "    </tr>\n",
       "    <tr>\n",
       "      <th>25</th>\n",
       "      <td>cat__Store_20.0</td>\n",
       "      <td>6.771317e+05</td>\n",
       "      <td>6.771317e+05</td>\n",
       "      <td>6.771317e+05</td>\n",
       "    </tr>\n",
       "    <tr>\n",
       "      <th>26</th>\n",
       "      <td>cat__Holiday_Flag_0.0</td>\n",
       "      <td>5.265812e+04</td>\n",
       "      <td>5.265812e+04</td>\n",
       "      <td>5.265812e+04</td>\n",
       "    </tr>\n",
       "    <tr>\n",
       "      <th>27</th>\n",
       "      <td>cat__Holiday_Flag_1.0</td>\n",
       "      <td>-3.820314e-08</td>\n",
       "      <td>-3.820314e-08</td>\n",
       "      <td>-3.820314e-08</td>\n",
       "    </tr>\n",
       "  </tbody>\n",
       "</table>\n",
       "</div>"
      ],
      "text/plain": [
       "                 Features         Lasso        Lasso1        Lasso2\n",
       "0        num__Temperature -3.150660e+04 -3.150660e+04 -3.150660e+04\n",
       "1         num__Fuel_Price -4.128519e+04 -4.128519e+04 -4.128519e+04\n",
       "2                num__CPI -9.553405e+04 -9.553405e+04 -9.553405e+04\n",
       "3       num__Unemployment -7.192310e+04 -7.192310e+04 -7.192310e+04\n",
       "4               num__year  4.277918e+03  4.277918e+03  4.277918e+03\n",
       "5              num__month  7.466588e+04  7.466588e+04  7.466588e+04\n",
       "6                num__day -3.797510e+04 -3.797510e+04 -3.797510e+04\n",
       "7          cat__Store_1.0  2.749943e+05  2.749943e+05  2.749943e+05\n",
       "8          cat__Store_2.0  6.308184e+05  6.308184e+05  6.308184e+05\n",
       "9          cat__Store_3.0 -9.311898e+05 -9.311898e+05 -9.311898e+05\n",
       "10         cat__Store_4.0  5.543980e+05  5.543980e+05  5.543980e+05\n",
       "11         cat__Store_5.0 -1.090686e+06 -1.090686e+06 -1.090686e+06\n",
       "12         cat__Store_6.0  3.076468e+05  3.076468e+05  3.076468e+05\n",
       "13         cat__Store_7.0 -7.250539e+05 -7.250539e+05 -7.250539e+05\n",
       "14         cat__Store_8.0 -4.392996e+05 -4.392996e+05 -4.392996e+05\n",
       "15         cat__Store_9.0 -8.973208e+05 -8.973208e+05 -8.973208e+05\n",
       "16        cat__Store_10.0  5.390890e+05  5.390890e+05  5.390890e+05\n",
       "17        cat__Store_11.0  4.367351e+05  4.367351e+05  4.367351e+05\n",
       "18        cat__Store_13.0  4.385180e+05  4.385180e+05  4.385180e+05\n",
       "19        cat__Store_14.0  8.218135e+05  8.218135e+05  8.218135e+05\n",
       "20        cat__Store_15.0 -7.546429e+05 -7.546429e+05 -7.546429e+05\n",
       "21        cat__Store_16.0 -8.796019e+05 -8.796019e+05 -8.796019e+05\n",
       "22        cat__Store_17.0 -8.220156e+05 -8.220156e+05 -8.220156e+05\n",
       "23        cat__Store_18.0 -3.269869e+05 -3.269869e+05 -3.269869e+05\n",
       "24        cat__Store_19.0  0.000000e+00  0.000000e+00  0.000000e+00\n",
       "25        cat__Store_20.0  6.771317e+05  6.771317e+05  6.771317e+05\n",
       "26  cat__Holiday_Flag_0.0  5.265812e+04  5.265812e+04  5.265812e+04\n",
       "27  cat__Holiday_Flag_1.0 -3.820314e-08 -3.820314e-08 -3.820314e-08"
      ]
     },
     "execution_count": 1836,
     "metadata": {},
     "output_type": "execute_result"
    }
   ],
   "source": [
    "data_dict = {\n",
    "    'Features': feature_names,\n",
    "    'Lasso': regressor_lasso.coef_,\n",
    "    'Lasso1': regressor_lasso.coef_,\n",
    "    'Lasso2': regressor_lasso.coef_\n",
    "            }\n",
    "recap_lasso = pd.DataFrame(data=data_dict)\n",
    "recap_lasso"
   ]
  },
  {
   "cell_type": "markdown",
   "metadata": {},
   "source": [
    "Sélection de variables : Le Lasso agit comme un sélecteur de variables. On observe que month et Store_19 sont ramenés à zéro, ce qui signifie qu’ils n’apportent aucune information utile pour prédire les ventes et sont donc éliminés.\n",
    "\n",
    "Variables importantes : En revanche, certaines variables comme CPI, Unemployment ou encore les indicateurs liés aux Store conservent des coefficients importants (positifs ou négatifs), ainsi que month avec un facteur saisonnalité, indiquant qu’elles jouent un rôle majeur dans la prédiction des ventes.\n",
    "\n",
    "Impact du paramètre alpha : On constate une faible fluctuation des coefficients entre alpha=1, 5 et 10. Cela suggère que la régularisation n’est pas encore assez forte pour forcer davantage de coefficients à zéro. Il serait pertinent de tester des valeurs plus élevées (50, 100, 500, ....) pour observer un effet plus marqué.\n",
    "\n"
   ]
  },
  {
   "cell_type": "markdown",
   "metadata": {},
   "source": [
    "# Optimisation des Hyperparamètres\n",
    "Comme nous avons pu le voir Ridge et Lasso agissent de façon différentes dans l'ajustement des features à l'aide de coefficient alpha. Afin de trouver le meilleur alpha pour chacun et d’obtenir des performances optimales, nous utiliserons une validation croisée via GridSearchCV. Cela permettra de tester plusieurs valeurs de alpha et de choisir celle qui minimise l’erreur sur les données de validation."
   ]
  },
  {
   "cell_type": "code",
   "execution_count": 1837,
   "metadata": {},
   "outputs": [
    {
     "name": "stdout",
     "output_type": "stream",
     "text": [
      "Best hyperparameters :  {'alpha': 0.1}\n",
      "Best R2 score :  0.912124651300714\n"
     ]
    }
   ],
   "source": [
    "# définitions des paramètres de Ridge\n",
    "params = {'alpha': [0.01, 0.1, 1, 5, 10, 20, 50, 100 ]}\n",
    "\n",
    "best_ridge = GridSearchCV(regressor_ridge, param_grid=params, cv=5)\n",
    "best_ridge.fit(X_train,Y_train)\n",
    "print(\"Best hyperparameters : \", best_ridge.best_params_)\n",
    "print(\"Best R2 score : \", best_ridge.best_score_)\n"
   ]
  },
  {
   "cell_type": "code",
   "execution_count": 1838,
   "metadata": {},
   "outputs": [
    {
     "name": "stdout",
     "output_type": "stream",
     "text": [
      "Best hyperparameters :  {'alpha': 500}\n",
      "Best R2 score :  0.9131525868876288\n"
     ]
    }
   ],
   "source": [
    "# définitions des paramètres de Lasso\n",
    "params = {'alpha': [1, 5, 10, 30, 50, 100, 200, 500, 1000, 2000]}\n",
    "\n",
    "best_lasso = GridSearchCV(regressor_lasso, param_grid=params, cv=5)\n",
    "best_lasso.fit(X_train,Y_train)\n",
    "print(\"Best hyperparameters : \", best_lasso.best_params_)\n",
    "print(\"Best R2 score : \", best_lasso.best_score_)"
   ]
  },
  {
   "cell_type": "markdown",
   "metadata": {},
   "source": [
    "#### Le meilleurs paramètre alpha pour \n",
    "- Ridge :  0.1\n",
    "- Lasso : 500"
   ]
  },
  {
   "cell_type": "markdown",
   "metadata": {},
   "source": [
    "## Évaluation et comparaison des modèles\n",
    "\n",
    "- Prédire les ventes sur les jeux d’entraînement et de test.\n",
    "- Calculer les performances avec le R² et la MAE pour évaluer précision et généralisation.\n",
    "- Analyser les résidus en visualisant les erreurs (Résidus = Y_test - Y_test_pred) autour de zéro pour détecter biais ou anomalies.\n",
    "- Comparer Ridge et Lasso afin d’identifier le modèle le plus fiable et le plus performant sur ce dataset."
   ]
  },
  {
   "cell_type": "code",
   "execution_count": 1839,
   "metadata": {},
   "outputs": [
    {
     "name": "stdout",
     "output_type": "stream",
     "text": [
      "\n",
      "Résultats pour RIDGE:\n",
      "R² train: 0.972\n",
      "R² test: 0.940\n",
      "MAE train: 0.085 millions $\n",
      "MAE test: 0.124 millions $\n",
      "      Prédictions        Résidus\n",
      "141  4.083720e+05 -106544.594258\n",
      "13   1.428029e+06  249443.716064\n",
      "29   1.599940e+06 -179534.205250\n",
      "10   8.834041e+05   11662.422034\n",
      "144  4.526627e+05  -28149.631938\n",
      "70   1.091098e+06  497332.520200\n",
      "79   2.047444e+06 -257756.712061\n",
      "103  2.311436e+06   -8931.191425\n",
      "33   2.076912e+06     344.016167\n",
      "4    1.545879e+06   98592.007095\n"
     ]
    },
    {
     "data": {
      "application/vnd.plotly.v1+json": {
       "config": {
        "plotlyServerURL": "https://plot.ly"
       },
       "data": [
        {
         "hovertemplate": "Prédictions=%{x}<br>Résidus (Y_test - Y_test_pred)=%{y}<extra></extra>",
         "legendgroup": "",
         "marker": {
          "color": "#636efa",
          "opacity": 0.6,
          "symbol": "circle"
         },
         "mode": "markers",
         "name": "",
         "orientation": "v",
         "showlegend": false,
         "type": "scatter",
         "x": {
          "bdata": "zA8p0c/sGEF5IV4QPco1QSoHgZ3DaThB9SXrJ5j1KkHMQwbZ2qAbQcPBljAapjBB/AiwXNQ9P0EKGJUGhqJBQSkbTTnwsD9Bv8Ukp5aWN0HQ6OwbYTgvQcLAiJc+ez5BCCDTq4hEMUHfjGGk6CwjQeBYIWZ4thxBkLkk/E0P/kA8mB4X8dkjQUCZFcqhbwhBGJ6ocMMpO0F+woO+bBIgQQDpp/Br+TxBUmd2vrXrHUHjomx2Jlk/QQ==",
          "dtype": "f8"
         },
         "xaxis": "x",
         "y": {
          "bdata": "COMUggkD+sAQmH+6HXMOQdgkWqRx6gXBwII2BTbHxkDQ6qtxaH3bwGQ2rxTSWh5BsBRNsuV2D8EAKZ2AmHHBwADgijhCgHVAAM0PHQAS+EB01uaiZb4GwfCAWmp2ZAfBQDLPuKXT4ECgaP5Y8b/dwEBDzHK1bO5Avo4/uqduBUHQWo3iZrHhwBCQypTcJ/ZA4H/4hJGECkFMo+DpEkf2wCA9rMy8iQtBwAWuxhtR1kBghfBcsYHmwA==",
          "dtype": "f8"
         },
         "yaxis": "y"
        }
       ],
       "layout": {
        "legend": {
         "tracegroupgap": 0
        },
        "shapes": [
         {
          "line": {
           "color": "red",
           "dash": "dash"
          },
          "type": "line",
          "x0": 0,
          "x1": 1,
          "xref": "x domain",
          "y0": 0,
          "y1": 0,
          "yref": "y"
         }
        ],
        "template": {
         "data": {
          "bar": [
           {
            "error_x": {
             "color": "#2a3f5f"
            },
            "error_y": {
             "color": "#2a3f5f"
            },
            "marker": {
             "line": {
              "color": "#E5ECF6",
              "width": 0.5
             },
             "pattern": {
              "fillmode": "overlay",
              "size": 10,
              "solidity": 0.2
             }
            },
            "type": "bar"
           }
          ],
          "barpolar": [
           {
            "marker": {
             "line": {
              "color": "#E5ECF6",
              "width": 0.5
             },
             "pattern": {
              "fillmode": "overlay",
              "size": 10,
              "solidity": 0.2
             }
            },
            "type": "barpolar"
           }
          ],
          "carpet": [
           {
            "aaxis": {
             "endlinecolor": "#2a3f5f",
             "gridcolor": "white",
             "linecolor": "white",
             "minorgridcolor": "white",
             "startlinecolor": "#2a3f5f"
            },
            "baxis": {
             "endlinecolor": "#2a3f5f",
             "gridcolor": "white",
             "linecolor": "white",
             "minorgridcolor": "white",
             "startlinecolor": "#2a3f5f"
            },
            "type": "carpet"
           }
          ],
          "choropleth": [
           {
            "colorbar": {
             "outlinewidth": 0,
             "ticks": ""
            },
            "type": "choropleth"
           }
          ],
          "contour": [
           {
            "colorbar": {
             "outlinewidth": 0,
             "ticks": ""
            },
            "colorscale": [
             [
              0,
              "#0d0887"
             ],
             [
              0.1111111111111111,
              "#46039f"
             ],
             [
              0.2222222222222222,
              "#7201a8"
             ],
             [
              0.3333333333333333,
              "#9c179e"
             ],
             [
              0.4444444444444444,
              "#bd3786"
             ],
             [
              0.5555555555555556,
              "#d8576b"
             ],
             [
              0.6666666666666666,
              "#ed7953"
             ],
             [
              0.7777777777777778,
              "#fb9f3a"
             ],
             [
              0.8888888888888888,
              "#fdca26"
             ],
             [
              1,
              "#f0f921"
             ]
            ],
            "type": "contour"
           }
          ],
          "contourcarpet": [
           {
            "colorbar": {
             "outlinewidth": 0,
             "ticks": ""
            },
            "type": "contourcarpet"
           }
          ],
          "heatmap": [
           {
            "colorbar": {
             "outlinewidth": 0,
             "ticks": ""
            },
            "colorscale": [
             [
              0,
              "#0d0887"
             ],
             [
              0.1111111111111111,
              "#46039f"
             ],
             [
              0.2222222222222222,
              "#7201a8"
             ],
             [
              0.3333333333333333,
              "#9c179e"
             ],
             [
              0.4444444444444444,
              "#bd3786"
             ],
             [
              0.5555555555555556,
              "#d8576b"
             ],
             [
              0.6666666666666666,
              "#ed7953"
             ],
             [
              0.7777777777777778,
              "#fb9f3a"
             ],
             [
              0.8888888888888888,
              "#fdca26"
             ],
             [
              1,
              "#f0f921"
             ]
            ],
            "type": "heatmap"
           }
          ],
          "histogram": [
           {
            "marker": {
             "pattern": {
              "fillmode": "overlay",
              "size": 10,
              "solidity": 0.2
             }
            },
            "type": "histogram"
           }
          ],
          "histogram2d": [
           {
            "colorbar": {
             "outlinewidth": 0,
             "ticks": ""
            },
            "colorscale": [
             [
              0,
              "#0d0887"
             ],
             [
              0.1111111111111111,
              "#46039f"
             ],
             [
              0.2222222222222222,
              "#7201a8"
             ],
             [
              0.3333333333333333,
              "#9c179e"
             ],
             [
              0.4444444444444444,
              "#bd3786"
             ],
             [
              0.5555555555555556,
              "#d8576b"
             ],
             [
              0.6666666666666666,
              "#ed7953"
             ],
             [
              0.7777777777777778,
              "#fb9f3a"
             ],
             [
              0.8888888888888888,
              "#fdca26"
             ],
             [
              1,
              "#f0f921"
             ]
            ],
            "type": "histogram2d"
           }
          ],
          "histogram2dcontour": [
           {
            "colorbar": {
             "outlinewidth": 0,
             "ticks": ""
            },
            "colorscale": [
             [
              0,
              "#0d0887"
             ],
             [
              0.1111111111111111,
              "#46039f"
             ],
             [
              0.2222222222222222,
              "#7201a8"
             ],
             [
              0.3333333333333333,
              "#9c179e"
             ],
             [
              0.4444444444444444,
              "#bd3786"
             ],
             [
              0.5555555555555556,
              "#d8576b"
             ],
             [
              0.6666666666666666,
              "#ed7953"
             ],
             [
              0.7777777777777778,
              "#fb9f3a"
             ],
             [
              0.8888888888888888,
              "#fdca26"
             ],
             [
              1,
              "#f0f921"
             ]
            ],
            "type": "histogram2dcontour"
           }
          ],
          "mesh3d": [
           {
            "colorbar": {
             "outlinewidth": 0,
             "ticks": ""
            },
            "type": "mesh3d"
           }
          ],
          "parcoords": [
           {
            "line": {
             "colorbar": {
              "outlinewidth": 0,
              "ticks": ""
             }
            },
            "type": "parcoords"
           }
          ],
          "pie": [
           {
            "automargin": true,
            "type": "pie"
           }
          ],
          "scatter": [
           {
            "fillpattern": {
             "fillmode": "overlay",
             "size": 10,
             "solidity": 0.2
            },
            "type": "scatter"
           }
          ],
          "scatter3d": [
           {
            "line": {
             "colorbar": {
              "outlinewidth": 0,
              "ticks": ""
             }
            },
            "marker": {
             "colorbar": {
              "outlinewidth": 0,
              "ticks": ""
             }
            },
            "type": "scatter3d"
           }
          ],
          "scattercarpet": [
           {
            "marker": {
             "colorbar": {
              "outlinewidth": 0,
              "ticks": ""
             }
            },
            "type": "scattercarpet"
           }
          ],
          "scattergeo": [
           {
            "marker": {
             "colorbar": {
              "outlinewidth": 0,
              "ticks": ""
             }
            },
            "type": "scattergeo"
           }
          ],
          "scattergl": [
           {
            "marker": {
             "colorbar": {
              "outlinewidth": 0,
              "ticks": ""
             }
            },
            "type": "scattergl"
           }
          ],
          "scattermap": [
           {
            "marker": {
             "colorbar": {
              "outlinewidth": 0,
              "ticks": ""
             }
            },
            "type": "scattermap"
           }
          ],
          "scattermapbox": [
           {
            "marker": {
             "colorbar": {
              "outlinewidth": 0,
              "ticks": ""
             }
            },
            "type": "scattermapbox"
           }
          ],
          "scatterpolar": [
           {
            "marker": {
             "colorbar": {
              "outlinewidth": 0,
              "ticks": ""
             }
            },
            "type": "scatterpolar"
           }
          ],
          "scatterpolargl": [
           {
            "marker": {
             "colorbar": {
              "outlinewidth": 0,
              "ticks": ""
             }
            },
            "type": "scatterpolargl"
           }
          ],
          "scatterternary": [
           {
            "marker": {
             "colorbar": {
              "outlinewidth": 0,
              "ticks": ""
             }
            },
            "type": "scatterternary"
           }
          ],
          "surface": [
           {
            "colorbar": {
             "outlinewidth": 0,
             "ticks": ""
            },
            "colorscale": [
             [
              0,
              "#0d0887"
             ],
             [
              0.1111111111111111,
              "#46039f"
             ],
             [
              0.2222222222222222,
              "#7201a8"
             ],
             [
              0.3333333333333333,
              "#9c179e"
             ],
             [
              0.4444444444444444,
              "#bd3786"
             ],
             [
              0.5555555555555556,
              "#d8576b"
             ],
             [
              0.6666666666666666,
              "#ed7953"
             ],
             [
              0.7777777777777778,
              "#fb9f3a"
             ],
             [
              0.8888888888888888,
              "#fdca26"
             ],
             [
              1,
              "#f0f921"
             ]
            ],
            "type": "surface"
           }
          ],
          "table": [
           {
            "cells": {
             "fill": {
              "color": "#EBF0F8"
             },
             "line": {
              "color": "white"
             }
            },
            "header": {
             "fill": {
              "color": "#C8D4E3"
             },
             "line": {
              "color": "white"
             }
            },
            "type": "table"
           }
          ]
         },
         "layout": {
          "annotationdefaults": {
           "arrowcolor": "#2a3f5f",
           "arrowhead": 0,
           "arrowwidth": 1
          },
          "autotypenumbers": "strict",
          "coloraxis": {
           "colorbar": {
            "outlinewidth": 0,
            "ticks": ""
           }
          },
          "colorscale": {
           "diverging": [
            [
             0,
             "#8e0152"
            ],
            [
             0.1,
             "#c51b7d"
            ],
            [
             0.2,
             "#de77ae"
            ],
            [
             0.3,
             "#f1b6da"
            ],
            [
             0.4,
             "#fde0ef"
            ],
            [
             0.5,
             "#f7f7f7"
            ],
            [
             0.6,
             "#e6f5d0"
            ],
            [
             0.7,
             "#b8e186"
            ],
            [
             0.8,
             "#7fbc41"
            ],
            [
             0.9,
             "#4d9221"
            ],
            [
             1,
             "#276419"
            ]
           ],
           "sequential": [
            [
             0,
             "#0d0887"
            ],
            [
             0.1111111111111111,
             "#46039f"
            ],
            [
             0.2222222222222222,
             "#7201a8"
            ],
            [
             0.3333333333333333,
             "#9c179e"
            ],
            [
             0.4444444444444444,
             "#bd3786"
            ],
            [
             0.5555555555555556,
             "#d8576b"
            ],
            [
             0.6666666666666666,
             "#ed7953"
            ],
            [
             0.7777777777777778,
             "#fb9f3a"
            ],
            [
             0.8888888888888888,
             "#fdca26"
            ],
            [
             1,
             "#f0f921"
            ]
           ],
           "sequentialminus": [
            [
             0,
             "#0d0887"
            ],
            [
             0.1111111111111111,
             "#46039f"
            ],
            [
             0.2222222222222222,
             "#7201a8"
            ],
            [
             0.3333333333333333,
             "#9c179e"
            ],
            [
             0.4444444444444444,
             "#bd3786"
            ],
            [
             0.5555555555555556,
             "#d8576b"
            ],
            [
             0.6666666666666666,
             "#ed7953"
            ],
            [
             0.7777777777777778,
             "#fb9f3a"
            ],
            [
             0.8888888888888888,
             "#fdca26"
            ],
            [
             1,
             "#f0f921"
            ]
           ]
          },
          "colorway": [
           "#636efa",
           "#EF553B",
           "#00cc96",
           "#ab63fa",
           "#FFA15A",
           "#19d3f3",
           "#FF6692",
           "#B6E880",
           "#FF97FF",
           "#FECB52"
          ],
          "font": {
           "color": "#2a3f5f"
          },
          "geo": {
           "bgcolor": "white",
           "lakecolor": "white",
           "landcolor": "#E5ECF6",
           "showlakes": true,
           "showland": true,
           "subunitcolor": "white"
          },
          "hoverlabel": {
           "align": "left"
          },
          "hovermode": "closest",
          "mapbox": {
           "style": "light"
          },
          "paper_bgcolor": "white",
          "plot_bgcolor": "#E5ECF6",
          "polar": {
           "angularaxis": {
            "gridcolor": "white",
            "linecolor": "white",
            "ticks": ""
           },
           "bgcolor": "#E5ECF6",
           "radialaxis": {
            "gridcolor": "white",
            "linecolor": "white",
            "ticks": ""
           }
          },
          "scene": {
           "xaxis": {
            "backgroundcolor": "#E5ECF6",
            "gridcolor": "white",
            "gridwidth": 2,
            "linecolor": "white",
            "showbackground": true,
            "ticks": "",
            "zerolinecolor": "white"
           },
           "yaxis": {
            "backgroundcolor": "#E5ECF6",
            "gridcolor": "white",
            "gridwidth": 2,
            "linecolor": "white",
            "showbackground": true,
            "ticks": "",
            "zerolinecolor": "white"
           },
           "zaxis": {
            "backgroundcolor": "#E5ECF6",
            "gridcolor": "white",
            "gridwidth": 2,
            "linecolor": "white",
            "showbackground": true,
            "ticks": "",
            "zerolinecolor": "white"
           }
          },
          "shapedefaults": {
           "line": {
            "color": "#2a3f5f"
           }
          },
          "ternary": {
           "aaxis": {
            "gridcolor": "white",
            "linecolor": "white",
            "ticks": ""
           },
           "baxis": {
            "gridcolor": "white",
            "linecolor": "white",
            "ticks": ""
           },
           "bgcolor": "#E5ECF6",
           "caxis": {
            "gridcolor": "white",
            "linecolor": "white",
            "ticks": ""
           }
          },
          "title": {
           "x": 0.05
          },
          "xaxis": {
           "automargin": true,
           "gridcolor": "white",
           "linecolor": "white",
           "ticks": "",
           "title": {
            "standoff": 15
           },
           "zerolinecolor": "white",
           "zerolinewidth": 2
          },
          "yaxis": {
           "automargin": true,
           "gridcolor": "white",
           "linecolor": "white",
           "ticks": "",
           "title": {
            "standoff": 15
           },
           "zerolinecolor": "white",
           "zerolinewidth": 2
          }
         }
        },
        "title": {
         "text": "Résidus vs Prédictions pour RIDGE"
        },
        "xaxis": {
         "anchor": "y",
         "domain": [
          0,
          1
         ],
         "title": {
          "text": "Prédictions"
         }
        },
        "yaxis": {
         "anchor": "x",
         "domain": [
          0,
          1
         ],
         "title": {
          "text": "Résidus (Y_test - Y_test_pred)"
         }
        }
       }
      }
     },
     "metadata": {},
     "output_type": "display_data"
    },
    {
     "name": "stdout",
     "output_type": "stream",
     "text": [
      "\n",
      "Résultats pour LASSO:\n",
      "R² train: 0.972\n",
      "R² test: 0.944\n",
      "MAE train: 0.083 millions $\n",
      "MAE test: 0.121 millions $\n",
      "      Prédictions        Résidus\n",
      "141  3.917663e+05  -89938.944138\n",
      "13   1.426759e+06  250714.272488\n",
      "29   1.600125e+06 -179719.598352\n",
      "10   8.896571e+05    5409.431634\n",
      "144  4.689148e+05  -44401.741750\n",
      "70   1.122144e+06  466286.594320\n",
      "79   2.036540e+06 -246852.615601\n",
      "103  2.303200e+06    -694.838227\n",
      "33   2.079907e+06   -2650.275307\n",
      "4    1.547970e+06   96500.201076\n"
     ]
    },
    {
     "data": {
      "application/vnd.plotly.v1+json": {
       "config": {
        "plotlyServerURL": "https://plot.ly"
       },
       "data": [
        {
         "hovertemplate": "Prédictions=%{x}<br>Résidus (Y_test - Y_test_pred)=%{y}<extra></extra>",
         "legendgroup": "",
         "marker": {
          "color": "#636efa",
          "opacity": 0.6,
          "symbol": "circle"
         },
         "mode": "markers",
         "name": "",
         "orientation": "v",
         "showlegend": false,
         "type": "scatter",
         "x": {
          "bdata": "lO5vN1npF0FEU+yBRsU1QXZZIwJ9ajhBj9sAI3ImK0Gi43hJy54cQV0ynR1gHzFBTmb+QzwTP0HgfF/Zb5JBQbQu64OivD9BPhF8dcKeN0GrMKvfhlQvQRoQ3X4EtT5Ba5Ak9/VCMUHPvH9EQbMjQZjQepkhrhxBoK2d+Tjz+EDA2JE5e1wjQUC5C+pUEgdB/AIeqDnSO0EUGRz+k2cfQd7CZUBKLj1B5Cr5x8a/HUFuesfZnoE/QQ==",
          "dtype": "f8"
         },
         "xaxis": "x",
         "y": {
          "bdata": "KF4wGy/19cC4CQ4u0poOQTi3bMk88AXBgDiSf24htUAY9Gq8N67lwPxzlWC6dRxBQP+/7CQiDsEA8B+wtLaFwAC6FfWMtKTAEBWbN0OP90Dg9d+x/C4HwbD7/KSlMgnB4CWhTvwF4UBQM2KugkXnwICFANhrr+5AthSDO7L8B0EgxoITErTTwBBQ3lR24vhAwFhNyd9ABUGs8zLu/FHzwDBuvU7K4glBoMyBLgsQ2UDAdkvIvZDrwA==",
          "dtype": "f8"
         },
         "yaxis": "y"
        }
       ],
       "layout": {
        "legend": {
         "tracegroupgap": 0
        },
        "shapes": [
         {
          "line": {
           "color": "red",
           "dash": "dash"
          },
          "type": "line",
          "x0": 0,
          "x1": 1,
          "xref": "x domain",
          "y0": 0,
          "y1": 0,
          "yref": "y"
         }
        ],
        "template": {
         "data": {
          "bar": [
           {
            "error_x": {
             "color": "#2a3f5f"
            },
            "error_y": {
             "color": "#2a3f5f"
            },
            "marker": {
             "line": {
              "color": "#E5ECF6",
              "width": 0.5
             },
             "pattern": {
              "fillmode": "overlay",
              "size": 10,
              "solidity": 0.2
             }
            },
            "type": "bar"
           }
          ],
          "barpolar": [
           {
            "marker": {
             "line": {
              "color": "#E5ECF6",
              "width": 0.5
             },
             "pattern": {
              "fillmode": "overlay",
              "size": 10,
              "solidity": 0.2
             }
            },
            "type": "barpolar"
           }
          ],
          "carpet": [
           {
            "aaxis": {
             "endlinecolor": "#2a3f5f",
             "gridcolor": "white",
             "linecolor": "white",
             "minorgridcolor": "white",
             "startlinecolor": "#2a3f5f"
            },
            "baxis": {
             "endlinecolor": "#2a3f5f",
             "gridcolor": "white",
             "linecolor": "white",
             "minorgridcolor": "white",
             "startlinecolor": "#2a3f5f"
            },
            "type": "carpet"
           }
          ],
          "choropleth": [
           {
            "colorbar": {
             "outlinewidth": 0,
             "ticks": ""
            },
            "type": "choropleth"
           }
          ],
          "contour": [
           {
            "colorbar": {
             "outlinewidth": 0,
             "ticks": ""
            },
            "colorscale": [
             [
              0,
              "#0d0887"
             ],
             [
              0.1111111111111111,
              "#46039f"
             ],
             [
              0.2222222222222222,
              "#7201a8"
             ],
             [
              0.3333333333333333,
              "#9c179e"
             ],
             [
              0.4444444444444444,
              "#bd3786"
             ],
             [
              0.5555555555555556,
              "#d8576b"
             ],
             [
              0.6666666666666666,
              "#ed7953"
             ],
             [
              0.7777777777777778,
              "#fb9f3a"
             ],
             [
              0.8888888888888888,
              "#fdca26"
             ],
             [
              1,
              "#f0f921"
             ]
            ],
            "type": "contour"
           }
          ],
          "contourcarpet": [
           {
            "colorbar": {
             "outlinewidth": 0,
             "ticks": ""
            },
            "type": "contourcarpet"
           }
          ],
          "heatmap": [
           {
            "colorbar": {
             "outlinewidth": 0,
             "ticks": ""
            },
            "colorscale": [
             [
              0,
              "#0d0887"
             ],
             [
              0.1111111111111111,
              "#46039f"
             ],
             [
              0.2222222222222222,
              "#7201a8"
             ],
             [
              0.3333333333333333,
              "#9c179e"
             ],
             [
              0.4444444444444444,
              "#bd3786"
             ],
             [
              0.5555555555555556,
              "#d8576b"
             ],
             [
              0.6666666666666666,
              "#ed7953"
             ],
             [
              0.7777777777777778,
              "#fb9f3a"
             ],
             [
              0.8888888888888888,
              "#fdca26"
             ],
             [
              1,
              "#f0f921"
             ]
            ],
            "type": "heatmap"
           }
          ],
          "histogram": [
           {
            "marker": {
             "pattern": {
              "fillmode": "overlay",
              "size": 10,
              "solidity": 0.2
             }
            },
            "type": "histogram"
           }
          ],
          "histogram2d": [
           {
            "colorbar": {
             "outlinewidth": 0,
             "ticks": ""
            },
            "colorscale": [
             [
              0,
              "#0d0887"
             ],
             [
              0.1111111111111111,
              "#46039f"
             ],
             [
              0.2222222222222222,
              "#7201a8"
             ],
             [
              0.3333333333333333,
              "#9c179e"
             ],
             [
              0.4444444444444444,
              "#bd3786"
             ],
             [
              0.5555555555555556,
              "#d8576b"
             ],
             [
              0.6666666666666666,
              "#ed7953"
             ],
             [
              0.7777777777777778,
              "#fb9f3a"
             ],
             [
              0.8888888888888888,
              "#fdca26"
             ],
             [
              1,
              "#f0f921"
             ]
            ],
            "type": "histogram2d"
           }
          ],
          "histogram2dcontour": [
           {
            "colorbar": {
             "outlinewidth": 0,
             "ticks": ""
            },
            "colorscale": [
             [
              0,
              "#0d0887"
             ],
             [
              0.1111111111111111,
              "#46039f"
             ],
             [
              0.2222222222222222,
              "#7201a8"
             ],
             [
              0.3333333333333333,
              "#9c179e"
             ],
             [
              0.4444444444444444,
              "#bd3786"
             ],
             [
              0.5555555555555556,
              "#d8576b"
             ],
             [
              0.6666666666666666,
              "#ed7953"
             ],
             [
              0.7777777777777778,
              "#fb9f3a"
             ],
             [
              0.8888888888888888,
              "#fdca26"
             ],
             [
              1,
              "#f0f921"
             ]
            ],
            "type": "histogram2dcontour"
           }
          ],
          "mesh3d": [
           {
            "colorbar": {
             "outlinewidth": 0,
             "ticks": ""
            },
            "type": "mesh3d"
           }
          ],
          "parcoords": [
           {
            "line": {
             "colorbar": {
              "outlinewidth": 0,
              "ticks": ""
             }
            },
            "type": "parcoords"
           }
          ],
          "pie": [
           {
            "automargin": true,
            "type": "pie"
           }
          ],
          "scatter": [
           {
            "fillpattern": {
             "fillmode": "overlay",
             "size": 10,
             "solidity": 0.2
            },
            "type": "scatter"
           }
          ],
          "scatter3d": [
           {
            "line": {
             "colorbar": {
              "outlinewidth": 0,
              "ticks": ""
             }
            },
            "marker": {
             "colorbar": {
              "outlinewidth": 0,
              "ticks": ""
             }
            },
            "type": "scatter3d"
           }
          ],
          "scattercarpet": [
           {
            "marker": {
             "colorbar": {
              "outlinewidth": 0,
              "ticks": ""
             }
            },
            "type": "scattercarpet"
           }
          ],
          "scattergeo": [
           {
            "marker": {
             "colorbar": {
              "outlinewidth": 0,
              "ticks": ""
             }
            },
            "type": "scattergeo"
           }
          ],
          "scattergl": [
           {
            "marker": {
             "colorbar": {
              "outlinewidth": 0,
              "ticks": ""
             }
            },
            "type": "scattergl"
           }
          ],
          "scattermap": [
           {
            "marker": {
             "colorbar": {
              "outlinewidth": 0,
              "ticks": ""
             }
            },
            "type": "scattermap"
           }
          ],
          "scattermapbox": [
           {
            "marker": {
             "colorbar": {
              "outlinewidth": 0,
              "ticks": ""
             }
            },
            "type": "scattermapbox"
           }
          ],
          "scatterpolar": [
           {
            "marker": {
             "colorbar": {
              "outlinewidth": 0,
              "ticks": ""
             }
            },
            "type": "scatterpolar"
           }
          ],
          "scatterpolargl": [
           {
            "marker": {
             "colorbar": {
              "outlinewidth": 0,
              "ticks": ""
             }
            },
            "type": "scatterpolargl"
           }
          ],
          "scatterternary": [
           {
            "marker": {
             "colorbar": {
              "outlinewidth": 0,
              "ticks": ""
             }
            },
            "type": "scatterternary"
           }
          ],
          "surface": [
           {
            "colorbar": {
             "outlinewidth": 0,
             "ticks": ""
            },
            "colorscale": [
             [
              0,
              "#0d0887"
             ],
             [
              0.1111111111111111,
              "#46039f"
             ],
             [
              0.2222222222222222,
              "#7201a8"
             ],
             [
              0.3333333333333333,
              "#9c179e"
             ],
             [
              0.4444444444444444,
              "#bd3786"
             ],
             [
              0.5555555555555556,
              "#d8576b"
             ],
             [
              0.6666666666666666,
              "#ed7953"
             ],
             [
              0.7777777777777778,
              "#fb9f3a"
             ],
             [
              0.8888888888888888,
              "#fdca26"
             ],
             [
              1,
              "#f0f921"
             ]
            ],
            "type": "surface"
           }
          ],
          "table": [
           {
            "cells": {
             "fill": {
              "color": "#EBF0F8"
             },
             "line": {
              "color": "white"
             }
            },
            "header": {
             "fill": {
              "color": "#C8D4E3"
             },
             "line": {
              "color": "white"
             }
            },
            "type": "table"
           }
          ]
         },
         "layout": {
          "annotationdefaults": {
           "arrowcolor": "#2a3f5f",
           "arrowhead": 0,
           "arrowwidth": 1
          },
          "autotypenumbers": "strict",
          "coloraxis": {
           "colorbar": {
            "outlinewidth": 0,
            "ticks": ""
           }
          },
          "colorscale": {
           "diverging": [
            [
             0,
             "#8e0152"
            ],
            [
             0.1,
             "#c51b7d"
            ],
            [
             0.2,
             "#de77ae"
            ],
            [
             0.3,
             "#f1b6da"
            ],
            [
             0.4,
             "#fde0ef"
            ],
            [
             0.5,
             "#f7f7f7"
            ],
            [
             0.6,
             "#e6f5d0"
            ],
            [
             0.7,
             "#b8e186"
            ],
            [
             0.8,
             "#7fbc41"
            ],
            [
             0.9,
             "#4d9221"
            ],
            [
             1,
             "#276419"
            ]
           ],
           "sequential": [
            [
             0,
             "#0d0887"
            ],
            [
             0.1111111111111111,
             "#46039f"
            ],
            [
             0.2222222222222222,
             "#7201a8"
            ],
            [
             0.3333333333333333,
             "#9c179e"
            ],
            [
             0.4444444444444444,
             "#bd3786"
            ],
            [
             0.5555555555555556,
             "#d8576b"
            ],
            [
             0.6666666666666666,
             "#ed7953"
            ],
            [
             0.7777777777777778,
             "#fb9f3a"
            ],
            [
             0.8888888888888888,
             "#fdca26"
            ],
            [
             1,
             "#f0f921"
            ]
           ],
           "sequentialminus": [
            [
             0,
             "#0d0887"
            ],
            [
             0.1111111111111111,
             "#46039f"
            ],
            [
             0.2222222222222222,
             "#7201a8"
            ],
            [
             0.3333333333333333,
             "#9c179e"
            ],
            [
             0.4444444444444444,
             "#bd3786"
            ],
            [
             0.5555555555555556,
             "#d8576b"
            ],
            [
             0.6666666666666666,
             "#ed7953"
            ],
            [
             0.7777777777777778,
             "#fb9f3a"
            ],
            [
             0.8888888888888888,
             "#fdca26"
            ],
            [
             1,
             "#f0f921"
            ]
           ]
          },
          "colorway": [
           "#636efa",
           "#EF553B",
           "#00cc96",
           "#ab63fa",
           "#FFA15A",
           "#19d3f3",
           "#FF6692",
           "#B6E880",
           "#FF97FF",
           "#FECB52"
          ],
          "font": {
           "color": "#2a3f5f"
          },
          "geo": {
           "bgcolor": "white",
           "lakecolor": "white",
           "landcolor": "#E5ECF6",
           "showlakes": true,
           "showland": true,
           "subunitcolor": "white"
          },
          "hoverlabel": {
           "align": "left"
          },
          "hovermode": "closest",
          "mapbox": {
           "style": "light"
          },
          "paper_bgcolor": "white",
          "plot_bgcolor": "#E5ECF6",
          "polar": {
           "angularaxis": {
            "gridcolor": "white",
            "linecolor": "white",
            "ticks": ""
           },
           "bgcolor": "#E5ECF6",
           "radialaxis": {
            "gridcolor": "white",
            "linecolor": "white",
            "ticks": ""
           }
          },
          "scene": {
           "xaxis": {
            "backgroundcolor": "#E5ECF6",
            "gridcolor": "white",
            "gridwidth": 2,
            "linecolor": "white",
            "showbackground": true,
            "ticks": "",
            "zerolinecolor": "white"
           },
           "yaxis": {
            "backgroundcolor": "#E5ECF6",
            "gridcolor": "white",
            "gridwidth": 2,
            "linecolor": "white",
            "showbackground": true,
            "ticks": "",
            "zerolinecolor": "white"
           },
           "zaxis": {
            "backgroundcolor": "#E5ECF6",
            "gridcolor": "white",
            "gridwidth": 2,
            "linecolor": "white",
            "showbackground": true,
            "ticks": "",
            "zerolinecolor": "white"
           }
          },
          "shapedefaults": {
           "line": {
            "color": "#2a3f5f"
           }
          },
          "ternary": {
           "aaxis": {
            "gridcolor": "white",
            "linecolor": "white",
            "ticks": ""
           },
           "baxis": {
            "gridcolor": "white",
            "linecolor": "white",
            "ticks": ""
           },
           "bgcolor": "#E5ECF6",
           "caxis": {
            "gridcolor": "white",
            "linecolor": "white",
            "ticks": ""
           }
          },
          "title": {
           "x": 0.05
          },
          "xaxis": {
           "automargin": true,
           "gridcolor": "white",
           "linecolor": "white",
           "ticks": "",
           "title": {
            "standoff": 15
           },
           "zerolinecolor": "white",
           "zerolinewidth": 2
          },
          "yaxis": {
           "automargin": true,
           "gridcolor": "white",
           "linecolor": "white",
           "ticks": "",
           "title": {
            "standoff": 15
           },
           "zerolinecolor": "white",
           "zerolinewidth": 2
          }
         }
        },
        "title": {
         "text": "Résidus vs Prédictions pour LASSO"
        },
        "xaxis": {
         "anchor": "y",
         "domain": [
          0,
          1
         ],
         "title": {
          "text": "Prédictions"
         }
        },
        "yaxis": {
         "anchor": "x",
         "domain": [
          0,
          1
         ],
         "title": {
          "text": "Résidus (Y_test - Y_test_pred)"
         }
        }
       }
      }
     },
     "metadata": {},
     "output_type": "display_data"
    }
   ],
   "source": [
    "# Evaluons et comparaons nos modèles\n",
    "def eval_model(model, X_train, X_test, Y_train, Y_test, model_name):\n",
    "    # Prédictions\n",
    "    Y_train_pred = model.predict(X_train)\n",
    "    Y_test_pred = model.predict(X_test)\n",
    "    \n",
    "    # Calcul des métriques\n",
    "    r2_train = r2_score(Y_train, Y_train_pred)\n",
    "    r2_test = r2_score(Y_test, Y_test_pred)\n",
    "    mae_train = mean_absolute_error(Y_train, Y_train_pred)\n",
    "    mae_test = mean_absolute_error(Y_test, Y_test_pred)\n",
    "    \n",
    "    # Affichage des métriques\n",
    "    print(f\"\\nRésultats pour {model_name}:\")\n",
    "    print(f\"R² train: {r2_train:.3f}\")\n",
    "    print(f\"R² test: {r2_test:.3f}\")\n",
    "    print(f\"MAE train: {mae_train/1e6:.3f} millions $\")\n",
    "    print(f\"MAE test: {mae_test/1e6:.3f} millions $\")\n",
    "    \n",
    "   # Préparer les données pour le graphique en récupérant les resultats et en les mettant dans un dataframe\n",
    "    df_residus = pd.DataFrame({\n",
    "        \"Prédictions\": Y_test_pred,\n",
    "        \"Résidus\": Y_test - Y_test_pred\n",
    "    })\n",
    "    print(df_residus.head(10))\n",
    "\n",
    "    # Graphique \n",
    "    fig = px.scatter(\n",
    "        df_residus,\n",
    "        x=\"Prédictions\",\n",
    "        y=\"Résidus\",\n",
    "        title=f\"Résidus vs Prédictions pour {model_name}\",\n",
    "        labels={\"Prédictions\":\"Prédictions\", \"Résidus\":\"Résidus (Y_test - Y_test_pred)\"},\n",
    "        opacity=0.6\n",
    "    )\n",
    "    \n",
    "    # Ligne horizontale à y=0\n",
    "    fig.add_hline(y=0, line_dash=\"dash\", line_color=\"red\")\n",
    "    \n",
    "    fig.show()\n",
    "   \n",
    "# Évaluation\n",
    "eval_model(best_ridge.best_estimator_, X_train, X_test, Y_train, Y_test, \"RIDGE\")\n",
    "eval_model(best_lasso.best_estimator_, X_train, X_test, Y_train, Y_test, \"LASSO\")"
   ]
  },
  {
   "cell_type": "markdown",
   "metadata": {},
   "source": [
    "## Analyse des coefficients des modèles\n",
    "\n",
    "- Influence des variables sur les prédictions pour les trois modèles : régression linéaire simple, Ridge et Lasso.\n",
    "\n",
    "- Récupération des coefficients après entraînement pour chaque modèle.\n",
    "\n",
    "- Création d’un DataFrame regroupant les coefficients associés à chaque variable.\n",
    "\n",
    "- Mise en forme pour visualisation : conversion en format “long” pour n'avoir que 3 colonnes Features, Modèle, Coef et tri des variables par importance absolue moyenne.\n"
   ]
  },
  {
   "cell_type": "code",
   "execution_count": 1840,
   "metadata": {},
   "outputs": [
    {
     "data": {
      "application/vnd.plotly.v1+json": {
       "config": {
        "plotlyServerURL": "https://plot.ly"
       },
       "data": [
        {
         "alignmentgroup": "True",
         "hovertemplate": "Modèle=Linéaire<br>Coefficient=%{x}<br>Feature=%{y}<extra></extra>",
         "legendgroup": "Linéaire",
         "marker": {
          "color": "#636efa",
          "pattern": {
           "shape": ""
          }
         },
         "name": "Linéaire",
         "offsetgroup": "Linéaire",
         "orientation": "h",
         "showlegend": true,
         "textposition": "auto",
         "type": "bar",
         "x": {
          "bdata": "BnfuY2fG3sCEG58w9SnkwGaz9+YHUvfA996/YgOQ8cDmDEURNbqwQKEQYd7KOvJAGVUELCmL4sAMRzzMVs4XQWUEqJzowiZBP1O26XzoKMG14jnKCm4kQWDyYj+7xi3Bc7NzkFjMGUG+zNZl2J0iwfuwJx4/yxPBr10J3SHgJ8GnbgTt+vYjQSACEMvT1yBBSvCHsLTkIEGdxLkhPJcsQe6fG6cHhSPB2q8qA8lVJ8ER/xvKgJMlwSBAKJtN3wnBFXxQjf0W/EAyjv+EDC0oQd3Ai51DwNlARMSLnUPA2cA=",
          "dtype": "f8"
         },
         "xaxis": "x",
         "y": [
          "num__Temperature",
          "num__Fuel_Price",
          "num__CPI",
          "num__Unemployment",
          "num__year",
          "num__month",
          "num__day",
          "cat__Store_1.0",
          "cat__Store_2.0",
          "cat__Store_3.0",
          "cat__Store_4.0",
          "cat__Store_5.0",
          "cat__Store_6.0",
          "cat__Store_7.0",
          "cat__Store_8.0",
          "cat__Store_9.0",
          "cat__Store_10.0",
          "cat__Store_11.0",
          "cat__Store_13.0",
          "cat__Store_14.0",
          "cat__Store_15.0",
          "cat__Store_16.0",
          "cat__Store_17.0",
          "cat__Store_18.0",
          "cat__Store_19.0",
          "cat__Store_20.0",
          "cat__Holiday_Flag_0.0",
          "cat__Holiday_Flag_1.0"
         ],
         "yaxis": "y"
        },
        {
         "alignmentgroup": "True",
         "hovertemplate": "Modèle=Ridge<br>Coefficient=%{x}<br>Feature=%{y}<extra></extra>",
         "legendgroup": "Ridge",
         "marker": {
          "color": "#EF553B",
          "pattern": {
           "shape": ""
          }
         },
         "name": "Ridge",
         "offsetgroup": "Ridge",
         "orientation": "h",
         "showlegend": true,
         "textposition": "auto",
         "type": "bar",
         "x": {
          "bdata": "abTxi3UP38DVqmfDYBPjwA8k3DDhsP3AEWjyeddK7MBJtySB1HS9QD0PREhU//FAwPJrjYlT4sBpmele7pMYQS6R26kv3SZBUhi8m/fMJ8GE/FE6dJgjQQ3/gBoUqCvBPYeD8FY3G0GveoVmzZoiwcWWf2vPGBHB/1kV6onZJcHbGc3f7IAhQbgzKNF/ER9Bqmiv+3/QH0FkrBzOJ+srQXcYxhGG7yPB96R/8m1uJcE1dvJ9UcAlwf4NHV4b2Q7B9wLy3RkX8kDdL1+6GM8nQX/qNYv52cxACuk1i/nZzMA=",
          "dtype": "f8"
         },
         "xaxis": "x",
         "y": [
          "num__Temperature",
          "num__Fuel_Price",
          "num__CPI",
          "num__Unemployment",
          "num__year",
          "num__month",
          "num__day",
          "cat__Store_1.0",
          "cat__Store_2.0",
          "cat__Store_3.0",
          "cat__Store_4.0",
          "cat__Store_5.0",
          "cat__Store_6.0",
          "cat__Store_7.0",
          "cat__Store_8.0",
          "cat__Store_9.0",
          "cat__Store_10.0",
          "cat__Store_11.0",
          "cat__Store_13.0",
          "cat__Store_14.0",
          "cat__Store_15.0",
          "cat__Store_16.0",
          "cat__Store_17.0",
          "cat__Store_18.0",
          "cat__Store_19.0",
          "cat__Store_20.0",
          "cat__Holiday_Flag_0.0",
          "cat__Holiday_Flag_1.0"
         ],
         "yaxis": "y"
        },
        {
         "alignmentgroup": "True",
         "hovertemplate": "Modèle=Lasso<br>Coefficient=%{x}<br>Feature=%{y}<extra></extra>",
         "legendgroup": "Lasso",
         "marker": {
          "color": "#00cc96",
          "pattern": {
           "shape": ""
          }
         },
         "name": "Lasso",
         "offsetgroup": "Lasso",
         "orientation": "h",
         "showlegend": true,
         "textposition": "auto",
         "type": "bar",
         "x": {
          "bdata": "SvVYHHOe28CGEnw3OZ/hwKkg7rbBq/XAJMEqY+Yj8MCkXUjIrJWPQLetSTj18fFA7vYdrXMH4sAZcbkQ+p0OQUCHa+g53iJBQUo2HYRtLMG1l0d9pQMhQSqsApSxhjDBX84cRv6mEUHRn9lbPVYmwQ+chUWZ8BrBLBYqNwYFK8FnyCkNgCofQXFQOM8c/RRBObe4ssscG0ELHPI/GKAoQclEYTg2kibBVXALHrUQKsE6Qgqx210owVnlQA8qlBPBAAAAAAAAAABdIpsmbKUjQQaEHy3a+MhAGxsbGxsbm70=",
          "dtype": "f8"
         },
         "xaxis": "x",
         "y": [
          "num__Temperature",
          "num__Fuel_Price",
          "num__CPI",
          "num__Unemployment",
          "num__year",
          "num__month",
          "num__day",
          "cat__Store_1.0",
          "cat__Store_2.0",
          "cat__Store_3.0",
          "cat__Store_4.0",
          "cat__Store_5.0",
          "cat__Store_6.0",
          "cat__Store_7.0",
          "cat__Store_8.0",
          "cat__Store_9.0",
          "cat__Store_10.0",
          "cat__Store_11.0",
          "cat__Store_13.0",
          "cat__Store_14.0",
          "cat__Store_15.0",
          "cat__Store_16.0",
          "cat__Store_17.0",
          "cat__Store_18.0",
          "cat__Store_19.0",
          "cat__Store_20.0",
          "cat__Holiday_Flag_0.0",
          "cat__Holiday_Flag_1.0"
         ],
         "yaxis": "y"
        }
       ],
       "layout": {
        "barmode": "group",
        "height": 900,
        "legend": {
         "title": {
          "text": "Modèle"
         },
         "tracegroupgap": 0
        },
        "template": {
         "data": {
          "bar": [
           {
            "error_x": {
             "color": "#2a3f5f"
            },
            "error_y": {
             "color": "#2a3f5f"
            },
            "marker": {
             "line": {
              "color": "#E5ECF6",
              "width": 0.5
             },
             "pattern": {
              "fillmode": "overlay",
              "size": 10,
              "solidity": 0.2
             }
            },
            "type": "bar"
           }
          ],
          "barpolar": [
           {
            "marker": {
             "line": {
              "color": "#E5ECF6",
              "width": 0.5
             },
             "pattern": {
              "fillmode": "overlay",
              "size": 10,
              "solidity": 0.2
             }
            },
            "type": "barpolar"
           }
          ],
          "carpet": [
           {
            "aaxis": {
             "endlinecolor": "#2a3f5f",
             "gridcolor": "white",
             "linecolor": "white",
             "minorgridcolor": "white",
             "startlinecolor": "#2a3f5f"
            },
            "baxis": {
             "endlinecolor": "#2a3f5f",
             "gridcolor": "white",
             "linecolor": "white",
             "minorgridcolor": "white",
             "startlinecolor": "#2a3f5f"
            },
            "type": "carpet"
           }
          ],
          "choropleth": [
           {
            "colorbar": {
             "outlinewidth": 0,
             "ticks": ""
            },
            "type": "choropleth"
           }
          ],
          "contour": [
           {
            "colorbar": {
             "outlinewidth": 0,
             "ticks": ""
            },
            "colorscale": [
             [
              0,
              "#0d0887"
             ],
             [
              0.1111111111111111,
              "#46039f"
             ],
             [
              0.2222222222222222,
              "#7201a8"
             ],
             [
              0.3333333333333333,
              "#9c179e"
             ],
             [
              0.4444444444444444,
              "#bd3786"
             ],
             [
              0.5555555555555556,
              "#d8576b"
             ],
             [
              0.6666666666666666,
              "#ed7953"
             ],
             [
              0.7777777777777778,
              "#fb9f3a"
             ],
             [
              0.8888888888888888,
              "#fdca26"
             ],
             [
              1,
              "#f0f921"
             ]
            ],
            "type": "contour"
           }
          ],
          "contourcarpet": [
           {
            "colorbar": {
             "outlinewidth": 0,
             "ticks": ""
            },
            "type": "contourcarpet"
           }
          ],
          "heatmap": [
           {
            "colorbar": {
             "outlinewidth": 0,
             "ticks": ""
            },
            "colorscale": [
             [
              0,
              "#0d0887"
             ],
             [
              0.1111111111111111,
              "#46039f"
             ],
             [
              0.2222222222222222,
              "#7201a8"
             ],
             [
              0.3333333333333333,
              "#9c179e"
             ],
             [
              0.4444444444444444,
              "#bd3786"
             ],
             [
              0.5555555555555556,
              "#d8576b"
             ],
             [
              0.6666666666666666,
              "#ed7953"
             ],
             [
              0.7777777777777778,
              "#fb9f3a"
             ],
             [
              0.8888888888888888,
              "#fdca26"
             ],
             [
              1,
              "#f0f921"
             ]
            ],
            "type": "heatmap"
           }
          ],
          "histogram": [
           {
            "marker": {
             "pattern": {
              "fillmode": "overlay",
              "size": 10,
              "solidity": 0.2
             }
            },
            "type": "histogram"
           }
          ],
          "histogram2d": [
           {
            "colorbar": {
             "outlinewidth": 0,
             "ticks": ""
            },
            "colorscale": [
             [
              0,
              "#0d0887"
             ],
             [
              0.1111111111111111,
              "#46039f"
             ],
             [
              0.2222222222222222,
              "#7201a8"
             ],
             [
              0.3333333333333333,
              "#9c179e"
             ],
             [
              0.4444444444444444,
              "#bd3786"
             ],
             [
              0.5555555555555556,
              "#d8576b"
             ],
             [
              0.6666666666666666,
              "#ed7953"
             ],
             [
              0.7777777777777778,
              "#fb9f3a"
             ],
             [
              0.8888888888888888,
              "#fdca26"
             ],
             [
              1,
              "#f0f921"
             ]
            ],
            "type": "histogram2d"
           }
          ],
          "histogram2dcontour": [
           {
            "colorbar": {
             "outlinewidth": 0,
             "ticks": ""
            },
            "colorscale": [
             [
              0,
              "#0d0887"
             ],
             [
              0.1111111111111111,
              "#46039f"
             ],
             [
              0.2222222222222222,
              "#7201a8"
             ],
             [
              0.3333333333333333,
              "#9c179e"
             ],
             [
              0.4444444444444444,
              "#bd3786"
             ],
             [
              0.5555555555555556,
              "#d8576b"
             ],
             [
              0.6666666666666666,
              "#ed7953"
             ],
             [
              0.7777777777777778,
              "#fb9f3a"
             ],
             [
              0.8888888888888888,
              "#fdca26"
             ],
             [
              1,
              "#f0f921"
             ]
            ],
            "type": "histogram2dcontour"
           }
          ],
          "mesh3d": [
           {
            "colorbar": {
             "outlinewidth": 0,
             "ticks": ""
            },
            "type": "mesh3d"
           }
          ],
          "parcoords": [
           {
            "line": {
             "colorbar": {
              "outlinewidth": 0,
              "ticks": ""
             }
            },
            "type": "parcoords"
           }
          ],
          "pie": [
           {
            "automargin": true,
            "type": "pie"
           }
          ],
          "scatter": [
           {
            "fillpattern": {
             "fillmode": "overlay",
             "size": 10,
             "solidity": 0.2
            },
            "type": "scatter"
           }
          ],
          "scatter3d": [
           {
            "line": {
             "colorbar": {
              "outlinewidth": 0,
              "ticks": ""
             }
            },
            "marker": {
             "colorbar": {
              "outlinewidth": 0,
              "ticks": ""
             }
            },
            "type": "scatter3d"
           }
          ],
          "scattercarpet": [
           {
            "marker": {
             "colorbar": {
              "outlinewidth": 0,
              "ticks": ""
             }
            },
            "type": "scattercarpet"
           }
          ],
          "scattergeo": [
           {
            "marker": {
             "colorbar": {
              "outlinewidth": 0,
              "ticks": ""
             }
            },
            "type": "scattergeo"
           }
          ],
          "scattergl": [
           {
            "marker": {
             "colorbar": {
              "outlinewidth": 0,
              "ticks": ""
             }
            },
            "type": "scattergl"
           }
          ],
          "scattermap": [
           {
            "marker": {
             "colorbar": {
              "outlinewidth": 0,
              "ticks": ""
             }
            },
            "type": "scattermap"
           }
          ],
          "scattermapbox": [
           {
            "marker": {
             "colorbar": {
              "outlinewidth": 0,
              "ticks": ""
             }
            },
            "type": "scattermapbox"
           }
          ],
          "scatterpolar": [
           {
            "marker": {
             "colorbar": {
              "outlinewidth": 0,
              "ticks": ""
             }
            },
            "type": "scatterpolar"
           }
          ],
          "scatterpolargl": [
           {
            "marker": {
             "colorbar": {
              "outlinewidth": 0,
              "ticks": ""
             }
            },
            "type": "scatterpolargl"
           }
          ],
          "scatterternary": [
           {
            "marker": {
             "colorbar": {
              "outlinewidth": 0,
              "ticks": ""
             }
            },
            "type": "scatterternary"
           }
          ],
          "surface": [
           {
            "colorbar": {
             "outlinewidth": 0,
             "ticks": ""
            },
            "colorscale": [
             [
              0,
              "#0d0887"
             ],
             [
              0.1111111111111111,
              "#46039f"
             ],
             [
              0.2222222222222222,
              "#7201a8"
             ],
             [
              0.3333333333333333,
              "#9c179e"
             ],
             [
              0.4444444444444444,
              "#bd3786"
             ],
             [
              0.5555555555555556,
              "#d8576b"
             ],
             [
              0.6666666666666666,
              "#ed7953"
             ],
             [
              0.7777777777777778,
              "#fb9f3a"
             ],
             [
              0.8888888888888888,
              "#fdca26"
             ],
             [
              1,
              "#f0f921"
             ]
            ],
            "type": "surface"
           }
          ],
          "table": [
           {
            "cells": {
             "fill": {
              "color": "#EBF0F8"
             },
             "line": {
              "color": "white"
             }
            },
            "header": {
             "fill": {
              "color": "#C8D4E3"
             },
             "line": {
              "color": "white"
             }
            },
            "type": "table"
           }
          ]
         },
         "layout": {
          "annotationdefaults": {
           "arrowcolor": "#2a3f5f",
           "arrowhead": 0,
           "arrowwidth": 1
          },
          "autotypenumbers": "strict",
          "coloraxis": {
           "colorbar": {
            "outlinewidth": 0,
            "ticks": ""
           }
          },
          "colorscale": {
           "diverging": [
            [
             0,
             "#8e0152"
            ],
            [
             0.1,
             "#c51b7d"
            ],
            [
             0.2,
             "#de77ae"
            ],
            [
             0.3,
             "#f1b6da"
            ],
            [
             0.4,
             "#fde0ef"
            ],
            [
             0.5,
             "#f7f7f7"
            ],
            [
             0.6,
             "#e6f5d0"
            ],
            [
             0.7,
             "#b8e186"
            ],
            [
             0.8,
             "#7fbc41"
            ],
            [
             0.9,
             "#4d9221"
            ],
            [
             1,
             "#276419"
            ]
           ],
           "sequential": [
            [
             0,
             "#0d0887"
            ],
            [
             0.1111111111111111,
             "#46039f"
            ],
            [
             0.2222222222222222,
             "#7201a8"
            ],
            [
             0.3333333333333333,
             "#9c179e"
            ],
            [
             0.4444444444444444,
             "#bd3786"
            ],
            [
             0.5555555555555556,
             "#d8576b"
            ],
            [
             0.6666666666666666,
             "#ed7953"
            ],
            [
             0.7777777777777778,
             "#fb9f3a"
            ],
            [
             0.8888888888888888,
             "#fdca26"
            ],
            [
             1,
             "#f0f921"
            ]
           ],
           "sequentialminus": [
            [
             0,
             "#0d0887"
            ],
            [
             0.1111111111111111,
             "#46039f"
            ],
            [
             0.2222222222222222,
             "#7201a8"
            ],
            [
             0.3333333333333333,
             "#9c179e"
            ],
            [
             0.4444444444444444,
             "#bd3786"
            ],
            [
             0.5555555555555556,
             "#d8576b"
            ],
            [
             0.6666666666666666,
             "#ed7953"
            ],
            [
             0.7777777777777778,
             "#fb9f3a"
            ],
            [
             0.8888888888888888,
             "#fdca26"
            ],
            [
             1,
             "#f0f921"
            ]
           ]
          },
          "colorway": [
           "#636efa",
           "#EF553B",
           "#00cc96",
           "#ab63fa",
           "#FFA15A",
           "#19d3f3",
           "#FF6692",
           "#B6E880",
           "#FF97FF",
           "#FECB52"
          ],
          "font": {
           "color": "#2a3f5f"
          },
          "geo": {
           "bgcolor": "white",
           "lakecolor": "white",
           "landcolor": "#E5ECF6",
           "showlakes": true,
           "showland": true,
           "subunitcolor": "white"
          },
          "hoverlabel": {
           "align": "left"
          },
          "hovermode": "closest",
          "mapbox": {
           "style": "light"
          },
          "paper_bgcolor": "white",
          "plot_bgcolor": "#E5ECF6",
          "polar": {
           "angularaxis": {
            "gridcolor": "white",
            "linecolor": "white",
            "ticks": ""
           },
           "bgcolor": "#E5ECF6",
           "radialaxis": {
            "gridcolor": "white",
            "linecolor": "white",
            "ticks": ""
           }
          },
          "scene": {
           "xaxis": {
            "backgroundcolor": "#E5ECF6",
            "gridcolor": "white",
            "gridwidth": 2,
            "linecolor": "white",
            "showbackground": true,
            "ticks": "",
            "zerolinecolor": "white"
           },
           "yaxis": {
            "backgroundcolor": "#E5ECF6",
            "gridcolor": "white",
            "gridwidth": 2,
            "linecolor": "white",
            "showbackground": true,
            "ticks": "",
            "zerolinecolor": "white"
           },
           "zaxis": {
            "backgroundcolor": "#E5ECF6",
            "gridcolor": "white",
            "gridwidth": 2,
            "linecolor": "white",
            "showbackground": true,
            "ticks": "",
            "zerolinecolor": "white"
           }
          },
          "shapedefaults": {
           "line": {
            "color": "#2a3f5f"
           }
          },
          "ternary": {
           "aaxis": {
            "gridcolor": "white",
            "linecolor": "white",
            "ticks": ""
           },
           "baxis": {
            "gridcolor": "white",
            "linecolor": "white",
            "ticks": ""
           },
           "bgcolor": "#E5ECF6",
           "caxis": {
            "gridcolor": "white",
            "linecolor": "white",
            "ticks": ""
           }
          },
          "title": {
           "x": 0.05
          },
          "xaxis": {
           "automargin": true,
           "gridcolor": "white",
           "linecolor": "white",
           "ticks": "",
           "title": {
            "standoff": 15
           },
           "zerolinecolor": "white",
           "zerolinewidth": 2
          },
          "yaxis": {
           "automargin": true,
           "gridcolor": "white",
           "linecolor": "white",
           "ticks": "",
           "title": {
            "standoff": 15
           },
           "zerolinecolor": "white",
           "zerolinewidth": 2
          }
         }
        },
        "title": {
         "text": "Comparaison des coefficients (Linéaire, Ridge, Lasso)"
        },
        "width": 1200,
        "xaxis": {
         "anchor": "y",
         "domain": [
          0,
          1
         ],
         "title": {
          "text": "Variables"
         }
        },
        "yaxis": {
         "anchor": "x",
         "categoryarray": [
          "num__year",
          "cat__Holiday_Flag_1.0",
          "cat__Holiday_Flag_0.0",
          "num__Temperature",
          "num__day",
          "num__Fuel_Price",
          "cat__Store_19.0",
          "num__Unemployment",
          "num__month",
          "num__CPI",
          "cat__Store_18.0",
          "cat__Store_1.0",
          "cat__Store_8.0",
          "cat__Store_6.0",
          "cat__Store_11.0",
          "cat__Store_13.0",
          "cat__Store_10.0",
          "cat__Store_4.0",
          "cat__Store_7.0",
          "cat__Store_15.0",
          "cat__Store_2.0",
          "cat__Store_20.0",
          "cat__Store_17.0",
          "cat__Store_16.0",
          "cat__Store_9.0",
          "cat__Store_3.0",
          "cat__Store_14.0",
          "cat__Store_5.0"
         ],
         "categoryorder": "array",
         "domain": [
          0,
          1
         ],
         "title": {
          "text": "Valeur du coefficient"
         }
        }
       }
      }
     },
     "metadata": {},
     "output_type": "display_data"
    }
   ],
   "source": [
    "\n",
    "\n",
    "# Récupération des coefficients\n",
    "lin_coeffs = model.coef_\n",
    "ridge_coeffs = best_ridge.best_estimator_.coef_\n",
    "lasso_coeffs = best_lasso.best_estimator_.coef_\n",
    "\n",
    "# Noms des features (après preprocessing)\n",
    "feature_names = preprocessor.get_feature_names_out()\n",
    "\n",
    "# Construction du DataFrame\n",
    "df_coeffs = pd.DataFrame({\n",
    "    \"Feature\": feature_names,\n",
    "    \"Linéaire\": lin_coeffs,\n",
    "    \"Ridge\": ridge_coeffs,\n",
    "    \"Lasso\": lasso_coeffs\n",
    "})\n",
    "\n",
    "# Transformation en format \"long\" pour plotly express\n",
    "df_long = df_coeffs.melt(id_vars=\"Feature\", \n",
    "                         value_vars=[\"Linéaire\",\"Ridge\",\"Lasso\"],\n",
    "                         var_name=\"Modèle\",\n",
    "                         value_name=\"Coefficient\")\n",
    "\n",
    "# Tri par importance absolue moyenne\n",
    "df_long[\"Importance\"] = df_long[\"Coefficient\"].abs()\n",
    "order = df_long.groupby(\"Feature\")[\"Importance\"].mean().sort_values(ascending=False).index\n",
    "\n",
    "# Graphique interactif\n",
    "fig = px.bar(df_long, x=\"Coefficient\", y=\"Feature\", color=\"Modèle\",\n",
    "             title=\"Comparaison des coefficients (Linéaire, Ridge, Lasso)\",\n",
    "             barmode=\"group\", category_orders={\"Feature\": order})\n",
    "\n",
    "fig.update_layout(xaxis_title=\"Variables\", yaxis_title=\"Valeur du coefficient\", width=1200, height=900)\n",
    "fig.show()\n"
   ]
  },
  {
   "cell_type": "markdown",
   "metadata": {},
   "source": [
    "# Récapitulatif du performances:\n",
    "| Modèle                     | R² train | R² test | MAE train  | MAE test  |\n",
    "| -------------------------- | -------- | ------- | ---------- | --------- |\n",
    "| Régression linéaire simple | 0.973    | 0.940   | 0.0836 M\\$ | 0.125 M\\$ |\n",
    "| Ridge                      | 0.972    | 0.940   | 0.085 M\\$  | 0.124 M\\$ |\n",
    "| Lasso                      | 0.972    | 0.944   | 0.083 M\\$  | 0.121 M\\$ |\n",
    "\n",
    "#### > Observations\n",
    "\n",
    "Tous les modèles expliquent plus de 94% de la variance sur le test → excellent ajustement global.\n",
    "\n",
    "La MAE tourne autour de 0.12 M$, donc les prédictions restent très proches des ventes réelles.\n",
    "\n",
    "Lasso obtient les meilleures performances globales (R² test = 0.944, MAE test = 0.121 M$), légèrement meilleur que Ridge et la régression linéaire simple.\n",
    "\n",
    "### > Analyse des résidus\n",
    "\n",
    "Les résidus sont globalement centrés autour de zéro → pas de biais systématique.\n",
    "\n",
    "Quelques points extrêmes (> ±600k$) apparaissent, correspondant probablement à des semaines ou magasins atypiques (pics promotionnels, évènement local).\n",
    "\n",
    "Comparaison Ridge vs Lasso :\n",
    "\n",
    "Ridge et Régression linéaire simple donnent des résultats très similaires.\n",
    "\n",
    "Lasso réduit légèrement certains écarts extrêmes, ce qui se reflète dans son meilleur score test.\n",
    "\n",
    "### > Interprétation générale\n",
    "\n",
    "Toutes les méthodes sont efficaces pour prédire Weekly_Sales.\n",
    "\n",
    "Ridge → régularisation L2, réduit tous les coefficients uniformément → robustesse accrue.\n",
    "\n",
    "Lasso → régularisation L1, permet de sélectionner certaines variables → utile si on veut simplifier le modèle.\n",
    "\n",
    "Régression linéaire simple → performance très proche de Ridge et Lasso sur ce dataset, mais moins robuste si on ajoute du bruit ou des features corrélées.\n",
    "\n",
    "### > Point d'amélioration\n",
    "\n",
    "* Qualité et granularité des données\n",
    "\n",
    "Les ventes sont très hétérogènes entre magasins.\n",
    "\n",
    "Pour mieux prédire les pics et comprendre les variations, il serait utile de disposer de données plus régulières et détaillées par magasin, des informations hebdomadaires ou journalières supplémentaires, promotions, événements locaux,...\n",
    "\n",
    "* Exploration de modèles non-linéaires\n",
    "\n",
    "Les modèles linéaires (Ridge, Lasso, Régression linéaire simple) capturent bien la tendance générale, mais peuvent être limités face aux interactions complexes entre variables.\n",
    "\n",
    "On pourrait tester des modèles non-linéaires comme :\n",
    "\n",
    "Random Forest → capables de capturer des relations non-linéaires et interactions.\n",
    "\n",
    "XGBoost → pour des performances optimisées sur des données tabulaires volumineuses.\n",
    "\n",
    "* Feature engineering avancé\n",
    "\n",
    "Créer des variables supplémentaires pour capturer la saisonnalité ( Nöel, Fêtes des mères...), les effets vacances, les promotions ( Soldes, BlackFriday, ..), ou les tendances spécifiques aux magasins pourrait améliorer les prédictions.\n",
    "\n"
   ]
  }
 ],
 "metadata": {
  "colab": {
   "authorship_tag": "ABX9TyMIIZaH8UZavlsNsRcUkreS",
   "provenance": [
    {
     "file_id": "1P8IfDRqmQ_ZlvobVq5HBKPgP-H9PbP2b",
     "timestamp": 1743710127569
    }
   ]
  },
  "kernelspec": {
   "display_name": "wallmart",
   "language": "python",
   "name": "python3"
  },
  "language_info": {
   "codemirror_mode": {
    "name": "ipython",
    "version": 3
   },
   "file_extension": ".py",
   "mimetype": "text/x-python",
   "name": "python",
   "nbconvert_exporter": "python",
   "pygments_lexer": "ipython3",
   "version": "3.10.18"
  }
 },
 "nbformat": 4,
 "nbformat_minor": 0
}
