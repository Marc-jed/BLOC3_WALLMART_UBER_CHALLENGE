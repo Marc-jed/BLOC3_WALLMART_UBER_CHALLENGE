{
  "cells": [
    {
      "cell_type": "code",
      "execution_count": 262,
      "metadata": {
        "id": "hJGrb6U4bL1S"
      },
      "outputs": [],
      "source": [
        "import pandas as pd\n",
        "import numpy as np\n",
        "import plotly.express as px\n",
        "import plotly.io as pio\n",
        "import kaleido\n",
        "import ipywidgets as widgets\n",
        "from IPython.display import display, clear_output\n",
        "from sklearn.model_selection import train_test_split\n",
        "from sklearn.pipeline import Pipeline\n",
        "from sklearn.impute import SimpleImputer\n",
        "from sklearn.preprocessing import OneHotEncoder, StandardScaler, LabelEncoder\n",
        "from sklearn.compose import ColumnTransformer\n",
        "from sklearn.linear_model import LogisticRegression\n",
        "from sklearn.metrics import accuracy_score\n",
        "from sklearn.preprocessing import  OneHotEncoder, StandardScaler\n",
        "from sklearn.compose import ColumnTransformer\n",
        "from sklearn.cluster import KMeans, DBSCAN\n",
        "from sklearn.metrics import  silhouette_score\n"
      ]
    },
    {
      "cell_type": "code",
      "execution_count": 263,
      "metadata": {},
      "outputs": [],
      "source": [
        "df = pd.read_csv('uber_data_sample.csv')\n"
      ]
    },
    {
      "cell_type": "markdown",
      "metadata": {},
      "source": [
        "## Base et outils d'analyse\n",
        "Nous avons identifié que le jeudi est la journée la plus dense et que 17h est l’heure la plus active.\n",
        "Nous allons utiliser ces deux critères pour nos modèles de machine learning non supervisé.\n",
        "\n",
        "Nous commencerons avec KMEANS, un modèle basé sur le calcul de centroïdes et utilisant la distance euclidienne. KMEANS cherche à regrouper les points autour du centroïde en minimisant la moyenne des distances, afin de créer des clusters compacts.\n",
        "\n",
        "Ensuite, nous enchaînerons avec DBSCAN, un modèle basé sur le concept de densité. Selon une mesure de distance (euclidienne ou Manhattan), DBSCAN considère deux paramètres : eps (rayon du voisinage) et min_samples (nombre minimal de points pour former un cluster). Si le nombre de points dans le voisinage est supérieur ou égal à min_samples, le point est intégré au cluster ; sinon, il est considéré comme bruit ou déclenche un nouveau cluster."
      ]
    },
    {
      "cell_type": "code",
      "execution_count": 264,
      "metadata": {},
      "outputs": [],
      "source": [
        "# Nos paramètres pour le modèle\n",
        "day = 'Thursday'\n",
        "hours = 17"
      ]
    },
    {
      "cell_type": "markdown",
      "metadata": {},
      "source": [
        "### KMEANS Jour"
      ]
    },
    {
      "cell_type": "code",
      "execution_count": 265,
      "metadata": {},
      "outputs": [
        {
          "name": "stdout",
          "output_type": "stream",
          "text": [
            "WCSS for K=2 --> 19.532886177082897\n",
            "WCSS for K=3 --> 15.253735677166349\n",
            "WCSS for K=4 --> 11.872315597749637\n",
            "WCSS for K=5 --> 9.109068150378196\n",
            "WCSS for K=6 --> 7.349316343632216\n",
            "WCSS for K=7 --> 6.137286530062129\n",
            "WCSS for K=8 --> 5.4445540448531\n",
            "WCSS for K=9 --> 4.726459351066321\n",
            "WCSS for K=10 --> 4.236836632693791\n",
            "WCSS for K=11 --> 3.902605871711579\n",
            "WCSS for K=12 --> 3.3426792850729106\n",
            "WCSS for K=13 --> 2.9592249306212666\n",
            "WCSS for K=14 --> 2.8341040703497695\n",
            "WCSS for K=15 --> 2.690783403097668\n",
            "WCSS for K=16 --> 2.5325982025523066\n",
            "WCSS for K=17 --> 2.3529149560613525\n",
            "WCSS for K=18 --> 2.2464982653351226\n",
            "WCSS for K=19 --> 2.135985177234784\n",
            "WCSS for K=20 --> 2.0556754816035006\n",
            "WCSS for K=21 --> 1.8625040720356838\n",
            "WCSS for K=22 --> 1.7063961615127952\n",
            "WCSS for K=23 --> 1.598044779192208\n",
            "WCSS for K=24 --> 1.5181225679428028\n",
            "WCSS for K=25 --> 1.4542205834696078\n",
            "WCSS for K=26 --> 1.3947700298641605\n",
            "WCSS for K=27 --> 1.3599774242995872\n",
            "WCSS for K=28 --> 1.3117025094031025\n",
            "WCSS for K=29 --> 1.2392197976394286\n"
          ]
        }
      ],
      "source": [
        "# On filtre le DataFrame pour ne garder que le jour sélectionné.\n",
        "# Pas de preprocessing nécessaire car le clustering KMEANS utilisera uniquement les colonnes 'Lat' et 'Lon'.\n",
        "mask_day=df['dayname'] == day\n",
        "df_day = df[mask_day]\n",
        "df_day1 = df_day[['Lat', 'Lon']]\n",
        "\n",
        "# Calcul du WCSS : méthode du coude\n",
        "wcss =  []\n",
        "for i in range (2,30):\n",
        "    kmeans = KMeans(n_clusters= i, random_state = 0, n_init = 'auto')\n",
        "    kmeans.fit(df_day1)\n",
        "    wcss.append(kmeans.inertia_)\n",
        "    print(\"WCSS for K={} --> {}\".format(i, wcss[-1]))\n"
      ]
    },
    {
      "cell_type": "code",
      "execution_count": 266,
      "metadata": {},
      "outputs": [
        {
          "data": {
            "application/vnd.plotly.v1+json": {
              "config": {
                "plotlyServerURL": "https://plot.ly"
              },
              "data": [
                {
                  "hovertemplate": "x=%{x}<br>y=%{y}<extra></extra>",
                  "legendgroup": "",
                  "line": {
                    "color": "#636efa",
                    "dash": "solid"
                  },
                  "marker": {
                    "symbol": "circle"
                  },
                  "mode": "lines",
                  "name": "",
                  "orientation": "v",
                  "showlegend": false,
                  "type": "scatter",
                  "x": {
                    "bdata": "AgMEBQYHCAkKCwwNDg8QERITFBUWFxgZGhscHQ==",
                    "dtype": "i1"
                  },
                  "xaxis": "x",
                  "y": {
                    "bdata": "vw9/OmuIM0AJhIak6YEuQDJAaCagvidAstHVx9c3IkBGb/8us2UdQFIxE9eUjBhAWcvvLDnHFUAc0Mr15OcSQIyoX02F8hBAMG5hbYk4D0AOPROjzr0KQK011B5+rAdA5uY8wT6sBkB+ZOdyuYYFQN72rtjCQgRAG2yUE8XSAkCmFCEV1PgBQJq2h2V/FgFAn2il/AVyAEAh9uAR0cz9P216uw9mTfs/A8kCZ5eR+T9bJMrjOkr4P4fAcs18RPc/+VH7YPpQ9j8EpAqwd8L1P7V6P8W7/PQ/YKx2I9jT8z8=",
                    "dtype": "f8"
                  },
                  "yaxis": "y"
                }
              ],
              "layout": {
                "legend": {
                  "tracegroupgap": 0
                },
                "margin": {
                  "t": 60
                },
                "template": {
                  "data": {
                    "bar": [
                      {
                        "error_x": {
                          "color": "#2a3f5f"
                        },
                        "error_y": {
                          "color": "#2a3f5f"
                        },
                        "marker": {
                          "line": {
                            "color": "#E5ECF6",
                            "width": 0.5
                          },
                          "pattern": {
                            "fillmode": "overlay",
                            "size": 10,
                            "solidity": 0.2
                          }
                        },
                        "type": "bar"
                      }
                    ],
                    "barpolar": [
                      {
                        "marker": {
                          "line": {
                            "color": "#E5ECF6",
                            "width": 0.5
                          },
                          "pattern": {
                            "fillmode": "overlay",
                            "size": 10,
                            "solidity": 0.2
                          }
                        },
                        "type": "barpolar"
                      }
                    ],
                    "carpet": [
                      {
                        "aaxis": {
                          "endlinecolor": "#2a3f5f",
                          "gridcolor": "white",
                          "linecolor": "white",
                          "minorgridcolor": "white",
                          "startlinecolor": "#2a3f5f"
                        },
                        "baxis": {
                          "endlinecolor": "#2a3f5f",
                          "gridcolor": "white",
                          "linecolor": "white",
                          "minorgridcolor": "white",
                          "startlinecolor": "#2a3f5f"
                        },
                        "type": "carpet"
                      }
                    ],
                    "choropleth": [
                      {
                        "colorbar": {
                          "outlinewidth": 0,
                          "ticks": ""
                        },
                        "type": "choropleth"
                      }
                    ],
                    "contour": [
                      {
                        "colorbar": {
                          "outlinewidth": 0,
                          "ticks": ""
                        },
                        "colorscale": [
                          [
                            0,
                            "#0d0887"
                          ],
                          [
                            0.1111111111111111,
                            "#46039f"
                          ],
                          [
                            0.2222222222222222,
                            "#7201a8"
                          ],
                          [
                            0.3333333333333333,
                            "#9c179e"
                          ],
                          [
                            0.4444444444444444,
                            "#bd3786"
                          ],
                          [
                            0.5555555555555556,
                            "#d8576b"
                          ],
                          [
                            0.6666666666666666,
                            "#ed7953"
                          ],
                          [
                            0.7777777777777778,
                            "#fb9f3a"
                          ],
                          [
                            0.8888888888888888,
                            "#fdca26"
                          ],
                          [
                            1,
                            "#f0f921"
                          ]
                        ],
                        "type": "contour"
                      }
                    ],
                    "contourcarpet": [
                      {
                        "colorbar": {
                          "outlinewidth": 0,
                          "ticks": ""
                        },
                        "type": "contourcarpet"
                      }
                    ],
                    "heatmap": [
                      {
                        "colorbar": {
                          "outlinewidth": 0,
                          "ticks": ""
                        },
                        "colorscale": [
                          [
                            0,
                            "#0d0887"
                          ],
                          [
                            0.1111111111111111,
                            "#46039f"
                          ],
                          [
                            0.2222222222222222,
                            "#7201a8"
                          ],
                          [
                            0.3333333333333333,
                            "#9c179e"
                          ],
                          [
                            0.4444444444444444,
                            "#bd3786"
                          ],
                          [
                            0.5555555555555556,
                            "#d8576b"
                          ],
                          [
                            0.6666666666666666,
                            "#ed7953"
                          ],
                          [
                            0.7777777777777778,
                            "#fb9f3a"
                          ],
                          [
                            0.8888888888888888,
                            "#fdca26"
                          ],
                          [
                            1,
                            "#f0f921"
                          ]
                        ],
                        "type": "heatmap"
                      }
                    ],
                    "histogram": [
                      {
                        "marker": {
                          "pattern": {
                            "fillmode": "overlay",
                            "size": 10,
                            "solidity": 0.2
                          }
                        },
                        "type": "histogram"
                      }
                    ],
                    "histogram2d": [
                      {
                        "colorbar": {
                          "outlinewidth": 0,
                          "ticks": ""
                        },
                        "colorscale": [
                          [
                            0,
                            "#0d0887"
                          ],
                          [
                            0.1111111111111111,
                            "#46039f"
                          ],
                          [
                            0.2222222222222222,
                            "#7201a8"
                          ],
                          [
                            0.3333333333333333,
                            "#9c179e"
                          ],
                          [
                            0.4444444444444444,
                            "#bd3786"
                          ],
                          [
                            0.5555555555555556,
                            "#d8576b"
                          ],
                          [
                            0.6666666666666666,
                            "#ed7953"
                          ],
                          [
                            0.7777777777777778,
                            "#fb9f3a"
                          ],
                          [
                            0.8888888888888888,
                            "#fdca26"
                          ],
                          [
                            1,
                            "#f0f921"
                          ]
                        ],
                        "type": "histogram2d"
                      }
                    ],
                    "histogram2dcontour": [
                      {
                        "colorbar": {
                          "outlinewidth": 0,
                          "ticks": ""
                        },
                        "colorscale": [
                          [
                            0,
                            "#0d0887"
                          ],
                          [
                            0.1111111111111111,
                            "#46039f"
                          ],
                          [
                            0.2222222222222222,
                            "#7201a8"
                          ],
                          [
                            0.3333333333333333,
                            "#9c179e"
                          ],
                          [
                            0.4444444444444444,
                            "#bd3786"
                          ],
                          [
                            0.5555555555555556,
                            "#d8576b"
                          ],
                          [
                            0.6666666666666666,
                            "#ed7953"
                          ],
                          [
                            0.7777777777777778,
                            "#fb9f3a"
                          ],
                          [
                            0.8888888888888888,
                            "#fdca26"
                          ],
                          [
                            1,
                            "#f0f921"
                          ]
                        ],
                        "type": "histogram2dcontour"
                      }
                    ],
                    "mesh3d": [
                      {
                        "colorbar": {
                          "outlinewidth": 0,
                          "ticks": ""
                        },
                        "type": "mesh3d"
                      }
                    ],
                    "parcoords": [
                      {
                        "line": {
                          "colorbar": {
                            "outlinewidth": 0,
                            "ticks": ""
                          }
                        },
                        "type": "parcoords"
                      }
                    ],
                    "pie": [
                      {
                        "automargin": true,
                        "type": "pie"
                      }
                    ],
                    "scatter": [
                      {
                        "fillpattern": {
                          "fillmode": "overlay",
                          "size": 10,
                          "solidity": 0.2
                        },
                        "type": "scatter"
                      }
                    ],
                    "scatter3d": [
                      {
                        "line": {
                          "colorbar": {
                            "outlinewidth": 0,
                            "ticks": ""
                          }
                        },
                        "marker": {
                          "colorbar": {
                            "outlinewidth": 0,
                            "ticks": ""
                          }
                        },
                        "type": "scatter3d"
                      }
                    ],
                    "scattercarpet": [
                      {
                        "marker": {
                          "colorbar": {
                            "outlinewidth": 0,
                            "ticks": ""
                          }
                        },
                        "type": "scattercarpet"
                      }
                    ],
                    "scattergeo": [
                      {
                        "marker": {
                          "colorbar": {
                            "outlinewidth": 0,
                            "ticks": ""
                          }
                        },
                        "type": "scattergeo"
                      }
                    ],
                    "scattergl": [
                      {
                        "marker": {
                          "colorbar": {
                            "outlinewidth": 0,
                            "ticks": ""
                          }
                        },
                        "type": "scattergl"
                      }
                    ],
                    "scattermap": [
                      {
                        "marker": {
                          "colorbar": {
                            "outlinewidth": 0,
                            "ticks": ""
                          }
                        },
                        "type": "scattermap"
                      }
                    ],
                    "scattermapbox": [
                      {
                        "marker": {
                          "colorbar": {
                            "outlinewidth": 0,
                            "ticks": ""
                          }
                        },
                        "type": "scattermapbox"
                      }
                    ],
                    "scatterpolar": [
                      {
                        "marker": {
                          "colorbar": {
                            "outlinewidth": 0,
                            "ticks": ""
                          }
                        },
                        "type": "scatterpolar"
                      }
                    ],
                    "scatterpolargl": [
                      {
                        "marker": {
                          "colorbar": {
                            "outlinewidth": 0,
                            "ticks": ""
                          }
                        },
                        "type": "scatterpolargl"
                      }
                    ],
                    "scatterternary": [
                      {
                        "marker": {
                          "colorbar": {
                            "outlinewidth": 0,
                            "ticks": ""
                          }
                        },
                        "type": "scatterternary"
                      }
                    ],
                    "surface": [
                      {
                        "colorbar": {
                          "outlinewidth": 0,
                          "ticks": ""
                        },
                        "colorscale": [
                          [
                            0,
                            "#0d0887"
                          ],
                          [
                            0.1111111111111111,
                            "#46039f"
                          ],
                          [
                            0.2222222222222222,
                            "#7201a8"
                          ],
                          [
                            0.3333333333333333,
                            "#9c179e"
                          ],
                          [
                            0.4444444444444444,
                            "#bd3786"
                          ],
                          [
                            0.5555555555555556,
                            "#d8576b"
                          ],
                          [
                            0.6666666666666666,
                            "#ed7953"
                          ],
                          [
                            0.7777777777777778,
                            "#fb9f3a"
                          ],
                          [
                            0.8888888888888888,
                            "#fdca26"
                          ],
                          [
                            1,
                            "#f0f921"
                          ]
                        ],
                        "type": "surface"
                      }
                    ],
                    "table": [
                      {
                        "cells": {
                          "fill": {
                            "color": "#EBF0F8"
                          },
                          "line": {
                            "color": "white"
                          }
                        },
                        "header": {
                          "fill": {
                            "color": "#C8D4E3"
                          },
                          "line": {
                            "color": "white"
                          }
                        },
                        "type": "table"
                      }
                    ]
                  },
                  "layout": {
                    "annotationdefaults": {
                      "arrowcolor": "#2a3f5f",
                      "arrowhead": 0,
                      "arrowwidth": 1
                    },
                    "autotypenumbers": "strict",
                    "coloraxis": {
                      "colorbar": {
                        "outlinewidth": 0,
                        "ticks": ""
                      }
                    },
                    "colorscale": {
                      "diverging": [
                        [
                          0,
                          "#8e0152"
                        ],
                        [
                          0.1,
                          "#c51b7d"
                        ],
                        [
                          0.2,
                          "#de77ae"
                        ],
                        [
                          0.3,
                          "#f1b6da"
                        ],
                        [
                          0.4,
                          "#fde0ef"
                        ],
                        [
                          0.5,
                          "#f7f7f7"
                        ],
                        [
                          0.6,
                          "#e6f5d0"
                        ],
                        [
                          0.7,
                          "#b8e186"
                        ],
                        [
                          0.8,
                          "#7fbc41"
                        ],
                        [
                          0.9,
                          "#4d9221"
                        ],
                        [
                          1,
                          "#276419"
                        ]
                      ],
                      "sequential": [
                        [
                          0,
                          "#0d0887"
                        ],
                        [
                          0.1111111111111111,
                          "#46039f"
                        ],
                        [
                          0.2222222222222222,
                          "#7201a8"
                        ],
                        [
                          0.3333333333333333,
                          "#9c179e"
                        ],
                        [
                          0.4444444444444444,
                          "#bd3786"
                        ],
                        [
                          0.5555555555555556,
                          "#d8576b"
                        ],
                        [
                          0.6666666666666666,
                          "#ed7953"
                        ],
                        [
                          0.7777777777777778,
                          "#fb9f3a"
                        ],
                        [
                          0.8888888888888888,
                          "#fdca26"
                        ],
                        [
                          1,
                          "#f0f921"
                        ]
                      ],
                      "sequentialminus": [
                        [
                          0,
                          "#0d0887"
                        ],
                        [
                          0.1111111111111111,
                          "#46039f"
                        ],
                        [
                          0.2222222222222222,
                          "#7201a8"
                        ],
                        [
                          0.3333333333333333,
                          "#9c179e"
                        ],
                        [
                          0.4444444444444444,
                          "#bd3786"
                        ],
                        [
                          0.5555555555555556,
                          "#d8576b"
                        ],
                        [
                          0.6666666666666666,
                          "#ed7953"
                        ],
                        [
                          0.7777777777777778,
                          "#fb9f3a"
                        ],
                        [
                          0.8888888888888888,
                          "#fdca26"
                        ],
                        [
                          1,
                          "#f0f921"
                        ]
                      ]
                    },
                    "colorway": [
                      "#636efa",
                      "#EF553B",
                      "#00cc96",
                      "#ab63fa",
                      "#FFA15A",
                      "#19d3f3",
                      "#FF6692",
                      "#B6E880",
                      "#FF97FF",
                      "#FECB52"
                    ],
                    "font": {
                      "color": "#2a3f5f"
                    },
                    "geo": {
                      "bgcolor": "white",
                      "lakecolor": "white",
                      "landcolor": "#E5ECF6",
                      "showlakes": true,
                      "showland": true,
                      "subunitcolor": "white"
                    },
                    "hoverlabel": {
                      "align": "left"
                    },
                    "hovermode": "closest",
                    "mapbox": {
                      "style": "light"
                    },
                    "paper_bgcolor": "white",
                    "plot_bgcolor": "#E5ECF6",
                    "polar": {
                      "angularaxis": {
                        "gridcolor": "white",
                        "linecolor": "white",
                        "ticks": ""
                      },
                      "bgcolor": "#E5ECF6",
                      "radialaxis": {
                        "gridcolor": "white",
                        "linecolor": "white",
                        "ticks": ""
                      }
                    },
                    "scene": {
                      "xaxis": {
                        "backgroundcolor": "#E5ECF6",
                        "gridcolor": "white",
                        "gridwidth": 2,
                        "linecolor": "white",
                        "showbackground": true,
                        "ticks": "",
                        "zerolinecolor": "white"
                      },
                      "yaxis": {
                        "backgroundcolor": "#E5ECF6",
                        "gridcolor": "white",
                        "gridwidth": 2,
                        "linecolor": "white",
                        "showbackground": true,
                        "ticks": "",
                        "zerolinecolor": "white"
                      },
                      "zaxis": {
                        "backgroundcolor": "#E5ECF6",
                        "gridcolor": "white",
                        "gridwidth": 2,
                        "linecolor": "white",
                        "showbackground": true,
                        "ticks": "",
                        "zerolinecolor": "white"
                      }
                    },
                    "shapedefaults": {
                      "line": {
                        "color": "#2a3f5f"
                      }
                    },
                    "ternary": {
                      "aaxis": {
                        "gridcolor": "white",
                        "linecolor": "white",
                        "ticks": ""
                      },
                      "baxis": {
                        "gridcolor": "white",
                        "linecolor": "white",
                        "ticks": ""
                      },
                      "bgcolor": "#E5ECF6",
                      "caxis": {
                        "gridcolor": "white",
                        "linecolor": "white",
                        "ticks": ""
                      }
                    },
                    "title": {
                      "x": 0.05
                    },
                    "xaxis": {
                      "automargin": true,
                      "gridcolor": "white",
                      "linecolor": "white",
                      "ticks": "",
                      "title": {
                        "standoff": 15
                      },
                      "zerolinecolor": "white",
                      "zerolinewidth": 2
                    },
                    "yaxis": {
                      "automargin": true,
                      "gridcolor": "white",
                      "linecolor": "white",
                      "ticks": "",
                      "title": {
                        "standoff": 15
                      },
                      "zerolinecolor": "white",
                      "zerolinewidth": 2
                    }
                  }
                },
                "xaxis": {
                  "anchor": "y",
                  "domain": [
                    0,
                    1
                  ],
                  "title": {
                    "text": "x"
                  }
                },
                "yaxis": {
                  "anchor": "x",
                  "domain": [
                    0,
                    1
                  ],
                  "title": {
                    "text": "y"
                  }
                }
              }
            }
          },
          "metadata": {},
          "output_type": "display_data"
        }
      ],
      "source": [
        "fig = px.line(x = range(2,30), y = wcss)\n",
        "fig.show()"
      ]
    },
    {
      "cell_type": "markdown",
      "metadata": {},
      "source": [
        "Forte diminution jusqu’à K10.\n",
        "Au-delà de K10, la pente de la courbe s’adoucit progressivement, indiquant un retour décroissant de l’ajout de clusters supplémentaires.\n",
        "\n",
        "Notre coude semble se situer entre K10 et K12."
      ]
    },
    {
      "cell_type": "code",
      "execution_count": 267,
      "metadata": {},
      "outputs": [
        {
          "name": "stdout",
          "output_type": "stream",
          "text": [
            "Silhouette score for K=2 is 0.7204098726787465\n",
            "Silhouette score for K=3 is 0.37927419999374345\n",
            "Silhouette score for K=4 is 0.39848972613178774\n",
            "Silhouette score for K=5 is 0.4199982455606189\n",
            "Silhouette score for K=6 is 0.4521601015374075\n",
            "Silhouette score for K=7 is 0.4557896644192709\n",
            "Silhouette score for K=8 is 0.42161180132570586\n",
            "Silhouette score for K=9 is 0.42306796579510497\n",
            "Silhouette score for K=10 is 0.44135050919689633\n",
            "Silhouette score for K=11 is 0.38890346501595446\n",
            "Silhouette score for K=12 is 0.3930373729349778\n",
            "Silhouette score for K=13 is 0.3984104788977687\n",
            "Silhouette score for K=14 is 0.3963269046705927\n",
            "Silhouette score for K=15 is 0.395235000039253\n",
            "Silhouette score for K=16 is 0.3958738476094415\n",
            "Silhouette score for K=17 is 0.4037429413209185\n",
            "Silhouette score for K=18 is 0.3829163421793455\n",
            "Silhouette score for K=19 is 0.3821304883534233\n",
            "Silhouette score for K=20 is 0.38619304614858146\n",
            "Silhouette score for K=21 is 0.4029396158302642\n",
            "Silhouette score for K=22 is 0.40338687697199777\n",
            "Silhouette score for K=23 is 0.4028888959472619\n",
            "Silhouette score for K=24 is 0.4085170748231478\n",
            "Silhouette score for K=25 is 0.4053894619786644\n",
            "Silhouette score for K=26 is 0.4077712211150567\n",
            "Silhouette score for K=27 is 0.4074771019548186\n",
            "Silhouette score for K=28 is 0.40711194673716417\n",
            "Silhouette score for K=29 is 0.40749624589644245\n"
          ]
        }
      ],
      "source": [
        "# Calcul du score de silhouette\n",
        "sil = []\n",
        "k = []\n",
        "\n",
        "for i in range (2,30):\n",
        "    kmeans = KMeans(n_clusters= i, random_state = 0, n_init = 'auto')\n",
        "    kmeans.fit(df_day1)\n",
        "    sil.append(silhouette_score(df_day1, kmeans.predict(df_day1)))\n",
        "    k.append(i)\n",
        "    print(\"Silhouette score for K={} is {}\".format(i, sil[-1]))"
      ]
    },
    {
      "cell_type": "code",
      "execution_count": 268,
      "metadata": {},
      "outputs": [
        {
          "data": {
            "application/vnd.plotly.v1+json": {
              "config": {
                "plotlyServerURL": "https://plot.ly"
              },
              "data": [
                {
                  "hovertemplate": "x=%{x}<br>0=%{y}<extra></extra>",
                  "legendgroup": "",
                  "marker": {
                    "color": "#636efa",
                    "pattern": {
                      "shape": ""
                    }
                  },
                  "name": "",
                  "orientation": "v",
                  "showlegend": false,
                  "textposition": "auto",
                  "type": "bar",
                  "x": {
                    "bdata": "AgMEBQYHCAkKCwwNDg8QERITFBUWFxgZGhscHQ==",
                    "dtype": "i1"
                  },
                  "xaxis": "x",
                  "y": {
                    "bdata": "Gt1bAZkN5z/oI0xLB0bYPynLYQ3bgNk/5dpDUkDh2j9oMCrsMPDcP/9GommoK90/skyTELD72j9y0ESpixPbPyS2xDQWP9w/zdriW8vj2D+TIrc5hifZP7D5T6qOf9k/XXKFhWtd2T83zdm9h0vZP1XANEP/Vdk/UrU9ouzW2T836bCLs4HYP9sTkm/TdNg/UabJCWO32D8TPhA+w8nZP1W9DjEX0dk/XfYAgu7I2T+2RQ7NJCXaP3vZVaTm8dk/Fhu8duwY2j+L8rDWGhTaP0cCQ0QfDto/OY1XImsU2j8=",
                    "dtype": "f8"
                  },
                  "yaxis": "y"
                }
              ],
              "layout": {
                "barmode": "relative",
                "legend": {
                  "tracegroupgap": 0
                },
                "margin": {
                  "t": 60
                },
                "template": {
                  "data": {
                    "bar": [
                      {
                        "error_x": {
                          "color": "#2a3f5f"
                        },
                        "error_y": {
                          "color": "#2a3f5f"
                        },
                        "marker": {
                          "line": {
                            "color": "#E5ECF6",
                            "width": 0.5
                          },
                          "pattern": {
                            "fillmode": "overlay",
                            "size": 10,
                            "solidity": 0.2
                          }
                        },
                        "type": "bar"
                      }
                    ],
                    "barpolar": [
                      {
                        "marker": {
                          "line": {
                            "color": "#E5ECF6",
                            "width": 0.5
                          },
                          "pattern": {
                            "fillmode": "overlay",
                            "size": 10,
                            "solidity": 0.2
                          }
                        },
                        "type": "barpolar"
                      }
                    ],
                    "carpet": [
                      {
                        "aaxis": {
                          "endlinecolor": "#2a3f5f",
                          "gridcolor": "white",
                          "linecolor": "white",
                          "minorgridcolor": "white",
                          "startlinecolor": "#2a3f5f"
                        },
                        "baxis": {
                          "endlinecolor": "#2a3f5f",
                          "gridcolor": "white",
                          "linecolor": "white",
                          "minorgridcolor": "white",
                          "startlinecolor": "#2a3f5f"
                        },
                        "type": "carpet"
                      }
                    ],
                    "choropleth": [
                      {
                        "colorbar": {
                          "outlinewidth": 0,
                          "ticks": ""
                        },
                        "type": "choropleth"
                      }
                    ],
                    "contour": [
                      {
                        "colorbar": {
                          "outlinewidth": 0,
                          "ticks": ""
                        },
                        "colorscale": [
                          [
                            0,
                            "#0d0887"
                          ],
                          [
                            0.1111111111111111,
                            "#46039f"
                          ],
                          [
                            0.2222222222222222,
                            "#7201a8"
                          ],
                          [
                            0.3333333333333333,
                            "#9c179e"
                          ],
                          [
                            0.4444444444444444,
                            "#bd3786"
                          ],
                          [
                            0.5555555555555556,
                            "#d8576b"
                          ],
                          [
                            0.6666666666666666,
                            "#ed7953"
                          ],
                          [
                            0.7777777777777778,
                            "#fb9f3a"
                          ],
                          [
                            0.8888888888888888,
                            "#fdca26"
                          ],
                          [
                            1,
                            "#f0f921"
                          ]
                        ],
                        "type": "contour"
                      }
                    ],
                    "contourcarpet": [
                      {
                        "colorbar": {
                          "outlinewidth": 0,
                          "ticks": ""
                        },
                        "type": "contourcarpet"
                      }
                    ],
                    "heatmap": [
                      {
                        "colorbar": {
                          "outlinewidth": 0,
                          "ticks": ""
                        },
                        "colorscale": [
                          [
                            0,
                            "#0d0887"
                          ],
                          [
                            0.1111111111111111,
                            "#46039f"
                          ],
                          [
                            0.2222222222222222,
                            "#7201a8"
                          ],
                          [
                            0.3333333333333333,
                            "#9c179e"
                          ],
                          [
                            0.4444444444444444,
                            "#bd3786"
                          ],
                          [
                            0.5555555555555556,
                            "#d8576b"
                          ],
                          [
                            0.6666666666666666,
                            "#ed7953"
                          ],
                          [
                            0.7777777777777778,
                            "#fb9f3a"
                          ],
                          [
                            0.8888888888888888,
                            "#fdca26"
                          ],
                          [
                            1,
                            "#f0f921"
                          ]
                        ],
                        "type": "heatmap"
                      }
                    ],
                    "histogram": [
                      {
                        "marker": {
                          "pattern": {
                            "fillmode": "overlay",
                            "size": 10,
                            "solidity": 0.2
                          }
                        },
                        "type": "histogram"
                      }
                    ],
                    "histogram2d": [
                      {
                        "colorbar": {
                          "outlinewidth": 0,
                          "ticks": ""
                        },
                        "colorscale": [
                          [
                            0,
                            "#0d0887"
                          ],
                          [
                            0.1111111111111111,
                            "#46039f"
                          ],
                          [
                            0.2222222222222222,
                            "#7201a8"
                          ],
                          [
                            0.3333333333333333,
                            "#9c179e"
                          ],
                          [
                            0.4444444444444444,
                            "#bd3786"
                          ],
                          [
                            0.5555555555555556,
                            "#d8576b"
                          ],
                          [
                            0.6666666666666666,
                            "#ed7953"
                          ],
                          [
                            0.7777777777777778,
                            "#fb9f3a"
                          ],
                          [
                            0.8888888888888888,
                            "#fdca26"
                          ],
                          [
                            1,
                            "#f0f921"
                          ]
                        ],
                        "type": "histogram2d"
                      }
                    ],
                    "histogram2dcontour": [
                      {
                        "colorbar": {
                          "outlinewidth": 0,
                          "ticks": ""
                        },
                        "colorscale": [
                          [
                            0,
                            "#0d0887"
                          ],
                          [
                            0.1111111111111111,
                            "#46039f"
                          ],
                          [
                            0.2222222222222222,
                            "#7201a8"
                          ],
                          [
                            0.3333333333333333,
                            "#9c179e"
                          ],
                          [
                            0.4444444444444444,
                            "#bd3786"
                          ],
                          [
                            0.5555555555555556,
                            "#d8576b"
                          ],
                          [
                            0.6666666666666666,
                            "#ed7953"
                          ],
                          [
                            0.7777777777777778,
                            "#fb9f3a"
                          ],
                          [
                            0.8888888888888888,
                            "#fdca26"
                          ],
                          [
                            1,
                            "#f0f921"
                          ]
                        ],
                        "type": "histogram2dcontour"
                      }
                    ],
                    "mesh3d": [
                      {
                        "colorbar": {
                          "outlinewidth": 0,
                          "ticks": ""
                        },
                        "type": "mesh3d"
                      }
                    ],
                    "parcoords": [
                      {
                        "line": {
                          "colorbar": {
                            "outlinewidth": 0,
                            "ticks": ""
                          }
                        },
                        "type": "parcoords"
                      }
                    ],
                    "pie": [
                      {
                        "automargin": true,
                        "type": "pie"
                      }
                    ],
                    "scatter": [
                      {
                        "fillpattern": {
                          "fillmode": "overlay",
                          "size": 10,
                          "solidity": 0.2
                        },
                        "type": "scatter"
                      }
                    ],
                    "scatter3d": [
                      {
                        "line": {
                          "colorbar": {
                            "outlinewidth": 0,
                            "ticks": ""
                          }
                        },
                        "marker": {
                          "colorbar": {
                            "outlinewidth": 0,
                            "ticks": ""
                          }
                        },
                        "type": "scatter3d"
                      }
                    ],
                    "scattercarpet": [
                      {
                        "marker": {
                          "colorbar": {
                            "outlinewidth": 0,
                            "ticks": ""
                          }
                        },
                        "type": "scattercarpet"
                      }
                    ],
                    "scattergeo": [
                      {
                        "marker": {
                          "colorbar": {
                            "outlinewidth": 0,
                            "ticks": ""
                          }
                        },
                        "type": "scattergeo"
                      }
                    ],
                    "scattergl": [
                      {
                        "marker": {
                          "colorbar": {
                            "outlinewidth": 0,
                            "ticks": ""
                          }
                        },
                        "type": "scattergl"
                      }
                    ],
                    "scattermap": [
                      {
                        "marker": {
                          "colorbar": {
                            "outlinewidth": 0,
                            "ticks": ""
                          }
                        },
                        "type": "scattermap"
                      }
                    ],
                    "scattermapbox": [
                      {
                        "marker": {
                          "colorbar": {
                            "outlinewidth": 0,
                            "ticks": ""
                          }
                        },
                        "type": "scattermapbox"
                      }
                    ],
                    "scatterpolar": [
                      {
                        "marker": {
                          "colorbar": {
                            "outlinewidth": 0,
                            "ticks": ""
                          }
                        },
                        "type": "scatterpolar"
                      }
                    ],
                    "scatterpolargl": [
                      {
                        "marker": {
                          "colorbar": {
                            "outlinewidth": 0,
                            "ticks": ""
                          }
                        },
                        "type": "scatterpolargl"
                      }
                    ],
                    "scatterternary": [
                      {
                        "marker": {
                          "colorbar": {
                            "outlinewidth": 0,
                            "ticks": ""
                          }
                        },
                        "type": "scatterternary"
                      }
                    ],
                    "surface": [
                      {
                        "colorbar": {
                          "outlinewidth": 0,
                          "ticks": ""
                        },
                        "colorscale": [
                          [
                            0,
                            "#0d0887"
                          ],
                          [
                            0.1111111111111111,
                            "#46039f"
                          ],
                          [
                            0.2222222222222222,
                            "#7201a8"
                          ],
                          [
                            0.3333333333333333,
                            "#9c179e"
                          ],
                          [
                            0.4444444444444444,
                            "#bd3786"
                          ],
                          [
                            0.5555555555555556,
                            "#d8576b"
                          ],
                          [
                            0.6666666666666666,
                            "#ed7953"
                          ],
                          [
                            0.7777777777777778,
                            "#fb9f3a"
                          ],
                          [
                            0.8888888888888888,
                            "#fdca26"
                          ],
                          [
                            1,
                            "#f0f921"
                          ]
                        ],
                        "type": "surface"
                      }
                    ],
                    "table": [
                      {
                        "cells": {
                          "fill": {
                            "color": "#EBF0F8"
                          },
                          "line": {
                            "color": "white"
                          }
                        },
                        "header": {
                          "fill": {
                            "color": "#C8D4E3"
                          },
                          "line": {
                            "color": "white"
                          }
                        },
                        "type": "table"
                      }
                    ]
                  },
                  "layout": {
                    "annotationdefaults": {
                      "arrowcolor": "#2a3f5f",
                      "arrowhead": 0,
                      "arrowwidth": 1
                    },
                    "autotypenumbers": "strict",
                    "coloraxis": {
                      "colorbar": {
                        "outlinewidth": 0,
                        "ticks": ""
                      }
                    },
                    "colorscale": {
                      "diverging": [
                        [
                          0,
                          "#8e0152"
                        ],
                        [
                          0.1,
                          "#c51b7d"
                        ],
                        [
                          0.2,
                          "#de77ae"
                        ],
                        [
                          0.3,
                          "#f1b6da"
                        ],
                        [
                          0.4,
                          "#fde0ef"
                        ],
                        [
                          0.5,
                          "#f7f7f7"
                        ],
                        [
                          0.6,
                          "#e6f5d0"
                        ],
                        [
                          0.7,
                          "#b8e186"
                        ],
                        [
                          0.8,
                          "#7fbc41"
                        ],
                        [
                          0.9,
                          "#4d9221"
                        ],
                        [
                          1,
                          "#276419"
                        ]
                      ],
                      "sequential": [
                        [
                          0,
                          "#0d0887"
                        ],
                        [
                          0.1111111111111111,
                          "#46039f"
                        ],
                        [
                          0.2222222222222222,
                          "#7201a8"
                        ],
                        [
                          0.3333333333333333,
                          "#9c179e"
                        ],
                        [
                          0.4444444444444444,
                          "#bd3786"
                        ],
                        [
                          0.5555555555555556,
                          "#d8576b"
                        ],
                        [
                          0.6666666666666666,
                          "#ed7953"
                        ],
                        [
                          0.7777777777777778,
                          "#fb9f3a"
                        ],
                        [
                          0.8888888888888888,
                          "#fdca26"
                        ],
                        [
                          1,
                          "#f0f921"
                        ]
                      ],
                      "sequentialminus": [
                        [
                          0,
                          "#0d0887"
                        ],
                        [
                          0.1111111111111111,
                          "#46039f"
                        ],
                        [
                          0.2222222222222222,
                          "#7201a8"
                        ],
                        [
                          0.3333333333333333,
                          "#9c179e"
                        ],
                        [
                          0.4444444444444444,
                          "#bd3786"
                        ],
                        [
                          0.5555555555555556,
                          "#d8576b"
                        ],
                        [
                          0.6666666666666666,
                          "#ed7953"
                        ],
                        [
                          0.7777777777777778,
                          "#fb9f3a"
                        ],
                        [
                          0.8888888888888888,
                          "#fdca26"
                        ],
                        [
                          1,
                          "#f0f921"
                        ]
                      ]
                    },
                    "colorway": [
                      "#636efa",
                      "#EF553B",
                      "#00cc96",
                      "#ab63fa",
                      "#FFA15A",
                      "#19d3f3",
                      "#FF6692",
                      "#B6E880",
                      "#FF97FF",
                      "#FECB52"
                    ],
                    "font": {
                      "color": "#2a3f5f"
                    },
                    "geo": {
                      "bgcolor": "white",
                      "lakecolor": "white",
                      "landcolor": "#E5ECF6",
                      "showlakes": true,
                      "showland": true,
                      "subunitcolor": "white"
                    },
                    "hoverlabel": {
                      "align": "left"
                    },
                    "hovermode": "closest",
                    "mapbox": {
                      "style": "light"
                    },
                    "paper_bgcolor": "white",
                    "plot_bgcolor": "#E5ECF6",
                    "polar": {
                      "angularaxis": {
                        "gridcolor": "white",
                        "linecolor": "white",
                        "ticks": ""
                      },
                      "bgcolor": "#E5ECF6",
                      "radialaxis": {
                        "gridcolor": "white",
                        "linecolor": "white",
                        "ticks": ""
                      }
                    },
                    "scene": {
                      "xaxis": {
                        "backgroundcolor": "#E5ECF6",
                        "gridcolor": "white",
                        "gridwidth": 2,
                        "linecolor": "white",
                        "showbackground": true,
                        "ticks": "",
                        "zerolinecolor": "white"
                      },
                      "yaxis": {
                        "backgroundcolor": "#E5ECF6",
                        "gridcolor": "white",
                        "gridwidth": 2,
                        "linecolor": "white",
                        "showbackground": true,
                        "ticks": "",
                        "zerolinecolor": "white"
                      },
                      "zaxis": {
                        "backgroundcolor": "#E5ECF6",
                        "gridcolor": "white",
                        "gridwidth": 2,
                        "linecolor": "white",
                        "showbackground": true,
                        "ticks": "",
                        "zerolinecolor": "white"
                      }
                    },
                    "shapedefaults": {
                      "line": {
                        "color": "#2a3f5f"
                      }
                    },
                    "ternary": {
                      "aaxis": {
                        "gridcolor": "white",
                        "linecolor": "white",
                        "ticks": ""
                      },
                      "baxis": {
                        "gridcolor": "white",
                        "linecolor": "white",
                        "ticks": ""
                      },
                      "bgcolor": "#E5ECF6",
                      "caxis": {
                        "gridcolor": "white",
                        "linecolor": "white",
                        "ticks": ""
                      }
                    },
                    "title": {
                      "x": 0.05
                    },
                    "xaxis": {
                      "automargin": true,
                      "gridcolor": "white",
                      "linecolor": "white",
                      "ticks": "",
                      "title": {
                        "standoff": 15
                      },
                      "zerolinecolor": "white",
                      "zerolinewidth": 2
                    },
                    "yaxis": {
                      "automargin": true,
                      "gridcolor": "white",
                      "linecolor": "white",
                      "ticks": "",
                      "title": {
                        "standoff": 15
                      },
                      "zerolinecolor": "white",
                      "zerolinewidth": 2
                    }
                  }
                },
                "title": {
                  "text": "Silhouette Score par cluster"
                },
                "xaxis": {
                  "anchor": "y",
                  "domain": [
                    0,
                    1
                  ],
                  "title": {
                    "text": "Clusters"
                  }
                },
                "yaxis": {
                  "anchor": "x",
                  "domain": [
                    0,
                    1
                  ],
                  "title": {
                    "text": "Silhouette Score"
                  }
                }
              }
            }
          },
          "metadata": {},
          "output_type": "display_data"
        }
      ],
      "source": [
        "cluster_scores=pd.DataFrame(sil)\n",
        "k_frame = pd.Series(k)\n",
        "\n",
        "fig = px.bar(data_frame=cluster_scores,\n",
        "             x=k,\n",
        "             y=cluster_scores.iloc[:, -1]\n",
        "            )\n",
        "\n",
        "fig.update_layout(\n",
        "    yaxis_title=\"Silhouette Score\",\n",
        "    xaxis_title=\"Clusters\",\n",
        "    title=\"Silhouette Score par cluster\"\n",
        ")\n",
        "\n",
        "fig.show()"
      ]
    },
    {
      "cell_type": "markdown",
      "metadata": {},
      "source": [
        "Le score est très élevé pour K2, mais les clusters sont trop globaux pour une utilisation opérationnelle.\n",
        "Entre K6 et K10, le score remonte légèrement, suggérant un bon compromis entre compacité et séparation.\n",
        "Au-delà de K10, le score se stabilise autour de 0.40–0.41, ce qui indique que l’ajout de clusters supplémentaires n’améliore pas vraiment la qualité.\n",
        "\n",
        "K10 semble optimal pour ce jeu de données :\n",
        "\n",
        "- Permet de créer des clusters suffisamment détaillés pour distinguer des zones géographiques pertinentes.\n",
        "\n",
        "- Maintient une bonne compacité et séparation.\n",
        "\n",
        "Ce choix offre un bon compromis entre granularité opérationnelle et qualité statistique des clusters "
      ]
    },
    {
      "cell_type": "code",
      "execution_count": 269,
      "metadata": {},
      "outputs": [
        {
          "data": {
            "application/vnd.plotly.v1+json": {
              "config": {
                "plotlyServerURL": "https://plot.ly"
              },
              "data": [
                {
                  "hovertemplate": "Lat=%{lat}<br>Lon=%{lon}<br>Kmeans=%{marker.color}<extra></extra>",
                  "lat": {
                    "bdata": "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",
                    "dtype": "f8"
                  },
                  "legendgroup": "",
                  "lon": {
                    "bdata": "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",
                    "dtype": "f8"
                  },
                  "marker": {
                    "color": {
                      "bdata": "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",
                      "dtype": "i4"
                    },
                    "coloraxis": "coloraxis"
                  },
                  "mode": "markers",
                  "name": "",
                  "showlegend": false,
                  "subplot": "map",
                  "type": "scattermap"
                }
              ],
              "layout": {
                "coloraxis": {
                  "colorbar": {
                    "title": {
                      "text": "Kmeans"
                    }
                  },
                  "colorscale": [
                    [
                      0,
                      "#0d0887"
                    ],
                    [
                      0.1111111111111111,
                      "#46039f"
                    ],
                    [
                      0.2222222222222222,
                      "#7201a8"
                    ],
                    [
                      0.3333333333333333,
                      "#9c179e"
                    ],
                    [
                      0.4444444444444444,
                      "#bd3786"
                    ],
                    [
                      0.5555555555555556,
                      "#d8576b"
                    ],
                    [
                      0.6666666666666666,
                      "#ed7953"
                    ],
                    [
                      0.7777777777777778,
                      "#fb9f3a"
                    ],
                    [
                      0.8888888888888888,
                      "#fdca26"
                    ],
                    [
                      1,
                      "#f0f921"
                    ]
                  ]
                },
                "legend": {
                  "tracegroupgap": 0
                },
                "map": {
                  "center": {
                    "lat": 40.74135157669696,
                    "lon": -73.97533013094602
                  },
                  "domain": {
                    "x": [
                      0,
                      1
                    ],
                    "y": [
                      0,
                      1
                    ]
                  },
                  "style": "carto-positron",
                  "zoom": 9
                },
                "mapbox": {
                  "center": {
                    "lat": 40.74135157669696,
                    "lon": -73.97533013094602
                  },
                  "style": "carto-positron",
                  "zoom": 9
                },
                "template": {
                  "data": {
                    "bar": [
                      {
                        "error_x": {
                          "color": "#2a3f5f"
                        },
                        "error_y": {
                          "color": "#2a3f5f"
                        },
                        "marker": {
                          "line": {
                            "color": "#E5ECF6",
                            "width": 0.5
                          },
                          "pattern": {
                            "fillmode": "overlay",
                            "size": 10,
                            "solidity": 0.2
                          }
                        },
                        "type": "bar"
                      }
                    ],
                    "barpolar": [
                      {
                        "marker": {
                          "line": {
                            "color": "#E5ECF6",
                            "width": 0.5
                          },
                          "pattern": {
                            "fillmode": "overlay",
                            "size": 10,
                            "solidity": 0.2
                          }
                        },
                        "type": "barpolar"
                      }
                    ],
                    "carpet": [
                      {
                        "aaxis": {
                          "endlinecolor": "#2a3f5f",
                          "gridcolor": "white",
                          "linecolor": "white",
                          "minorgridcolor": "white",
                          "startlinecolor": "#2a3f5f"
                        },
                        "baxis": {
                          "endlinecolor": "#2a3f5f",
                          "gridcolor": "white",
                          "linecolor": "white",
                          "minorgridcolor": "white",
                          "startlinecolor": "#2a3f5f"
                        },
                        "type": "carpet"
                      }
                    ],
                    "choropleth": [
                      {
                        "colorbar": {
                          "outlinewidth": 0,
                          "ticks": ""
                        },
                        "type": "choropleth"
                      }
                    ],
                    "contour": [
                      {
                        "colorbar": {
                          "outlinewidth": 0,
                          "ticks": ""
                        },
                        "colorscale": [
                          [
                            0,
                            "#0d0887"
                          ],
                          [
                            0.1111111111111111,
                            "#46039f"
                          ],
                          [
                            0.2222222222222222,
                            "#7201a8"
                          ],
                          [
                            0.3333333333333333,
                            "#9c179e"
                          ],
                          [
                            0.4444444444444444,
                            "#bd3786"
                          ],
                          [
                            0.5555555555555556,
                            "#d8576b"
                          ],
                          [
                            0.6666666666666666,
                            "#ed7953"
                          ],
                          [
                            0.7777777777777778,
                            "#fb9f3a"
                          ],
                          [
                            0.8888888888888888,
                            "#fdca26"
                          ],
                          [
                            1,
                            "#f0f921"
                          ]
                        ],
                        "type": "contour"
                      }
                    ],
                    "contourcarpet": [
                      {
                        "colorbar": {
                          "outlinewidth": 0,
                          "ticks": ""
                        },
                        "type": "contourcarpet"
                      }
                    ],
                    "heatmap": [
                      {
                        "colorbar": {
                          "outlinewidth": 0,
                          "ticks": ""
                        },
                        "colorscale": [
                          [
                            0,
                            "#0d0887"
                          ],
                          [
                            0.1111111111111111,
                            "#46039f"
                          ],
                          [
                            0.2222222222222222,
                            "#7201a8"
                          ],
                          [
                            0.3333333333333333,
                            "#9c179e"
                          ],
                          [
                            0.4444444444444444,
                            "#bd3786"
                          ],
                          [
                            0.5555555555555556,
                            "#d8576b"
                          ],
                          [
                            0.6666666666666666,
                            "#ed7953"
                          ],
                          [
                            0.7777777777777778,
                            "#fb9f3a"
                          ],
                          [
                            0.8888888888888888,
                            "#fdca26"
                          ],
                          [
                            1,
                            "#f0f921"
                          ]
                        ],
                        "type": "heatmap"
                      }
                    ],
                    "histogram": [
                      {
                        "marker": {
                          "pattern": {
                            "fillmode": "overlay",
                            "size": 10,
                            "solidity": 0.2
                          }
                        },
                        "type": "histogram"
                      }
                    ],
                    "histogram2d": [
                      {
                        "colorbar": {
                          "outlinewidth": 0,
                          "ticks": ""
                        },
                        "colorscale": [
                          [
                            0,
                            "#0d0887"
                          ],
                          [
                            0.1111111111111111,
                            "#46039f"
                          ],
                          [
                            0.2222222222222222,
                            "#7201a8"
                          ],
                          [
                            0.3333333333333333,
                            "#9c179e"
                          ],
                          [
                            0.4444444444444444,
                            "#bd3786"
                          ],
                          [
                            0.5555555555555556,
                            "#d8576b"
                          ],
                          [
                            0.6666666666666666,
                            "#ed7953"
                          ],
                          [
                            0.7777777777777778,
                            "#fb9f3a"
                          ],
                          [
                            0.8888888888888888,
                            "#fdca26"
                          ],
                          [
                            1,
                            "#f0f921"
                          ]
                        ],
                        "type": "histogram2d"
                      }
                    ],
                    "histogram2dcontour": [
                      {
                        "colorbar": {
                          "outlinewidth": 0,
                          "ticks": ""
                        },
                        "colorscale": [
                          [
                            0,
                            "#0d0887"
                          ],
                          [
                            0.1111111111111111,
                            "#46039f"
                          ],
                          [
                            0.2222222222222222,
                            "#7201a8"
                          ],
                          [
                            0.3333333333333333,
                            "#9c179e"
                          ],
                          [
                            0.4444444444444444,
                            "#bd3786"
                          ],
                          [
                            0.5555555555555556,
                            "#d8576b"
                          ],
                          [
                            0.6666666666666666,
                            "#ed7953"
                          ],
                          [
                            0.7777777777777778,
                            "#fb9f3a"
                          ],
                          [
                            0.8888888888888888,
                            "#fdca26"
                          ],
                          [
                            1,
                            "#f0f921"
                          ]
                        ],
                        "type": "histogram2dcontour"
                      }
                    ],
                    "mesh3d": [
                      {
                        "colorbar": {
                          "outlinewidth": 0,
                          "ticks": ""
                        },
                        "type": "mesh3d"
                      }
                    ],
                    "parcoords": [
                      {
                        "line": {
                          "colorbar": {
                            "outlinewidth": 0,
                            "ticks": ""
                          }
                        },
                        "type": "parcoords"
                      }
                    ],
                    "pie": [
                      {
                        "automargin": true,
                        "type": "pie"
                      }
                    ],
                    "scatter": [
                      {
                        "fillpattern": {
                          "fillmode": "overlay",
                          "size": 10,
                          "solidity": 0.2
                        },
                        "type": "scatter"
                      }
                    ],
                    "scatter3d": [
                      {
                        "line": {
                          "colorbar": {
                            "outlinewidth": 0,
                            "ticks": ""
                          }
                        },
                        "marker": {
                          "colorbar": {
                            "outlinewidth": 0,
                            "ticks": ""
                          }
                        },
                        "type": "scatter3d"
                      }
                    ],
                    "scattercarpet": [
                      {
                        "marker": {
                          "colorbar": {
                            "outlinewidth": 0,
                            "ticks": ""
                          }
                        },
                        "type": "scattercarpet"
                      }
                    ],
                    "scattergeo": [
                      {
                        "marker": {
                          "colorbar": {
                            "outlinewidth": 0,
                            "ticks": ""
                          }
                        },
                        "type": "scattergeo"
                      }
                    ],
                    "scattergl": [
                      {
                        "marker": {
                          "colorbar": {
                            "outlinewidth": 0,
                            "ticks": ""
                          }
                        },
                        "type": "scattergl"
                      }
                    ],
                    "scattermap": [
                      {
                        "marker": {
                          "colorbar": {
                            "outlinewidth": 0,
                            "ticks": ""
                          }
                        },
                        "type": "scattermap"
                      }
                    ],
                    "scattermapbox": [
                      {
                        "marker": {
                          "colorbar": {
                            "outlinewidth": 0,
                            "ticks": ""
                          }
                        },
                        "type": "scattermapbox"
                      }
                    ],
                    "scatterpolar": [
                      {
                        "marker": {
                          "colorbar": {
                            "outlinewidth": 0,
                            "ticks": ""
                          }
                        },
                        "type": "scatterpolar"
                      }
                    ],
                    "scatterpolargl": [
                      {
                        "marker": {
                          "colorbar": {
                            "outlinewidth": 0,
                            "ticks": ""
                          }
                        },
                        "type": "scatterpolargl"
                      }
                    ],
                    "scatterternary": [
                      {
                        "marker": {
                          "colorbar": {
                            "outlinewidth": 0,
                            "ticks": ""
                          }
                        },
                        "type": "scatterternary"
                      }
                    ],
                    "surface": [
                      {
                        "colorbar": {
                          "outlinewidth": 0,
                          "ticks": ""
                        },
                        "colorscale": [
                          [
                            0,
                            "#0d0887"
                          ],
                          [
                            0.1111111111111111,
                            "#46039f"
                          ],
                          [
                            0.2222222222222222,
                            "#7201a8"
                          ],
                          [
                            0.3333333333333333,
                            "#9c179e"
                          ],
                          [
                            0.4444444444444444,
                            "#bd3786"
                          ],
                          [
                            0.5555555555555556,
                            "#d8576b"
                          ],
                          [
                            0.6666666666666666,
                            "#ed7953"
                          ],
                          [
                            0.7777777777777778,
                            "#fb9f3a"
                          ],
                          [
                            0.8888888888888888,
                            "#fdca26"
                          ],
                          [
                            1,
                            "#f0f921"
                          ]
                        ],
                        "type": "surface"
                      }
                    ],
                    "table": [
                      {
                        "cells": {
                          "fill": {
                            "color": "#EBF0F8"
                          },
                          "line": {
                            "color": "white"
                          }
                        },
                        "header": {
                          "fill": {
                            "color": "#C8D4E3"
                          },
                          "line": {
                            "color": "white"
                          }
                        },
                        "type": "table"
                      }
                    ]
                  },
                  "layout": {
                    "annotationdefaults": {
                      "arrowcolor": "#2a3f5f",
                      "arrowhead": 0,
                      "arrowwidth": 1
                    },
                    "autotypenumbers": "strict",
                    "coloraxis": {
                      "colorbar": {
                        "outlinewidth": 0,
                        "ticks": ""
                      }
                    },
                    "colorscale": {
                      "diverging": [
                        [
                          0,
                          "#8e0152"
                        ],
                        [
                          0.1,
                          "#c51b7d"
                        ],
                        [
                          0.2,
                          "#de77ae"
                        ],
                        [
                          0.3,
                          "#f1b6da"
                        ],
                        [
                          0.4,
                          "#fde0ef"
                        ],
                        [
                          0.5,
                          "#f7f7f7"
                        ],
                        [
                          0.6,
                          "#e6f5d0"
                        ],
                        [
                          0.7,
                          "#b8e186"
                        ],
                        [
                          0.8,
                          "#7fbc41"
                        ],
                        [
                          0.9,
                          "#4d9221"
                        ],
                        [
                          1,
                          "#276419"
                        ]
                      ],
                      "sequential": [
                        [
                          0,
                          "#0d0887"
                        ],
                        [
                          0.1111111111111111,
                          "#46039f"
                        ],
                        [
                          0.2222222222222222,
                          "#7201a8"
                        ],
                        [
                          0.3333333333333333,
                          "#9c179e"
                        ],
                        [
                          0.4444444444444444,
                          "#bd3786"
                        ],
                        [
                          0.5555555555555556,
                          "#d8576b"
                        ],
                        [
                          0.6666666666666666,
                          "#ed7953"
                        ],
                        [
                          0.7777777777777778,
                          "#fb9f3a"
                        ],
                        [
                          0.8888888888888888,
                          "#fdca26"
                        ],
                        [
                          1,
                          "#f0f921"
                        ]
                      ],
                      "sequentialminus": [
                        [
                          0,
                          "#0d0887"
                        ],
                        [
                          0.1111111111111111,
                          "#46039f"
                        ],
                        [
                          0.2222222222222222,
                          "#7201a8"
                        ],
                        [
                          0.3333333333333333,
                          "#9c179e"
                        ],
                        [
                          0.4444444444444444,
                          "#bd3786"
                        ],
                        [
                          0.5555555555555556,
                          "#d8576b"
                        ],
                        [
                          0.6666666666666666,
                          "#ed7953"
                        ],
                        [
                          0.7777777777777778,
                          "#fb9f3a"
                        ],
                        [
                          0.8888888888888888,
                          "#fdca26"
                        ],
                        [
                          1,
                          "#f0f921"
                        ]
                      ]
                    },
                    "colorway": [
                      "#636efa",
                      "#EF553B",
                      "#00cc96",
                      "#ab63fa",
                      "#FFA15A",
                      "#19d3f3",
                      "#FF6692",
                      "#B6E880",
                      "#FF97FF",
                      "#FECB52"
                    ],
                    "font": {
                      "color": "#2a3f5f"
                    },
                    "geo": {
                      "bgcolor": "white",
                      "lakecolor": "white",
                      "landcolor": "#E5ECF6",
                      "showlakes": true,
                      "showland": true,
                      "subunitcolor": "white"
                    },
                    "hoverlabel": {
                      "align": "left"
                    },
                    "hovermode": "closest",
                    "mapbox": {
                      "style": "light"
                    },
                    "paper_bgcolor": "white",
                    "plot_bgcolor": "#E5ECF6",
                    "polar": {
                      "angularaxis": {
                        "gridcolor": "white",
                        "linecolor": "white",
                        "ticks": ""
                      },
                      "bgcolor": "#E5ECF6",
                      "radialaxis": {
                        "gridcolor": "white",
                        "linecolor": "white",
                        "ticks": ""
                      }
                    },
                    "scene": {
                      "xaxis": {
                        "backgroundcolor": "#E5ECF6",
                        "gridcolor": "white",
                        "gridwidth": 2,
                        "linecolor": "white",
                        "showbackground": true,
                        "ticks": "",
                        "zerolinecolor": "white"
                      },
                      "yaxis": {
                        "backgroundcolor": "#E5ECF6",
                        "gridcolor": "white",
                        "gridwidth": 2,
                        "linecolor": "white",
                        "showbackground": true,
                        "ticks": "",
                        "zerolinecolor": "white"
                      },
                      "zaxis": {
                        "backgroundcolor": "#E5ECF6",
                        "gridcolor": "white",
                        "gridwidth": 2,
                        "linecolor": "white",
                        "showbackground": true,
                        "ticks": "",
                        "zerolinecolor": "white"
                      }
                    },
                    "shapedefaults": {
                      "line": {
                        "color": "#2a3f5f"
                      }
                    },
                    "ternary": {
                      "aaxis": {
                        "gridcolor": "white",
                        "linecolor": "white",
                        "ticks": ""
                      },
                      "baxis": {
                        "gridcolor": "white",
                        "linecolor": "white",
                        "ticks": ""
                      },
                      "bgcolor": "#E5ECF6",
                      "caxis": {
                        "gridcolor": "white",
                        "linecolor": "white",
                        "ticks": ""
                      }
                    },
                    "title": {
                      "x": 0.05
                    },
                    "xaxis": {
                      "automargin": true,
                      "gridcolor": "white",
                      "linecolor": "white",
                      "ticks": "",
                      "title": {
                        "standoff": 15
                      },
                      "zerolinecolor": "white",
                      "zerolinewidth": 2
                    },
                    "yaxis": {
                      "automargin": true,
                      "gridcolor": "white",
                      "linecolor": "white",
                      "ticks": "",
                      "title": {
                        "standoff": 15
                      },
                      "zerolinecolor": "white",
                      "zerolinewidth": 2
                    }
                  }
                },
                "title": {
                  "text": "HOT POINT Thursday"
                }
              }
            }
          },
          "metadata": {},
          "output_type": "display_data"
        }
      ],
      "source": [
        "kmeans = KMeans(n_clusters=10, random_state=42)\n",
        "kmeans.fit(df_day1)\n",
        "df_day1 = df_day1.copy()\n",
        "df_day1.loc[:, 'Kmeans'] = kmeans.predict(df_day1)\n",
        "\n",
        "fig = px.scatter_map(\n",
        "        df_day1,\n",
        "        lat=\"Lat\",\n",
        "        lon=\"Lon\",\n",
        "        color=\"Kmeans\",\n",
        "        map_style=\"carto-positron\",\n",
        "        zoom=9,\n",
        "        title= f\"HOT POINT {day}\"\n",
        ")\n",
        "\n",
        "fig.show()"
      ]
    },
    {
      "cell_type": "markdown",
      "metadata": {},
      "source": [
        "### Analyse de densité et visualisation des clusters\n",
        "\n",
        "Nous affichons les centres des clusters avec des cercles dont la taille est proportionnelle à la densité des trajets. Cela permet d’identifier rapidement les zones les plus actives et stratégiques pour Uber à un jour et une heure donnés."
      ]
    },
    {
      "cell_type": "code",
      "execution_count": 270,
      "metadata": {},
      "outputs": [
        {
          "data": {
            "application/vnd.plotly.v1+json": {
              "config": {
                "plotlyServerURL": "https://plot.ly"
              },
              "data": [
                {
                  "customdata": {
                    "bdata": "AAAAAAAwo0CeoiGCK11EQFdbB9IHgFLAAAAAAACAjUA2yft8J2REQCm3cyxXfVLAAAAAAADAUED9TQl6ol1EQJ2CKd5EdVLAAAAAAAAAFECmRBK9jDpEQO0S1VsDn1LAAAAAAAAgY0DFcrqbFlNEQGvbGCP6cVLAAAAAAABAUUDRgcTNFVtEQEicZTfci1LAAAAAAACipUC3zSptsmBEQJOcTGbPflLAAAAAAAAAM0BrOE2WbGlEQAMR2Rm7Y1LAAAAAAABAbUASFGxInWVEQHnyClXsd1LAAAAAAAAAiEBMXLTtKVhEQGVjOLGyfVLA",
                    "dtype": "f8",
                    "shape": "10, 3"
                  },
                  "hovertemplate": "<b>%{hovertext}</b><br><br>density_norm=%{marker.size}<br>density=%{customdata[0]}<br>Kmeans=%{marker.color}<extra></extra>",
                  "hovertext": {
                    "bdata": "AAAAAAAAAAAAAAAAAADwPwAAAAAAAABAAAAAAAAACEAAAAAAAAAQQAAAAAAAABRAAAAAAAAAGEAAAAAAAAAcQAAAAAAAACBAAAAAAAAAIkA=",
                    "dtype": "f8"
                  },
                  "lat": {
                    "bdata": "nqIhgitdREA2yft8J2REQP1NCXqiXURApkQSvYw6REDFcrqbFlNEQNGBxM0VW0RAt80qbbJgREBrOE2WbGlEQBIUbEidZURATFy07SlYREA=",
                    "dtype": "f8"
                  },
                  "legendgroup": "",
                  "lon": {
                    "bdata": "V1sH0geAUsApt3MsV31SwJ2CKd5EdVLA7RLVWwOfUsBr2xgj+nFSwEicZTfci1LAk5xMZs9+UsADEdkZu2NSwHnyClXsd1LAZWM4sbJ9UsA=",
                    "dtype": "f8"
                  },
                  "marker": {
                    "color": {
                      "bdata": "AAAAAAEAAAACAAAAAwAAAAQAAAAFAAAABgAAAAcAAAAIAAAACQAAAA==",
                      "dtype": "i4"
                    },
                    "coloraxis": "coloraxis",
                    "size": {
                      "bdata": "ZOYE248sVkBXFOTNvQtBQECMo2dvWwNAG696AfAcxz+l6jZOEhoWQDpqE85b7wNAAAAAAAAAWUAn85o0F/XlP9gcSLTC5iBA7J75NFO8O0A=",
                      "dtype": "f8"
                    },
                    "sizemode": "area",
                    "sizeref": 0.25
                  },
                  "mode": "markers",
                  "name": "",
                  "showlegend": false,
                  "subplot": "map",
                  "type": "scattermap"
                }
              ],
              "layout": {
                "coloraxis": {
                  "colorbar": {
                    "title": {
                      "text": "Kmeans"
                    }
                  },
                  "colorscale": [
                    [
                      0,
                      "#0d0887"
                    ],
                    [
                      0.1111111111111111,
                      "#46039f"
                    ],
                    [
                      0.2222222222222222,
                      "#7201a8"
                    ],
                    [
                      0.3333333333333333,
                      "#9c179e"
                    ],
                    [
                      0.4444444444444444,
                      "#bd3786"
                    ],
                    [
                      0.5555555555555556,
                      "#d8576b"
                    ],
                    [
                      0.6666666666666666,
                      "#ed7953"
                    ],
                    [
                      0.7777777777777778,
                      "#fb9f3a"
                    ],
                    [
                      0.8888888888888888,
                      "#fdca26"
                    ],
                    [
                      1,
                      "#f0f921"
                    ]
                  ]
                },
                "legend": {
                  "itemsizing": "constant",
                  "tracegroupgap": 0
                },
                "map": {
                  "center": {
                    "lat": 40.712173000742325,
                    "lon": -73.96195739220245
                  },
                  "domain": {
                    "x": [
                      0,
                      1
                    ],
                    "y": [
                      0,
                      1
                    ]
                  },
                  "style": "carto-positron",
                  "zoom": 9
                },
                "mapbox": {
                  "center": {
                    "lat": 40.712173000742325,
                    "lon": -73.96195739220245
                  },
                  "style": "carto-positron",
                  "zoom": 9
                },
                "template": {
                  "data": {
                    "bar": [
                      {
                        "error_x": {
                          "color": "#2a3f5f"
                        },
                        "error_y": {
                          "color": "#2a3f5f"
                        },
                        "marker": {
                          "line": {
                            "color": "#E5ECF6",
                            "width": 0.5
                          },
                          "pattern": {
                            "fillmode": "overlay",
                            "size": 10,
                            "solidity": 0.2
                          }
                        },
                        "type": "bar"
                      }
                    ],
                    "barpolar": [
                      {
                        "marker": {
                          "line": {
                            "color": "#E5ECF6",
                            "width": 0.5
                          },
                          "pattern": {
                            "fillmode": "overlay",
                            "size": 10,
                            "solidity": 0.2
                          }
                        },
                        "type": "barpolar"
                      }
                    ],
                    "carpet": [
                      {
                        "aaxis": {
                          "endlinecolor": "#2a3f5f",
                          "gridcolor": "white",
                          "linecolor": "white",
                          "minorgridcolor": "white",
                          "startlinecolor": "#2a3f5f"
                        },
                        "baxis": {
                          "endlinecolor": "#2a3f5f",
                          "gridcolor": "white",
                          "linecolor": "white",
                          "minorgridcolor": "white",
                          "startlinecolor": "#2a3f5f"
                        },
                        "type": "carpet"
                      }
                    ],
                    "choropleth": [
                      {
                        "colorbar": {
                          "outlinewidth": 0,
                          "ticks": ""
                        },
                        "type": "choropleth"
                      }
                    ],
                    "contour": [
                      {
                        "colorbar": {
                          "outlinewidth": 0,
                          "ticks": ""
                        },
                        "colorscale": [
                          [
                            0,
                            "#0d0887"
                          ],
                          [
                            0.1111111111111111,
                            "#46039f"
                          ],
                          [
                            0.2222222222222222,
                            "#7201a8"
                          ],
                          [
                            0.3333333333333333,
                            "#9c179e"
                          ],
                          [
                            0.4444444444444444,
                            "#bd3786"
                          ],
                          [
                            0.5555555555555556,
                            "#d8576b"
                          ],
                          [
                            0.6666666666666666,
                            "#ed7953"
                          ],
                          [
                            0.7777777777777778,
                            "#fb9f3a"
                          ],
                          [
                            0.8888888888888888,
                            "#fdca26"
                          ],
                          [
                            1,
                            "#f0f921"
                          ]
                        ],
                        "type": "contour"
                      }
                    ],
                    "contourcarpet": [
                      {
                        "colorbar": {
                          "outlinewidth": 0,
                          "ticks": ""
                        },
                        "type": "contourcarpet"
                      }
                    ],
                    "heatmap": [
                      {
                        "colorbar": {
                          "outlinewidth": 0,
                          "ticks": ""
                        },
                        "colorscale": [
                          [
                            0,
                            "#0d0887"
                          ],
                          [
                            0.1111111111111111,
                            "#46039f"
                          ],
                          [
                            0.2222222222222222,
                            "#7201a8"
                          ],
                          [
                            0.3333333333333333,
                            "#9c179e"
                          ],
                          [
                            0.4444444444444444,
                            "#bd3786"
                          ],
                          [
                            0.5555555555555556,
                            "#d8576b"
                          ],
                          [
                            0.6666666666666666,
                            "#ed7953"
                          ],
                          [
                            0.7777777777777778,
                            "#fb9f3a"
                          ],
                          [
                            0.8888888888888888,
                            "#fdca26"
                          ],
                          [
                            1,
                            "#f0f921"
                          ]
                        ],
                        "type": "heatmap"
                      }
                    ],
                    "histogram": [
                      {
                        "marker": {
                          "pattern": {
                            "fillmode": "overlay",
                            "size": 10,
                            "solidity": 0.2
                          }
                        },
                        "type": "histogram"
                      }
                    ],
                    "histogram2d": [
                      {
                        "colorbar": {
                          "outlinewidth": 0,
                          "ticks": ""
                        },
                        "colorscale": [
                          [
                            0,
                            "#0d0887"
                          ],
                          [
                            0.1111111111111111,
                            "#46039f"
                          ],
                          [
                            0.2222222222222222,
                            "#7201a8"
                          ],
                          [
                            0.3333333333333333,
                            "#9c179e"
                          ],
                          [
                            0.4444444444444444,
                            "#bd3786"
                          ],
                          [
                            0.5555555555555556,
                            "#d8576b"
                          ],
                          [
                            0.6666666666666666,
                            "#ed7953"
                          ],
                          [
                            0.7777777777777778,
                            "#fb9f3a"
                          ],
                          [
                            0.8888888888888888,
                            "#fdca26"
                          ],
                          [
                            1,
                            "#f0f921"
                          ]
                        ],
                        "type": "histogram2d"
                      }
                    ],
                    "histogram2dcontour": [
                      {
                        "colorbar": {
                          "outlinewidth": 0,
                          "ticks": ""
                        },
                        "colorscale": [
                          [
                            0,
                            "#0d0887"
                          ],
                          [
                            0.1111111111111111,
                            "#46039f"
                          ],
                          [
                            0.2222222222222222,
                            "#7201a8"
                          ],
                          [
                            0.3333333333333333,
                            "#9c179e"
                          ],
                          [
                            0.4444444444444444,
                            "#bd3786"
                          ],
                          [
                            0.5555555555555556,
                            "#d8576b"
                          ],
                          [
                            0.6666666666666666,
                            "#ed7953"
                          ],
                          [
                            0.7777777777777778,
                            "#fb9f3a"
                          ],
                          [
                            0.8888888888888888,
                            "#fdca26"
                          ],
                          [
                            1,
                            "#f0f921"
                          ]
                        ],
                        "type": "histogram2dcontour"
                      }
                    ],
                    "mesh3d": [
                      {
                        "colorbar": {
                          "outlinewidth": 0,
                          "ticks": ""
                        },
                        "type": "mesh3d"
                      }
                    ],
                    "parcoords": [
                      {
                        "line": {
                          "colorbar": {
                            "outlinewidth": 0,
                            "ticks": ""
                          }
                        },
                        "type": "parcoords"
                      }
                    ],
                    "pie": [
                      {
                        "automargin": true,
                        "type": "pie"
                      }
                    ],
                    "scatter": [
                      {
                        "fillpattern": {
                          "fillmode": "overlay",
                          "size": 10,
                          "solidity": 0.2
                        },
                        "type": "scatter"
                      }
                    ],
                    "scatter3d": [
                      {
                        "line": {
                          "colorbar": {
                            "outlinewidth": 0,
                            "ticks": ""
                          }
                        },
                        "marker": {
                          "colorbar": {
                            "outlinewidth": 0,
                            "ticks": ""
                          }
                        },
                        "type": "scatter3d"
                      }
                    ],
                    "scattercarpet": [
                      {
                        "marker": {
                          "colorbar": {
                            "outlinewidth": 0,
                            "ticks": ""
                          }
                        },
                        "type": "scattercarpet"
                      }
                    ],
                    "scattergeo": [
                      {
                        "marker": {
                          "colorbar": {
                            "outlinewidth": 0,
                            "ticks": ""
                          }
                        },
                        "type": "scattergeo"
                      }
                    ],
                    "scattergl": [
                      {
                        "marker": {
                          "colorbar": {
                            "outlinewidth": 0,
                            "ticks": ""
                          }
                        },
                        "type": "scattergl"
                      }
                    ],
                    "scattermap": [
                      {
                        "marker": {
                          "colorbar": {
                            "outlinewidth": 0,
                            "ticks": ""
                          }
                        },
                        "type": "scattermap"
                      }
                    ],
                    "scattermapbox": [
                      {
                        "marker": {
                          "colorbar": {
                            "outlinewidth": 0,
                            "ticks": ""
                          }
                        },
                        "type": "scattermapbox"
                      }
                    ],
                    "scatterpolar": [
                      {
                        "marker": {
                          "colorbar": {
                            "outlinewidth": 0,
                            "ticks": ""
                          }
                        },
                        "type": "scatterpolar"
                      }
                    ],
                    "scatterpolargl": [
                      {
                        "marker": {
                          "colorbar": {
                            "outlinewidth": 0,
                            "ticks": ""
                          }
                        },
                        "type": "scatterpolargl"
                      }
                    ],
                    "scatterternary": [
                      {
                        "marker": {
                          "colorbar": {
                            "outlinewidth": 0,
                            "ticks": ""
                          }
                        },
                        "type": "scatterternary"
                      }
                    ],
                    "surface": [
                      {
                        "colorbar": {
                          "outlinewidth": 0,
                          "ticks": ""
                        },
                        "colorscale": [
                          [
                            0,
                            "#0d0887"
                          ],
                          [
                            0.1111111111111111,
                            "#46039f"
                          ],
                          [
                            0.2222222222222222,
                            "#7201a8"
                          ],
                          [
                            0.3333333333333333,
                            "#9c179e"
                          ],
                          [
                            0.4444444444444444,
                            "#bd3786"
                          ],
                          [
                            0.5555555555555556,
                            "#d8576b"
                          ],
                          [
                            0.6666666666666666,
                            "#ed7953"
                          ],
                          [
                            0.7777777777777778,
                            "#fb9f3a"
                          ],
                          [
                            0.8888888888888888,
                            "#fdca26"
                          ],
                          [
                            1,
                            "#f0f921"
                          ]
                        ],
                        "type": "surface"
                      }
                    ],
                    "table": [
                      {
                        "cells": {
                          "fill": {
                            "color": "#EBF0F8"
                          },
                          "line": {
                            "color": "white"
                          }
                        },
                        "header": {
                          "fill": {
                            "color": "#C8D4E3"
                          },
                          "line": {
                            "color": "white"
                          }
                        },
                        "type": "table"
                      }
                    ]
                  },
                  "layout": {
                    "annotationdefaults": {
                      "arrowcolor": "#2a3f5f",
                      "arrowhead": 0,
                      "arrowwidth": 1
                    },
                    "autotypenumbers": "strict",
                    "coloraxis": {
                      "colorbar": {
                        "outlinewidth": 0,
                        "ticks": ""
                      }
                    },
                    "colorscale": {
                      "diverging": [
                        [
                          0,
                          "#8e0152"
                        ],
                        [
                          0.1,
                          "#c51b7d"
                        ],
                        [
                          0.2,
                          "#de77ae"
                        ],
                        [
                          0.3,
                          "#f1b6da"
                        ],
                        [
                          0.4,
                          "#fde0ef"
                        ],
                        [
                          0.5,
                          "#f7f7f7"
                        ],
                        [
                          0.6,
                          "#e6f5d0"
                        ],
                        [
                          0.7,
                          "#b8e186"
                        ],
                        [
                          0.8,
                          "#7fbc41"
                        ],
                        [
                          0.9,
                          "#4d9221"
                        ],
                        [
                          1,
                          "#276419"
                        ]
                      ],
                      "sequential": [
                        [
                          0,
                          "#0d0887"
                        ],
                        [
                          0.1111111111111111,
                          "#46039f"
                        ],
                        [
                          0.2222222222222222,
                          "#7201a8"
                        ],
                        [
                          0.3333333333333333,
                          "#9c179e"
                        ],
                        [
                          0.4444444444444444,
                          "#bd3786"
                        ],
                        [
                          0.5555555555555556,
                          "#d8576b"
                        ],
                        [
                          0.6666666666666666,
                          "#ed7953"
                        ],
                        [
                          0.7777777777777778,
                          "#fb9f3a"
                        ],
                        [
                          0.8888888888888888,
                          "#fdca26"
                        ],
                        [
                          1,
                          "#f0f921"
                        ]
                      ],
                      "sequentialminus": [
                        [
                          0,
                          "#0d0887"
                        ],
                        [
                          0.1111111111111111,
                          "#46039f"
                        ],
                        [
                          0.2222222222222222,
                          "#7201a8"
                        ],
                        [
                          0.3333333333333333,
                          "#9c179e"
                        ],
                        [
                          0.4444444444444444,
                          "#bd3786"
                        ],
                        [
                          0.5555555555555556,
                          "#d8576b"
                        ],
                        [
                          0.6666666666666666,
                          "#ed7953"
                        ],
                        [
                          0.7777777777777778,
                          "#fb9f3a"
                        ],
                        [
                          0.8888888888888888,
                          "#fdca26"
                        ],
                        [
                          1,
                          "#f0f921"
                        ]
                      ]
                    },
                    "colorway": [
                      "#636efa",
                      "#EF553B",
                      "#00cc96",
                      "#ab63fa",
                      "#FFA15A",
                      "#19d3f3",
                      "#FF6692",
                      "#B6E880",
                      "#FF97FF",
                      "#FECB52"
                    ],
                    "font": {
                      "color": "#2a3f5f"
                    },
                    "geo": {
                      "bgcolor": "white",
                      "lakecolor": "white",
                      "landcolor": "#E5ECF6",
                      "showlakes": true,
                      "showland": true,
                      "subunitcolor": "white"
                    },
                    "hoverlabel": {
                      "align": "left"
                    },
                    "hovermode": "closest",
                    "mapbox": {
                      "style": "light"
                    },
                    "paper_bgcolor": "white",
                    "plot_bgcolor": "#E5ECF6",
                    "polar": {
                      "angularaxis": {
                        "gridcolor": "white",
                        "linecolor": "white",
                        "ticks": ""
                      },
                      "bgcolor": "#E5ECF6",
                      "radialaxis": {
                        "gridcolor": "white",
                        "linecolor": "white",
                        "ticks": ""
                      }
                    },
                    "scene": {
                      "xaxis": {
                        "backgroundcolor": "#E5ECF6",
                        "gridcolor": "white",
                        "gridwidth": 2,
                        "linecolor": "white",
                        "showbackground": true,
                        "ticks": "",
                        "zerolinecolor": "white"
                      },
                      "yaxis": {
                        "backgroundcolor": "#E5ECF6",
                        "gridcolor": "white",
                        "gridwidth": 2,
                        "linecolor": "white",
                        "showbackground": true,
                        "ticks": "",
                        "zerolinecolor": "white"
                      },
                      "zaxis": {
                        "backgroundcolor": "#E5ECF6",
                        "gridcolor": "white",
                        "gridwidth": 2,
                        "linecolor": "white",
                        "showbackground": true,
                        "ticks": "",
                        "zerolinecolor": "white"
                      }
                    },
                    "shapedefaults": {
                      "line": {
                        "color": "#2a3f5f"
                      }
                    },
                    "ternary": {
                      "aaxis": {
                        "gridcolor": "white",
                        "linecolor": "white",
                        "ticks": ""
                      },
                      "baxis": {
                        "gridcolor": "white",
                        "linecolor": "white",
                        "ticks": ""
                      },
                      "bgcolor": "#E5ECF6",
                      "caxis": {
                        "gridcolor": "white",
                        "linecolor": "white",
                        "ticks": ""
                      }
                    },
                    "title": {
                      "x": 0.05
                    },
                    "xaxis": {
                      "automargin": true,
                      "gridcolor": "white",
                      "linecolor": "white",
                      "ticks": "",
                      "title": {
                        "standoff": 15
                      },
                      "zerolinecolor": "white",
                      "zerolinewidth": 2
                    },
                    "yaxis": {
                      "automargin": true,
                      "gridcolor": "white",
                      "linecolor": "white",
                      "ticks": "",
                      "title": {
                        "standoff": 15
                      },
                      "zerolinecolor": "white",
                      "zerolinewidth": 2
                    }
                  }
                },
                "title": {
                  "text": "Densité des clusters sur Thursday"
                }
              }
            }
          },
          "metadata": {},
          "output_type": "display_data"
        }
      ],
      "source": [
        "# Calculer le centre de chaque cluster\n",
        "cluster_summary = df_day1.groupby('Kmeans').agg(\n",
        "    Lat_center=('Lat', 'mean'),\n",
        "    Lon_center=('Lon', 'mean'),\n",
        "    density=('Kmeans', 'count')\n",
        ").reset_index()\n",
        "\n",
        "# Normaliser la densité pour que la taille des cercles soit proportionnelle\n",
        "cluster_summary['density_norm'] = cluster_summary['density'] / cluster_summary['density'].max() * 100  # facteur d'échelle\n",
        "\n",
        "\n",
        "fig = px.scatter_map(\n",
        "    cluster_summary,\n",
        "    lat=\"Lat_center\",\n",
        "    lon=\"Lon_center\",\n",
        "    size=\"density_norm\",      \n",
        "    color=\"Kmeans\",           \n",
        "    hover_name=\"Kmeans\",\n",
        "    hover_data={\"density\": True, \"Lat_center\": False, \"Lon_center\": False},\n",
        "    zoom=9,\n",
        "    map_style=\"carto-positron\",\n",
        "    title=f\"Densité des clusters sur {day}\"\n",
        ")\n",
        "\n",
        "fig.show()"
      ]
    },
    {
      "cell_type": "code",
      "execution_count": 271,
      "metadata": {},
      "outputs": [
        {
          "name": "stdout",
          "output_type": "stream",
          "text": [
            "le cluster 6 représente 37.0% de la densité totale des clusters\n"
          ]
        }
      ],
      "source": [
        "ratio_densite_max = (cluster_summary['density'].max() * 100 / cluster_summary['density'].sum()).round(2)\n",
        "\n",
        "print(f'le cluster {cluster_summary.loc[cluster_summary[\"density\"].idxmax(), \"Kmeans\"]} représente {ratio_densite_max}% de la densité totale des clusters')"
      ]
    },
    {
      "cell_type": "markdown",
      "metadata": {},
      "source": [
        "### KMEANS heure"
      ]
    },
    {
      "cell_type": "code",
      "execution_count": 272,
      "metadata": {},
      "outputs": [
        {
          "name": "stdout",
          "output_type": "stream",
          "text": [
            "WCSS for K=2 --> 8.753779693353321\n",
            "WCSS for K=3 --> 6.778536923554691\n",
            "WCSS for K=4 --> 5.653443109200355\n",
            "WCSS for K=5 --> 4.198260116993216\n",
            "WCSS for K=6 --> 3.5239770637319907\n",
            "WCSS for K=7 --> 2.851821742969376\n",
            "WCSS for K=8 --> 2.4971001379828235\n",
            "WCSS for K=9 --> 2.3015482416258854\n",
            "WCSS for K=10 --> 2.0477303971916174\n",
            "WCSS for K=11 --> 1.9239360416319111\n",
            "WCSS for K=12 --> 1.701616092186207\n",
            "WCSS for K=13 --> 1.4306412665587063\n",
            "WCSS for K=14 --> 1.2980185527425998\n",
            "WCSS for K=15 --> 1.1826713812545064\n",
            "WCSS for K=16 --> 1.0331159034403212\n",
            "WCSS for K=17 --> 0.9807222582782429\n",
            "WCSS for K=18 --> 0.923589292508826\n",
            "WCSS for K=19 --> 0.8627568757273844\n",
            "WCSS for K=20 --> 0.813189162172375\n",
            "WCSS for K=21 --> 0.7439689719535716\n",
            "WCSS for K=22 --> 0.7112820040019675\n",
            "WCSS for K=23 --> 0.6735887098352978\n",
            "WCSS for K=24 --> 0.6341731441248899\n",
            "WCSS for K=25 --> 0.5952216996082269\n",
            "WCSS for K=26 --> 0.5571010308015283\n",
            "WCSS for K=27 --> 0.5302377517949087\n",
            "WCSS for K=28 --> 0.5198861256340047\n",
            "WCSS for K=29 --> 0.47832010369747235\n",
            "WCSS for K=30 --> 0.4381087051621981\n",
            "WCSS for K=31 --> 0.42254472204212745\n",
            "WCSS for K=32 --> 0.41972281168702597\n",
            "WCSS for K=33 --> 0.4016047600131181\n",
            "WCSS for K=34 --> 0.3838343633790225\n",
            "WCSS for K=35 --> 0.3722580719183412\n",
            "WCSS for K=36 --> 0.35776027531276694\n",
            "WCSS for K=37 --> 0.3486013494331837\n",
            "WCSS for K=38 --> 0.3385525160998498\n",
            "WCSS for K=39 --> 0.3300051484432066\n",
            "WCSS for K=40 --> 0.31727575457005863\n",
            "WCSS for K=41 --> 0.313730932903392\n",
            "WCSS for K=42 --> 0.30254049681142453\n",
            "WCSS for K=43 --> 0.2897836668639279\n",
            "WCSS for K=44 --> 0.28513722992699725\n",
            "WCSS for K=45 --> 0.27984269164359465\n",
            "WCSS for K=46 --> 0.26414186557107266\n",
            "WCSS for K=47 --> 0.25708169189838403\n",
            "WCSS for K=48 --> 0.2508959222194833\n",
            "WCSS for K=49 --> 0.24392033358162019\n",
            "WCSS for K=50 --> 0.24164248056361104\n",
            "WCSS for K=51 --> 0.23867556563004078\n",
            "WCSS for K=52 --> 0.23521866271527425\n",
            "WCSS for K=53 --> 0.23266698512578934\n",
            "WCSS for K=54 --> 0.22233028654245665\n",
            "WCSS for K=55 --> 0.20331953002727882\n",
            "WCSS for K=56 --> 0.19988714134762559\n",
            "WCSS for K=57 --> 0.19696426336036202\n",
            "WCSS for K=58 --> 0.19247193342489777\n",
            "WCSS for K=59 --> 0.18949885661987234\n",
            "WCSS for K=60 --> 0.18133548777896286\n",
            "WCSS for K=61 --> 0.17758143707590687\n",
            "WCSS for K=62 --> 0.17313896520080996\n",
            "WCSS for K=63 --> 0.16989843770080948\n",
            "WCSS for K=64 --> 0.16626027300942253\n",
            "WCSS for K=65 --> 0.16550896400942258\n",
            "WCSS for K=66 --> 0.16293827051128632\n",
            "WCSS for K=67 --> 0.15986169043432008\n",
            "WCSS for K=68 --> 0.15705988272910823\n",
            "WCSS for K=69 --> 0.15323425588698183\n"
          ]
        }
      ],
      "source": [
        "# On filtre le DataFrame pour ne garder que l'heure sélectionnée.\n",
        "# Pas de preprocessing nécessaire car le clustering KMEANS utilisera uniquement les colonnes 'Lat' et 'Lon'.\n",
        "mask_hour=df['hour'] == hours\n",
        "df_hour = df[mask_hour]\n",
        "df_hour1 = df_hour[['Lat', 'Lon']]\n",
        "\n",
        "# Calcul du WCSS : méthode du coude\n",
        "wcss =  []\n",
        "for i in range (2,70):\n",
        "    kmeans = KMeans(n_clusters= i, random_state = 0, n_init = 'auto')\n",
        "    kmeans.fit(df_hour1)\n",
        "    wcss.append(kmeans.inertia_)\n",
        "    print(\"WCSS for K={} --> {}\".format(i, wcss[-1]))"
      ]
    },
    {
      "cell_type": "code",
      "execution_count": 273,
      "metadata": {},
      "outputs": [
        {
          "data": {
            "application/vnd.plotly.v1+json": {
              "config": {
                "plotlyServerURL": "https://plot.ly"
              },
              "data": [
                {
                  "hovertemplate": "x=%{x}<br>y=%{y}<extra></extra>",
                  "legendgroup": "",
                  "line": {
                    "color": "#636efa",
                    "dash": "solid"
                  },
                  "marker": {
                    "symbol": "circle"
                  },
                  "mode": "lines",
                  "name": "",
                  "orientation": "v",
                  "showlegend": false,
                  "type": "scatter",
                  "x": {
                    "bdata": "AgMEBQYHCAkKCwwNDg8QERITFBUWFxgZGhscHR4fICEiIyQlJicoKSorLC0uLzAxMjM0NTY3ODk6Ozw9Pj9AQUJDREU=",
                    "dtype": "i1"
                  },
                  "xaxis": "x",
                  "y": {
                    "bdata": "z652ae+BIUBalYXIOB0bQJI/vzAgnRZAFlk6swTLEEAAqgTjGjEMQPyZAOuH0AZAWckbow/6A0CLmN8fkmkCQGe0d3nAYQBA3nmmKHHI/j/hl6TL0Tn7P7TXwhjo4/Y/axcaGq/E9D+5c4bTOOzyPwwPpIqkh/A/THU4pRNi7z+iW8ghC47tP3u+tE60m+s/ZL4fR6UF6j9I8HgEmM7nP1F/LXrSwuY/aVH26AmO5T+ckkB6JUvkP9j6tWAODOM/1Ih7isXT4T/RCWIptffgPxXAZzroouA/JpmZ7Muc3j9X7jAY+QncP5wskQT5Cts/LC5lEb3c2j9BJ4tz5LPZP/XOcgG+kNg/M+wjhRPT1z+9rpFai+XWPykMygh8T9Y/ziYoLNiq1T8K0ATqzR7VP8RLbPc+TtQ/qRIk6CoU1D+BUuHQ0lzTPycdBsvQi9I/oSRaObA/0j8GkShS8ejRP7p1iEiz59A/bKbGxAZ00D/oeSjFrQ7QP/7+xw/IOM8/yCmsCyTuzj8wH17C64zOP7yu4ielG84/DbL8IQjIzT+7Gc6eUXXMP+p4DdZfBso/Qk993+aVyT+1hs7+HzbJPwSaupnrosg/Qefnn39ByD+Cs85SADbHP9sQTxD9usY/iLKZ6Gopxj8YgshkO7/FP0KJmUEESMU/g8LO0WUvxT9xb45HKdvEPyw7Jg5ZdsQ/DeXqyYkaxD91q9QaLp3DPw==",
                    "dtype": "f8"
                  },
                  "yaxis": "y"
                }
              ],
              "layout": {
                "legend": {
                  "tracegroupgap": 0
                },
                "margin": {
                  "t": 60
                },
                "template": {
                  "data": {
                    "bar": [
                      {
                        "error_x": {
                          "color": "#2a3f5f"
                        },
                        "error_y": {
                          "color": "#2a3f5f"
                        },
                        "marker": {
                          "line": {
                            "color": "#E5ECF6",
                            "width": 0.5
                          },
                          "pattern": {
                            "fillmode": "overlay",
                            "size": 10,
                            "solidity": 0.2
                          }
                        },
                        "type": "bar"
                      }
                    ],
                    "barpolar": [
                      {
                        "marker": {
                          "line": {
                            "color": "#E5ECF6",
                            "width": 0.5
                          },
                          "pattern": {
                            "fillmode": "overlay",
                            "size": 10,
                            "solidity": 0.2
                          }
                        },
                        "type": "barpolar"
                      }
                    ],
                    "carpet": [
                      {
                        "aaxis": {
                          "endlinecolor": "#2a3f5f",
                          "gridcolor": "white",
                          "linecolor": "white",
                          "minorgridcolor": "white",
                          "startlinecolor": "#2a3f5f"
                        },
                        "baxis": {
                          "endlinecolor": "#2a3f5f",
                          "gridcolor": "white",
                          "linecolor": "white",
                          "minorgridcolor": "white",
                          "startlinecolor": "#2a3f5f"
                        },
                        "type": "carpet"
                      }
                    ],
                    "choropleth": [
                      {
                        "colorbar": {
                          "outlinewidth": 0,
                          "ticks": ""
                        },
                        "type": "choropleth"
                      }
                    ],
                    "contour": [
                      {
                        "colorbar": {
                          "outlinewidth": 0,
                          "ticks": ""
                        },
                        "colorscale": [
                          [
                            0,
                            "#0d0887"
                          ],
                          [
                            0.1111111111111111,
                            "#46039f"
                          ],
                          [
                            0.2222222222222222,
                            "#7201a8"
                          ],
                          [
                            0.3333333333333333,
                            "#9c179e"
                          ],
                          [
                            0.4444444444444444,
                            "#bd3786"
                          ],
                          [
                            0.5555555555555556,
                            "#d8576b"
                          ],
                          [
                            0.6666666666666666,
                            "#ed7953"
                          ],
                          [
                            0.7777777777777778,
                            "#fb9f3a"
                          ],
                          [
                            0.8888888888888888,
                            "#fdca26"
                          ],
                          [
                            1,
                            "#f0f921"
                          ]
                        ],
                        "type": "contour"
                      }
                    ],
                    "contourcarpet": [
                      {
                        "colorbar": {
                          "outlinewidth": 0,
                          "ticks": ""
                        },
                        "type": "contourcarpet"
                      }
                    ],
                    "heatmap": [
                      {
                        "colorbar": {
                          "outlinewidth": 0,
                          "ticks": ""
                        },
                        "colorscale": [
                          [
                            0,
                            "#0d0887"
                          ],
                          [
                            0.1111111111111111,
                            "#46039f"
                          ],
                          [
                            0.2222222222222222,
                            "#7201a8"
                          ],
                          [
                            0.3333333333333333,
                            "#9c179e"
                          ],
                          [
                            0.4444444444444444,
                            "#bd3786"
                          ],
                          [
                            0.5555555555555556,
                            "#d8576b"
                          ],
                          [
                            0.6666666666666666,
                            "#ed7953"
                          ],
                          [
                            0.7777777777777778,
                            "#fb9f3a"
                          ],
                          [
                            0.8888888888888888,
                            "#fdca26"
                          ],
                          [
                            1,
                            "#f0f921"
                          ]
                        ],
                        "type": "heatmap"
                      }
                    ],
                    "histogram": [
                      {
                        "marker": {
                          "pattern": {
                            "fillmode": "overlay",
                            "size": 10,
                            "solidity": 0.2
                          }
                        },
                        "type": "histogram"
                      }
                    ],
                    "histogram2d": [
                      {
                        "colorbar": {
                          "outlinewidth": 0,
                          "ticks": ""
                        },
                        "colorscale": [
                          [
                            0,
                            "#0d0887"
                          ],
                          [
                            0.1111111111111111,
                            "#46039f"
                          ],
                          [
                            0.2222222222222222,
                            "#7201a8"
                          ],
                          [
                            0.3333333333333333,
                            "#9c179e"
                          ],
                          [
                            0.4444444444444444,
                            "#bd3786"
                          ],
                          [
                            0.5555555555555556,
                            "#d8576b"
                          ],
                          [
                            0.6666666666666666,
                            "#ed7953"
                          ],
                          [
                            0.7777777777777778,
                            "#fb9f3a"
                          ],
                          [
                            0.8888888888888888,
                            "#fdca26"
                          ],
                          [
                            1,
                            "#f0f921"
                          ]
                        ],
                        "type": "histogram2d"
                      }
                    ],
                    "histogram2dcontour": [
                      {
                        "colorbar": {
                          "outlinewidth": 0,
                          "ticks": ""
                        },
                        "colorscale": [
                          [
                            0,
                            "#0d0887"
                          ],
                          [
                            0.1111111111111111,
                            "#46039f"
                          ],
                          [
                            0.2222222222222222,
                            "#7201a8"
                          ],
                          [
                            0.3333333333333333,
                            "#9c179e"
                          ],
                          [
                            0.4444444444444444,
                            "#bd3786"
                          ],
                          [
                            0.5555555555555556,
                            "#d8576b"
                          ],
                          [
                            0.6666666666666666,
                            "#ed7953"
                          ],
                          [
                            0.7777777777777778,
                            "#fb9f3a"
                          ],
                          [
                            0.8888888888888888,
                            "#fdca26"
                          ],
                          [
                            1,
                            "#f0f921"
                          ]
                        ],
                        "type": "histogram2dcontour"
                      }
                    ],
                    "mesh3d": [
                      {
                        "colorbar": {
                          "outlinewidth": 0,
                          "ticks": ""
                        },
                        "type": "mesh3d"
                      }
                    ],
                    "parcoords": [
                      {
                        "line": {
                          "colorbar": {
                            "outlinewidth": 0,
                            "ticks": ""
                          }
                        },
                        "type": "parcoords"
                      }
                    ],
                    "pie": [
                      {
                        "automargin": true,
                        "type": "pie"
                      }
                    ],
                    "scatter": [
                      {
                        "fillpattern": {
                          "fillmode": "overlay",
                          "size": 10,
                          "solidity": 0.2
                        },
                        "type": "scatter"
                      }
                    ],
                    "scatter3d": [
                      {
                        "line": {
                          "colorbar": {
                            "outlinewidth": 0,
                            "ticks": ""
                          }
                        },
                        "marker": {
                          "colorbar": {
                            "outlinewidth": 0,
                            "ticks": ""
                          }
                        },
                        "type": "scatter3d"
                      }
                    ],
                    "scattercarpet": [
                      {
                        "marker": {
                          "colorbar": {
                            "outlinewidth": 0,
                            "ticks": ""
                          }
                        },
                        "type": "scattercarpet"
                      }
                    ],
                    "scattergeo": [
                      {
                        "marker": {
                          "colorbar": {
                            "outlinewidth": 0,
                            "ticks": ""
                          }
                        },
                        "type": "scattergeo"
                      }
                    ],
                    "scattergl": [
                      {
                        "marker": {
                          "colorbar": {
                            "outlinewidth": 0,
                            "ticks": ""
                          }
                        },
                        "type": "scattergl"
                      }
                    ],
                    "scattermap": [
                      {
                        "marker": {
                          "colorbar": {
                            "outlinewidth": 0,
                            "ticks": ""
                          }
                        },
                        "type": "scattermap"
                      }
                    ],
                    "scattermapbox": [
                      {
                        "marker": {
                          "colorbar": {
                            "outlinewidth": 0,
                            "ticks": ""
                          }
                        },
                        "type": "scattermapbox"
                      }
                    ],
                    "scatterpolar": [
                      {
                        "marker": {
                          "colorbar": {
                            "outlinewidth": 0,
                            "ticks": ""
                          }
                        },
                        "type": "scatterpolar"
                      }
                    ],
                    "scatterpolargl": [
                      {
                        "marker": {
                          "colorbar": {
                            "outlinewidth": 0,
                            "ticks": ""
                          }
                        },
                        "type": "scatterpolargl"
                      }
                    ],
                    "scatterternary": [
                      {
                        "marker": {
                          "colorbar": {
                            "outlinewidth": 0,
                            "ticks": ""
                          }
                        },
                        "type": "scatterternary"
                      }
                    ],
                    "surface": [
                      {
                        "colorbar": {
                          "outlinewidth": 0,
                          "ticks": ""
                        },
                        "colorscale": [
                          [
                            0,
                            "#0d0887"
                          ],
                          [
                            0.1111111111111111,
                            "#46039f"
                          ],
                          [
                            0.2222222222222222,
                            "#7201a8"
                          ],
                          [
                            0.3333333333333333,
                            "#9c179e"
                          ],
                          [
                            0.4444444444444444,
                            "#bd3786"
                          ],
                          [
                            0.5555555555555556,
                            "#d8576b"
                          ],
                          [
                            0.6666666666666666,
                            "#ed7953"
                          ],
                          [
                            0.7777777777777778,
                            "#fb9f3a"
                          ],
                          [
                            0.8888888888888888,
                            "#fdca26"
                          ],
                          [
                            1,
                            "#f0f921"
                          ]
                        ],
                        "type": "surface"
                      }
                    ],
                    "table": [
                      {
                        "cells": {
                          "fill": {
                            "color": "#EBF0F8"
                          },
                          "line": {
                            "color": "white"
                          }
                        },
                        "header": {
                          "fill": {
                            "color": "#C8D4E3"
                          },
                          "line": {
                            "color": "white"
                          }
                        },
                        "type": "table"
                      }
                    ]
                  },
                  "layout": {
                    "annotationdefaults": {
                      "arrowcolor": "#2a3f5f",
                      "arrowhead": 0,
                      "arrowwidth": 1
                    },
                    "autotypenumbers": "strict",
                    "coloraxis": {
                      "colorbar": {
                        "outlinewidth": 0,
                        "ticks": ""
                      }
                    },
                    "colorscale": {
                      "diverging": [
                        [
                          0,
                          "#8e0152"
                        ],
                        [
                          0.1,
                          "#c51b7d"
                        ],
                        [
                          0.2,
                          "#de77ae"
                        ],
                        [
                          0.3,
                          "#f1b6da"
                        ],
                        [
                          0.4,
                          "#fde0ef"
                        ],
                        [
                          0.5,
                          "#f7f7f7"
                        ],
                        [
                          0.6,
                          "#e6f5d0"
                        ],
                        [
                          0.7,
                          "#b8e186"
                        ],
                        [
                          0.8,
                          "#7fbc41"
                        ],
                        [
                          0.9,
                          "#4d9221"
                        ],
                        [
                          1,
                          "#276419"
                        ]
                      ],
                      "sequential": [
                        [
                          0,
                          "#0d0887"
                        ],
                        [
                          0.1111111111111111,
                          "#46039f"
                        ],
                        [
                          0.2222222222222222,
                          "#7201a8"
                        ],
                        [
                          0.3333333333333333,
                          "#9c179e"
                        ],
                        [
                          0.4444444444444444,
                          "#bd3786"
                        ],
                        [
                          0.5555555555555556,
                          "#d8576b"
                        ],
                        [
                          0.6666666666666666,
                          "#ed7953"
                        ],
                        [
                          0.7777777777777778,
                          "#fb9f3a"
                        ],
                        [
                          0.8888888888888888,
                          "#fdca26"
                        ],
                        [
                          1,
                          "#f0f921"
                        ]
                      ],
                      "sequentialminus": [
                        [
                          0,
                          "#0d0887"
                        ],
                        [
                          0.1111111111111111,
                          "#46039f"
                        ],
                        [
                          0.2222222222222222,
                          "#7201a8"
                        ],
                        [
                          0.3333333333333333,
                          "#9c179e"
                        ],
                        [
                          0.4444444444444444,
                          "#bd3786"
                        ],
                        [
                          0.5555555555555556,
                          "#d8576b"
                        ],
                        [
                          0.6666666666666666,
                          "#ed7953"
                        ],
                        [
                          0.7777777777777778,
                          "#fb9f3a"
                        ],
                        [
                          0.8888888888888888,
                          "#fdca26"
                        ],
                        [
                          1,
                          "#f0f921"
                        ]
                      ]
                    },
                    "colorway": [
                      "#636efa",
                      "#EF553B",
                      "#00cc96",
                      "#ab63fa",
                      "#FFA15A",
                      "#19d3f3",
                      "#FF6692",
                      "#B6E880",
                      "#FF97FF",
                      "#FECB52"
                    ],
                    "font": {
                      "color": "#2a3f5f"
                    },
                    "geo": {
                      "bgcolor": "white",
                      "lakecolor": "white",
                      "landcolor": "#E5ECF6",
                      "showlakes": true,
                      "showland": true,
                      "subunitcolor": "white"
                    },
                    "hoverlabel": {
                      "align": "left"
                    },
                    "hovermode": "closest",
                    "mapbox": {
                      "style": "light"
                    },
                    "paper_bgcolor": "white",
                    "plot_bgcolor": "#E5ECF6",
                    "polar": {
                      "angularaxis": {
                        "gridcolor": "white",
                        "linecolor": "white",
                        "ticks": ""
                      },
                      "bgcolor": "#E5ECF6",
                      "radialaxis": {
                        "gridcolor": "white",
                        "linecolor": "white",
                        "ticks": ""
                      }
                    },
                    "scene": {
                      "xaxis": {
                        "backgroundcolor": "#E5ECF6",
                        "gridcolor": "white",
                        "gridwidth": 2,
                        "linecolor": "white",
                        "showbackground": true,
                        "ticks": "",
                        "zerolinecolor": "white"
                      },
                      "yaxis": {
                        "backgroundcolor": "#E5ECF6",
                        "gridcolor": "white",
                        "gridwidth": 2,
                        "linecolor": "white",
                        "showbackground": true,
                        "ticks": "",
                        "zerolinecolor": "white"
                      },
                      "zaxis": {
                        "backgroundcolor": "#E5ECF6",
                        "gridcolor": "white",
                        "gridwidth": 2,
                        "linecolor": "white",
                        "showbackground": true,
                        "ticks": "",
                        "zerolinecolor": "white"
                      }
                    },
                    "shapedefaults": {
                      "line": {
                        "color": "#2a3f5f"
                      }
                    },
                    "ternary": {
                      "aaxis": {
                        "gridcolor": "white",
                        "linecolor": "white",
                        "ticks": ""
                      },
                      "baxis": {
                        "gridcolor": "white",
                        "linecolor": "white",
                        "ticks": ""
                      },
                      "bgcolor": "#E5ECF6",
                      "caxis": {
                        "gridcolor": "white",
                        "linecolor": "white",
                        "ticks": ""
                      }
                    },
                    "title": {
                      "x": 0.05
                    },
                    "xaxis": {
                      "automargin": true,
                      "gridcolor": "white",
                      "linecolor": "white",
                      "ticks": "",
                      "title": {
                        "standoff": 15
                      },
                      "zerolinecolor": "white",
                      "zerolinewidth": 2
                    },
                    "yaxis": {
                      "automargin": true,
                      "gridcolor": "white",
                      "linecolor": "white",
                      "ticks": "",
                      "title": {
                        "standoff": 15
                      },
                      "zerolinecolor": "white",
                      "zerolinewidth": 2
                    }
                  }
                },
                "xaxis": {
                  "anchor": "y",
                  "domain": [
                    0,
                    1
                  ],
                  "title": {
                    "text": "x"
                  }
                },
                "yaxis": {
                  "anchor": "x",
                  "domain": [
                    0,
                    1
                  ],
                  "title": {
                    "text": "y"
                  }
                }
              }
            }
          },
          "metadata": {},
          "output_type": "display_data"
        }
      ],
      "source": [
        "fig = px.line(x = range(2,70), y = wcss)\n",
        "fig.show()"
      ]
    },
    {
      "cell_type": "markdown",
      "metadata": {},
      "source": [
        "La chute est forte entre K2 et K10. La pente s'adoucit à partir de K16 et diminue de manière plus légère et progressive.\n",
        "Le coude semble donc se situer entre K10 et K15"
      ]
    },
    {
      "cell_type": "code",
      "execution_count": 274,
      "metadata": {},
      "outputs": [
        {
          "name": "stdout",
          "output_type": "stream",
          "text": [
            "Silhouette score for K=2 is 0.7211764285468715\n",
            "Silhouette score for K=3 is 0.41250398196932286\n",
            "Silhouette score for K=4 is 0.43885264366902194\n",
            "Silhouette score for K=5 is 0.4478952238121377\n",
            "Silhouette score for K=6 is 0.4548703289235388\n",
            "Silhouette score for K=7 is 0.4336293670736129\n",
            "Silhouette score for K=8 is 0.43176508955902404\n",
            "Silhouette score for K=9 is 0.44364320095325577\n",
            "Silhouette score for K=10 is 0.44415922388057844\n",
            "Silhouette score for K=11 is 0.4446295452618548\n",
            "Silhouette score for K=12 is 0.4394612735395502\n",
            "Silhouette score for K=13 is 0.440330689078259\n",
            "Silhouette score for K=14 is 0.4428981600459362\n",
            "Silhouette score for K=15 is 0.4438781128567472\n",
            "Silhouette score for K=16 is 0.4047846260662981\n",
            "Silhouette score for K=17 is 0.40312994438874966\n",
            "Silhouette score for K=18 is 0.4072463324859124\n",
            "Silhouette score for K=19 is 0.4088638156668238\n",
            "Silhouette score for K=20 is 0.41627439742349037\n",
            "Silhouette score for K=21 is 0.37549842485061447\n",
            "Silhouette score for K=22 is 0.37902753767021946\n",
            "Silhouette score for K=23 is 0.37918529162732784\n",
            "Silhouette score for K=24 is 0.38912131752522167\n",
            "Silhouette score for K=25 is 0.38484702950764016\n",
            "Silhouette score for K=26 is 0.3944585518503395\n",
            "Silhouette score for K=27 is 0.3952009869344888\n",
            "Silhouette score for K=28 is 0.39508404319479484\n",
            "Silhouette score for K=29 is 0.4101115271915049\n",
            "Silhouette score for K=30 is 0.4187157328472235\n",
            "Silhouette score for K=31 is 0.4035259366431406\n",
            "Silhouette score for K=32 is 0.4002999918821894\n",
            "Silhouette score for K=33 is 0.38857688506611565\n",
            "Silhouette score for K=34 is 0.3809786118966265\n",
            "Silhouette score for K=35 is 0.3895002447698111\n",
            "Silhouette score for K=36 is 0.3899886627796277\n",
            "Silhouette score for K=37 is 0.3914235933535716\n",
            "Silhouette score for K=38 is 0.39122457339512107\n",
            "Silhouette score for K=39 is 0.39167255156250474\n",
            "Silhouette score for K=40 is 0.39299850041987716\n",
            "Silhouette score for K=41 is 0.3930210817712214\n",
            "Silhouette score for K=42 is 0.3780294955128358\n",
            "Silhouette score for K=43 is 0.3787951168695664\n",
            "Silhouette score for K=44 is 0.3777334346030033\n",
            "Silhouette score for K=45 is 0.37991218250262393\n",
            "Silhouette score for K=46 is 0.3867585225195133\n",
            "Silhouette score for K=47 is 0.38098684932261756\n",
            "Silhouette score for K=48 is 0.3753513970819059\n",
            "Silhouette score for K=49 is 0.3791561817586049\n",
            "Silhouette score for K=50 is 0.37333524467570867\n",
            "Silhouette score for K=51 is 0.3720563513710646\n",
            "Silhouette score for K=52 is 0.37266099020413673\n",
            "Silhouette score for K=53 is 0.3724534517079379\n",
            "Silhouette score for K=54 is 0.372711969044804\n",
            "Silhouette score for K=55 is 0.3910519354995314\n",
            "Silhouette score for K=56 is 0.3913114470920169\n",
            "Silhouette score for K=57 is 0.3796703168182995\n",
            "Silhouette score for K=58 is 0.3854272180870635\n",
            "Silhouette score for K=59 is 0.38397525128555543\n",
            "Silhouette score for K=60 is 0.38465746218432784\n",
            "Silhouette score for K=61 is 0.3825601421788305\n",
            "Silhouette score for K=62 is 0.3818451524193801\n",
            "Silhouette score for K=63 is 0.3815723399385674\n",
            "Silhouette score for K=64 is 0.38009143795111666\n",
            "Silhouette score for K=65 is 0.3797955862191803\n",
            "Silhouette score for K=66 is 0.38042740024038785\n",
            "Silhouette score for K=67 is 0.3795195324143726\n",
            "Silhouette score for K=68 is 0.3767794427055604\n",
            "Silhouette score for K=69 is 0.3768952113864331\n"
          ]
        }
      ],
      "source": [
        "# Calcul du score de silhouette\n",
        "sil = []\n",
        "k = []\n",
        "\n",
        "for i in range (2,70):\n",
        "    kmeans = KMeans(n_clusters= i, random_state = 0, n_init = 'auto')\n",
        "    kmeans.fit(df_hour1)\n",
        "    sil.append(silhouette_score(df_hour1, kmeans.predict(df_hour1)))\n",
        "    k.append(i)\n",
        "    print(\"Silhouette score for K={} is {}\".format(i, sil[-1]))"
      ]
    },
    {
      "cell_type": "code",
      "execution_count": 275,
      "metadata": {},
      "outputs": [
        {
          "data": {
            "application/vnd.plotly.v1+json": {
              "config": {
                "plotlyServerURL": "https://plot.ly"
              },
              "data": [
                {
                  "hovertemplate": "x=%{x}<br>0=%{y}<extra></extra>",
                  "legendgroup": "",
                  "marker": {
                    "color": "#636efa",
                    "pattern": {
                      "shape": ""
                    }
                  },
                  "name": "",
                  "orientation": "v",
                  "showlegend": false,
                  "textposition": "auto",
                  "type": "bar",
                  "x": {
                    "bdata": "AgMEBQYHCAkKCwwNDg8QERITFBUWFxgZGhscHR4fICEiIyQlJicoKSorLC0uLzAxMjM0NTY3ODk6Ozw9Pj9AQUJDREU=",
                    "dtype": "i1"
                  },
                  "xaxis": "x",
                  "y": {
                    "bdata": "FyjoluAT5z8BywEad2baP/GUFGYpFtw/4bGTulCq3D9hbqlwmBzdP2ylimOVwNs/JnnNCgqi2z+j98tzpmTcPzcqMs8abdw/iQrves903D8If20tIiDcP4QKQcVgLtw/ksY2hnFY3D+3UIi+f2jcP7c2uMb959k/1wfMieHM2T8RWdzrUhDaP0uiMyPTKto/1CTGXj2k2j+utJuLKgjYP5TtpLf8Qdg/WniqYpJE2D/jnzwZXefYPwqtbG9Vodg/Wsj0FM8+2T9gwY4U+UrZP6xbLJUOSdk/GgJAa0Q/2j9gkbkSPczaP2oVPnNe09k/w0Zu24Oe2T8Ky1WVcd7YP0CTpB30Ydg/WYBEb5Lt2D/lwBwCk/XYP3aHFYsVDdk/AukHy9IJ2T/P6uy/KRHZP+qLqy7jJtk/2CM25UEn2T8gqgmgojHYP9u2td8tPtg/HXEO28gs2D8k2cwve1DYP+/qatGmwNg/f/2CqhZi2D9qYb7dwQXYPySvLkoYRNg/iuKUgrnk1z+DGVpxxc/XP9n9Wnut2dc/0YuXAEfW1z89A3hNg9rXP+OCgLL+Btk/o+HzKj8L2T+Px3+6hEzYP0gFK+zWqtg/gKuv7gyT2D9ung9VOp7YP+RQ2ojde9g/esBxpiZw2D+xCUZkrmvYP5RW3wlrU9g/bn9+JZJO2D+lOaIq7FjYP6Vt+koMStg/ZG4Ohicd2D+CHrsXDR/YPw==",
                    "dtype": "f8"
                  },
                  "yaxis": "y"
                }
              ],
              "layout": {
                "barmode": "relative",
                "legend": {
                  "tracegroupgap": 0
                },
                "margin": {
                  "t": 60
                },
                "template": {
                  "data": {
                    "bar": [
                      {
                        "error_x": {
                          "color": "#2a3f5f"
                        },
                        "error_y": {
                          "color": "#2a3f5f"
                        },
                        "marker": {
                          "line": {
                            "color": "#E5ECF6",
                            "width": 0.5
                          },
                          "pattern": {
                            "fillmode": "overlay",
                            "size": 10,
                            "solidity": 0.2
                          }
                        },
                        "type": "bar"
                      }
                    ],
                    "barpolar": [
                      {
                        "marker": {
                          "line": {
                            "color": "#E5ECF6",
                            "width": 0.5
                          },
                          "pattern": {
                            "fillmode": "overlay",
                            "size": 10,
                            "solidity": 0.2
                          }
                        },
                        "type": "barpolar"
                      }
                    ],
                    "carpet": [
                      {
                        "aaxis": {
                          "endlinecolor": "#2a3f5f",
                          "gridcolor": "white",
                          "linecolor": "white",
                          "minorgridcolor": "white",
                          "startlinecolor": "#2a3f5f"
                        },
                        "baxis": {
                          "endlinecolor": "#2a3f5f",
                          "gridcolor": "white",
                          "linecolor": "white",
                          "minorgridcolor": "white",
                          "startlinecolor": "#2a3f5f"
                        },
                        "type": "carpet"
                      }
                    ],
                    "choropleth": [
                      {
                        "colorbar": {
                          "outlinewidth": 0,
                          "ticks": ""
                        },
                        "type": "choropleth"
                      }
                    ],
                    "contour": [
                      {
                        "colorbar": {
                          "outlinewidth": 0,
                          "ticks": ""
                        },
                        "colorscale": [
                          [
                            0,
                            "#0d0887"
                          ],
                          [
                            0.1111111111111111,
                            "#46039f"
                          ],
                          [
                            0.2222222222222222,
                            "#7201a8"
                          ],
                          [
                            0.3333333333333333,
                            "#9c179e"
                          ],
                          [
                            0.4444444444444444,
                            "#bd3786"
                          ],
                          [
                            0.5555555555555556,
                            "#d8576b"
                          ],
                          [
                            0.6666666666666666,
                            "#ed7953"
                          ],
                          [
                            0.7777777777777778,
                            "#fb9f3a"
                          ],
                          [
                            0.8888888888888888,
                            "#fdca26"
                          ],
                          [
                            1,
                            "#f0f921"
                          ]
                        ],
                        "type": "contour"
                      }
                    ],
                    "contourcarpet": [
                      {
                        "colorbar": {
                          "outlinewidth": 0,
                          "ticks": ""
                        },
                        "type": "contourcarpet"
                      }
                    ],
                    "heatmap": [
                      {
                        "colorbar": {
                          "outlinewidth": 0,
                          "ticks": ""
                        },
                        "colorscale": [
                          [
                            0,
                            "#0d0887"
                          ],
                          [
                            0.1111111111111111,
                            "#46039f"
                          ],
                          [
                            0.2222222222222222,
                            "#7201a8"
                          ],
                          [
                            0.3333333333333333,
                            "#9c179e"
                          ],
                          [
                            0.4444444444444444,
                            "#bd3786"
                          ],
                          [
                            0.5555555555555556,
                            "#d8576b"
                          ],
                          [
                            0.6666666666666666,
                            "#ed7953"
                          ],
                          [
                            0.7777777777777778,
                            "#fb9f3a"
                          ],
                          [
                            0.8888888888888888,
                            "#fdca26"
                          ],
                          [
                            1,
                            "#f0f921"
                          ]
                        ],
                        "type": "heatmap"
                      }
                    ],
                    "histogram": [
                      {
                        "marker": {
                          "pattern": {
                            "fillmode": "overlay",
                            "size": 10,
                            "solidity": 0.2
                          }
                        },
                        "type": "histogram"
                      }
                    ],
                    "histogram2d": [
                      {
                        "colorbar": {
                          "outlinewidth": 0,
                          "ticks": ""
                        },
                        "colorscale": [
                          [
                            0,
                            "#0d0887"
                          ],
                          [
                            0.1111111111111111,
                            "#46039f"
                          ],
                          [
                            0.2222222222222222,
                            "#7201a8"
                          ],
                          [
                            0.3333333333333333,
                            "#9c179e"
                          ],
                          [
                            0.4444444444444444,
                            "#bd3786"
                          ],
                          [
                            0.5555555555555556,
                            "#d8576b"
                          ],
                          [
                            0.6666666666666666,
                            "#ed7953"
                          ],
                          [
                            0.7777777777777778,
                            "#fb9f3a"
                          ],
                          [
                            0.8888888888888888,
                            "#fdca26"
                          ],
                          [
                            1,
                            "#f0f921"
                          ]
                        ],
                        "type": "histogram2d"
                      }
                    ],
                    "histogram2dcontour": [
                      {
                        "colorbar": {
                          "outlinewidth": 0,
                          "ticks": ""
                        },
                        "colorscale": [
                          [
                            0,
                            "#0d0887"
                          ],
                          [
                            0.1111111111111111,
                            "#46039f"
                          ],
                          [
                            0.2222222222222222,
                            "#7201a8"
                          ],
                          [
                            0.3333333333333333,
                            "#9c179e"
                          ],
                          [
                            0.4444444444444444,
                            "#bd3786"
                          ],
                          [
                            0.5555555555555556,
                            "#d8576b"
                          ],
                          [
                            0.6666666666666666,
                            "#ed7953"
                          ],
                          [
                            0.7777777777777778,
                            "#fb9f3a"
                          ],
                          [
                            0.8888888888888888,
                            "#fdca26"
                          ],
                          [
                            1,
                            "#f0f921"
                          ]
                        ],
                        "type": "histogram2dcontour"
                      }
                    ],
                    "mesh3d": [
                      {
                        "colorbar": {
                          "outlinewidth": 0,
                          "ticks": ""
                        },
                        "type": "mesh3d"
                      }
                    ],
                    "parcoords": [
                      {
                        "line": {
                          "colorbar": {
                            "outlinewidth": 0,
                            "ticks": ""
                          }
                        },
                        "type": "parcoords"
                      }
                    ],
                    "pie": [
                      {
                        "automargin": true,
                        "type": "pie"
                      }
                    ],
                    "scatter": [
                      {
                        "fillpattern": {
                          "fillmode": "overlay",
                          "size": 10,
                          "solidity": 0.2
                        },
                        "type": "scatter"
                      }
                    ],
                    "scatter3d": [
                      {
                        "line": {
                          "colorbar": {
                            "outlinewidth": 0,
                            "ticks": ""
                          }
                        },
                        "marker": {
                          "colorbar": {
                            "outlinewidth": 0,
                            "ticks": ""
                          }
                        },
                        "type": "scatter3d"
                      }
                    ],
                    "scattercarpet": [
                      {
                        "marker": {
                          "colorbar": {
                            "outlinewidth": 0,
                            "ticks": ""
                          }
                        },
                        "type": "scattercarpet"
                      }
                    ],
                    "scattergeo": [
                      {
                        "marker": {
                          "colorbar": {
                            "outlinewidth": 0,
                            "ticks": ""
                          }
                        },
                        "type": "scattergeo"
                      }
                    ],
                    "scattergl": [
                      {
                        "marker": {
                          "colorbar": {
                            "outlinewidth": 0,
                            "ticks": ""
                          }
                        },
                        "type": "scattergl"
                      }
                    ],
                    "scattermap": [
                      {
                        "marker": {
                          "colorbar": {
                            "outlinewidth": 0,
                            "ticks": ""
                          }
                        },
                        "type": "scattermap"
                      }
                    ],
                    "scattermapbox": [
                      {
                        "marker": {
                          "colorbar": {
                            "outlinewidth": 0,
                            "ticks": ""
                          }
                        },
                        "type": "scattermapbox"
                      }
                    ],
                    "scatterpolar": [
                      {
                        "marker": {
                          "colorbar": {
                            "outlinewidth": 0,
                            "ticks": ""
                          }
                        },
                        "type": "scatterpolar"
                      }
                    ],
                    "scatterpolargl": [
                      {
                        "marker": {
                          "colorbar": {
                            "outlinewidth": 0,
                            "ticks": ""
                          }
                        },
                        "type": "scatterpolargl"
                      }
                    ],
                    "scatterternary": [
                      {
                        "marker": {
                          "colorbar": {
                            "outlinewidth": 0,
                            "ticks": ""
                          }
                        },
                        "type": "scatterternary"
                      }
                    ],
                    "surface": [
                      {
                        "colorbar": {
                          "outlinewidth": 0,
                          "ticks": ""
                        },
                        "colorscale": [
                          [
                            0,
                            "#0d0887"
                          ],
                          [
                            0.1111111111111111,
                            "#46039f"
                          ],
                          [
                            0.2222222222222222,
                            "#7201a8"
                          ],
                          [
                            0.3333333333333333,
                            "#9c179e"
                          ],
                          [
                            0.4444444444444444,
                            "#bd3786"
                          ],
                          [
                            0.5555555555555556,
                            "#d8576b"
                          ],
                          [
                            0.6666666666666666,
                            "#ed7953"
                          ],
                          [
                            0.7777777777777778,
                            "#fb9f3a"
                          ],
                          [
                            0.8888888888888888,
                            "#fdca26"
                          ],
                          [
                            1,
                            "#f0f921"
                          ]
                        ],
                        "type": "surface"
                      }
                    ],
                    "table": [
                      {
                        "cells": {
                          "fill": {
                            "color": "#EBF0F8"
                          },
                          "line": {
                            "color": "white"
                          }
                        },
                        "header": {
                          "fill": {
                            "color": "#C8D4E3"
                          },
                          "line": {
                            "color": "white"
                          }
                        },
                        "type": "table"
                      }
                    ]
                  },
                  "layout": {
                    "annotationdefaults": {
                      "arrowcolor": "#2a3f5f",
                      "arrowhead": 0,
                      "arrowwidth": 1
                    },
                    "autotypenumbers": "strict",
                    "coloraxis": {
                      "colorbar": {
                        "outlinewidth": 0,
                        "ticks": ""
                      }
                    },
                    "colorscale": {
                      "diverging": [
                        [
                          0,
                          "#8e0152"
                        ],
                        [
                          0.1,
                          "#c51b7d"
                        ],
                        [
                          0.2,
                          "#de77ae"
                        ],
                        [
                          0.3,
                          "#f1b6da"
                        ],
                        [
                          0.4,
                          "#fde0ef"
                        ],
                        [
                          0.5,
                          "#f7f7f7"
                        ],
                        [
                          0.6,
                          "#e6f5d0"
                        ],
                        [
                          0.7,
                          "#b8e186"
                        ],
                        [
                          0.8,
                          "#7fbc41"
                        ],
                        [
                          0.9,
                          "#4d9221"
                        ],
                        [
                          1,
                          "#276419"
                        ]
                      ],
                      "sequential": [
                        [
                          0,
                          "#0d0887"
                        ],
                        [
                          0.1111111111111111,
                          "#46039f"
                        ],
                        [
                          0.2222222222222222,
                          "#7201a8"
                        ],
                        [
                          0.3333333333333333,
                          "#9c179e"
                        ],
                        [
                          0.4444444444444444,
                          "#bd3786"
                        ],
                        [
                          0.5555555555555556,
                          "#d8576b"
                        ],
                        [
                          0.6666666666666666,
                          "#ed7953"
                        ],
                        [
                          0.7777777777777778,
                          "#fb9f3a"
                        ],
                        [
                          0.8888888888888888,
                          "#fdca26"
                        ],
                        [
                          1,
                          "#f0f921"
                        ]
                      ],
                      "sequentialminus": [
                        [
                          0,
                          "#0d0887"
                        ],
                        [
                          0.1111111111111111,
                          "#46039f"
                        ],
                        [
                          0.2222222222222222,
                          "#7201a8"
                        ],
                        [
                          0.3333333333333333,
                          "#9c179e"
                        ],
                        [
                          0.4444444444444444,
                          "#bd3786"
                        ],
                        [
                          0.5555555555555556,
                          "#d8576b"
                        ],
                        [
                          0.6666666666666666,
                          "#ed7953"
                        ],
                        [
                          0.7777777777777778,
                          "#fb9f3a"
                        ],
                        [
                          0.8888888888888888,
                          "#fdca26"
                        ],
                        [
                          1,
                          "#f0f921"
                        ]
                      ]
                    },
                    "colorway": [
                      "#636efa",
                      "#EF553B",
                      "#00cc96",
                      "#ab63fa",
                      "#FFA15A",
                      "#19d3f3",
                      "#FF6692",
                      "#B6E880",
                      "#FF97FF",
                      "#FECB52"
                    ],
                    "font": {
                      "color": "#2a3f5f"
                    },
                    "geo": {
                      "bgcolor": "white",
                      "lakecolor": "white",
                      "landcolor": "#E5ECF6",
                      "showlakes": true,
                      "showland": true,
                      "subunitcolor": "white"
                    },
                    "hoverlabel": {
                      "align": "left"
                    },
                    "hovermode": "closest",
                    "mapbox": {
                      "style": "light"
                    },
                    "paper_bgcolor": "white",
                    "plot_bgcolor": "#E5ECF6",
                    "polar": {
                      "angularaxis": {
                        "gridcolor": "white",
                        "linecolor": "white",
                        "ticks": ""
                      },
                      "bgcolor": "#E5ECF6",
                      "radialaxis": {
                        "gridcolor": "white",
                        "linecolor": "white",
                        "ticks": ""
                      }
                    },
                    "scene": {
                      "xaxis": {
                        "backgroundcolor": "#E5ECF6",
                        "gridcolor": "white",
                        "gridwidth": 2,
                        "linecolor": "white",
                        "showbackground": true,
                        "ticks": "",
                        "zerolinecolor": "white"
                      },
                      "yaxis": {
                        "backgroundcolor": "#E5ECF6",
                        "gridcolor": "white",
                        "gridwidth": 2,
                        "linecolor": "white",
                        "showbackground": true,
                        "ticks": "",
                        "zerolinecolor": "white"
                      },
                      "zaxis": {
                        "backgroundcolor": "#E5ECF6",
                        "gridcolor": "white",
                        "gridwidth": 2,
                        "linecolor": "white",
                        "showbackground": true,
                        "ticks": "",
                        "zerolinecolor": "white"
                      }
                    },
                    "shapedefaults": {
                      "line": {
                        "color": "#2a3f5f"
                      }
                    },
                    "ternary": {
                      "aaxis": {
                        "gridcolor": "white",
                        "linecolor": "white",
                        "ticks": ""
                      },
                      "baxis": {
                        "gridcolor": "white",
                        "linecolor": "white",
                        "ticks": ""
                      },
                      "bgcolor": "#E5ECF6",
                      "caxis": {
                        "gridcolor": "white",
                        "linecolor": "white",
                        "ticks": ""
                      }
                    },
                    "title": {
                      "x": 0.05
                    },
                    "xaxis": {
                      "automargin": true,
                      "gridcolor": "white",
                      "linecolor": "white",
                      "ticks": "",
                      "title": {
                        "standoff": 15
                      },
                      "zerolinecolor": "white",
                      "zerolinewidth": 2
                    },
                    "yaxis": {
                      "automargin": true,
                      "gridcolor": "white",
                      "linecolor": "white",
                      "ticks": "",
                      "title": {
                        "standoff": 15
                      },
                      "zerolinecolor": "white",
                      "zerolinewidth": 2
                    }
                  }
                },
                "title": {
                  "text": "Silhouette Score par cluster"
                },
                "xaxis": {
                  "anchor": "y",
                  "domain": [
                    0,
                    1
                  ],
                  "title": {
                    "text": "Clusters"
                  }
                },
                "yaxis": {
                  "anchor": "x",
                  "domain": [
                    0,
                    1
                  ],
                  "title": {
                    "text": "Silhouette Score"
                  }
                }
              }
            }
          },
          "metadata": {},
          "output_type": "display_data"
        }
      ],
      "source": [
        "cluster_scores=pd.DataFrame(sil)\n",
        "k_frame = pd.Series(k)\n",
        "\n",
        "\n",
        "fig = px.bar(data_frame=cluster_scores,\n",
        "             x=k,\n",
        "             y=cluster_scores.iloc[:, -1]\n",
        "            )\n",
        "\n",
        "\n",
        "fig.update_layout(\n",
        "    yaxis_title=\"Silhouette Score\",\n",
        "    xaxis_title=\"Clusters\",\n",
        "    title=\"Silhouette Score par cluster\"\n",
        ")\n",
        "\n",
        "fig.show()"
      ]
    },
    {
      "cell_type": "markdown",
      "metadata": {},
      "source": [
        "Nous observons un pic élevé du score de silhouette à K2, ce qui indique des clusters bien séparés mais très globaux.\n",
        "Entre K10 et K15, les scores de silhouette se stabilisent autour de 0.44, ce qui reste un niveau de qualité satisfaisant tout en permettant une segmentation plus détaillée.\n",
        "Au-delà de K15, le score se dégrade progressivement, ce qui suggère que l’algorithme crée des clusters supplémentaires de manière moins naturelle et moins séparée.\n",
        "\n",
        "K15 apparaît donc comme un bon compromis :\n",
        "- assez de finesse pour distinguer des zones géographiques pertinentes,\n",
        "- tout en conservant une bonne compacité et séparation des clusters.\n",
        "\n",
        "Dans un contexte opérationnel pour Uber, K15 offrira une segmentation fine et exploitable pour mieux équilibrer l’offre et la demande sur le territoire.\n"
      ]
    },
    {
      "cell_type": "code",
      "execution_count": 276,
      "metadata": {},
      "outputs": [
        {
          "data": {
            "application/vnd.plotly.v1+json": {
              "config": {
                "plotlyServerURL": "https://plot.ly"
              },
              "data": [
                {
                  "hovertemplate": "Lat=%{lat}<br>Lon=%{lon}<br>Kmeans=%{marker.color}<extra></extra>",
                  "lat": {
                    "bdata": "AiuHFtleREAjSnuDL2REQM6qz9VWXERAJ6CJsOFhRECJQWDl0GJEQE7RkVz+Y0RAyxDHurhtREAukKD4MV5EQEoMAiuHXkRAjZduEoNgREBxPQrXo2BEQFYOLbKdX0RAUWuad5xiREBCPujZrFJEQLpJDAIrX0RAXrpJDAJTREDSb18HzmFEQAdfmEwVXERAKcsQx7pgRECDwMqhRV5EQHQkl/+QXkRA8BZIUPxgREB/2T15WGBEQELPZtXnWkRAmSoYldRhRECsrdhfdl9EQNSa5h2nYERArIvbaABXREBiEFg5tGBEQMHKoUW2W0RAVp+rrdhXREDRItv5flpEQJ+rrdhfXkRA+Q/pt69jREDgLZCg+FlEQJZDi2znY0RAE/JBz2ZdRECoNc07TmFEQH0/NV66YURAz2bV52prREBFR3L5D2FEQP5D+u3rWERAtaZ5xyliRECC4seYu15EQGHD0ytlYURAWYY41sVdREDvycNCrWFEQET67evAYURAdy0hH/RcREAnwoanV2JEQJ2AJsKGV0RAK4cW2c5fREDzjlN0JF9EQE5iEFg5dERAnDOitDdgREBz1xLyQV9EQEXY8PRKYURAZmZmZmZeREA51sVtNGBEQJkqGJXUYURAFR3J5T9cRECutmJ/2V1EQNxoAG+BZERAqFfKMsRhREA2zTtO0VlEQCuHFtnOV0RAhXzQs1ldRECYbhKDwGJEQG6jAbwFYkRAAAAAAABYREDVCWgibGBEQNnO91PjXURAGCZTBaNiREBQjZduEmNEQOhqK/aXVURAjgbwFkhgRECdgCbChl9EQLprCfmgX0RACyQofoxhREA/NV66SWREQIy5awn5YERAhslUwahcREC7Jw8LtV5EQCfChqdXYkRAnMQgsHJgRECsi9toAF9EQHEbDeAtYERAwcqhRbZbREDVeOkmMWBEQEymCkYlZURAtMh2vp9iREDjpZvEIGBEQMX+snvyYERAs+pztRVjRECBlUOLbF9EQAU0ETY8XURAUrgehethREAMAiuHFmFEQCPb+X5qXERAUkmdgCZSREA51sVtNGBEQP7UeOkmYURA3nGKjuRiRECx4emVslxEQL6fGi/dXERAAG+BBMVfREDP91PjpVtEQP7UeOkmYURAuycPC7VeREC4HoXrUVhEQOXQItv5XkRAcF8HzhlhREBdbcX+sltEQKCJsOHpXURASOF6FK5fRED/If32dWBEQCQofoy5W0RAaCJseHpdRECASL99HWBEQHKKjuTyX0RAeqUsQxxjREBiEFg5tFhEQHnpJjEIXERA8fRKWYZgREA4Z0Rpb2BEQG+BBMWPYURADXGsi9tYREC4QILix2BEQCbkg57NYkRA7FG4HoVjRECvJeSDnl1EQFafq63YX0RAo5I6AU1cREAK16NwPVpEQLAD54woXURA46WbxCBgREDImLuWkGdEQLU3+MJkYkRA5j+k375eREA3iUFg5VBEQMKGp1fKYkRAXkvIBz1jRED2KFyPwl1EQME5I0p7c0RAVOOlm8RgRECmCkYldWJEQINRSZ2AXkRABcWPMXdlREAoDwu1pmlEQD55WKg1XURA0gDeAglaREB4eqUsQ1xEQLHh6ZWyXERA1edqK/ZfRED+ZffkYWFEQJM6AU2EXURAL90kBoFdREDFjzF3LWFEQC2yne+nXkRAAJF++zpgREBn1edqK1ZEQLPqc7UVY0RA2IFzRpReREDHuriNBmBEQDSitDf4YkRAjgbwFkhgREDOiNLe4FtEQBKDwMqhZURAmnecoiNhREBfmEwVjGJEQCJseHqlXERAeHqlLENcRECq8dJNYmBEQPvL7snDYkRA1xLyQc9eREDyQc9m1V9EQN/gC5OpYkRAUdobfGFaREBfmEwVjFJEQOQUHcnlX0RAO3DOiNJeREBHA3gLJGBEQOM2GsBbYERAWKg1zTteRECLbOf7qWFEQFXBqKROYERA7nw/NV5iREArhxbZzl9EQFvTvOMUXURAs+pztRVjREDjpZvEIGBEQMKGp1fKYkRAguLHmLteREACvAUSFF9EQDLmriXkW0RA3GgAb4FkREC62or9ZV9EQEdy+Q/pX0RANKK0N/hiREC8dJMYBGZEQDnWxW00YERArrZif9ldREBbQj7o2VxEQHDOiNLeYERArfpcbcVeREA2PL1SlmFEQEOtad5xYkRAcayL22hgRECSy39Iv11EQJ88LNSaXkRAIbByaJFdREBcIEHxY2REQDojSnuDX0RA/kP67etgREC4rwPnjGBEQIEmwoanX0RAB/AWSFBcREBxPQrXo2BEQB4Wak3zXkRAGQRWDi1SREBGtvP91GBEQHZPHhZqXURAu7iNBvBeREABTYQNT19EQHsUrkfhYkRAhlrTvONcREDV52or9l9EQNXnaiv2X0RAf2q8dJNQREB90LNZ9VlEQG3n+6nxWkRAiIVa07xbREAtsp3vp1ZEQAFNhA1PX0RAp3nHKTpiREBhw9MrZWFEQFtCPujZXERAWDm0yHZeREAnwoanV2JEQNk9eVioZURAescpOpJbREAg0m9fB25EQLhAguLHYERApU5AE2FbREDmriXkg1ZEQJ/Nqs/VXkRAsHJoke1cREDD9Shcj1JEQK36XG3FXkRA1edqK/ZfREBbsb/snlxEQEmdgCbCXkRAApoIG55eREDnHafoSF5EQGTMXUvIX0RA1sVtNIBfREC+MJkqGFVEQKCJsOHpXURA+8vuycNSREACK4cW2V5EQFdbsb/sXkRAf/s6cM5gREBQjZduEltEQBb7y+7JW0RApSxDHOtaREAm5IOezWJEQApoImx4UkRA1lbsL7tfREBwXwfOGWFEQL6fGi/dXERAOdbFbTRoRED1SlmGOF5EQNiBc0aUXkRAbAn5oGdbRECsrdhfdl9EQAisHFpkW0RAn6ut2F9eREDf4AuTqWJEQHE9CtejYERAokW28/1cREBtVn2utmJEQO/Jw0KtYURA9ihcj8JlRECNKO0NvlhEQOeMKO0NXkRA4JwRpb1hREBO0ZFc/ltEQEYldQKaYERAY+5aQj5YRED/snvysGBEQEATYcPTW0RA8IXJVMFgREBPQBNhw1tEQJEPejarXkRASL99HThfRED7OnDOiFpEQJkqGJXUYURA1XjpJjFgRECV1AloIlxEQHDOiNLeYERAZapgVFJfRECGWtO841xEQF8HzhlRYkRAqvHSTWJgREAVjErqBFxEQBgmUwWjYkRAlkOLbOdbREAN4C2QoGBEQPXb14FzXkRAduCcEaVdREDRkVz+Q2JEQAyTqYJRYURACmgibHhiRED+Q/rt62BEQECk374OXERAV+wvuydnRECmCkYldWJEQEGC4seYW0RARGlv8IVhREAOvjCZKmBEQCo6kst/WERANxrAWyBhREC94xQdyV1EQLfRAN4CYURAUrgehethREApXI/C9WBEQCxlGeJYV0RAImx4eqVcREDUmuYdp2BEQOviNhrAW0RAvJaQD3peRECdgCbChl9EQLgehetRYERAMZkqGJVcREDQRNjw9GJEQMnlP6TfXkRAXynLEMdiREDtnjws1GJEQIqO5PIfYkRAU5YhjnVhRECt+lxtxV5EQBb7y+7JY0RAcM6I0t5gREArhxbZzl9EQJ2AJsKGX0RA1edqK/ZfRECQMXctIV9EQHE9CtejYERAY3/ZPXlgREAK16NwPVpEQIlBYOXQWkRAcT0K16NgRED7OnDOiGJEQIxK6gQ0YURAAU2EDU9fREDDZKpgVGJEQOtztRX7Y0RArWnecYpeREA5RUdy+V9EQM6I0t7gW0RATKYKRiVdREBj7lpCPmBEQFwgQfFjZERAseHplbJcREDG3LWEfGBEQBkEVg4tUkRA46WbxCBgREDek4eFWltEQBueXinLYERA8fRKWYZgRECcxCCwcmBEQLraiv1lX0RAMQisHFpcREDmP6Tfvl5EQA8LtaZ5X0RAMlUwKqlbREDXo3A9Cl9EQB4Wak3zXkRAqoJRSZ1gREACvAUSFF9EQBgmUwWjYkRA5q4l5INeREDn+6nx0mVEQMRCrWneYURA8rBQa5pfREDarPpcbV1EQNcS8kHPXkRA/7J78rBgREAcfGEyVWBEQI2XbhKDYERA4QuTqYJhREAWak3zjltEQCzUmuYdX0RASL99HThfREBoke18P11EQKg1zTtOWURANxrAWyBhRECbVZ+rrVhEQJ+rrdhfXkRAx7q4jQZgREBjf9k9eWBEQEa28/3UYERAVOOlm8RgREDy0k1iEFhEQA5Pr5RlYERAVn2utmJfREBDHOviNlpEQLivA+eMYERATmIQWDlcREAzxLEubmNEQB6n6EguX0RAH4XrUbheRECVZYhjXVREQI0o7Q2+YERAiUFg5dBiRECNKO0NvmBEQMdLN4lBYERAGsBbIEFhREBDHOviNlpEQMZtNIC3YERAj1N0JJdfREAxmSoYlVxEQFOWIY51YURA0NVW7C9bREB/+zpwzmBEQBpR2ht8YURAoBov3SReREBkO99PjV9EQMgHPZtVX0RA3gIJih9bREBF2PD0SmFEQO7rwDkjWkRAeAskKH5cRED5oGez6ltEQMRCrWneYURAnu+nxktnREAZBFYOLVpEQJEPejarXkRAfh04Z0RhREBAE2HD01tEQKAaL90kXkRAbVZ9rrZiREB7gy9MpmJEQJ0Rpb3BX0RAu7iNBvBeREArGJXUCWBEQGb35GGhXkRAoyO5/IdcREBX7C+7J19EQLdif9k9YURA1sVtNIBfREDf4AuTqWJEQIY41sVtXERA/7J78rBgREBJLv8h/V5EQOM2GsBbaERA+8vuycNSREDaG3xhMlVEQBsN4C2QWERA1sVtNIBfREAZ4lgXt2FEQF66SQwCW0RAHqfoSC5fRECTGARWDl1EQLfRAN4CYURADAIrhxZhREBwzojS3mBEQFg5tMh2XkRA1QloImxgRED3deCcEWVEQGlv8IXJZERA7nw/NV5iREBWDi2ynV9EQL8OnDOiXERA7nw/NV5iREAcfGEyVWBEQOELk6mCYURAF7fRAN5iRECh1jTvOGVEQF8pyxDHWkRAz/dT46VbRED3deCcEU1EQPtcbcX+YkRAiPTb14FbREAdOGdEaVdEQMuhRbbzXURAVFInoIlgRECCc0aU9lZEQEmdgCbCXkRA8BZIUPxgREAp7Q2+MGFEQCL99nXgXERAV+wvuydfREDLoUW2811EQJzEILByYERAR3L5D+lXREDRItv5flpEQN6Th4VaW0RANqs+V1thREBhw9MrZWFEQJkqGJXUYURAtRX7y+5ZREAYJlMFo2JEQBkEVg4tgkRAQmDl0CJjRECMuWsJ+WBEQIj029eBW0RAb/CFyVRhREAHzhlR2mNEQIxK6gQ0YURA4L4OnDNaRED/snvysGBEQAtGJXUCYkRAbAn5oGdbREALJCh+jGFEQLu4jQbwXkRA8IXJVMFgREDXEvJBz15EQDY8vVKWYURAG55eKctgREBPQBNhw2NEQPs6cM6IWkRA8WPMXUtgREDgnBGlvWFEQFyPwvUoXERAOPjCZKpgREC28/3UeGFEQDsBTYQNX0RASFD8GHNfREAvbqMBvF1EQF66SQwCW0RA6SYxCKxcREANcayL22BEQHGsi9toYERA/yH99nVgRECxUGuad2REQAwCK4cWYURAarx0kxhcREB+HThnRGFEQMx/SL99XURARIts5/tZREAbL90kBllEQOjZrPpcbURA5IOezapfREDnHafoSFZEQF8pyxDHWkRA1JrmHadgRECb5h2n6GBEQACRfvs6YERAf9k9eVhgREBrK/aX3WNEQCS5/If0W0RA4zYawFtgREBbQj7o2VxEQCo6kst/YERALbKd76deREDSAN4CCWJEQGq8dJMYXERAgZVDi2xfREAMk6mCUVlEQAisHFpkW0RAlWWIY11cREDek4eFWitEQBiV1AloYkRAJlMFo5JiREB3LSEf9FxEQBueXinLWERAO3DOiNJeRED1SlmGOF5EQOLplbIMWURATKYKRiVdREAIrBxaZFtEQKwcWmQ7X0RAAU2EDU9fREA6I0p7g19EQMWPMXctYURAVg4tsp1fREDEQq1p3mFEQKFns+pzXURAj8L1KFxfREBMpgpGJW1EQHe+nxovXURAvVKWIY5dREAbL90kBllEQFr1udqKXURA+Q/pt69bREA2zTtO0WFEQPtcbcX+WkRASFD8GHNXREDG3LWEfGBEQCfChqdXYkRArIvbaABnREA+6Nms+lxEQI9TdCSXX0RASL99HThnRECU9gZfmFxEQNxGA3gLXERAETY8vVJeREBtxf6ye1pEQDtwzojSXkRAHhZqTfNeREA7AU2EDV9EQNO84xQdYURAQ61p3nFaREB/+zpwzmBEQNNNYhBYYURAvAUSFD9eREDUK2UZ4mBEQN21hHzQY0RA7uvAOSNiREALRiV1AmJEQFMFo5I6WURAmEwVjEpiREACK4cW2V5EQH/ZPXlYYERAUrgehetZREAOvjCZKmBEQP8h/fZ1YERABhIUP8ZcREB9PzVeumFEQAAAAAAAYERA5WGh1jRfREDy0k1iEGBEQB04Z0RpX0RA3+ALk6laREDHSzeJQWBEQNV46SYxYERAHOviNhpYRECMuWsJ+VhEQE0VjErqXERAKA8LtaZhREDNO07RkVxEQA3gLZCgYERACD2bVZ9bREBMN4lBYF1EQGFUUiegYURAHOviNhpgREDVCWgibFhEQOELk6mCYURAsi5uowFcREAMAiuHFmFEQNUJaCJsYERA6Ugu/yFdREAnMQisHGJEQJzEILByYERAG55eKctgREBPHhZqTWNEQP5D+u3rYERA78nDQq1hREDA7J48LFxEQJf/kH77YkRA5q4l5INeREBsCfmgZ2NEQFOWIY51YURAGJXUCWhiREA2PL1SlmFEQJoIG55eYURAZohjXdxeREAi/fZ14FxEQJ7vp8ZLV0RA4JwRpb1hREDJdr6fGl9EQJLLf0i/XURA4XoUrkdhRED5MeauJWREQHS1FfvLXkRAzF1LyAddREAibHh6pVxEQO84RUdyYURAFK5H4XpcREBbQj7o2VxEQBIUP8bcXURAVFInoIlYRED129eBc15EQL99HThnXERAidLe4AtjREBSJ6CJsGFEQOXyH9JvX0RALbKd76deRECfPCzUml5EQG/whclUYURA/Bhz1xJaREA7AU2EDV9EQN21hHzQY0RA/7J78rBgREBsCfmgZ2NEQCnLEMe6YERABhIUP8ZcRED3Bl+YTFVEQIqw4emVWkRAGw3gLZBgREDRItv5fmJEQA6+MJkqYERAn6ut2F9WREAGEhQ/xlxEQFInoImwYURAPE7RkVxWRECppE5AE2FEQB+F61G4XkRAAwmKH2NeREAxmSoYlWREQLdif9k9YURA7Q2+MJlaREAnoImw4WFEQBUdyeU/ZERAmEwVjEpaREAmUwWjklpEQPjCZKpgXERABcWPMXdlREArGJXUCWBEQBsv3SQGYURAVcGopE5gREDgLZCg+GFEQJhMFYxKYkRAgy9MpgpeREDOGVHaG2REQGN/2T15YERA/fZ14JxhREC0WfW52mJEQJXUCWgiXERAiUFg5dBaREC4HoXrUWBEQGRd3EYDYERADeAtkKBgREA0gLdAglpEQJ/Nqs/VXkRAb/CFyVRhREA2PL1SlllEQKmkTkATYURAu7iNBvBWREBmiGNd3F5EQJqZmZmZYURAY3/ZPXlgREBgdk8eFmJEQH/7OnDOYERAJ6CJsOFhREAOvjCZKmBEQIY41sVtXERAs3vysFBjRECGWtO841xEQEku/yH9XkRA8x/Sb19fREAmUwWjklpEQG40gLdAYkRAMEymCkZdREApXI/C9WBEQERpb/CFYURAOGdEaW9gREBjf9k9eWBEQOoENBE2ZERA8KfGSzdhREAwTKYKRl1EQDSAt0CCYkRAeAskKH5cREBGJXUCmmBEQAg9m1WfY0RA5/up8dJdREDVeOkmMWBEQOQUHcnlX0RA48eYu5ZgRECKsOHplWJEQERpb/CFYURAdLUV+8teREDJ5T+k315EQKMjufyHXERAnDOitDdgREBuNIC3QHJEQHicoiO5XERA7MA5I0pbREDysFBrml9EQHE9CtejYERACmgibHhaRECz6nO1FWNEQAn5oGezYkRAXrpJDAJjRECYTBWMSmJEQFjKMsSxZkRAb4EExY9hRECDwMqhRV5EQD0s1JrmXURA5j+k375eREDQRNjw9GJEQJYhjnVxW0RACfmgZ7NiREA0orQ3+GJEQAKaCBueVkRAgQTFjzFfREBfmEwVjFJEQMxdS8gHXURANKK0N/haREBa9bnail1EQBQ/xty1XERAlIeFWtNcREClvcEXJmNEQIiFWtO8W0RAVcGopE5gREDmP6Tfvl5EQOauJeSDVkRAz/dT46VbREAs1JrmHV9EQAisHFpkW0RARwN4CyRgRED/snvysGBEQHZxGw3gVURA1edqK/ZXREDrc7UV+2NEQKyL22gAX0RA3+ALk6lSREAdyeU/pF9EQJCg+DHmVkRAfh04Z0RhREDlYaHWNF9EQKqCUUmdYERA+1xtxf5aREDkg57Nql9EQPKwUGuaX0RAEOm3rwNXREBPr5RliFtEQOAtkKD4YURAG55eKctgREAwuycPC11EQBB6Nqs+X0RAVg4tsp1vRECn6Egu/2FEQKfoSC7/YURAGw3gLZBgREC6awn5oF9EQA+cM6K0X0RAJQaBlUNjRECASL99HVhEQINRSZ2AXkRAOGdEaW9gREC28/3UeGFEQM3MzMzMZERAuECC4sdYREDjNhrAW2BEQNZW7C+7b0RAoWez6nNVREBWfa62Yl9EQD55WKg1XURATYQNT69cREDwFkhQ/GBEQKvP1VbsX0RAjnVxGw1gREA2PL1SlmFEQKabxCCwWkRAjnVxGw1YRECMuWsJ+WBEQPT91HjpZkRAhXzQs1ldREBxGw3gLWBEQDj4wmSqYERAhslUwahcREAAAAAAAGBEQOhqK/aXXURAV+wvuydfREAv3SQGgV1EQK1p3nGKXkRALUMc6+JeREAPnDOitF9EQL1SliGOXURAMuauJeRjREAj2/l+amREQHKKjuTyX0RAiUFg5dBaRECSy39Iv11EQDqSy39IX0RA3bWEfNBbREBSSZ2AJmJEQHS1FfvLXkRA7zhFR3JhREBHA3gLJGBEQCzUmuYdX0RA8fRKWYZgREAlBoGVQ1tEQLwFEhQ/XkRApSxDHOtiREBR2ht8YWJEQNJvXwfOYURANjy9UpZhRECcxCCwcmBEQJ88LNSaXkRAutqK/WVfREClvcEXJmNEQJ0Rpb3BX0RAcayL22hgRECjkjoBTWREQEXY8PRKYURAGsBbIEFhREAUP8bctVREQDarPldbYURA0LNZ9bliREAJG55eKVtEQEvIBz2bXURAuY0G8BZgREB/arx0k2BEQGkAb4EEXURAYhBYObRgREA2qz5XW2FEQG3F/rJ7YkRAw9MrZRlaREDRkVz+Q2JEQF+YTBWMUkRAKjqSy39gRECitDf4wmREQPT91HjpXkRA1zTvOEVfREAdyeU/pF9EQMZtNIC3YERA+THmriVcREB+jLlrCWFEQJCg+DHmXkRAQ61p3nFSREBnRGlv8HVEQIZa07zjXERAF9nO91NjRED5MeauJVxEQDSAt0CCYkRAsi5uowFcREBDHOviNlpEQOhqK/aXXURAMZkqGJVcREBTBaOSOmlEQKyt2F92Z0RADr4wmSpgREBoImx4el1EQE9AE2HDY0RA/7J78rBgREA/xty1hFxEQDarPldbYURA24r9ZfdkRED6fmq8dFtEQNO84xQdYURA6pWyDHFURECitDf4wlxEQERpb/CFYURAe4MvTKZSRED7OnDOiGJEQNV46SYxYERANjy9UpZhRECQoPgx5k5EQFyPwvUoXERAGw3gLZBgREDsL7snD2NEQOVhodY0X0RAGCZTBaNiREDeAgmKH1tEQNV46SYxYERAylTBqKReREBUUiegiWBEQAyTqYJRYURAHhZqTfNeREDzjlN0JF9EQM3MzMzMXERAw9MrZRlaREDWxW00gF9EQJ/Nqs/VXkRA9dvXgXNeREAijnVxG11EQKOSOgFNXERAnu+nxktXREB8YTJVMFpEQKmkTkATYURAMZkqGJVcRECcoiO5/F9EQOqVsgxxXERAYTJVMCphREBRa5p3nGJEQO5aQj7oYURA4QuTqYJhREBFR3L5D2FEQOtztRX7W0RA5j+k375eRECgGi/dJF5EQIXrUbgeXURAY+5aQj5gREDgvg6cM1pEQDY8vVKWYURAOPjCZKpgREA3iUFg5WBEQBUdyeU/ZERASnuDL0xeREAAb4EExV9EQCPb+X5qXERARpT2Bl9gREBmiGNd3F5EQMX+snvyWERAnDOitDdgREBNFYxK6lxEQE3zjlN0XERAxY8xdy1hREBWfa62Yl9EQA6+MJkqYERAp+hILv9ZRECze/KwUFtEQOSDns2qV0RA1sVtNIBfREAbDeAtkGBEQAfwFkhQXERA48eYu5ZYRECQoPgx5lZEQNzXgXNGXERAj+TyH9JfREAVHcnlP1REQHctIR/0XERA7nw/NV5SREDTvOMUHWFEQLTIdr6fWkRASnuDL0xeREDysFBrml9EQKd5xyk6WkRAwaikTkBjREAJ+aBns2JEQGN/2T15YERAD5wzorRfREAbnl4py2BEQIJzRpT2XkRAVFInoIlgREAYJlMFo2JEQOoENBE2ZERAGQRWDi1aREBrK/aX3WNEQEYldQKaYERAhlrTvONkRECX/5B++1pEQDJ3LSEfZERAHqfoSC5fREC4QILix2BEQHuDL0ymWkRAqmBUUidgREBE+u3rwGFEQE9AE2HDW0RA9pfdk4ddRECBBMWPMV9EQI/k8h/SV0RAcayL22hgREC4rwPnjGBEQEXY8PRKYURApb3BFyZbREC94xQdyWVEQAIrhxbZXkRA6Gor9pdlREDBqKROQFtEQAu1pnnHYURAZRniWBdfREDjx5i7lmBEQFg5tMh2XkRAtTf4wmRaREAcfGEyVWBEQGwJ+aBnW0RAMuauJeRjREA/xty1hGREQM6qz9VWZERAsAPnjChdRECNl24Sg2BEQBQ/xty1XERAeJyiI7lkREB24JwRpVVEQGRd3EYDWERAGJXUCWhaREDtnjws1GJEQIQNT6+UXURArthfdk9eREAqOpLLf1hEQP5l9+RhYURAZmZmZmZeREDWVuwvu19EQJLLf0i/XURA8BZIUPxgREBbQj7o2VxEQIy5awn5YERA8fRKWYZgREArhxbZzl9EQPhT46WbXERAfa62Yn9hRECqglFJnWBEQMP1KFyPUkRAhXzQs1ldREDKMsSxLl5EQH6MuWsJYURASL99HThfRECMSuoENGFEQDEIrBxaZERAX5hMFYxSRECcxCCwcmBEQPCnxks3YURA1xLyQc9eREAX2c73U2NEQMX+snvyYERArIvbaABfREAN4C2QoGBEQLHh6ZWyZERA/yH99nVgREBq3nGKjlxEQBWMSuoEXERABhIUP8ZcRECC4seYu15EQKhXyjLEYURAl5APejZjREBU46WbxGBEQLivA+eMYERASFD8GHNfRECSXP5D+l1EQMX+snvyYERAj1N0JJdfREAc6+I2GmBEQIv9ZffkYURASL99HThfREAUrkfhelxEQPkP6bevW0RAokW28/1cRECDUUmdgF5EQC7/If32XURAbAn5oGdbREBCYOXQImNEQGdEaW/wXURAlWWIY11cREDIBz2bVV9EQFTjpZvEYERAak3zjlNcREBfKcsQx1JEQNJvXwfOYURAA3gLJCheREAdOGdEaV9EQFvTvOMUXURAf9k9eVhgREBTliGOdWFEQCxlGeJYX0RATRWMSupcREDwp8ZLN2FEQHEbDeAtYERAoyO5/IdcREAN4C2QoGBEQKJFtvP9XERAu7iNBvBeREDnjCjtDV5EQDtwzojSXkRAhA1Pr5RdREBIv30dOF9EQGaIY13cXkRA6Nms+lxNRECR7Xw/NVZEQKyL22gAX0RAo5I6AU1kRED99nXgnGFEQEvIBz2bZURAJ8KGp1diREAUrkfhelxEQBPyQc9mXURAtFn1udpiREDSb18HzmFEQD/G3LWEXERA4XoUrkdhRECMuWsJ+WBEQPAWSFD8YERAHcnlP6RfRECCc0aU9l5EQMKGp1fKWkRAb/CFyVRZREAJih9j7mJEQJJc/kP6XURA3+ALk6lSRECP5PIf0l9EQIts5/upYURAVOOlm8RgREB2Tx4Wal1EQNiBc0aUXkRAVFInoIlgREC4QILix2BEQHQkl/+QXkRAfGEyVTBiRED2KFyPwl1EQJzEILByYERArWnecYpWREDGbTSAt2BEQDPEsS5uW0RAYqHWNO9gRECvlGWIY2VEQHE9CtejYERAx0s3iUFgREAX2c73U1tEQKRwPQrXW0RAbAn5oGdbREB6xyk6kltEQNZW7C+7X0RAO3DOiNJeREDwFkhQ/GBEQLaEfNCzYURAOiNKe4NfRECSXP5D+l1EQKK0N/jCVERAcayL22hgREApXI/C9VhEQGsr9pfdW0RA4zYawFtgREC1pnnHKWJEQKCJsOHpTURAYhBYObRgREBKDAIrh1ZEQNDVVuwvY0RAGCZTBaNaRED4wmSqYFREQO/Jw0KtYURA1xLyQc9eREATYcPTK11EQPs6cM6IUkRAN4lBYOVgREBuowG8BWJEQNCzWfW5WkRARGlv8IVZREDi6ZWyDGFEQAFNhA1PV0RAKVyPwvVgREBz1xLyQV9EQHNoke18X0RAKe0NvjBhREDarPpcbVVEQOLplbIMYURAPQrXo3BlREB7gy9MplpEQO/Jw0KtYURAgEi/fR1gREDx9EpZhmBEQP7UeOkmYURA6gQ0ETZcREAAb4EExV9EQLivA+eMYERAjSjtDb5gREDzjlN0JF9EQLhAguLHYERA8IXJVMFgREDhC5OpgmFEQF1txf6yW0RA4lgXt9FYREDTvOMUHWFEQB1aZDvfX0RABhIUP8ZcRECRD3o2q15EQGlv8IXJXERA2ht8YTJdREBF2PD0SmFEQFdbsb/sXkRASOF6FK5XRECGWtO841xEQCsYldQJYERAK/aX3ZNfREDu68A5I2JEQMPTK2UZWkRA+8vuycNaREAJih9j7mJEQB6n6EguX0RAGy/dJAZhREB7FK5H4WJEQBiV1AloWkRA9wZfmExdREDWVuwvu19EQNc07zhFX0RAlrIMcaxjREDSb18HzmFEQL99HThnZERAat5xio5kREDwp8ZLN2FEQCcxCKwcWkRAi/1l9+RRRED8qfHSTWJEQAIrhxbZXkRArK3YX3ZfREBE+u3rwGFEQPhT46WbXERAf/s6cM5YREA6I0p7g2dEQDGZKhiVXERAMnctIR9kREBTliGOdWFEQLAD54woXURAidLe4AtjREAsZRniWF9EQPrt68A5Y0RAxyk6kstfREAqqRPQRGBEQLivA+eMWERAHThnRGlfREBYyjLEsV5EQGlv8IXJXERAx7q4jQZYRECoxks3iWFEQET67evAYURAV+wvuydfREA2PL1SlmFEQE0VjErqXERAQj7o2axaREARx7q4jV5EQO58PzVeYkRA+1xtxf5aREB/arx0k2BEQIbJVMGoVERAHHxhMlVgREAwKqkT0FxEQIqw4emVYkRAqoJRSZ1gREBwzojS3mBEQE8eFmpNY0RArWnecYpeREBFR3L5D2FEQFwgQfFjXERAg8DKoUVeREDFjzF3LWFEQFuxv+yeXERAFK5H4XpcREDcaABvgWREQCDSb18HVkRAxLEubqNhREDcaABvgVxEQH4dOGdEYURA8tJNYhBgREBZF7fRAF5EQAFNhA1PX0RAf2q8dJNgREA9CtejcF1EQPyp8dJNYkRAObTIdr5fREDlYaHWNF9EQKmkTkATgURARrbz/dRgRECOdXEbDWBEQN0kBoGVY0RAnYAmwoZfREAbnl4py2BEQMpUwaikXkRAIo51cRtdREC94xQdyVVEQAHeAgmKV0RAOiNKe4NfRECn6Egu/2FEQBrAWyBBYURAgQTFjzFfREC30QDeAmFEQIZa07zjXERAhslUwahcRECrPldbsVdEQLaEfNCzYURAAAAAAABYREBVwaikTlhEQHPXEvJBX0RAb/CFyVRhREC+MJkqGFVEQFuxv+yeXERACfmgZ7NSREBy+Q/pt19EQOJYF7fRYERAppvEILBaRECGONbFbVxEQMWPMXctYURAi/1l9+RhREC1FfvL7mFEQMpUwaikXkRA3nGKjuRiREB6Nqs+V1tEQHrHKTqSY0RANBE2PL1iREA5tMh2vl9EQC1DHOviXkRA3bWEfNBbRECvJeSDnlVEQAisHFpkW0RA0ZFc/kNaREBfB84ZUWJEQGRd3EYDWERAbVZ9rrZiRECdgCbChldEQNk9eVioXURAYHZPHhZqREAMAiuHFmFEQHicoiO5XERAPujZrPpcREAdOGdEaV9EQJ5eKcsQX0RAbVZ9rrZSREBIUPwYc19EQGPuWkI+YERAdk8eFmplRECt+lxtxV5EQPp+arx0c0RA4zYawFtgREA8TtGRXFZEQOkmMQisXERA78nDQq1hREDZPXlYqF1EQNbFbTSAX0RAIv32deBcREAdyeU/pF9EQAkbnl4pY0RA8tJNYhBgREBYyjLEsV5EQMgHPZtVX0RA5x2n6EheREAoDwu1pmFEQGq8dJMYXERA3SQGgZVbREAYJlMFo2JEQAu1pnnHWURATDeJQWBdREAlBoGVQ1tEQLpJDAIrV0RAUiegibBhREBTliGOdWlEQLhAguLHWERAe4MvTKZSRECMSuoENGFEQEJg5dAiU0RANBE2PL1SREBxPQrXo2BEQFOWIY51YURATYQNT69cREAIPZtVn1tEQELPZtXnWkRAwTkjSntjREC9UpYhjlVEQPwYc9cSYkRAfdCzWfVhREDGbTSAt2BEQAisHFpkg0RAKVyPwvVgRECcxCCwcmBEQPs6cM6IYkRAqvHSTWJYREBhVFInoGFEQHgLJCh+XERAv30dOGdcREAeFmpN81ZEQFuxv+yeXERAMnctIR9cREAJih9j7lpEQJvmHafoYERAGlHaG3xhREDZX3ZPHl5EQFXBqKROYERAx0s3iUFgREBR2ht8YWJEQMbctYR8YERAKcsQx7pgREAbnl4py2BEQN6Th4VaW0RAn82qz9VeREAYJlMFo1pEQCzUmuYdV0RAu7iNBvBWRECh1jTvOF1EQDY8vVKWYURAzTtO0ZFkRECppE5AE2FEQHL5D+m3X0RAFK5H4XpcREDP91PjpVtEQIJzRpT2XkRAIv32deBcREDZPXlYqF1EQHnpJjEIZERASL99HThfRECTqYJRSVVEQBB6Nqs+X0RAXCBB8WNcREDFILByaGFEQP2H9NvXYURAT0ATYcNbREDOGVHaG1xEQIPAyqFFXkRAejarPldjREBQ/Bhz11pEQH6MuWsJYURAseHplbJkREBxPQrXo2BEQKs+V1uxV0RAbVZ9rrZSREAeFmpN815EQFHaG3xhYkRAnYAmwoZfREC+MJkqGF1EQIEExY8xX0RAXwfOGVFiREBwXwfOGWFEQKUsQxzrYkRArBxaZDtfREDFjzF3LWFEQI/k8h/SX0RAjZduEoNgRECpE9BE2GBEQACRfvs6YERA6Ugu/yFdRECjkjoBTWREQEcDeAskYERAorQ3+MJcREA1XrpJDFpEQE7RkVz+Y0RARGlv8IVhREBPQBNhw2NEQIJzRpT2XkRAgnNGlPZeRECyLm6jAVxEQEJg5dAiY0RAOPjCZKpgREDjNhrAW2BEQKmkTkATYURAy6FFtvNdREAJG55eKWNEQDj4wmSqWERAhlrTvONcREB1kxgEVlZEQCgPC7WmWURABoGVQ4tcREBQjZduEmNEQGsr9pfdW0RAguLHmLteREBVMCqpE2BEQH3Qs1n1WURAmggbnl5hREB/+zpwzmBEQE0VjErqXERAVp+rrdhfRECSXP5D+l1EQLprCfmgX0RADr4wmSpgREBj7lpCPmBEQCqpE9BEYERA/Bhz1xJaRECyne+nxltEQJEPejarXkRAV+wvuydfREAlBoGVQ1tEQNiBc0aUXkRAvp8aL91cREDVCWgibGBEQBDpt68DV0RAuK8D54xgREDNzMzMzFxEQH/7OnDOYERAGy/dJAZhREDcaABvgVxEQHEbDeAtYERAZDvfT41fREBZhjjWxV1EQC/dJAaBZURA/7J78rBgRECdEaW9wV9EQEaU9gZfYERAak3zjlNcRECz6nO1FWNEQPcGX5hMXURAowG8BRJcREB3LSEf9GxEQJeQD3o2Y0RAAAAAAABgREDy0k1iEGBEQCxlGeJYX0RAs+pztRVjREBI4XoUrl9EQNqs+lxtXURA8BZIUPxgRED5MeauJWREQPXb14FzXkRAd76fGi9lRED+ZffkYWFEQM/3U+OlW0RAZ9XnaiteREBfB84ZUVpEQDMzMzMzY0RAOPjCZKpgREDOqs/VVlxEQLIubqMBXERArBxaZDtfREDJdr6fGl9EQMl2vp8aX0RAjZduEoNgREAAkX77OmBEQFHaG3xhYkRArBxaZDtfRECoxks3iWFEQH/7OnDOYERA7C+7Jw9bRECDUUmdgG5EQDy9UpYhXkRAXf5D+u1jREA6I0p7g19EQOVhodY0X0RAZRniWBdfRECOBvAWSGBEQIV80LNZXURAxY8xdy1hREBzaJHtfF9EQOOlm8QgWERA7lpCPuhZREAbnl4py1hEQGFUUiegYURAjnVxGw1gREBcIEHxY1xEQBKDwMqhZURAmggbnl5hRECcoiO5/F9EQBsv3SQGYURAbef7qfFiREB/2T15WFhEQHGsi9toYERAHVpkO99fREDufD81XmJEQLHh6ZWyXERAYcPTK2VhREBKDAIrh15EQJJc/kP6XURA6Ugu/yFdREBhVFInoGFEQHlYqDXNY0RAx7q4jQZgREA2PL1SlmFEQE+vlGWIY0RADAIrhxZhREBTBaOSOmFEQLG/7J48hERAdCSX/5BeRECJQWDl0GJEQBniWBe3YURAgEi/fR1gREDaG3xhMl1EQL1SliGOXURADwu1pnlfREAhH/RsVl1EQOY/pN++XkRAK4cW2c5fREBqTfOOU1xEQOJYF7fRYERAFvvL7slbREBYObTIdl5EQEw3iUFgVURAukkMAitfREBj7lpCPmBEQBlz1xLycURAXW3F/rJbREBxGw3gLWBEQG3F/rJ7YkRAOdbFbTRgREBB8WPMXVtEQA6+MJkqYERAF0hQ/BhjRECfPCzUml5EQEvIBz2bXURAsAPnjChdRED0/dR46WZEQP8h/fZ1YERAeqUsQxxjREDRkVz+Q1pEQDY8vVKWYURAbqMBvAViREDdJAaBlWNEQOSDns2qX0RARrbz/dRgRECamZmZmWFEQOF6FK5HYURAC0YldQJiREACvAUSFF9EQPJBz2bVX0RAkxgEVg5dREDFILByaGFEQPCnxks3YURAx7q4jQZgREDlYaHWNF9EQA4tsp3vX0RAAiuHFtleRECz6nO1FWNEQGZmZmZmXkRA8tJNYhBgREA/xty1hFxEQMl2vp8aX0RAkDF3LSFXRECOdXEbDWBEQNuK/WX3XERAHhZqTfNeREA6kst/SF9EQHWTGARWXkRAXdxGA3hjREB4CyQoflxEQEvqBDQRXkRAHhZqTfNeREDJ5T+k315EQJVliGNdXERAf9k9eVhgREBxrIvbaGBEQIGVQ4tsX0RAS8gHPZtdRED99nXgnGFEQC/dJAaBXURAmnecoiNhREA7cM6I0mZEQPYoXI/CXURAYOXQItthRECLbOf7qWFEQFMFo5I6YURAbVZ9rrZaREDOiNLe4FtEQM4ZUdobXERA3+ALk6laREAjSnuDL1xEQBkEVg4tUkRAc9cS8kFfREDdJAaBlVtEQEvIBz2bXURAZapgVFJfREBEaW/whWFEQJSHhVrTXERAf9k9eVhgREBb07zjFF1EQJhMFYxKYkRATx4Wak1bRECyne+nxltEQKd5xyk6WkRAN4lBYOVgREAUP8bctWREQHRGlPYGX0RADr4wmSpgRECGONbFbVxEQDj4wmSqYERAxY8xdy1hREDtnjws1FpEQMHKoUW2W0RAXynLEMdaREAUrkfhelxEQKqCUUmdYERAcF8HzhlhREC7uI0G8GZEQNlfdk8eXkRAsAPnjChVRECAt0CC4l9EQCuHFtnOX0RAI0p7gy9cREDwFkhQ/GBEQPJBz2bVX0RAmnecoiNhREBZhjjWxV1EQEATYcPTU0RANIC3QIJaREA8TtGRXF5EQMcpOpLLX0RAImx4eqVkRED4U+Olm1xEQG8Sg8DKYURA+zpwzohiREA4+MJkqmBEQA6+MJkqYERAMuauJeRbRECZKhiV1GFEQHbgnBGlZURAOdbFbTRgRECOdXEbDVhEQCnLEMe6YERAL90kBoFdREBGlPYGX2BEQGDl0CLbYURA4zYawFtYREBcj8L1KFxEQHuDL0ymUkRA7lpCPuhhREBuowG8BVpEQFRSJ6CJYERA/kP67etgREAtQxzr4l5EQHZxGw3gXURA/yH99nVgREC30QDeAllEQNQrZRniYERA/mX35GFxRECJQWDl0FpEQOPHmLuWYERASS7/If1eRED0bFZ9rl5EQMiYu5aQX0RAxm00gLdgREAE54wo7V1EQGrecYqOXERAvsEXJlNdREBCYOXQImNEQJCg+DHmXkRAXI/C9ShkREBxrIvbaGhEQOoENBE2ZERA7MA5I0pjRED7OnDOiFJEQGPuWkI+YERAJzEIrBxSREACvAUSFF9EQDY8vVKWYURAkX77OnBeREBYyjLEsV5EQB6n6EguX0RA097gC5NhREA4+MJkqmBEQCDSb18HXkRA5/up8dJtREALJCh+jFlEQA1xrIvbYERAjErqBDRhREB9rrZif2FEQA5Pr5RlYERA/mX35GFhREBMpgpGJV1EQO84RUdyYURANV66SQxaREC/fR04Z1xEQI4G8BZIYERAxY8xdy1hRED8qfHSTVJEQMZtNIC3WERAO99PjZdeREAHzhlR2lNEQGFUUiegYURAwTkjSntbRECPwvUoXF9EQMuhRbbzXURA3bWEfNBbREADeAskKF5EQHlYqDXNY0RA9P3UeOleREBwzojS3mBEQNejcD0KX0RA+zpwzohSREAAb4EExV9EQC/dJAaBXURApb3BFyZjREDl8h/Sb19EQKpgVFInWERAUI2XbhJbRECyne+nxltEQOxRuB6FY0RABOeMKO1dREA9m1Wfq11EQACRfvs6YERAYcPTK2VhREB4eqUsQ1xEQMdLN4lBWERAt2J/2T1pREB0RpT2Bl9EQBB6Nqs+X0RAFmpN845bRECDUUmdgF5EQIGVQ4tsV0RAMnctIR9cREBSSZ2AJmJEQFHaG3xhYkRAnMQgsHJgREAcfGEyVVhEQEOtad5xYkRARwN4CyRgREBIUPwYc19EQMuhRbbzXURAZmZmZmZeREDKMsSxLmZEQNO84xQdYURANV66SQxiREDQs1n1uVJEQPFjzF1LYERAS+oENBFeREB1ApoIG1ZEQNPe4AuTYURAuECC4sdYREAqqRPQRGBEQAdfmEwVZERALNSa5h1fREC4HoXrUWBEQH9qvHSTYERAzF1LyAddREAVjErqBFxEQF3cRgN4W0RAx0s3iUFgREBlqmBUUl9EQHDOiNLeYERAQ61p3nFaRED9h/Tb11lEQOkmMQisXERA+zpwzohiREA2zTtO0WFEQPCnxks3YURAJCh+jLljREDImLuWkF9EQBUdyeU/VERA8WPMXUtgREDufD81XmJEQMcpOpLLX0RA3GgAb4FcREB+jLlrCWFEQIY41sVtXERAppvEILBiRECtad5xil5EQLraiv1lX0RAB/AWSFBcREBmZmZmZl5EQIy5awn5YERAaQBvgQRdREB6xyk6kltEQKrx0k1iWERAeHqlLENcRECBlUOLbF9EQEdy+Q/pV0RA6Ugu/yFdRECM22gAb3FEQPs6cM6IYkRAx0s3iUFgREAMk6mCUWFEQOauJeSDXkRA5BQdyeVfRECI9NvXgVtEQBSuR+F6XERAtoR80LNhREAB3gIJil9EQCnLEMe6YERAcT0K16NgREBcj8L1KFxEQMP1KFyPYkRAV+wvuydfREC+wRcmU11EQGiz6nO1VURALNSa5h1fRECyne+nxltEQA3gLZCgYERAEhQ/xtxdREApXI/C9WBEQFCNl24SY0RAB1+YTBVcREAtIR/0bF5EQD55WKg1ZURAysNCrWleREAv3SQGgVVEQLIubqMBXERA30+Nl25iREDEsS5uo2FEQGdEaW/wXURAM8SxLm5bREBhVFInoGFEQKVOQBNhW0RAQYLix5hbREDhehSuR2FEQFRSJ6CJYERADr4wmSpgREBHcvkP6V9EQFZ9rrZiX0RARpT2Bl9gREALJCh+jGFEQMSxLm6jYURALGUZ4lhXREBlGeJYF19EQMgHPZtVX0RAcayL22hgREBWDi2ynVdEQF+YTBWMWkRArkfhehReREA0orQ3+GJEQA4tsp3vX0RAf2q8dJNgREB4eqUsQ1xEQFkXt9EAXkRAT0ATYcNbREAdOGdEaV9EQBfZzvdTY0RAxEKtad5hREDOqs/VVlxEQMP1KFyPWkRAx7q4jQZgREBvgQTFj2FEQEoMAiuHXkRAyeU/pN9eREBaZDvfT11EQACRfvs6YERAZmZmZmZWREAFNBE2PFVEQBb7y+7JW0RANxrAWyBhREAVjErqBFxEQMWPMXctYURASgwCK4deREBbQj7o2VxEQMuhRbbzXURAKe0NvjBhRECJ0t7gC2NEQNNNYhBYYURAqvHSTWJgRED99nXgnGFEQGpN845TZERAx7q4jQZYREAibHh6pVxEQEYldQKaYERA1zTvOEVfRECsi9toAFdEQD81XrpJXERAHcnlP6RfREDnjCjtDVZEQC7/If32XURAKVyPwvVgREAFxY8xd11EQM/3U+OlY0RA54wo7Q1WREA9LNSa5l1EQFioNc07XkRA1lbsL7tXRED7y+7Jw1JEQHBfB84ZYURAYHZPHhZqREB4eqUsQ1xEQC0hH/RsXkRAKxiV1AlgREC6awn5oF9EQMP1KFyPYkRA16NwPQpfRECKH2PuWmJEQEp7gy9MXkRACfmgZ7NiREDc14FzRlxEQPvL7snDYkRAVTAqqRNgREDwhclUwWBEQN6Th4VaW0RAZvfkYaFeREC28/3UeGFEQHzysFBrWkRA9bnaiv1dREAdOGdEaV9EQCNKe4MvZERAv30dOGdcREDKw0KtaV5EQPyp8dJNWkRA4QuTqYJhREBAE2HD01tEQP5l9+RhYURAz2bV52pbREBPr5RliGNEQJoIG55eYURAbHh6pSxjREDcaABvgVxEQFOWIY51aURAkX77OnBeREA8TtGRXF5EQIBIv30dYERAx0s3iUFYREArhxbZzl9EQOcdp+hIbkRA1sVtNIBfREB3LSEf9GREQCNKe4MvXERA4umVsgxhREBCPujZrGJEQCJseHqlXERAqmBUUidgREBwXwfOGWFEQLByaJHtXERANIC3QIJiREDIBz2bVV9EQC7/If32XURAbqMBvAViREAEVg4tsmVEQFJJnYAmYkRAeVioNc1bREAlBoGVQ3NEQECk374OXERAi/1l9+RZREDy0k1iEGBEQJzEILByUERAUI2XbhJjRED5MeauJVxEQG/whclUYURAR3L5D+lfREBiEFg5tGBEQB04Z0RpX0RAgSbChqdfREBiEFg5tGBEQIbJVMGoXERAayv2l91jREACK4cW2V5EQMgHPZtVX0RAbHh6pSxjREBYObTIdl5EQFHaG3xhWkRAtoR80LNhREB/2T15WGBEQMdLN4lBYERA5dAi2/leRECDUUmdgF5EQA3gLZCgYERAyAc9m1VfRECGyVTBqFxEQLaEfNCzYURAV1uxv+xeRECjkjoBTVxEQDqSy39IX0RA7Q2+MJliREBWfa62Yl9EQP5l9+RhYURAuK8D54xYREDKMsSxLlZEQDbNO07RYURAklz+Q/pdRECgibDh6WVEQMpUwaikXkRAaCJseHpdREBZhjjWxV1EQD81XrpJXERAjErqBDRhREAQejarPl9EQGEyVTAqYURALSEf9GxmREClTkATYVtEQLN78rBQY0RAxyk6kstfREDMXUvIB2VEQJvmHafoYERAyjLEsS5eREDlYaHWNF9EQEATYcPTW0RAtaZ5xylaREACK4cW2V5EQOPHmLuWWERABTQRNjwVREDHuriNBmBEQIC3QILiX0RAmEwVjEpiREDG3LWEfGBEQB04Z0RpX0RAUiegibBhREDjpZvEIGBEQBE2PL1SXkRAB/AWSFBcREBwXwfOGWFEQDbNO07RYURAZapgVFJXREBX7C+7J19EQCxlGeJYX0RAgQTFjzFfREDufD81XmJEQATnjCjtXURA0m9fB85ZREDswDkjSmNEQCfChqdXWkRAxSCwcmhhRECoNc07TmlEQOJYF7fRYERAVTAqqRNgRECrz9VW7H9EQFTjpZvEYERAUiegibBJREA+eVioNV1EQOLplbIMYURANe84RUdiRECqYFRSJ2BEQKfoSC7/gURAGXPXEvJZRED4wmSqYFxEQP5D+u3rWERAJ6CJsOFhREDr4jYawGNEQOELk6mCYURAMCqpE9BcREC4HoXrUWBEQFdbsb/sXkRAuECC4sdgREBApN++DlxEQIEmwoanX0RAe4MvTKZiREBEaW/whWlEQI/C9ShcX0RAcM6I0t5gRECZKhiV1GFEQL7BFyZTZURA8KfGSzdhRECad5yiI2FEQHE9CtejYERAI0p7gy9cREAep+hILl9EQEi/fR04X0RAKcsQx7pgREBjf9k9eVBEQHuDL0ymYkRAk6mCUUlVREBVMCqpE2BEQNbFbTSAZ0RAm+Ydp+hgREDUmuYdp2BEQJqZmZmZYURARPrt68BhREDhC5OpgmFEQPOOU3QkX0RAGJXUCWhaRED7y+7Jw1pEQD81XrpJXERARIts5/tZRECOdXEbDWBEQPyp8dJNWkRAhxbZzvdbREDx9EpZhmBEQHsUrkfhYkRAFNBE2PBcREC5jQbwFmBEQAYSFD/GXERAxLEubqNhREAOLbKd719EQB+F61G4XkRAdCSX/5BeREA6I0p7g1dEQLprCfmgX0RAVOOlm8RgRECNl24Sg2BEQN/gC5OpWkRA16NwPQpfREDwhclUwWBEQOPHmLuWYERA0SLb+X5iREBU46WbxGBEQFR0JJf/YERAodY07zhdREAQ6bevA19EQHEbDeAtYERAdnEbDeBdREBOYhBYOVREQN9PjZduYkRA5j+k375eREAqqRPQRGBEQMRCrWneYURAXynLEMdiRECmCkYldWJEQCxlGeJYX0RArK3YX3ZXREDb+X5qvGREQPkx5q4lXERAAAAAAABgREC94xQdyV1EQD81XrpJXERAxY8xdy1hREDHuriNBmBEQPwYc9cSYkRAZ0Rpb/BdREDTvOMUHWFEQG3n+6nxYkRAj8L1KFxfREDCFyZTBVtEQNiBc0aUXkRA2V92Tx5eREDTTWIQWGFEQNO84xQdYURAT6+UZYhbREAQejarPmdEQF8HzhlRYkRAKVyPwvVgRECz6nO1FWNEQGB2Tx4WYkRAHThnRGlnREACvAUSFFdEQNQrZRniYERAV+wvuydXREClvcEXJmNEQG3n+6nxYkRAVn2utmJfRECRD3o2q15EQFInoImwYURA07zjFB1hREDu68A5I2JEQFInoImwYURA8WPMXUtgREB90LNZ9VlEQB3J5T+kZ0RA8IXJVMFgRECKsOHplWJEQBdIUPwYW0RA2PD0SlleREBIv30dOF9EQPCFyVTBYERAYHZPHhZiREBQjZduEmNEQNSa5h2nYERAtRX7y+5hRECEDU+vlF1EQDVeukkMYkRAtRX7y+5ZREAc6+I2GmBEQIj029eBU0RAkDF3LSFfREBQ/Bhz11pEQDLmriXkW0RAwcqhRbZbREC1pnnHKWJEQH/7OnDOYERAbAn5oGdbRECfPCzUmmZEQNk9eVioXURA6gQ0ETZkREBJLv8h/V5EQCqpE9BEYERAOpLLf0hfREBFR3L5D2FEQFdbsb/sXkRABFYOLbJdREBEaW/whWFEQGPuWkI+YERAih9j7lpiREBPQBNhw2NEQM6I0t7gY0RAY3/ZPXlgREBhMlUwKmFEQLAD54woXURAjgbwFkhYREBqTfOOU1REQJAxdy0hX0RAHOviNhpYREAAkX77OmBEQP5D+u3rYERAUWuad5xiREDRkVz+Q1pEQGDl0CLbYURAc2iR7XxfRECk374OnGtEQNejcD0KX0RAgLdAguJfREBfKcsQx1pEQIts5/upYURAokW28/1cREClvcEXJltEQDhnRGlvYERA+aBns+pbRECdEaW9wV9EQABvgQTFX0RAGCZTBaNiREBLyAc9m11EQJLLf0i/XURAHhZqTfNeREAmUwWjklpEQDEIrBxaVERAZapgVFJfRECx4emVslxEQNjw9EpZXkRAtoR80LNhREBg5dAi22FEQOqVsgxxlERAPQrXo3BdREA2qz5XW2FEQI51cRsNYERAKVyPwvVgREAQWDm0yF5EQI9TdCSXX0RAPzVeuklUREALtaZ5x2FEQDJVMCqpW0RAw2SqYFRSREC9UpYhjl1EQOVhodY0X0RAsVBrmndcREDzH9JvX19EQInS3uALW0RAnKIjufxfRED5MeauJVxEQDxO0ZFcXkRA5fIf0m9fREAT8kHPZl1EQBx8YTJVYERAbqMBvAViREB9rrZif2FEQMNkqmBUYkRAsHJoke1cREDwFkhQ/GBEQDEIrBxaXERAtTf4wmRaREAmUwWjklpEQCegibDhYURAmnecoiNhREAK16NwPWJEQOCcEaW9WURA1QloImxgREAc6+I2GmBEQHlYqDXNW0RAejarPldbRECrz9VW7F9EQDj4wmSqYERATfOOU3RcREA2qz5XW1lEQK+UZYhjXURA1XjpJjFgRED5D+m3r1tEQBniWBe3YURAtRX7y+5ZREA6I0p7g19EQEdy+Q/pV0RAMlUwKqljREDAWyBB8VtEQMdLN4lBYERA3NeBc0ZkREBTBaOSOmFEQJ7vp8ZLX0RAjgbwFkhgREC3Yn/ZPWFEQCsYldQJYERAj1N0JJdfREAeFmpN815EQCV1ApoIY0RAM8SxLm5bREAOLbKd719EQP8h/fZ1YERAeJyiI7lcRECTGARWDlVEQOhqK/aXZURANe84RUdaRECHFtnO92NEQIy5awn5YERAS+oENBFeREACK4cW2VZEQJT2Bl+YXERATKYKRiVdREDUK2UZ4mBEQA3gLZCgYERABTQRNjxdREBF2PD0SmFEQGEyVTAqYURAb4EExY9hREDUmuYdp2BEQGuad5yiY0RADJOpglFhREDOGVHaG1xEQO84RUdyYURAuB6F61FgREDjNhrAW2BEQOJYF7fRYERAKjqSy39gRECrPldbsV9EQIenV8oyXERAufyH9NtfRECjkjoBTVxEQGq8dJMYXERADJOpglFhREBkzF1LyF9EQBgmUwWjYkRAMCqpE9BcRED67evAOWNEQHDOiNLeYERAQKTfvg5cREAKaCJseFpEQPKwUGuaX0RA/mX35GFhREBsCfmgZ1tEQPKwUGuaX0RAL26jAbxtREBDHOviNmJEQDEIrBxaXERAVFInoIlgRECOBvAWSGBEQCgPC7WmYURACmgibHhqREAFxY8xd1VEQFJJnYAmUkRACRueXilbREDDZKpgVGJEQFtCPujZXERAlPYGX5hcREC0yHa+n1pEQDGZKhiVXERA1CtlGeJYREAEVg4tslVEQH/7OnDOYERAkDF3LSFfREDgvg6cM2JEQL99HThnXERA4umVsgxZRECPwvUoXF9EQGQ730+NV0RAyjLEsS5WREBApN++DmxEQET67evAYURA4QuTqYJhREA4+MJkqmBEQCbkg57NWkRAO3DOiNJeRECxUGuad1xEQB/0bFZ9XkRATtGRXP5bRED+Q/rt61hEQGq8dJMYXERArkfhehReREBgdk8eFmJEQNDVVuwvU0RAxm00gLdgREAnMQisHGJEQO7rwDkjWkRAqmBUUidgREDVeOkmMWBEQN6Th4VaW0RASFD8GHNfREDFjzF3LWFEQPhT46WbXERALGUZ4lhfREBseHqlLGNEQAHeAgmKV0RAsp3vp8ZbREAukKD4MV5EQPOOU3QkX0RAJLn8h/RbREBX7C+7J1dEQOXyH9JvX0RAINJvXwdWREAydy0hH2REQAfwFkhQXERAuB6F61FgREA4+MJkqmBEQKs+V1uxX0RAXwfOGVFaREAMAiuHFmFEQMbctYR8YERA7uvAOSNiREC4HoXrUWBEQJhMFYxKWkRAMEymCkZdRECAt0CC4ldEQJtVn6utWERAQs9m1ediREC0yHa+n1pEQIXrUbgeXURAV+wvuydfREBN845TdGREQNIA3gIJYkRAIbByaJFdRECZKhiV1GFEQMe6uI0GYERAfh04Z0RhREA+eVioNV1EQAisHFpkW0RAKVyPwvVYREBiodY072BEQIPAyqFFVkRA8x/Sb19fREB3LSEf9FxEQM9m1edqY0RA4C2QoPhxREDOqs/VVlxEQJVliGNdZERALbKd76dmREA7AU2EDV9EQIqO5PIfWkRAZF3cRgNgREAtQxzr4l5EQEvIBz2bXURAcRsN4C1gREAB3gIJildEQGWqYFRSX0RAS1mGONZdREDChqdXymJEQCh+jLlrWURAFD/G3LVcREDtDb4wmWJEQLByaJHtXERAmggbnl5hREAAb4EExVdEQNcS8kHPVkRARiV1AppgRED7OnDOiFJEQCBj7lpCXkRADAIrhxZhREAtQxzr4l5EQMHKoUW2Y0RADr4wmSpgREBDrWnecWJEQGN/2T15YERAW7G/7J5cREDUmuYdp2BEQB04Z0RpX0RAqMZLN4lhREDZX3ZPHl5EQLmNBvAWYERA/fZ14JxhRECASL99HWBEQF8pyxDHYkRA8WPMXUtgREBGtvP91GBEQKs+V1uxX0RADk+vlGVgREAfhetRuF5EQDnWxW00WERAKcsQx7poRECSy39Iv11EQKFns+pzVURAWRe30QBeRECOBvAWSGBEQAFNhA1PX0RAayv2l91bRECMuWsJ+WBEQIZa07zjXERA3bWEfNBjREB2Tx4WamVEQKg1zTtOUURANxrAWyBhREDf4AuTqWJEQCQofoy5W0RACfmgZ7NiREDXEvJBz15EQHL5D+m3X0RAvjCZKhhdRED7OnDOiFJEQH/7OnDOYERAjgbwFkhgREAPC7WmeV9EQN9PjZduYkRAUdobfGFiREDRItv5flpEQAisHFpkW0RASgwCK4deREAdyeU/pF9EQO84RUdyYURAAd4CCYpfREDIBz2bVV9EQA6+MJkqYERAPE7RkVxeREDD0ytlGWJEQP8h/fZ1YERAD5wzorRfRECsHFpkO19EQLgehetRWERAlrIMcaxbREDG3LWEfGBEQKK0N/jCXERANqs+V1thRECL/WX35GFEQNPe4AuTYURAQxzr4jZaREBfB84ZUWJEQLUV+8vuYURAhetRuB5dREBApN++DlxEQAmKH2PuYkRAOiNKe4NfREC/fR04Z1xEQJwzorQ3YERA93XgnBFdREDr4jYawFtEQFRSJ6CJYERA54wo7Q1eREAHzhlR2mNEQDAqqRPQXERAAd4CCYpfREAsZRniWF9EQHEbDeAtYERA0NVW7C9rREDD9Shcj2JEQP+ye/KwYERAaLPqc7VlREBWDi2ynV9EQEaU9gZfWERAqmBUUidgRECjAbwFEmREQO7rwDkjYkRAUrgehethRECbVZ+rrWBEQDVeukkMYkRAVcGopE5gREB/+zpwzmBEQBgmUwWjWkRAxEKtad5hREC3Yn/ZPWFEQAisHFpka0RAzO7Jw0JdREDoaiv2l2VEQO2ePCzUYkRAAAAAAABgRED5MeauJVxEQApoImx4YkRAr5RliGNdREATYcPTK11EQKg1zTtOYURAutqK/WVfREAtQxzr4l5EQHQkl/+QZkRAmggbnl5hREA/NV66SVxEQP32deCcYURAveMUHcldREB7gy9MplpEQDY8vVKWYURAaCJseHpdREAyVTAqqWNEQPp+arx0Y0RAIbByaJFlREDD0ytlGVpEQAu1pnnHYURAyAc9m1VfREBiEFg5tGBEQKMBvAUSXERAE2HD0ytdREDNzMzMzGREQB6n6EguX0RAklz+Q/pdREDHuriNBmBEQOwvuycPY0RAzO7Jw0JdRECu2F92T15EQHDOiNLeYERAW9O84xRdRECGONbFbWREQHe+nxovXURA3SQGgZVbREDjx5i7lmBEQFg5tMh2XkRA/7J78rBgRED2l92Th11EQJHtfD81XkRASgwCK4deREBtVn2utlpEQNxoAG+BXERA46WbxCBgRECq8dJNYmBEQFTjpZvEYERAVTAqqRNQREA0orQ3+FpEQCxlGeJYX0RABFYOLbJVREBuowG8BWJEQC1DHOviXkRAeekmMQhcREBVwaikTmBEQG1Wfa62YkRA+THmriVcRECZu5aQD2JEQBKDwMqhXURAnYAmwoZnREBUUiegiWBEQCL99nXgVERAHHxhMlVgRECOdXEbDVhEQPyp8dJNWkRAR3L5D+lfRECgGi/dJE5EQH/7OnDOYERAFK5H4XpcRECxUGuad1xEQJyiI7n8X0RAOwFNhA1fREACK4cW2V5EQG8Sg8DKYURAj8L1KFxfRED7y+7Jw1JEQIQNT6+UXURAf/s6cM5gREBOYhBYOVxEQHRGlPYGX0RAduCcEaVdREBEi2zn+2FEQCV1ApoIY0RAl5APejZjRECcoiO5/F9EQMRCrWneYURAe4MvTKZSREBq3nGKjlxEQB04Z0RpX0RARUdy+Q9hREDXNO84RV9EQKjGSzeJYURAhXzQs1ldREBjf9k9eWBEQMPTK2UZYkRAv30dOGdcREABTYQNT19EQPcGX5hMXURA5IOezapfREBHA3gLJGBEQFafq63YV0RAexSuR+FiREDjx5i7lmhEQFK4HoXreURA8WPMXUtgREDJdr6fGl9EQBueXinLYERAGQRWDi1SREDl0CLb+V5EQAN4CyQoXkRA7MA5I0pjREDcRgN4C1REQF+YTBWMUkRA6Nms+lxdRECtad5xil5EQBQ/xty1ZERAgQTFjzFfREAqqRPQRFhEQN/gC5OpYkRAfoy5awlhREDPZtXnaltEQGgibHh6XURAn82qz9VeREAcfGEyVWBEQIJzRpT2XkRAb/CFyVRhREDQs1n1uVJEQIv9ZffkYURA1QloImxgREBAE2HD01tEQDSitDf4YkRAWRe30QBWREBJnYAmwl5EQA4tsp3vX0RAo5I6AU1cREClTkATYVtEQOtztRX7W0RAFK5H4XpcRECppE5AE2FEQA8LtaZ5X0RAvJaQD3peREDqBDQRNlxEQINRSZ2AXkRAk6mCUUldREALtaZ5x2FEQHsUrkfhYkRASFD8GHNfREALtaZ5x2FEQHo2qz5XY0RAdy0hH/RcRED+ZffkYWFEQAFNhA1PX0RAY3/ZPXlgREB3vp8aL11EQL4wmSoYXURAbVZ9rrZSREAwKqkT0FxEQEa28/3UYERAAJF++zpgREB0tRX7y15EQACRfvs6YERAOdbFbTRgREDRkVz+Q2JEQHzysFBrYkRAumsJ+aBfRECNKO0NvmBEQC2yne+nXkRA5fIf0m9fREBF2PD0SlFEQLG/7J48hERAfdCzWfVZREB/2T15WGBEQDbNO07RYURA7lpCPuhhREDUmuYdp2BEQLFQa5p3XERAqvHSTWJgRECcoiO5/F9EQLTIdr6fYkRAGsBbIEFhRECcxCCwcmBEQP+ye/KwYERAowG8BRJcRECLbOf7qWFEQM6I0t7gW0RA1edqK/ZfREB0tRX7y15EQE9AE2HDY0RAw9MrZRliRECEDU+vlFVEQP5D+u3rYERAY+5aQj5gREA6I0p7g19EQAg9m1WfY0RAvjCZKhhdREBqTfOOU2REQLAD54woXURA7C+7Jw9jREDXEvJBz15EQEATYcPTW0RAgy9MpgpeREB7gy9MpmJEQN/gC5OpakRAu7iNBvBeREAAAAAAAFhEQPCnxks3YURAEHo2qz5fRECjkjoBTVxEQGwJ+aBnW0RAbxKDwMphREA2zTtO0WFEQNXnaiv2X0RALv8h/fZdRECC4seYu15EQMbctYR8YERAKA8LtaZhREDzH9JvX19EQDeJQWDlYERAHOviNhpYREBseHqlLFtEQM9m1edqW0RAnDOitDdgREDEQq1p3mFEQKg1zTtOYURA48eYu5ZgREDEsS5uo2FEQMP1KFyPYkRAjnVxGw1gREB9rrZif2FEQOELk6mCYURApHA9CtdbREB7gy9MpmJEQKs+V1uxX0RAZohjXdxeREAi/fZ14FxEQOELk6mCYURAb4EExY9hREAbnl4py2BEQN6Th4VaW0RAo5I6AU1cREDtnjws1GJEQNXnaiv2X0RA5WGh1jRfREBwXwfOGWFEQHh6pSxDXERAjgbwFkhgREAW+8vuyVtEQKTfvg6cW0RAutqK/WVfREDT3uALk2FEQF8pyxDHUkRAvw6cM6JkREDwp8ZLN2FEQFRSJ6CJYERAQ61p3nFiREDDZKpgVGJEQJVliGNdXERA7lpCPuhZREAtIR/0bF5EQLAD54woXURANV66SQxaREB/arx0k2BEQGTMXUvIX0RAZMxdS8hXREC2hHzQs2FEQBIUP8bcVURAKA8LtaZhREBSuB6F61lEQEcDeAskYERApgpGJXVaREDP91PjpWNEQG+BBMWPYURA07zjFB1hREBJnYAmwl5EQPCFyVTBYERAutqK/WVfREBF2PD0SmFEQM4ZUdobZERAgQTFjzFfREDV52or9ldEQCsYldQJYERA7MA5I0pbREDF/rJ78mBEQLAD54woXURAlWWIY11cRECad5yiI2FEQH2utmJ/YURA4zYawFtgREDPZtXnaltEQJ2AJsKGX0RAS8gHPZtdREDrc7UV+1tEQPMf0m9fX0RAV+wvuydnREArGJXUCWBEQOAtkKD4YURAMCqpE9BcREBF2PD0SmFEQK5H4XoUXkRANe84RUdiRECEDU+vlF1EQKYKRiV1YkRAQ61p3nFiREDzH9JvX19EQK7YX3ZPXkRAYVRSJ6BhREAOT6+UZWBEQFfsL7snX0RAPQrXo3BdREBkzF1LyF9EQBkEVg4tYkRA1JrmHadgRED+Q/rt62BEQLraiv1lX0RAmpmZmZlhRECX/5B++2JEQHlYqDXNW0RAwoanV8piRECpE9BE2GBEQEXY8PRKYURAmggbnl5hREBX7C+7J19EQMX+snvyWERAnRGlvcFfRECfzarP1V5EQHe+nxovXURAN4lBYOVgREArGJXUCWhEQBBYObTIXkRAhjjWxW1cREA2qz5XW2FEQBIUP8bcXURA6pWyDHFcREAEVg4tsl1EQJCg+DHmZkRAQj7o2axiRECutmJ/2WVEQHL5D+m3X0RA+THmriVcREAnMQisHGpEQJyiI7n8X0RAPSzUmuZdREA0gLdAgmJEQBNhw9MrXURAz/dT46VTREDvycNCrWFEQBniWBe3YURAs3vysFBjREBGtvP91GBEQPcGX5hMXURAppvEILBiREDdtYR80FNEQDSitDf4YkRAMLsnDwtdREA2qz5XW2FEQJwzorQ3YERAm+Ydp+hgREAbL90kBmFEQOtztRX7Y0RAbHh6pSxjREBE+u3rwGFEQIenV8oyZERAFYxK6gRcREAH8BZIUFxEQMnlP6TfXkRAdy0hH/RcREA0orQ3+GJEQHZPHhZqXURA+8vuycNiREAkKH6MuVtEQIV80LNZXURAAJF++zpYREAX2c73U1NEQNlfdk8eXkRAxEKtad5xREAN4C2QoGBEQEmdgCbCVkRA30+Nl25iREAOvjCZKmBEQE0VjErqZERAU5YhjnVhREACmggbnlZEQJeQD3o2Y0RAqvHSTWJYREBlqmBUUk9EQJLLf0i/XURAxm00gLdgRECrz9VW7F9EQD9XW7G/XERATmIQWDlcRECVZYhjXWREQDnWxW00YERANIC3QIJiREBKe4MvTF5EQLByaJHtXERAih9j7lpSRECDwMqhRV5EQL4wmSoYZURAXCBB8WNcRED2KFyPwlVEQKFns+pzXURA8KfGSzdhREDtnjws1GJEQIqO5PIfYkRA4umVsgxhREAE54wo7V1EQAu1pnnHYURA/Yf029dhRECb5h2n6GBEQOELk6mCYURAxY8xdy1hREDb+X5qvFxEQAK8BRIUX0RAeAskKH5cREATYcPTK11EQG3n+6nxYkRA0NVW7C97RED/snvysGBEQB+F61G4XkRADk+vlGVYREDcRgN4C1xEQPd14JwRXURAppvEILBaREDzH9JvX1dEQJp3nKIjYURAnRGlvcFfREAAb4EExV9EQPCFyVTBWERArWnecYpWREAPnDOitF9EQD0s1JrmXURADJOpglFhRECNKO0NvmBEQFRSJ6CJYERAQYLix5hbREA4+MJkqmBEQO0NvjCZUkRAWMoyxLFeREDpt68D51xEQJf/kH77WkRAuycPC7VeREAqqRPQRGBEQFInoImwYURA16NwPQpfREAT8kHPZl1EQClcj8L1YERAGJXUCWhaREB9rrZif2FEQBNhw9MrZURAbjSAt0BiRED9h/Tb12FEQME5I0p7W0RA5BQdyeVXREBfmEwVjGJEQOkmMQisXERADwu1pnlfREDP91PjpVtEQECk374OXERAxm00gLdgREAawFsgQWFEQPyp8dJNWkRANqs+V1thREA8vVKWIV5EQFvTvOMUXURA+THmriVcRED129eBc15EQDVeukkMYkRAXW3F/rJrREDAWyBB8VtEQKHWNO84XURADk+vlGVgREDA7J48LFxEQI0o7Q2+YERABhIUP8ZcREACmggbnl5EQJ0Rpb3BX0RAfa62Yn9hREAydy0hH1xEQJeQD3o2e0RAswxxrItjREByio7k8l9EQET67evAYURAKVyPwvVgREDT3uALk2FEQFpkO99PXURAMzMzMzNjREAMAiuHFmFEQEymCkYlXURAcRsN4C1gRECfPCzUml5EQAIrhxbZZkRAa5p3nKJbREAi/fZ14FxEQGaIY13cXkRA8KfGSzdhREBZhjjWxWVEQIcW2c73W0RAnYAmwoZfREDi6ZWyDFlEQDEIrBxaXERAUI2XbhJjREA17zhFR2JEQKMjufyHXERAImx4eqVkRECJ0t7gC2NEQAIrhxbZXkRAKVyPwvVYREBxPQrXo2BEQDy9UpYhXkRAf9k9eVhgREAmUwWjkmJEQLmNBvAWYERALSEf9GxeREBnRGlv8F1EQNNNYhBYYURAT0ATYcNjREB4CyQoflxEQFZ9rrZiX0RASnuDL0xeREDcRgN4C2REQMPTK2UZYkRA48eYu5ZgREDMXUvIB11EQBWMSuoEXERAvp8aL91cREBE+u3rwGFEQEcDeAskYERA0LNZ9bliREDImLuWkF9EQP8h/fZ1YERAJCh+jLlbREAGgZVDi1xEQGx4eqUsY0RANIC3QIJaRECsrdhfdl9EQLmNBvAWYERA001iEFhhREBYyjLEsV5EQAFNhA1PX0RAqMZLN4lhREDSb18HzmFEQBHHuriNXkRAEHo2qz5fREDTvOMUHWFEQFOWIY51YURAGJXUCWhaREC4QILix2BEQG3n+6nxYkRAQxzr4jZiREAJih9j7lpEQEp7gy9MXkRA7FG4HoVbREBoImx4el1EQOLplbIMYURAbxKDwMphRECBJsKGp19EQC1DHOviXkRACfmgZ7NiREBO0ZFc/ltEQMNkqmBUYkRAxm00gLdgRECYbhKDwGJEQKqCUUmdYERASFD8GHNPREAbL90kBmFEQAHeAgmKX0RAzhlR2htcREAwuycPC11EQHgLJCh+ZERAFD/G3LVcRECTOgFNhF1EQHPXEvJBX0RA8rBQa5pfREBDrWnecWJEQLprCfmgX0RAxY8xdy1hRECh+DHmrl1EQFioNc07XkRA5fIf0m9fRECBlUOLbF9EQOviNhrAW0RAAAAAAABgREAwKqkT0GREQCNKe4MvhERAukkMAitfREBiEFg5tGBEQDBMpgpGZURA+u3rwDlbREDRItv5fmJEQOoENBE2ZERAjZduEoNgREDhehSuR2FEQDGZKhiVXERAaW/whclcREAGEhQ/xlxEQKmkTkATYURAyAc9m1VPRECBBMWPMV9EQI9TdCSXX0RALv8h/fZdREDNO07RkVxEQP5l9+RhYURAqMZLN4lhREATYcPTK2VEQOm3rwPnXERAVTAqqRNgRECyLm6jAVxEQKmkTkATYURAUI2XbhJjREDLoUW2811EQJSHhVrTZERAcoqO5PJfREAeFmpN815EQBueXinLWERAVn2utmJfREDNO07RkVxEQBNhw9MrXURAU5YhjnVhREAydy0hH1xEQIenV8oyXERAbqMBvAVSRECxUGuad2REQIZa07zjXERAAd4CCYpfREB+jLlrCVlEQDQRNjy9UkRAlPYGX5hcREDD9Shcj2JEQABvgQTFV0RAeAskKH5cREAXt9EA3mJEQDY8vVKWYURAidLe4AtbREBJnYAmwl5EQJp3nKIjYURAvp8aL91kREA0gLdAgmJEQGZmZmZmXkRAOwFNhA1fREB90LNZ9VlEQC1DHOviZkRAG55eKctgRED5MeauJVxEQBKDwMqhZURA+MJkqmBcREBXW7G/7E5EQNejcD0KX0RAS8gHPZtdREDdtYR80FtEQMHKoUW2W0RA7uvAOSNiREDWVuwvu19EQG40gLdAWkRAHcnlP6RfREDIBz2bVVdEQMRCrWneYURAf/s6cM5gRECze/KwUGNEQEhQ/BhzX0RAGw3gLZBgREC+wRcmU2VEQNobfGEyXURA7C+7Jw9jREA5tMh2vk9EQGaIY13cXkRAMZkqGJVcREBv8IXJVGFEQM4ZUdobXERAcayL22hgREDOiNLe4GNEQEmdgCbCXkRAirDh6ZVaREBU46WbxFhEQMzuycNCXURA1CtlGeJgREDGbTSAt2BEQEI+6NmsYkRAjLlrCflgRECAt0CC4l9EQIC3QILiX0RAxf6ye/JgREAUrkfhelxEQCNKe4MvXERAhslUwahURECBJsKGp19EQEmdgCbCXkRAo5I6AU1UREAaUdobfGFEQJwzorQ3YERAwoanV8paREDRItv5fmJEQE3zjlN0XERAowG8BRJcRECjI7n8h2REQFZ9rrZiV0RA5j+k375eREDnHafoSFZEQIZa07zjXERAb/CFyVRZREBPHhZqTWNEQFjKMsSxVkRA93XgnBFdREDjx5i7llhEQAYSFD/GXERA",
                    "dtype": "f8"
                  },
                  "legendgroup": "",
                  "lon": {
                    "bdata": "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",
                    "dtype": "f8"
                  },
                  "marker": {
                    "color": {
                      "bdata": "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",
                      "dtype": "i4"
                    },
                    "coloraxis": "coloraxis"
                  },
                  "mode": "markers",
                  "name": "",
                  "showlegend": false,
                  "subplot": "map",
                  "type": "scattermap"
                }
              ],
              "layout": {
                "coloraxis": {
                  "colorbar": {
                    "title": {
                      "text": "Kmeans"
                    }
                  },
                  "colorscale": [
                    [
                      0,
                      "#0d0887"
                    ],
                    [
                      0.1111111111111111,
                      "#46039f"
                    ],
                    [
                      0.2222222222222222,
                      "#7201a8"
                    ],
                    [
                      0.3333333333333333,
                      "#9c179e"
                    ],
                    [
                      0.4444444444444444,
                      "#bd3786"
                    ],
                    [
                      0.5555555555555556,
                      "#d8576b"
                    ],
                    [
                      0.6666666666666666,
                      "#ed7953"
                    ],
                    [
                      0.7777777777777778,
                      "#fb9f3a"
                    ],
                    [
                      0.8888888888888888,
                      "#fdca26"
                    ],
                    [
                      1,
                      "#f0f921"
                    ]
                  ]
                },
                "legend": {
                  "tracegroupgap": 0
                },
                "map": {
                  "center": {
                    "lat": 40.74232884329467,
                    "lon": -73.97657508177222
                  },
                  "domain": {
                    "x": [
                      0,
                      1
                    ],
                    "y": [
                      0,
                      1
                    ]
                  },
                  "style": "carto-positron",
                  "zoom": 9
                },
                "mapbox": {
                  "center": {
                    "lat": 40.74232884329467,
                    "lon": -73.97657508177222
                  },
                  "style": "carto-positron",
                  "zoom": 9
                },
                "template": {
                  "data": {
                    "bar": [
                      {
                        "error_x": {
                          "color": "#2a3f5f"
                        },
                        "error_y": {
                          "color": "#2a3f5f"
                        },
                        "marker": {
                          "line": {
                            "color": "#E5ECF6",
                            "width": 0.5
                          },
                          "pattern": {
                            "fillmode": "overlay",
                            "size": 10,
                            "solidity": 0.2
                          }
                        },
                        "type": "bar"
                      }
                    ],
                    "barpolar": [
                      {
                        "marker": {
                          "line": {
                            "color": "#E5ECF6",
                            "width": 0.5
                          },
                          "pattern": {
                            "fillmode": "overlay",
                            "size": 10,
                            "solidity": 0.2
                          }
                        },
                        "type": "barpolar"
                      }
                    ],
                    "carpet": [
                      {
                        "aaxis": {
                          "endlinecolor": "#2a3f5f",
                          "gridcolor": "white",
                          "linecolor": "white",
                          "minorgridcolor": "white",
                          "startlinecolor": "#2a3f5f"
                        },
                        "baxis": {
                          "endlinecolor": "#2a3f5f",
                          "gridcolor": "white",
                          "linecolor": "white",
                          "minorgridcolor": "white",
                          "startlinecolor": "#2a3f5f"
                        },
                        "type": "carpet"
                      }
                    ],
                    "choropleth": [
                      {
                        "colorbar": {
                          "outlinewidth": 0,
                          "ticks": ""
                        },
                        "type": "choropleth"
                      }
                    ],
                    "contour": [
                      {
                        "colorbar": {
                          "outlinewidth": 0,
                          "ticks": ""
                        },
                        "colorscale": [
                          [
                            0,
                            "#0d0887"
                          ],
                          [
                            0.1111111111111111,
                            "#46039f"
                          ],
                          [
                            0.2222222222222222,
                            "#7201a8"
                          ],
                          [
                            0.3333333333333333,
                            "#9c179e"
                          ],
                          [
                            0.4444444444444444,
                            "#bd3786"
                          ],
                          [
                            0.5555555555555556,
                            "#d8576b"
                          ],
                          [
                            0.6666666666666666,
                            "#ed7953"
                          ],
                          [
                            0.7777777777777778,
                            "#fb9f3a"
                          ],
                          [
                            0.8888888888888888,
                            "#fdca26"
                          ],
                          [
                            1,
                            "#f0f921"
                          ]
                        ],
                        "type": "contour"
                      }
                    ],
                    "contourcarpet": [
                      {
                        "colorbar": {
                          "outlinewidth": 0,
                          "ticks": ""
                        },
                        "type": "contourcarpet"
                      }
                    ],
                    "heatmap": [
                      {
                        "colorbar": {
                          "outlinewidth": 0,
                          "ticks": ""
                        },
                        "colorscale": [
                          [
                            0,
                            "#0d0887"
                          ],
                          [
                            0.1111111111111111,
                            "#46039f"
                          ],
                          [
                            0.2222222222222222,
                            "#7201a8"
                          ],
                          [
                            0.3333333333333333,
                            "#9c179e"
                          ],
                          [
                            0.4444444444444444,
                            "#bd3786"
                          ],
                          [
                            0.5555555555555556,
                            "#d8576b"
                          ],
                          [
                            0.6666666666666666,
                            "#ed7953"
                          ],
                          [
                            0.7777777777777778,
                            "#fb9f3a"
                          ],
                          [
                            0.8888888888888888,
                            "#fdca26"
                          ],
                          [
                            1,
                            "#f0f921"
                          ]
                        ],
                        "type": "heatmap"
                      }
                    ],
                    "histogram": [
                      {
                        "marker": {
                          "pattern": {
                            "fillmode": "overlay",
                            "size": 10,
                            "solidity": 0.2
                          }
                        },
                        "type": "histogram"
                      }
                    ],
                    "histogram2d": [
                      {
                        "colorbar": {
                          "outlinewidth": 0,
                          "ticks": ""
                        },
                        "colorscale": [
                          [
                            0,
                            "#0d0887"
                          ],
                          [
                            0.1111111111111111,
                            "#46039f"
                          ],
                          [
                            0.2222222222222222,
                            "#7201a8"
                          ],
                          [
                            0.3333333333333333,
                            "#9c179e"
                          ],
                          [
                            0.4444444444444444,
                            "#bd3786"
                          ],
                          [
                            0.5555555555555556,
                            "#d8576b"
                          ],
                          [
                            0.6666666666666666,
                            "#ed7953"
                          ],
                          [
                            0.7777777777777778,
                            "#fb9f3a"
                          ],
                          [
                            0.8888888888888888,
                            "#fdca26"
                          ],
                          [
                            1,
                            "#f0f921"
                          ]
                        ],
                        "type": "histogram2d"
                      }
                    ],
                    "histogram2dcontour": [
                      {
                        "colorbar": {
                          "outlinewidth": 0,
                          "ticks": ""
                        },
                        "colorscale": [
                          [
                            0,
                            "#0d0887"
                          ],
                          [
                            0.1111111111111111,
                            "#46039f"
                          ],
                          [
                            0.2222222222222222,
                            "#7201a8"
                          ],
                          [
                            0.3333333333333333,
                            "#9c179e"
                          ],
                          [
                            0.4444444444444444,
                            "#bd3786"
                          ],
                          [
                            0.5555555555555556,
                            "#d8576b"
                          ],
                          [
                            0.6666666666666666,
                            "#ed7953"
                          ],
                          [
                            0.7777777777777778,
                            "#fb9f3a"
                          ],
                          [
                            0.8888888888888888,
                            "#fdca26"
                          ],
                          [
                            1,
                            "#f0f921"
                          ]
                        ],
                        "type": "histogram2dcontour"
                      }
                    ],
                    "mesh3d": [
                      {
                        "colorbar": {
                          "outlinewidth": 0,
                          "ticks": ""
                        },
                        "type": "mesh3d"
                      }
                    ],
                    "parcoords": [
                      {
                        "line": {
                          "colorbar": {
                            "outlinewidth": 0,
                            "ticks": ""
                          }
                        },
                        "type": "parcoords"
                      }
                    ],
                    "pie": [
                      {
                        "automargin": true,
                        "type": "pie"
                      }
                    ],
                    "scatter": [
                      {
                        "fillpattern": {
                          "fillmode": "overlay",
                          "size": 10,
                          "solidity": 0.2
                        },
                        "type": "scatter"
                      }
                    ],
                    "scatter3d": [
                      {
                        "line": {
                          "colorbar": {
                            "outlinewidth": 0,
                            "ticks": ""
                          }
                        },
                        "marker": {
                          "colorbar": {
                            "outlinewidth": 0,
                            "ticks": ""
                          }
                        },
                        "type": "scatter3d"
                      }
                    ],
                    "scattercarpet": [
                      {
                        "marker": {
                          "colorbar": {
                            "outlinewidth": 0,
                            "ticks": ""
                          }
                        },
                        "type": "scattercarpet"
                      }
                    ],
                    "scattergeo": [
                      {
                        "marker": {
                          "colorbar": {
                            "outlinewidth": 0,
                            "ticks": ""
                          }
                        },
                        "type": "scattergeo"
                      }
                    ],
                    "scattergl": [
                      {
                        "marker": {
                          "colorbar": {
                            "outlinewidth": 0,
                            "ticks": ""
                          }
                        },
                        "type": "scattergl"
                      }
                    ],
                    "scattermap": [
                      {
                        "marker": {
                          "colorbar": {
                            "outlinewidth": 0,
                            "ticks": ""
                          }
                        },
                        "type": "scattermap"
                      }
                    ],
                    "scattermapbox": [
                      {
                        "marker": {
                          "colorbar": {
                            "outlinewidth": 0,
                            "ticks": ""
                          }
                        },
                        "type": "scattermapbox"
                      }
                    ],
                    "scatterpolar": [
                      {
                        "marker": {
                          "colorbar": {
                            "outlinewidth": 0,
                            "ticks": ""
                          }
                        },
                        "type": "scatterpolar"
                      }
                    ],
                    "scatterpolargl": [
                      {
                        "marker": {
                          "colorbar": {
                            "outlinewidth": 0,
                            "ticks": ""
                          }
                        },
                        "type": "scatterpolargl"
                      }
                    ],
                    "scatterternary": [
                      {
                        "marker": {
                          "colorbar": {
                            "outlinewidth": 0,
                            "ticks": ""
                          }
                        },
                        "type": "scatterternary"
                      }
                    ],
                    "surface": [
                      {
                        "colorbar": {
                          "outlinewidth": 0,
                          "ticks": ""
                        },
                        "colorscale": [
                          [
                            0,
                            "#0d0887"
                          ],
                          [
                            0.1111111111111111,
                            "#46039f"
                          ],
                          [
                            0.2222222222222222,
                            "#7201a8"
                          ],
                          [
                            0.3333333333333333,
                            "#9c179e"
                          ],
                          [
                            0.4444444444444444,
                            "#bd3786"
                          ],
                          [
                            0.5555555555555556,
                            "#d8576b"
                          ],
                          [
                            0.6666666666666666,
                            "#ed7953"
                          ],
                          [
                            0.7777777777777778,
                            "#fb9f3a"
                          ],
                          [
                            0.8888888888888888,
                            "#fdca26"
                          ],
                          [
                            1,
                            "#f0f921"
                          ]
                        ],
                        "type": "surface"
                      }
                    ],
                    "table": [
                      {
                        "cells": {
                          "fill": {
                            "color": "#EBF0F8"
                          },
                          "line": {
                            "color": "white"
                          }
                        },
                        "header": {
                          "fill": {
                            "color": "#C8D4E3"
                          },
                          "line": {
                            "color": "white"
                          }
                        },
                        "type": "table"
                      }
                    ]
                  },
                  "layout": {
                    "annotationdefaults": {
                      "arrowcolor": "#2a3f5f",
                      "arrowhead": 0,
                      "arrowwidth": 1
                    },
                    "autotypenumbers": "strict",
                    "coloraxis": {
                      "colorbar": {
                        "outlinewidth": 0,
                        "ticks": ""
                      }
                    },
                    "colorscale": {
                      "diverging": [
                        [
                          0,
                          "#8e0152"
                        ],
                        [
                          0.1,
                          "#c51b7d"
                        ],
                        [
                          0.2,
                          "#de77ae"
                        ],
                        [
                          0.3,
                          "#f1b6da"
                        ],
                        [
                          0.4,
                          "#fde0ef"
                        ],
                        [
                          0.5,
                          "#f7f7f7"
                        ],
                        [
                          0.6,
                          "#e6f5d0"
                        ],
                        [
                          0.7,
                          "#b8e186"
                        ],
                        [
                          0.8,
                          "#7fbc41"
                        ],
                        [
                          0.9,
                          "#4d9221"
                        ],
                        [
                          1,
                          "#276419"
                        ]
                      ],
                      "sequential": [
                        [
                          0,
                          "#0d0887"
                        ],
                        [
                          0.1111111111111111,
                          "#46039f"
                        ],
                        [
                          0.2222222222222222,
                          "#7201a8"
                        ],
                        [
                          0.3333333333333333,
                          "#9c179e"
                        ],
                        [
                          0.4444444444444444,
                          "#bd3786"
                        ],
                        [
                          0.5555555555555556,
                          "#d8576b"
                        ],
                        [
                          0.6666666666666666,
                          "#ed7953"
                        ],
                        [
                          0.7777777777777778,
                          "#fb9f3a"
                        ],
                        [
                          0.8888888888888888,
                          "#fdca26"
                        ],
                        [
                          1,
                          "#f0f921"
                        ]
                      ],
                      "sequentialminus": [
                        [
                          0,
                          "#0d0887"
                        ],
                        [
                          0.1111111111111111,
                          "#46039f"
                        ],
                        [
                          0.2222222222222222,
                          "#7201a8"
                        ],
                        [
                          0.3333333333333333,
                          "#9c179e"
                        ],
                        [
                          0.4444444444444444,
                          "#bd3786"
                        ],
                        [
                          0.5555555555555556,
                          "#d8576b"
                        ],
                        [
                          0.6666666666666666,
                          "#ed7953"
                        ],
                        [
                          0.7777777777777778,
                          "#fb9f3a"
                        ],
                        [
                          0.8888888888888888,
                          "#fdca26"
                        ],
                        [
                          1,
                          "#f0f921"
                        ]
                      ]
                    },
                    "colorway": [
                      "#636efa",
                      "#EF553B",
                      "#00cc96",
                      "#ab63fa",
                      "#FFA15A",
                      "#19d3f3",
                      "#FF6692",
                      "#B6E880",
                      "#FF97FF",
                      "#FECB52"
                    ],
                    "font": {
                      "color": "#2a3f5f"
                    },
                    "geo": {
                      "bgcolor": "white",
                      "lakecolor": "white",
                      "landcolor": "#E5ECF6",
                      "showlakes": true,
                      "showland": true,
                      "subunitcolor": "white"
                    },
                    "hoverlabel": {
                      "align": "left"
                    },
                    "hovermode": "closest",
                    "mapbox": {
                      "style": "light"
                    },
                    "paper_bgcolor": "white",
                    "plot_bgcolor": "#E5ECF6",
                    "polar": {
                      "angularaxis": {
                        "gridcolor": "white",
                        "linecolor": "white",
                        "ticks": ""
                      },
                      "bgcolor": "#E5ECF6",
                      "radialaxis": {
                        "gridcolor": "white",
                        "linecolor": "white",
                        "ticks": ""
                      }
                    },
                    "scene": {
                      "xaxis": {
                        "backgroundcolor": "#E5ECF6",
                        "gridcolor": "white",
                        "gridwidth": 2,
                        "linecolor": "white",
                        "showbackground": true,
                        "ticks": "",
                        "zerolinecolor": "white"
                      },
                      "yaxis": {
                        "backgroundcolor": "#E5ECF6",
                        "gridcolor": "white",
                        "gridwidth": 2,
                        "linecolor": "white",
                        "showbackground": true,
                        "ticks": "",
                        "zerolinecolor": "white"
                      },
                      "zaxis": {
                        "backgroundcolor": "#E5ECF6",
                        "gridcolor": "white",
                        "gridwidth": 2,
                        "linecolor": "white",
                        "showbackground": true,
                        "ticks": "",
                        "zerolinecolor": "white"
                      }
                    },
                    "shapedefaults": {
                      "line": {
                        "color": "#2a3f5f"
                      }
                    },
                    "ternary": {
                      "aaxis": {
                        "gridcolor": "white",
                        "linecolor": "white",
                        "ticks": ""
                      },
                      "baxis": {
                        "gridcolor": "white",
                        "linecolor": "white",
                        "ticks": ""
                      },
                      "bgcolor": "#E5ECF6",
                      "caxis": {
                        "gridcolor": "white",
                        "linecolor": "white",
                        "ticks": ""
                      }
                    },
                    "title": {
                      "x": 0.05
                    },
                    "xaxis": {
                      "automargin": true,
                      "gridcolor": "white",
                      "linecolor": "white",
                      "ticks": "",
                      "title": {
                        "standoff": 15
                      },
                      "zerolinecolor": "white",
                      "zerolinewidth": 2
                    },
                    "yaxis": {
                      "automargin": true,
                      "gridcolor": "white",
                      "linecolor": "white",
                      "ticks": "",
                      "title": {
                        "standoff": 15
                      },
                      "zerolinecolor": "white",
                      "zerolinewidth": 2
                    }
                  }
                },
                "title": {
                  "text": "HOT POINT 17 H"
                }
              }
            }
          },
          "metadata": {},
          "output_type": "display_data"
        }
      ],
      "source": [
        "kmeans = KMeans(n_clusters=15, random_state=42)\n",
        "\n",
        "kmeans.fit(df_hour1)\n",
        "df_hour1 = df_hour1.copy()\n",
        "df_hour1.loc[:, 'Kmeans'] = kmeans.predict(df_hour1)\n",
        "\n",
        "fig = px.scatter_map(\n",
        "        df_hour1,\n",
        "        lat=\"Lat\",\n",
        "        lon=\"Lon\",\n",
        "        color=\"Kmeans\",\n",
        "        map_style=\"carto-positron\",\n",
        "        zoom=9,\n",
        "        title= f\"HOT POINT {hours} H\"\n",
        ")\n",
        "\n",
        "fig.show()"
      ]
    },
    {
      "cell_type": "markdown",
      "metadata": {},
      "source": [
        "### Analyse de densité et visualisation des clusters\n",
        "\n",
        "Nous affichons les centres des clusters avec des cercles dont la taille est proportionnelle à la densité des trajets. Cela permet d’identifier rapidement les zones les plus actives et stratégiques pour Uber à un jour et une heure donnés."
      ]
    },
    {
      "cell_type": "code",
      "execution_count": 277,
      "metadata": {},
      "outputs": [
        {
          "data": {
            "application/vnd.plotly.v1+json": {
              "config": {
                "plotlyServerURL": "https://plot.ly"
              },
              "data": [
                {
                  "customdata": {
                    "bdata": "AAAAAACAdECUzFKg0GNEQGkS1TAofVLAAAAAAACIjEBLBJyOS19EQOW08CiIf1LAAAAAAAAAWkARZHgPOWFEQKfsXfd5d1LAAAAAAACASUDoKYpvQFNEQFon9MCNclLAAAAAAAAAPECIQklEt1hEQK5H4XoUjVLAAAAAAAAgYkDTDoDrWFpEQMHGKJ2tfFLAAAAAAACAQECtvh6jCm9EQHejrmodelLAAAAAAAAIhUBy80QlDFxEQLSmAfcogFLAAAAAAAAA8D/ek4eFWitEQApoImx4plLAAAAAAAAAEECIY13cRltEQILix5i7ZVLAAAAAAABAjEDCBySsPmFEQLCuwLuLflLAAAAAAAAAY0DKJW2zn1VEQEnEhSHvflLAAAAAAAAA8D8FNBE2PBVEQDBMpgpGgVLAAAAAAAAAJkBEcHs36oJEQA+xV3fhc1LAAAAAAAAALkAyl0Gi9mBEQMnym69/cFLA",
                    "dtype": "f8",
                    "shape": "15, 3"
                  },
                  "hovertemplate": "<b>%{hovertext}</b><br><br>density_norm=%{marker.size}<br>density=%{customdata[0]}<br>Kmeans=%{marker.color}<extra></extra>",
                  "hovertext": {
                    "bdata": "AAAAAAAAAAAAAAAAAADwPwAAAAAAAABAAAAAAAAACEAAAAAAAAAQQAAAAAAAABRAAAAAAAAAGEAAAAAAAAAcQAAAAAAAACBAAAAAAAAAIkAAAAAAAAAkQAAAAAAAACZAAAAAAAAAKEAAAAAAAAAqQAAAAAAAACxA",
                    "dtype": "f8"
                  },
                  "lat": {
                    "bdata": "lMxSoNBjREBLBJyOS19EQBFkeA85YURA6CmKb0BTRECIQklEt1hEQNMOgOtYWkRArb4eowpvREBy80QlDFxEQN6Th4VaK0RAiGNd3EZbREDCBySsPmFEQMolbbOfVURABTQRNjwVREBEcHs36oJEQDKXQaL2YERA",
                    "dtype": "f8"
                  },
                  "legendgroup": "",
                  "lon": {
                    "bdata": "aRLVMCh9UsDltPAoiH9SwKfsXfd5d1LAWif0wI1yUsCuR+F6FI1SwMHGKJ2tfFLAd6Ouah16UsC0pgH3KIBSwApoImx4plLAguLHmLtlUsCwrsC7i35SwEnEhSHvflLAMEymCkaBUsAPsVd34XNSwMnym69/cFLA",
                    "dtype": "f8"
                  },
                  "marker": {
                    "color": {
                      "bdata": "AAAAAAEAAAACAAAAAwAAAAQAAAAFAAAABgAAAAcAAAAIAAAACQAAAAoAAAALAAAADAAAAA0AAAAOAAAA",
                      "dtype": "i4"
                    },
                    "coloraxis": "coloraxis",
                    "size": {
                      "bdata": "v2eucnf2QUAAAAAAAABZQFZ9sZczyCZAd9g8NwtYFkDTEIQZ1YgIQDWxCFFvwy9AioES3mjqDEDsVipZom1SQMw3KR0YCrw/zDcpHRgK3D9DY75J6cBYQCF5UFH+pTBAzDcpHRgKvD9dVgyU8EbzP1CkVpt2Sfo/",
                      "dtype": "f8"
                    },
                    "sizemode": "area",
                    "sizeref": 0.25
                  },
                  "mode": "markers",
                  "name": "",
                  "showlegend": false,
                  "subplot": "map",
                  "type": "scattermap"
                }
              ],
              "layout": {
                "coloraxis": {
                  "colorbar": {
                    "title": {
                      "text": "Kmeans"
                    }
                  },
                  "colorscale": [
                    [
                      0,
                      "#0d0887"
                    ],
                    [
                      0.1111111111111111,
                      "#46039f"
                    ],
                    [
                      0.2222222222222222,
                      "#7201a8"
                    ],
                    [
                      0.3333333333333333,
                      "#9c179e"
                    ],
                    [
                      0.4444444444444444,
                      "#bd3786"
                    ],
                    [
                      0.5555555555555556,
                      "#d8576b"
                    ],
                    [
                      0.6666666666666666,
                      "#ed7953"
                    ],
                    [
                      0.7777777777777778,
                      "#fb9f3a"
                    ],
                    [
                      0.8888888888888888,
                      "#fdca26"
                    ],
                    [
                      1,
                      "#f0f921"
                    ]
                  ]
                },
                "legend": {
                  "itemsizing": "constant",
                  "tracegroupgap": 0
                },
                "map": {
                  "center": {
                    "lat": 40.68976535308983,
                    "lon": -73.96050872187321
                  },
                  "domain": {
                    "x": [
                      0,
                      1
                    ],
                    "y": [
                      0,
                      1
                    ]
                  },
                  "style": "carto-positron",
                  "zoom": 9
                },
                "mapbox": {
                  "center": {
                    "lat": 40.68976535308983,
                    "lon": -73.96050872187321
                  },
                  "style": "carto-positron",
                  "zoom": 9
                },
                "template": {
                  "data": {
                    "bar": [
                      {
                        "error_x": {
                          "color": "#2a3f5f"
                        },
                        "error_y": {
                          "color": "#2a3f5f"
                        },
                        "marker": {
                          "line": {
                            "color": "#E5ECF6",
                            "width": 0.5
                          },
                          "pattern": {
                            "fillmode": "overlay",
                            "size": 10,
                            "solidity": 0.2
                          }
                        },
                        "type": "bar"
                      }
                    ],
                    "barpolar": [
                      {
                        "marker": {
                          "line": {
                            "color": "#E5ECF6",
                            "width": 0.5
                          },
                          "pattern": {
                            "fillmode": "overlay",
                            "size": 10,
                            "solidity": 0.2
                          }
                        },
                        "type": "barpolar"
                      }
                    ],
                    "carpet": [
                      {
                        "aaxis": {
                          "endlinecolor": "#2a3f5f",
                          "gridcolor": "white",
                          "linecolor": "white",
                          "minorgridcolor": "white",
                          "startlinecolor": "#2a3f5f"
                        },
                        "baxis": {
                          "endlinecolor": "#2a3f5f",
                          "gridcolor": "white",
                          "linecolor": "white",
                          "minorgridcolor": "white",
                          "startlinecolor": "#2a3f5f"
                        },
                        "type": "carpet"
                      }
                    ],
                    "choropleth": [
                      {
                        "colorbar": {
                          "outlinewidth": 0,
                          "ticks": ""
                        },
                        "type": "choropleth"
                      }
                    ],
                    "contour": [
                      {
                        "colorbar": {
                          "outlinewidth": 0,
                          "ticks": ""
                        },
                        "colorscale": [
                          [
                            0,
                            "#0d0887"
                          ],
                          [
                            0.1111111111111111,
                            "#46039f"
                          ],
                          [
                            0.2222222222222222,
                            "#7201a8"
                          ],
                          [
                            0.3333333333333333,
                            "#9c179e"
                          ],
                          [
                            0.4444444444444444,
                            "#bd3786"
                          ],
                          [
                            0.5555555555555556,
                            "#d8576b"
                          ],
                          [
                            0.6666666666666666,
                            "#ed7953"
                          ],
                          [
                            0.7777777777777778,
                            "#fb9f3a"
                          ],
                          [
                            0.8888888888888888,
                            "#fdca26"
                          ],
                          [
                            1,
                            "#f0f921"
                          ]
                        ],
                        "type": "contour"
                      }
                    ],
                    "contourcarpet": [
                      {
                        "colorbar": {
                          "outlinewidth": 0,
                          "ticks": ""
                        },
                        "type": "contourcarpet"
                      }
                    ],
                    "heatmap": [
                      {
                        "colorbar": {
                          "outlinewidth": 0,
                          "ticks": ""
                        },
                        "colorscale": [
                          [
                            0,
                            "#0d0887"
                          ],
                          [
                            0.1111111111111111,
                            "#46039f"
                          ],
                          [
                            0.2222222222222222,
                            "#7201a8"
                          ],
                          [
                            0.3333333333333333,
                            "#9c179e"
                          ],
                          [
                            0.4444444444444444,
                            "#bd3786"
                          ],
                          [
                            0.5555555555555556,
                            "#d8576b"
                          ],
                          [
                            0.6666666666666666,
                            "#ed7953"
                          ],
                          [
                            0.7777777777777778,
                            "#fb9f3a"
                          ],
                          [
                            0.8888888888888888,
                            "#fdca26"
                          ],
                          [
                            1,
                            "#f0f921"
                          ]
                        ],
                        "type": "heatmap"
                      }
                    ],
                    "histogram": [
                      {
                        "marker": {
                          "pattern": {
                            "fillmode": "overlay",
                            "size": 10,
                            "solidity": 0.2
                          }
                        },
                        "type": "histogram"
                      }
                    ],
                    "histogram2d": [
                      {
                        "colorbar": {
                          "outlinewidth": 0,
                          "ticks": ""
                        },
                        "colorscale": [
                          [
                            0,
                            "#0d0887"
                          ],
                          [
                            0.1111111111111111,
                            "#46039f"
                          ],
                          [
                            0.2222222222222222,
                            "#7201a8"
                          ],
                          [
                            0.3333333333333333,
                            "#9c179e"
                          ],
                          [
                            0.4444444444444444,
                            "#bd3786"
                          ],
                          [
                            0.5555555555555556,
                            "#d8576b"
                          ],
                          [
                            0.6666666666666666,
                            "#ed7953"
                          ],
                          [
                            0.7777777777777778,
                            "#fb9f3a"
                          ],
                          [
                            0.8888888888888888,
                            "#fdca26"
                          ],
                          [
                            1,
                            "#f0f921"
                          ]
                        ],
                        "type": "histogram2d"
                      }
                    ],
                    "histogram2dcontour": [
                      {
                        "colorbar": {
                          "outlinewidth": 0,
                          "ticks": ""
                        },
                        "colorscale": [
                          [
                            0,
                            "#0d0887"
                          ],
                          [
                            0.1111111111111111,
                            "#46039f"
                          ],
                          [
                            0.2222222222222222,
                            "#7201a8"
                          ],
                          [
                            0.3333333333333333,
                            "#9c179e"
                          ],
                          [
                            0.4444444444444444,
                            "#bd3786"
                          ],
                          [
                            0.5555555555555556,
                            "#d8576b"
                          ],
                          [
                            0.6666666666666666,
                            "#ed7953"
                          ],
                          [
                            0.7777777777777778,
                            "#fb9f3a"
                          ],
                          [
                            0.8888888888888888,
                            "#fdca26"
                          ],
                          [
                            1,
                            "#f0f921"
                          ]
                        ],
                        "type": "histogram2dcontour"
                      }
                    ],
                    "mesh3d": [
                      {
                        "colorbar": {
                          "outlinewidth": 0,
                          "ticks": ""
                        },
                        "type": "mesh3d"
                      }
                    ],
                    "parcoords": [
                      {
                        "line": {
                          "colorbar": {
                            "outlinewidth": 0,
                            "ticks": ""
                          }
                        },
                        "type": "parcoords"
                      }
                    ],
                    "pie": [
                      {
                        "automargin": true,
                        "type": "pie"
                      }
                    ],
                    "scatter": [
                      {
                        "fillpattern": {
                          "fillmode": "overlay",
                          "size": 10,
                          "solidity": 0.2
                        },
                        "type": "scatter"
                      }
                    ],
                    "scatter3d": [
                      {
                        "line": {
                          "colorbar": {
                            "outlinewidth": 0,
                            "ticks": ""
                          }
                        },
                        "marker": {
                          "colorbar": {
                            "outlinewidth": 0,
                            "ticks": ""
                          }
                        },
                        "type": "scatter3d"
                      }
                    ],
                    "scattercarpet": [
                      {
                        "marker": {
                          "colorbar": {
                            "outlinewidth": 0,
                            "ticks": ""
                          }
                        },
                        "type": "scattercarpet"
                      }
                    ],
                    "scattergeo": [
                      {
                        "marker": {
                          "colorbar": {
                            "outlinewidth": 0,
                            "ticks": ""
                          }
                        },
                        "type": "scattergeo"
                      }
                    ],
                    "scattergl": [
                      {
                        "marker": {
                          "colorbar": {
                            "outlinewidth": 0,
                            "ticks": ""
                          }
                        },
                        "type": "scattergl"
                      }
                    ],
                    "scattermap": [
                      {
                        "marker": {
                          "colorbar": {
                            "outlinewidth": 0,
                            "ticks": ""
                          }
                        },
                        "type": "scattermap"
                      }
                    ],
                    "scattermapbox": [
                      {
                        "marker": {
                          "colorbar": {
                            "outlinewidth": 0,
                            "ticks": ""
                          }
                        },
                        "type": "scattermapbox"
                      }
                    ],
                    "scatterpolar": [
                      {
                        "marker": {
                          "colorbar": {
                            "outlinewidth": 0,
                            "ticks": ""
                          }
                        },
                        "type": "scatterpolar"
                      }
                    ],
                    "scatterpolargl": [
                      {
                        "marker": {
                          "colorbar": {
                            "outlinewidth": 0,
                            "ticks": ""
                          }
                        },
                        "type": "scatterpolargl"
                      }
                    ],
                    "scatterternary": [
                      {
                        "marker": {
                          "colorbar": {
                            "outlinewidth": 0,
                            "ticks": ""
                          }
                        },
                        "type": "scatterternary"
                      }
                    ],
                    "surface": [
                      {
                        "colorbar": {
                          "outlinewidth": 0,
                          "ticks": ""
                        },
                        "colorscale": [
                          [
                            0,
                            "#0d0887"
                          ],
                          [
                            0.1111111111111111,
                            "#46039f"
                          ],
                          [
                            0.2222222222222222,
                            "#7201a8"
                          ],
                          [
                            0.3333333333333333,
                            "#9c179e"
                          ],
                          [
                            0.4444444444444444,
                            "#bd3786"
                          ],
                          [
                            0.5555555555555556,
                            "#d8576b"
                          ],
                          [
                            0.6666666666666666,
                            "#ed7953"
                          ],
                          [
                            0.7777777777777778,
                            "#fb9f3a"
                          ],
                          [
                            0.8888888888888888,
                            "#fdca26"
                          ],
                          [
                            1,
                            "#f0f921"
                          ]
                        ],
                        "type": "surface"
                      }
                    ],
                    "table": [
                      {
                        "cells": {
                          "fill": {
                            "color": "#EBF0F8"
                          },
                          "line": {
                            "color": "white"
                          }
                        },
                        "header": {
                          "fill": {
                            "color": "#C8D4E3"
                          },
                          "line": {
                            "color": "white"
                          }
                        },
                        "type": "table"
                      }
                    ]
                  },
                  "layout": {
                    "annotationdefaults": {
                      "arrowcolor": "#2a3f5f",
                      "arrowhead": 0,
                      "arrowwidth": 1
                    },
                    "autotypenumbers": "strict",
                    "coloraxis": {
                      "colorbar": {
                        "outlinewidth": 0,
                        "ticks": ""
                      }
                    },
                    "colorscale": {
                      "diverging": [
                        [
                          0,
                          "#8e0152"
                        ],
                        [
                          0.1,
                          "#c51b7d"
                        ],
                        [
                          0.2,
                          "#de77ae"
                        ],
                        [
                          0.3,
                          "#f1b6da"
                        ],
                        [
                          0.4,
                          "#fde0ef"
                        ],
                        [
                          0.5,
                          "#f7f7f7"
                        ],
                        [
                          0.6,
                          "#e6f5d0"
                        ],
                        [
                          0.7,
                          "#b8e186"
                        ],
                        [
                          0.8,
                          "#7fbc41"
                        ],
                        [
                          0.9,
                          "#4d9221"
                        ],
                        [
                          1,
                          "#276419"
                        ]
                      ],
                      "sequential": [
                        [
                          0,
                          "#0d0887"
                        ],
                        [
                          0.1111111111111111,
                          "#46039f"
                        ],
                        [
                          0.2222222222222222,
                          "#7201a8"
                        ],
                        [
                          0.3333333333333333,
                          "#9c179e"
                        ],
                        [
                          0.4444444444444444,
                          "#bd3786"
                        ],
                        [
                          0.5555555555555556,
                          "#d8576b"
                        ],
                        [
                          0.6666666666666666,
                          "#ed7953"
                        ],
                        [
                          0.7777777777777778,
                          "#fb9f3a"
                        ],
                        [
                          0.8888888888888888,
                          "#fdca26"
                        ],
                        [
                          1,
                          "#f0f921"
                        ]
                      ],
                      "sequentialminus": [
                        [
                          0,
                          "#0d0887"
                        ],
                        [
                          0.1111111111111111,
                          "#46039f"
                        ],
                        [
                          0.2222222222222222,
                          "#7201a8"
                        ],
                        [
                          0.3333333333333333,
                          "#9c179e"
                        ],
                        [
                          0.4444444444444444,
                          "#bd3786"
                        ],
                        [
                          0.5555555555555556,
                          "#d8576b"
                        ],
                        [
                          0.6666666666666666,
                          "#ed7953"
                        ],
                        [
                          0.7777777777777778,
                          "#fb9f3a"
                        ],
                        [
                          0.8888888888888888,
                          "#fdca26"
                        ],
                        [
                          1,
                          "#f0f921"
                        ]
                      ]
                    },
                    "colorway": [
                      "#636efa",
                      "#EF553B",
                      "#00cc96",
                      "#ab63fa",
                      "#FFA15A",
                      "#19d3f3",
                      "#FF6692",
                      "#B6E880",
                      "#FF97FF",
                      "#FECB52"
                    ],
                    "font": {
                      "color": "#2a3f5f"
                    },
                    "geo": {
                      "bgcolor": "white",
                      "lakecolor": "white",
                      "landcolor": "#E5ECF6",
                      "showlakes": true,
                      "showland": true,
                      "subunitcolor": "white"
                    },
                    "hoverlabel": {
                      "align": "left"
                    },
                    "hovermode": "closest",
                    "mapbox": {
                      "style": "light"
                    },
                    "paper_bgcolor": "white",
                    "plot_bgcolor": "#E5ECF6",
                    "polar": {
                      "angularaxis": {
                        "gridcolor": "white",
                        "linecolor": "white",
                        "ticks": ""
                      },
                      "bgcolor": "#E5ECF6",
                      "radialaxis": {
                        "gridcolor": "white",
                        "linecolor": "white",
                        "ticks": ""
                      }
                    },
                    "scene": {
                      "xaxis": {
                        "backgroundcolor": "#E5ECF6",
                        "gridcolor": "white",
                        "gridwidth": 2,
                        "linecolor": "white",
                        "showbackground": true,
                        "ticks": "",
                        "zerolinecolor": "white"
                      },
                      "yaxis": {
                        "backgroundcolor": "#E5ECF6",
                        "gridcolor": "white",
                        "gridwidth": 2,
                        "linecolor": "white",
                        "showbackground": true,
                        "ticks": "",
                        "zerolinecolor": "white"
                      },
                      "zaxis": {
                        "backgroundcolor": "#E5ECF6",
                        "gridcolor": "white",
                        "gridwidth": 2,
                        "linecolor": "white",
                        "showbackground": true,
                        "ticks": "",
                        "zerolinecolor": "white"
                      }
                    },
                    "shapedefaults": {
                      "line": {
                        "color": "#2a3f5f"
                      }
                    },
                    "ternary": {
                      "aaxis": {
                        "gridcolor": "white",
                        "linecolor": "white",
                        "ticks": ""
                      },
                      "baxis": {
                        "gridcolor": "white",
                        "linecolor": "white",
                        "ticks": ""
                      },
                      "bgcolor": "#E5ECF6",
                      "caxis": {
                        "gridcolor": "white",
                        "linecolor": "white",
                        "ticks": ""
                      }
                    },
                    "title": {
                      "x": 0.05
                    },
                    "xaxis": {
                      "automargin": true,
                      "gridcolor": "white",
                      "linecolor": "white",
                      "ticks": "",
                      "title": {
                        "standoff": 15
                      },
                      "zerolinecolor": "white",
                      "zerolinewidth": 2
                    },
                    "yaxis": {
                      "automargin": true,
                      "gridcolor": "white",
                      "linecolor": "white",
                      "ticks": "",
                      "title": {
                        "standoff": 15
                      },
                      "zerolinecolor": "white",
                      "zerolinewidth": 2
                    }
                  }
                },
                "title": {
                  "text": "Densité des clusters à 17"
                }
              }
            }
          },
          "metadata": {},
          "output_type": "display_data"
        }
      ],
      "source": [
        "# Calculer le centre de chaque cluster\n",
        "cluster_summary = df_hour1.groupby('Kmeans').agg(\n",
        "    Lat_center=('Lat', 'mean'),\n",
        "    Lon_center=('Lon', 'mean'),\n",
        "    density=('Kmeans', 'count')\n",
        ").reset_index()\n",
        "\n",
        "# Normaliser la densité pour que la taille des cercles soit proportionnelle\n",
        "cluster_summary['density_norm'] = cluster_summary['density'] / cluster_summary['density'].max() * 100  # facteur d'échelle\n",
        "\n",
        "\n",
        "fig = px.scatter_map(\n",
        "    cluster_summary,\n",
        "    lat=\"Lat_center\",\n",
        "    lon=\"Lon_center\",\n",
        "    size=\"density_norm\",      \n",
        "    color=\"Kmeans\",           \n",
        "    hover_name=\"Kmeans\",\n",
        "    hover_data={\"density\": True, \"Lat_center\": False, \"Lon_center\": False},\n",
        "    zoom=9,\n",
        "    map_style=\"carto-positron\",\n",
        "    title=f\"Densité des clusters à {hours}\"\n",
        ")\n",
        "\n",
        "fig.show()"
      ]
    },
    {
      "cell_type": "code",
      "execution_count": 278,
      "metadata": {},
      "outputs": [
        {
          "name": "stdout",
          "output_type": "stream",
          "text": [
            "le cluster 1 représente 27.15% de la densité totale des clusters\n"
          ]
        }
      ],
      "source": [
        "ratio_densite_max = (cluster_summary['density'].max() * 100 / cluster_summary['density'].sum()).round(2)\n",
        "\n",
        "print(f'le cluster {cluster_summary.loc[cluster_summary[\"density\"].idxmax(), \"Kmeans\"]} représente {ratio_densite_max}% de la densité totale des clusters')"
      ]
    },
    {
      "cell_type": "markdown",
      "metadata": {},
      "source": [
        "### KMEANS Jour et Heure"
      ]
    },
    {
      "cell_type": "code",
      "execution_count": 279,
      "metadata": {},
      "outputs": [
        {
          "name": "stdout",
          "output_type": "stream",
          "text": [
            "WCSS for K=2 --> 1.0407831903180715\n",
            "WCSS for K=3 --> 0.7462846001006371\n",
            "WCSS for K=4 --> 0.6427888186501833\n",
            "WCSS for K=5 --> 0.4886803239607018\n",
            "WCSS for K=6 --> 0.4091482016738947\n",
            "WCSS for K=7 --> 0.32333958497089105\n",
            "WCSS for K=8 --> 0.21768926262678642\n",
            "WCSS for K=9 --> 0.19950278948984973\n",
            "WCSS for K=10 --> 0.16326761214392163\n",
            "WCSS for K=11 --> 0.15461103646828908\n",
            "WCSS for K=12 --> 0.13860326731331435\n",
            "WCSS for K=13 --> 0.12523625832903282\n",
            "WCSS for K=14 --> 0.11415863332903209\n",
            "WCSS for K=15 --> 0.09312421571849057\n",
            "WCSS for K=16 --> 0.08540202238520649\n",
            "WCSS for K=17 --> 0.07763206268513992\n",
            "WCSS for K=18 --> 0.07500765680288293\n",
            "WCSS for K=19 --> 0.07220923196656984\n",
            "WCSS for K=20 --> 0.06316770318181963\n",
            "WCSS for K=21 --> 0.05462159087033483\n",
            "WCSS for K=22 --> 0.050785944935124325\n",
            "WCSS for K=23 --> 0.046657445126533914\n",
            "WCSS for K=24 --> 0.04548386845986745\n",
            "WCSS for K=25 --> 0.04323356016658418\n",
            "WCSS for K=26 --> 0.04085321834118761\n",
            "WCSS for K=27 --> 0.03752173758133101\n",
            "WCSS for K=28 --> 0.03548011591466464\n",
            "WCSS for K=29 --> 0.03322707770037872\n",
            "WCSS for K=30 --> 0.031332654922600595\n",
            "WCSS for K=31 --> 0.030074934739657395\n",
            "WCSS for K=32 --> 0.02825290259680044\n",
            "WCSS for K=33 --> 0.02630709044935546\n",
            "WCSS for K=34 --> 0.024772581322371725\n",
            "WCSS for K=35 --> 0.024056494946914652\n",
            "WCSS for K=36 --> 0.022462610610855766\n",
            "WCSS for K=37 --> 0.021086640126178162\n",
            "WCSS for K=38 --> 0.019873951501382547\n",
            "WCSS for K=39 --> 0.01954937580693785\n",
            "WCSS for K=40 --> 0.018427985932391967\n",
            "WCSS for K=41 --> 0.01790032093239187\n",
            "WCSS for K=42 --> 0.017259105456201407\n",
            "WCSS for K=43 --> 0.016742915266766994\n",
            "WCSS for K=44 --> 0.016272649492349973\n",
            "WCSS for K=45 --> 0.016024124492349856\n",
            "WCSS for K=46 --> 0.015576569480869362\n",
            "WCSS for K=47 --> 0.015005279805972997\n",
            "WCSS for K=48 --> 0.014592674304194536\n",
            "WCSS for K=49 --> 0.014257193653989515\n",
            "WCSS for K=50 --> 0.013766185320656283\n",
            "WCSS for K=51 --> 0.01382716472735141\n",
            "WCSS for K=52 --> 0.01360912428932288\n",
            "WCSS for K=53 --> 0.013127782955989637\n",
            "WCSS for K=54 --> 0.012382654289322958\n",
            "WCSS for K=55 --> 0.011498376554894187\n",
            "WCSS for K=56 --> 0.011193376554893992\n",
            "WCSS for K=57 --> 0.010805668221560758\n",
            "WCSS for K=58 --> 0.010450097274590862\n",
            "WCSS for K=59 --> 0.010198232274590645\n",
            "WCSS for K=60 --> 0.009467632752241719\n",
            "WCSS for K=61 --> 0.009289866085575013\n",
            "WCSS for K=62 --> 0.008890047346866483\n",
            "WCSS for K=63 --> 0.00879643651353312\n",
            "WCSS for K=64 --> 0.008547911513533\n",
            "WCSS for K=65 --> 0.008042203180199702\n",
            "WCSS for K=66 --> 0.007861203023558125\n",
            "WCSS for K=67 --> 0.0076272325235581485\n",
            "WCSS for K=68 --> 0.007419892523558257\n",
            "WCSS for K=69 --> 0.007400737404871551\n"
          ]
        }
      ],
      "source": [
        "# On filtre le DataFrame pour ne garder que l'heure et le jour sélectionné.\n",
        "# Pas de preprocessing nécessaire car le clustering KMEANS utilisera uniquement les colonnes 'Lat' et 'Lon'.\n",
        "mask_dh = (df['dayname'] == day) & (df['hour'] == hours)\n",
        "df_dh = df[mask_dh]\n",
        "df_dh1 = df_dh[['Lat', 'Lon']]\n",
        "\n",
        "# Calcul du WCSS : méthode du coude\n",
        "wcss =  []\n",
        "for i in range (2,70):\n",
        "    kmeans = KMeans(n_clusters= i, random_state = 0, n_init = 'auto')\n",
        "    kmeans.fit(df_dh1)\n",
        "    wcss.append(kmeans.inertia_)\n",
        "    print(\"WCSS for K={} --> {}\".format(i, wcss[-1]))"
      ]
    },
    {
      "cell_type": "code",
      "execution_count": 280,
      "metadata": {},
      "outputs": [
        {
          "data": {
            "application/vnd.plotly.v1+json": {
              "config": {
                "plotlyServerURL": "https://plot.ly"
              },
              "data": [
                {
                  "hovertemplate": "x=%{x}<br>y=%{y}<extra></extra>",
                  "legendgroup": "",
                  "line": {
                    "color": "#636efa",
                    "dash": "solid"
                  },
                  "marker": {
                    "symbol": "circle"
                  },
                  "mode": "lines",
                  "name": "",
                  "orientation": "v",
                  "showlegend": false,
                  "type": "scatter",
                  "x": {
                    "bdata": "AgMEBQYHCAkKCwwNDg8QERITFBUWFxgZGhscHR4fICEiIyQlJicoKSorLC0uLzAxMjM0NTY3ODk6Ozw9Pj9AQUJDREU=",
                    "dtype": "i1"
                  },
                  "xaxis": "x",
                  "y": {
                    "bdata": "V0hKRgyn8D8CGt49kOHnP87IStu5keQ/mAhn1olG3z+TBVrwey/aP6/wvIOYsdQ/SxHW4z3dyz8u6yiyTonJP2G7U//z5cQ/B7GdYEvKwz/+XR16wL3BPxv35eC9B8A/oEm0DIA5vT89APoU/da3P+seKC3o3LU/8ota4rHfsz9aAOuoszOzP5oExOFNfLI/UFBUM8IrsD/0HON0XPerP46FL4mdAKo/sOPdEXzjpz93tw9fqUmnPw6gAo61IqY/QWpsibbqpD/8EJqXDDajPzYHBiNzKqI/hCohuCMDoT8M/GBw1QqgP0Jui7T2y54/WGuuMlTunD/MFYj0PvCaP6fld8r7XZk/Q6s2DESimD+lXNNHcACXP+7X5Xa8l5U/cIH2TtZZlD/G9v1mwASUP02hpDPJ3pI/FFn4M3ZUkj8wbPj1XqyRP+i2CgYOJZE/gj+OBcepkD9QE5HKoGiQP/OcCMSb5o8/AplFkBa7jj/Dei6Xw+KNPxcg0CPgMo0/anLxHXIxjD8jLWeialGMP6Ws/70Z34s/1z24M73iij9Guq65E1yJP445Ffp1jIc/HXPhkY3shj8f9/s8SCGGP2xsRlDcZoU/GWLFkM/ihD9B0lQoxGODP7iSLLiQBoM/+97q9PE0gj/++yy53QOCP5ijMkORgYE/mYgsPW54gD8YriXPiBmAP5t09qO7PX8/GAKoO1Jkfj9pXuxRPFB+Pw==",
                    "dtype": "f8"
                  },
                  "yaxis": "y"
                }
              ],
              "layout": {
                "legend": {
                  "tracegroupgap": 0
                },
                "margin": {
                  "t": 60
                },
                "template": {
                  "data": {
                    "bar": [
                      {
                        "error_x": {
                          "color": "#2a3f5f"
                        },
                        "error_y": {
                          "color": "#2a3f5f"
                        },
                        "marker": {
                          "line": {
                            "color": "#E5ECF6",
                            "width": 0.5
                          },
                          "pattern": {
                            "fillmode": "overlay",
                            "size": 10,
                            "solidity": 0.2
                          }
                        },
                        "type": "bar"
                      }
                    ],
                    "barpolar": [
                      {
                        "marker": {
                          "line": {
                            "color": "#E5ECF6",
                            "width": 0.5
                          },
                          "pattern": {
                            "fillmode": "overlay",
                            "size": 10,
                            "solidity": 0.2
                          }
                        },
                        "type": "barpolar"
                      }
                    ],
                    "carpet": [
                      {
                        "aaxis": {
                          "endlinecolor": "#2a3f5f",
                          "gridcolor": "white",
                          "linecolor": "white",
                          "minorgridcolor": "white",
                          "startlinecolor": "#2a3f5f"
                        },
                        "baxis": {
                          "endlinecolor": "#2a3f5f",
                          "gridcolor": "white",
                          "linecolor": "white",
                          "minorgridcolor": "white",
                          "startlinecolor": "#2a3f5f"
                        },
                        "type": "carpet"
                      }
                    ],
                    "choropleth": [
                      {
                        "colorbar": {
                          "outlinewidth": 0,
                          "ticks": ""
                        },
                        "type": "choropleth"
                      }
                    ],
                    "contour": [
                      {
                        "colorbar": {
                          "outlinewidth": 0,
                          "ticks": ""
                        },
                        "colorscale": [
                          [
                            0,
                            "#0d0887"
                          ],
                          [
                            0.1111111111111111,
                            "#46039f"
                          ],
                          [
                            0.2222222222222222,
                            "#7201a8"
                          ],
                          [
                            0.3333333333333333,
                            "#9c179e"
                          ],
                          [
                            0.4444444444444444,
                            "#bd3786"
                          ],
                          [
                            0.5555555555555556,
                            "#d8576b"
                          ],
                          [
                            0.6666666666666666,
                            "#ed7953"
                          ],
                          [
                            0.7777777777777778,
                            "#fb9f3a"
                          ],
                          [
                            0.8888888888888888,
                            "#fdca26"
                          ],
                          [
                            1,
                            "#f0f921"
                          ]
                        ],
                        "type": "contour"
                      }
                    ],
                    "contourcarpet": [
                      {
                        "colorbar": {
                          "outlinewidth": 0,
                          "ticks": ""
                        },
                        "type": "contourcarpet"
                      }
                    ],
                    "heatmap": [
                      {
                        "colorbar": {
                          "outlinewidth": 0,
                          "ticks": ""
                        },
                        "colorscale": [
                          [
                            0,
                            "#0d0887"
                          ],
                          [
                            0.1111111111111111,
                            "#46039f"
                          ],
                          [
                            0.2222222222222222,
                            "#7201a8"
                          ],
                          [
                            0.3333333333333333,
                            "#9c179e"
                          ],
                          [
                            0.4444444444444444,
                            "#bd3786"
                          ],
                          [
                            0.5555555555555556,
                            "#d8576b"
                          ],
                          [
                            0.6666666666666666,
                            "#ed7953"
                          ],
                          [
                            0.7777777777777778,
                            "#fb9f3a"
                          ],
                          [
                            0.8888888888888888,
                            "#fdca26"
                          ],
                          [
                            1,
                            "#f0f921"
                          ]
                        ],
                        "type": "heatmap"
                      }
                    ],
                    "histogram": [
                      {
                        "marker": {
                          "pattern": {
                            "fillmode": "overlay",
                            "size": 10,
                            "solidity": 0.2
                          }
                        },
                        "type": "histogram"
                      }
                    ],
                    "histogram2d": [
                      {
                        "colorbar": {
                          "outlinewidth": 0,
                          "ticks": ""
                        },
                        "colorscale": [
                          [
                            0,
                            "#0d0887"
                          ],
                          [
                            0.1111111111111111,
                            "#46039f"
                          ],
                          [
                            0.2222222222222222,
                            "#7201a8"
                          ],
                          [
                            0.3333333333333333,
                            "#9c179e"
                          ],
                          [
                            0.4444444444444444,
                            "#bd3786"
                          ],
                          [
                            0.5555555555555556,
                            "#d8576b"
                          ],
                          [
                            0.6666666666666666,
                            "#ed7953"
                          ],
                          [
                            0.7777777777777778,
                            "#fb9f3a"
                          ],
                          [
                            0.8888888888888888,
                            "#fdca26"
                          ],
                          [
                            1,
                            "#f0f921"
                          ]
                        ],
                        "type": "histogram2d"
                      }
                    ],
                    "histogram2dcontour": [
                      {
                        "colorbar": {
                          "outlinewidth": 0,
                          "ticks": ""
                        },
                        "colorscale": [
                          [
                            0,
                            "#0d0887"
                          ],
                          [
                            0.1111111111111111,
                            "#46039f"
                          ],
                          [
                            0.2222222222222222,
                            "#7201a8"
                          ],
                          [
                            0.3333333333333333,
                            "#9c179e"
                          ],
                          [
                            0.4444444444444444,
                            "#bd3786"
                          ],
                          [
                            0.5555555555555556,
                            "#d8576b"
                          ],
                          [
                            0.6666666666666666,
                            "#ed7953"
                          ],
                          [
                            0.7777777777777778,
                            "#fb9f3a"
                          ],
                          [
                            0.8888888888888888,
                            "#fdca26"
                          ],
                          [
                            1,
                            "#f0f921"
                          ]
                        ],
                        "type": "histogram2dcontour"
                      }
                    ],
                    "mesh3d": [
                      {
                        "colorbar": {
                          "outlinewidth": 0,
                          "ticks": ""
                        },
                        "type": "mesh3d"
                      }
                    ],
                    "parcoords": [
                      {
                        "line": {
                          "colorbar": {
                            "outlinewidth": 0,
                            "ticks": ""
                          }
                        },
                        "type": "parcoords"
                      }
                    ],
                    "pie": [
                      {
                        "automargin": true,
                        "type": "pie"
                      }
                    ],
                    "scatter": [
                      {
                        "fillpattern": {
                          "fillmode": "overlay",
                          "size": 10,
                          "solidity": 0.2
                        },
                        "type": "scatter"
                      }
                    ],
                    "scatter3d": [
                      {
                        "line": {
                          "colorbar": {
                            "outlinewidth": 0,
                            "ticks": ""
                          }
                        },
                        "marker": {
                          "colorbar": {
                            "outlinewidth": 0,
                            "ticks": ""
                          }
                        },
                        "type": "scatter3d"
                      }
                    ],
                    "scattercarpet": [
                      {
                        "marker": {
                          "colorbar": {
                            "outlinewidth": 0,
                            "ticks": ""
                          }
                        },
                        "type": "scattercarpet"
                      }
                    ],
                    "scattergeo": [
                      {
                        "marker": {
                          "colorbar": {
                            "outlinewidth": 0,
                            "ticks": ""
                          }
                        },
                        "type": "scattergeo"
                      }
                    ],
                    "scattergl": [
                      {
                        "marker": {
                          "colorbar": {
                            "outlinewidth": 0,
                            "ticks": ""
                          }
                        },
                        "type": "scattergl"
                      }
                    ],
                    "scattermap": [
                      {
                        "marker": {
                          "colorbar": {
                            "outlinewidth": 0,
                            "ticks": ""
                          }
                        },
                        "type": "scattermap"
                      }
                    ],
                    "scattermapbox": [
                      {
                        "marker": {
                          "colorbar": {
                            "outlinewidth": 0,
                            "ticks": ""
                          }
                        },
                        "type": "scattermapbox"
                      }
                    ],
                    "scatterpolar": [
                      {
                        "marker": {
                          "colorbar": {
                            "outlinewidth": 0,
                            "ticks": ""
                          }
                        },
                        "type": "scatterpolar"
                      }
                    ],
                    "scatterpolargl": [
                      {
                        "marker": {
                          "colorbar": {
                            "outlinewidth": 0,
                            "ticks": ""
                          }
                        },
                        "type": "scatterpolargl"
                      }
                    ],
                    "scatterternary": [
                      {
                        "marker": {
                          "colorbar": {
                            "outlinewidth": 0,
                            "ticks": ""
                          }
                        },
                        "type": "scatterternary"
                      }
                    ],
                    "surface": [
                      {
                        "colorbar": {
                          "outlinewidth": 0,
                          "ticks": ""
                        },
                        "colorscale": [
                          [
                            0,
                            "#0d0887"
                          ],
                          [
                            0.1111111111111111,
                            "#46039f"
                          ],
                          [
                            0.2222222222222222,
                            "#7201a8"
                          ],
                          [
                            0.3333333333333333,
                            "#9c179e"
                          ],
                          [
                            0.4444444444444444,
                            "#bd3786"
                          ],
                          [
                            0.5555555555555556,
                            "#d8576b"
                          ],
                          [
                            0.6666666666666666,
                            "#ed7953"
                          ],
                          [
                            0.7777777777777778,
                            "#fb9f3a"
                          ],
                          [
                            0.8888888888888888,
                            "#fdca26"
                          ],
                          [
                            1,
                            "#f0f921"
                          ]
                        ],
                        "type": "surface"
                      }
                    ],
                    "table": [
                      {
                        "cells": {
                          "fill": {
                            "color": "#EBF0F8"
                          },
                          "line": {
                            "color": "white"
                          }
                        },
                        "header": {
                          "fill": {
                            "color": "#C8D4E3"
                          },
                          "line": {
                            "color": "white"
                          }
                        },
                        "type": "table"
                      }
                    ]
                  },
                  "layout": {
                    "annotationdefaults": {
                      "arrowcolor": "#2a3f5f",
                      "arrowhead": 0,
                      "arrowwidth": 1
                    },
                    "autotypenumbers": "strict",
                    "coloraxis": {
                      "colorbar": {
                        "outlinewidth": 0,
                        "ticks": ""
                      }
                    },
                    "colorscale": {
                      "diverging": [
                        [
                          0,
                          "#8e0152"
                        ],
                        [
                          0.1,
                          "#c51b7d"
                        ],
                        [
                          0.2,
                          "#de77ae"
                        ],
                        [
                          0.3,
                          "#f1b6da"
                        ],
                        [
                          0.4,
                          "#fde0ef"
                        ],
                        [
                          0.5,
                          "#f7f7f7"
                        ],
                        [
                          0.6,
                          "#e6f5d0"
                        ],
                        [
                          0.7,
                          "#b8e186"
                        ],
                        [
                          0.8,
                          "#7fbc41"
                        ],
                        [
                          0.9,
                          "#4d9221"
                        ],
                        [
                          1,
                          "#276419"
                        ]
                      ],
                      "sequential": [
                        [
                          0,
                          "#0d0887"
                        ],
                        [
                          0.1111111111111111,
                          "#46039f"
                        ],
                        [
                          0.2222222222222222,
                          "#7201a8"
                        ],
                        [
                          0.3333333333333333,
                          "#9c179e"
                        ],
                        [
                          0.4444444444444444,
                          "#bd3786"
                        ],
                        [
                          0.5555555555555556,
                          "#d8576b"
                        ],
                        [
                          0.6666666666666666,
                          "#ed7953"
                        ],
                        [
                          0.7777777777777778,
                          "#fb9f3a"
                        ],
                        [
                          0.8888888888888888,
                          "#fdca26"
                        ],
                        [
                          1,
                          "#f0f921"
                        ]
                      ],
                      "sequentialminus": [
                        [
                          0,
                          "#0d0887"
                        ],
                        [
                          0.1111111111111111,
                          "#46039f"
                        ],
                        [
                          0.2222222222222222,
                          "#7201a8"
                        ],
                        [
                          0.3333333333333333,
                          "#9c179e"
                        ],
                        [
                          0.4444444444444444,
                          "#bd3786"
                        ],
                        [
                          0.5555555555555556,
                          "#d8576b"
                        ],
                        [
                          0.6666666666666666,
                          "#ed7953"
                        ],
                        [
                          0.7777777777777778,
                          "#fb9f3a"
                        ],
                        [
                          0.8888888888888888,
                          "#fdca26"
                        ],
                        [
                          1,
                          "#f0f921"
                        ]
                      ]
                    },
                    "colorway": [
                      "#636efa",
                      "#EF553B",
                      "#00cc96",
                      "#ab63fa",
                      "#FFA15A",
                      "#19d3f3",
                      "#FF6692",
                      "#B6E880",
                      "#FF97FF",
                      "#FECB52"
                    ],
                    "font": {
                      "color": "#2a3f5f"
                    },
                    "geo": {
                      "bgcolor": "white",
                      "lakecolor": "white",
                      "landcolor": "#E5ECF6",
                      "showlakes": true,
                      "showland": true,
                      "subunitcolor": "white"
                    },
                    "hoverlabel": {
                      "align": "left"
                    },
                    "hovermode": "closest",
                    "mapbox": {
                      "style": "light"
                    },
                    "paper_bgcolor": "white",
                    "plot_bgcolor": "#E5ECF6",
                    "polar": {
                      "angularaxis": {
                        "gridcolor": "white",
                        "linecolor": "white",
                        "ticks": ""
                      },
                      "bgcolor": "#E5ECF6",
                      "radialaxis": {
                        "gridcolor": "white",
                        "linecolor": "white",
                        "ticks": ""
                      }
                    },
                    "scene": {
                      "xaxis": {
                        "backgroundcolor": "#E5ECF6",
                        "gridcolor": "white",
                        "gridwidth": 2,
                        "linecolor": "white",
                        "showbackground": true,
                        "ticks": "",
                        "zerolinecolor": "white"
                      },
                      "yaxis": {
                        "backgroundcolor": "#E5ECF6",
                        "gridcolor": "white",
                        "gridwidth": 2,
                        "linecolor": "white",
                        "showbackground": true,
                        "ticks": "",
                        "zerolinecolor": "white"
                      },
                      "zaxis": {
                        "backgroundcolor": "#E5ECF6",
                        "gridcolor": "white",
                        "gridwidth": 2,
                        "linecolor": "white",
                        "showbackground": true,
                        "ticks": "",
                        "zerolinecolor": "white"
                      }
                    },
                    "shapedefaults": {
                      "line": {
                        "color": "#2a3f5f"
                      }
                    },
                    "ternary": {
                      "aaxis": {
                        "gridcolor": "white",
                        "linecolor": "white",
                        "ticks": ""
                      },
                      "baxis": {
                        "gridcolor": "white",
                        "linecolor": "white",
                        "ticks": ""
                      },
                      "bgcolor": "#E5ECF6",
                      "caxis": {
                        "gridcolor": "white",
                        "linecolor": "white",
                        "ticks": ""
                      }
                    },
                    "title": {
                      "x": 0.05
                    },
                    "xaxis": {
                      "automargin": true,
                      "gridcolor": "white",
                      "linecolor": "white",
                      "ticks": "",
                      "title": {
                        "standoff": 15
                      },
                      "zerolinecolor": "white",
                      "zerolinewidth": 2
                    },
                    "yaxis": {
                      "automargin": true,
                      "gridcolor": "white",
                      "linecolor": "white",
                      "ticks": "",
                      "title": {
                        "standoff": 15
                      },
                      "zerolinecolor": "white",
                      "zerolinewidth": 2
                    }
                  }
                },
                "xaxis": {
                  "anchor": "y",
                  "domain": [
                    0,
                    1
                  ],
                  "title": {
                    "text": "x"
                  }
                },
                "yaxis": {
                  "anchor": "x",
                  "domain": [
                    0,
                    1
                  ],
                  "title": {
                    "text": "y"
                  }
                }
              }
            }
          },
          "metadata": {},
          "output_type": "display_data"
        }
      ],
      "source": [
        "fig = px.line(x = range(2,70), y = wcss)\n",
        "fig.show()"
      ]
    },
    {
      "cell_type": "code",
      "execution_count": 281,
      "metadata": {},
      "outputs": [
        {
          "name": "stdout",
          "output_type": "stream",
          "text": [
            "Silhouette score for K=2 is 0.7297512900420027\n",
            "Silhouette score for K=3 is 0.4505591448893968\n",
            "Silhouette score for K=4 is 0.36832857198891783\n",
            "Silhouette score for K=5 is 0.41635912031642974\n",
            "Silhouette score for K=6 is 0.3769719739144572\n",
            "Silhouette score for K=7 is 0.3879637841988013\n",
            "Silhouette score for K=8 is 0.43902256060339767\n",
            "Silhouette score for K=9 is 0.4411662631441849\n",
            "Silhouette score for K=10 is 0.42469063364027687\n",
            "Silhouette score for K=11 is 0.37070484864258746\n",
            "Silhouette score for K=12 is 0.3592476451237156\n",
            "Silhouette score for K=13 is 0.387028740687895\n",
            "Silhouette score for K=14 is 0.3860814944629455\n",
            "Silhouette score for K=15 is 0.4201656727776441\n",
            "Silhouette score for K=16 is 0.403150668195799\n",
            "Silhouette score for K=17 is 0.3955112201461103\n",
            "Silhouette score for K=18 is 0.369626702667792\n",
            "Silhouette score for K=19 is 0.3648128100115493\n",
            "Silhouette score for K=20 is 0.376465749925924\n",
            "Silhouette score for K=21 is 0.42206031872190997\n",
            "Silhouette score for K=22 is 0.42441264167731624\n",
            "Silhouette score for K=23 is 0.4260456472967185\n",
            "Silhouette score for K=24 is 0.42241282555337306\n",
            "Silhouette score for K=25 is 0.386740302541025\n",
            "Silhouette score for K=26 is 0.38780672816650835\n",
            "Silhouette score for K=27 is 0.39549910340352523\n",
            "Silhouette score for K=28 is 0.3980287695712628\n",
            "Silhouette score for K=29 is 0.4022084687133405\n",
            "Silhouette score for K=30 is 0.40340596625366154\n",
            "Silhouette score for K=31 is 0.38963022293647837\n",
            "Silhouette score for K=32 is 0.3945526632214638\n",
            "Silhouette score for K=33 is 0.3997313378382592\n",
            "Silhouette score for K=34 is 0.4030940813002782\n",
            "Silhouette score for K=35 is 0.39138335134544805\n",
            "Silhouette score for K=36 is 0.4008002087947048\n",
            "Silhouette score for K=37 is 0.40744790644396806\n",
            "Silhouette score for K=38 is 0.41228787848524584\n",
            "Silhouette score for K=39 is 0.409809133167721\n",
            "Silhouette score for K=40 is 0.41155405691772157\n",
            "Silhouette score for K=41 is 0.4092731126739354\n",
            "Silhouette score for K=42 is 0.4073060226679198\n",
            "Silhouette score for K=43 is 0.3986523378131839\n",
            "Silhouette score for K=44 is 0.39084698407983476\n",
            "Silhouette score for K=45 is 0.3885910244772286\n",
            "Silhouette score for K=46 is 0.3862351781553221\n",
            "Silhouette score for K=47 is 0.398203041683021\n",
            "Silhouette score for K=48 is 0.394684286554608\n",
            "Silhouette score for K=49 is 0.3959998090156121\n",
            "Silhouette score for K=50 is 0.39397077967337807\n",
            "Silhouette score for K=51 is 0.3756596615765452\n",
            "Silhouette score for K=52 is 0.37614459926158145\n",
            "Silhouette score for K=53 is 0.3771701446166756\n",
            "Silhouette score for K=54 is 0.3780032177269897\n",
            "Silhouette score for K=55 is 0.38420023638536055\n",
            "Silhouette score for K=56 is 0.38335447278237517\n",
            "Silhouette score for K=57 is 0.38495517619260805\n",
            "Silhouette score for K=58 is 0.38082108585983954\n",
            "Silhouette score for K=59 is 0.3785230446301949\n",
            "Silhouette score for K=60 is 0.39498477529822473\n",
            "Silhouette score for K=61 is 0.3939752577344319\n",
            "Silhouette score for K=62 is 0.40167644612991005\n",
            "Silhouette score for K=63 is 0.4004631275987116\n",
            "Silhouette score for K=64 is 0.3987210921532136\n",
            "Silhouette score for K=65 is 0.3996757462190575\n",
            "Silhouette score for K=66 is 0.397824399304987\n",
            "Silhouette score for K=67 is 0.39727166771127803\n",
            "Silhouette score for K=68 is 0.39911403666747286\n",
            "Silhouette score for K=69 is 0.39505557815864356\n"
          ]
        }
      ],
      "source": [
        "# Calcul du score de silhouette\n",
        "sil = []\n",
        "k = []\n",
        "\n",
        "for i in range (2,70):\n",
        "    kmeans = KMeans(n_clusters= i, random_state = 0, n_init = 'auto')\n",
        "    kmeans.fit(df_dh1)\n",
        "    sil.append(silhouette_score(df_dh1, kmeans.predict(df_dh1)))\n",
        "    k.append(i)\n",
        "    print(\"Silhouette score for K={} is {}\".format(i, sil[-1]))"
      ]
    },
    {
      "cell_type": "code",
      "execution_count": 282,
      "metadata": {},
      "outputs": [
        {
          "data": {
            "application/vnd.plotly.v1+json": {
              "config": {
                "plotlyServerURL": "https://plot.ly"
              },
              "data": [
                {
                  "hovertemplate": "x=%{x}<br>0=%{y}<extra></extra>",
                  "legendgroup": "",
                  "marker": {
                    "color": "#636efa",
                    "pattern": {
                      "shape": ""
                    }
                  },
                  "name": "",
                  "orientation": "v",
                  "showlegend": false,
                  "textposition": "auto",
                  "type": "bar",
                  "x": {
                    "bdata": "AgMEBQYHCAkKCwwNDg8QERITFBUWFxgZGhscHR4fICEiIyQlJicoKSorLC0uLzAxMjM0NTY3ODk6Ozw9Pj9AQUJDREU=",
                    "dtype": "i1"
                  },
                  "xaxis": "x",
                  "y": {
                    "bdata": "/DaeYB9a5z8DrQ0G9tXcP3X8twCyktc/EqBJuaCl2j93J94OTyDYP+SjSg1m1Ng/e9v/FPIY3D8lYRNsETzcP6vCmZ8hLts/5N1Y1KC51z/3Kr7V6f3WP/F19zEUxdg/NskTKI+12D8f1t6P/uPaP3u80HU4zdk/YqHuSg5Q2T9V7+vB9qfXP3RVCtQXWdc/x73/zAMY2D9qZXZICQPbP6XVAKSTKds/DYZv9lRE2z+FacrNzwjbP8Rd3WVawNg/6TWpT9PR2D8myq1420/ZP5E+C6lNedk/CBPTlsi92T9EhwRCZ9HZPz3nQpqz79g/NX9F0FlA2T/Y58y/MpXZP8VVGR5LzNk/n5COwWwM2T/mNEDrtabZP10IQGKgE9o/Fmiosuxi2j+ZrSMWUDraP+vav9PmVto/akSE2ocx2j+qpLRHTRHaP6BrWBiFg9k/aD2XEaMD2T94hmnjrN7YP1d6r8ATuNg/LpBMnCh82T8L0b/hgULZP2lvPJUPWNk/xbaRN9E22T++cznSzgrYPytQGczAEtg/Yf8JP44j2D9d5HpoNDHYP3n/mJa8ltg/NwrYMuGI2D81FQsJG6PYP0RLWWdfX9g/rgReuLg52D/guBQ5bkfZP3vD2f/jNtk/4OTsHxG12T/0lBIZMKHZP0iAwXilhNk/0fnAlEmU2T97NSR49HXZP92gHCXmbNk/NSC3mRWL2T+8zBIxl0jZPw==",
                    "dtype": "f8"
                  },
                  "yaxis": "y"
                }
              ],
              "layout": {
                "barmode": "relative",
                "legend": {
                  "tracegroupgap": 0
                },
                "margin": {
                  "t": 60
                },
                "template": {
                  "data": {
                    "bar": [
                      {
                        "error_x": {
                          "color": "#2a3f5f"
                        },
                        "error_y": {
                          "color": "#2a3f5f"
                        },
                        "marker": {
                          "line": {
                            "color": "#E5ECF6",
                            "width": 0.5
                          },
                          "pattern": {
                            "fillmode": "overlay",
                            "size": 10,
                            "solidity": 0.2
                          }
                        },
                        "type": "bar"
                      }
                    ],
                    "barpolar": [
                      {
                        "marker": {
                          "line": {
                            "color": "#E5ECF6",
                            "width": 0.5
                          },
                          "pattern": {
                            "fillmode": "overlay",
                            "size": 10,
                            "solidity": 0.2
                          }
                        },
                        "type": "barpolar"
                      }
                    ],
                    "carpet": [
                      {
                        "aaxis": {
                          "endlinecolor": "#2a3f5f",
                          "gridcolor": "white",
                          "linecolor": "white",
                          "minorgridcolor": "white",
                          "startlinecolor": "#2a3f5f"
                        },
                        "baxis": {
                          "endlinecolor": "#2a3f5f",
                          "gridcolor": "white",
                          "linecolor": "white",
                          "minorgridcolor": "white",
                          "startlinecolor": "#2a3f5f"
                        },
                        "type": "carpet"
                      }
                    ],
                    "choropleth": [
                      {
                        "colorbar": {
                          "outlinewidth": 0,
                          "ticks": ""
                        },
                        "type": "choropleth"
                      }
                    ],
                    "contour": [
                      {
                        "colorbar": {
                          "outlinewidth": 0,
                          "ticks": ""
                        },
                        "colorscale": [
                          [
                            0,
                            "#0d0887"
                          ],
                          [
                            0.1111111111111111,
                            "#46039f"
                          ],
                          [
                            0.2222222222222222,
                            "#7201a8"
                          ],
                          [
                            0.3333333333333333,
                            "#9c179e"
                          ],
                          [
                            0.4444444444444444,
                            "#bd3786"
                          ],
                          [
                            0.5555555555555556,
                            "#d8576b"
                          ],
                          [
                            0.6666666666666666,
                            "#ed7953"
                          ],
                          [
                            0.7777777777777778,
                            "#fb9f3a"
                          ],
                          [
                            0.8888888888888888,
                            "#fdca26"
                          ],
                          [
                            1,
                            "#f0f921"
                          ]
                        ],
                        "type": "contour"
                      }
                    ],
                    "contourcarpet": [
                      {
                        "colorbar": {
                          "outlinewidth": 0,
                          "ticks": ""
                        },
                        "type": "contourcarpet"
                      }
                    ],
                    "heatmap": [
                      {
                        "colorbar": {
                          "outlinewidth": 0,
                          "ticks": ""
                        },
                        "colorscale": [
                          [
                            0,
                            "#0d0887"
                          ],
                          [
                            0.1111111111111111,
                            "#46039f"
                          ],
                          [
                            0.2222222222222222,
                            "#7201a8"
                          ],
                          [
                            0.3333333333333333,
                            "#9c179e"
                          ],
                          [
                            0.4444444444444444,
                            "#bd3786"
                          ],
                          [
                            0.5555555555555556,
                            "#d8576b"
                          ],
                          [
                            0.6666666666666666,
                            "#ed7953"
                          ],
                          [
                            0.7777777777777778,
                            "#fb9f3a"
                          ],
                          [
                            0.8888888888888888,
                            "#fdca26"
                          ],
                          [
                            1,
                            "#f0f921"
                          ]
                        ],
                        "type": "heatmap"
                      }
                    ],
                    "histogram": [
                      {
                        "marker": {
                          "pattern": {
                            "fillmode": "overlay",
                            "size": 10,
                            "solidity": 0.2
                          }
                        },
                        "type": "histogram"
                      }
                    ],
                    "histogram2d": [
                      {
                        "colorbar": {
                          "outlinewidth": 0,
                          "ticks": ""
                        },
                        "colorscale": [
                          [
                            0,
                            "#0d0887"
                          ],
                          [
                            0.1111111111111111,
                            "#46039f"
                          ],
                          [
                            0.2222222222222222,
                            "#7201a8"
                          ],
                          [
                            0.3333333333333333,
                            "#9c179e"
                          ],
                          [
                            0.4444444444444444,
                            "#bd3786"
                          ],
                          [
                            0.5555555555555556,
                            "#d8576b"
                          ],
                          [
                            0.6666666666666666,
                            "#ed7953"
                          ],
                          [
                            0.7777777777777778,
                            "#fb9f3a"
                          ],
                          [
                            0.8888888888888888,
                            "#fdca26"
                          ],
                          [
                            1,
                            "#f0f921"
                          ]
                        ],
                        "type": "histogram2d"
                      }
                    ],
                    "histogram2dcontour": [
                      {
                        "colorbar": {
                          "outlinewidth": 0,
                          "ticks": ""
                        },
                        "colorscale": [
                          [
                            0,
                            "#0d0887"
                          ],
                          [
                            0.1111111111111111,
                            "#46039f"
                          ],
                          [
                            0.2222222222222222,
                            "#7201a8"
                          ],
                          [
                            0.3333333333333333,
                            "#9c179e"
                          ],
                          [
                            0.4444444444444444,
                            "#bd3786"
                          ],
                          [
                            0.5555555555555556,
                            "#d8576b"
                          ],
                          [
                            0.6666666666666666,
                            "#ed7953"
                          ],
                          [
                            0.7777777777777778,
                            "#fb9f3a"
                          ],
                          [
                            0.8888888888888888,
                            "#fdca26"
                          ],
                          [
                            1,
                            "#f0f921"
                          ]
                        ],
                        "type": "histogram2dcontour"
                      }
                    ],
                    "mesh3d": [
                      {
                        "colorbar": {
                          "outlinewidth": 0,
                          "ticks": ""
                        },
                        "type": "mesh3d"
                      }
                    ],
                    "parcoords": [
                      {
                        "line": {
                          "colorbar": {
                            "outlinewidth": 0,
                            "ticks": ""
                          }
                        },
                        "type": "parcoords"
                      }
                    ],
                    "pie": [
                      {
                        "automargin": true,
                        "type": "pie"
                      }
                    ],
                    "scatter": [
                      {
                        "fillpattern": {
                          "fillmode": "overlay",
                          "size": 10,
                          "solidity": 0.2
                        },
                        "type": "scatter"
                      }
                    ],
                    "scatter3d": [
                      {
                        "line": {
                          "colorbar": {
                            "outlinewidth": 0,
                            "ticks": ""
                          }
                        },
                        "marker": {
                          "colorbar": {
                            "outlinewidth": 0,
                            "ticks": ""
                          }
                        },
                        "type": "scatter3d"
                      }
                    ],
                    "scattercarpet": [
                      {
                        "marker": {
                          "colorbar": {
                            "outlinewidth": 0,
                            "ticks": ""
                          }
                        },
                        "type": "scattercarpet"
                      }
                    ],
                    "scattergeo": [
                      {
                        "marker": {
                          "colorbar": {
                            "outlinewidth": 0,
                            "ticks": ""
                          }
                        },
                        "type": "scattergeo"
                      }
                    ],
                    "scattergl": [
                      {
                        "marker": {
                          "colorbar": {
                            "outlinewidth": 0,
                            "ticks": ""
                          }
                        },
                        "type": "scattergl"
                      }
                    ],
                    "scattermap": [
                      {
                        "marker": {
                          "colorbar": {
                            "outlinewidth": 0,
                            "ticks": ""
                          }
                        },
                        "type": "scattermap"
                      }
                    ],
                    "scattermapbox": [
                      {
                        "marker": {
                          "colorbar": {
                            "outlinewidth": 0,
                            "ticks": ""
                          }
                        },
                        "type": "scattermapbox"
                      }
                    ],
                    "scatterpolar": [
                      {
                        "marker": {
                          "colorbar": {
                            "outlinewidth": 0,
                            "ticks": ""
                          }
                        },
                        "type": "scatterpolar"
                      }
                    ],
                    "scatterpolargl": [
                      {
                        "marker": {
                          "colorbar": {
                            "outlinewidth": 0,
                            "ticks": ""
                          }
                        },
                        "type": "scatterpolargl"
                      }
                    ],
                    "scatterternary": [
                      {
                        "marker": {
                          "colorbar": {
                            "outlinewidth": 0,
                            "ticks": ""
                          }
                        },
                        "type": "scatterternary"
                      }
                    ],
                    "surface": [
                      {
                        "colorbar": {
                          "outlinewidth": 0,
                          "ticks": ""
                        },
                        "colorscale": [
                          [
                            0,
                            "#0d0887"
                          ],
                          [
                            0.1111111111111111,
                            "#46039f"
                          ],
                          [
                            0.2222222222222222,
                            "#7201a8"
                          ],
                          [
                            0.3333333333333333,
                            "#9c179e"
                          ],
                          [
                            0.4444444444444444,
                            "#bd3786"
                          ],
                          [
                            0.5555555555555556,
                            "#d8576b"
                          ],
                          [
                            0.6666666666666666,
                            "#ed7953"
                          ],
                          [
                            0.7777777777777778,
                            "#fb9f3a"
                          ],
                          [
                            0.8888888888888888,
                            "#fdca26"
                          ],
                          [
                            1,
                            "#f0f921"
                          ]
                        ],
                        "type": "surface"
                      }
                    ],
                    "table": [
                      {
                        "cells": {
                          "fill": {
                            "color": "#EBF0F8"
                          },
                          "line": {
                            "color": "white"
                          }
                        },
                        "header": {
                          "fill": {
                            "color": "#C8D4E3"
                          },
                          "line": {
                            "color": "white"
                          }
                        },
                        "type": "table"
                      }
                    ]
                  },
                  "layout": {
                    "annotationdefaults": {
                      "arrowcolor": "#2a3f5f",
                      "arrowhead": 0,
                      "arrowwidth": 1
                    },
                    "autotypenumbers": "strict",
                    "coloraxis": {
                      "colorbar": {
                        "outlinewidth": 0,
                        "ticks": ""
                      }
                    },
                    "colorscale": {
                      "diverging": [
                        [
                          0,
                          "#8e0152"
                        ],
                        [
                          0.1,
                          "#c51b7d"
                        ],
                        [
                          0.2,
                          "#de77ae"
                        ],
                        [
                          0.3,
                          "#f1b6da"
                        ],
                        [
                          0.4,
                          "#fde0ef"
                        ],
                        [
                          0.5,
                          "#f7f7f7"
                        ],
                        [
                          0.6,
                          "#e6f5d0"
                        ],
                        [
                          0.7,
                          "#b8e186"
                        ],
                        [
                          0.8,
                          "#7fbc41"
                        ],
                        [
                          0.9,
                          "#4d9221"
                        ],
                        [
                          1,
                          "#276419"
                        ]
                      ],
                      "sequential": [
                        [
                          0,
                          "#0d0887"
                        ],
                        [
                          0.1111111111111111,
                          "#46039f"
                        ],
                        [
                          0.2222222222222222,
                          "#7201a8"
                        ],
                        [
                          0.3333333333333333,
                          "#9c179e"
                        ],
                        [
                          0.4444444444444444,
                          "#bd3786"
                        ],
                        [
                          0.5555555555555556,
                          "#d8576b"
                        ],
                        [
                          0.6666666666666666,
                          "#ed7953"
                        ],
                        [
                          0.7777777777777778,
                          "#fb9f3a"
                        ],
                        [
                          0.8888888888888888,
                          "#fdca26"
                        ],
                        [
                          1,
                          "#f0f921"
                        ]
                      ],
                      "sequentialminus": [
                        [
                          0,
                          "#0d0887"
                        ],
                        [
                          0.1111111111111111,
                          "#46039f"
                        ],
                        [
                          0.2222222222222222,
                          "#7201a8"
                        ],
                        [
                          0.3333333333333333,
                          "#9c179e"
                        ],
                        [
                          0.4444444444444444,
                          "#bd3786"
                        ],
                        [
                          0.5555555555555556,
                          "#d8576b"
                        ],
                        [
                          0.6666666666666666,
                          "#ed7953"
                        ],
                        [
                          0.7777777777777778,
                          "#fb9f3a"
                        ],
                        [
                          0.8888888888888888,
                          "#fdca26"
                        ],
                        [
                          1,
                          "#f0f921"
                        ]
                      ]
                    },
                    "colorway": [
                      "#636efa",
                      "#EF553B",
                      "#00cc96",
                      "#ab63fa",
                      "#FFA15A",
                      "#19d3f3",
                      "#FF6692",
                      "#B6E880",
                      "#FF97FF",
                      "#FECB52"
                    ],
                    "font": {
                      "color": "#2a3f5f"
                    },
                    "geo": {
                      "bgcolor": "white",
                      "lakecolor": "white",
                      "landcolor": "#E5ECF6",
                      "showlakes": true,
                      "showland": true,
                      "subunitcolor": "white"
                    },
                    "hoverlabel": {
                      "align": "left"
                    },
                    "hovermode": "closest",
                    "mapbox": {
                      "style": "light"
                    },
                    "paper_bgcolor": "white",
                    "plot_bgcolor": "#E5ECF6",
                    "polar": {
                      "angularaxis": {
                        "gridcolor": "white",
                        "linecolor": "white",
                        "ticks": ""
                      },
                      "bgcolor": "#E5ECF6",
                      "radialaxis": {
                        "gridcolor": "white",
                        "linecolor": "white",
                        "ticks": ""
                      }
                    },
                    "scene": {
                      "xaxis": {
                        "backgroundcolor": "#E5ECF6",
                        "gridcolor": "white",
                        "gridwidth": 2,
                        "linecolor": "white",
                        "showbackground": true,
                        "ticks": "",
                        "zerolinecolor": "white"
                      },
                      "yaxis": {
                        "backgroundcolor": "#E5ECF6",
                        "gridcolor": "white",
                        "gridwidth": 2,
                        "linecolor": "white",
                        "showbackground": true,
                        "ticks": "",
                        "zerolinecolor": "white"
                      },
                      "zaxis": {
                        "backgroundcolor": "#E5ECF6",
                        "gridcolor": "white",
                        "gridwidth": 2,
                        "linecolor": "white",
                        "showbackground": true,
                        "ticks": "",
                        "zerolinecolor": "white"
                      }
                    },
                    "shapedefaults": {
                      "line": {
                        "color": "#2a3f5f"
                      }
                    },
                    "ternary": {
                      "aaxis": {
                        "gridcolor": "white",
                        "linecolor": "white",
                        "ticks": ""
                      },
                      "baxis": {
                        "gridcolor": "white",
                        "linecolor": "white",
                        "ticks": ""
                      },
                      "bgcolor": "#E5ECF6",
                      "caxis": {
                        "gridcolor": "white",
                        "linecolor": "white",
                        "ticks": ""
                      }
                    },
                    "title": {
                      "x": 0.05
                    },
                    "xaxis": {
                      "automargin": true,
                      "gridcolor": "white",
                      "linecolor": "white",
                      "ticks": "",
                      "title": {
                        "standoff": 15
                      },
                      "zerolinecolor": "white",
                      "zerolinewidth": 2
                    },
                    "yaxis": {
                      "automargin": true,
                      "gridcolor": "white",
                      "linecolor": "white",
                      "ticks": "",
                      "title": {
                        "standoff": 15
                      },
                      "zerolinecolor": "white",
                      "zerolinewidth": 2
                    }
                  }
                },
                "title": {
                  "text": "Silhouette Score par cluster"
                },
                "xaxis": {
                  "anchor": "y",
                  "domain": [
                    0,
                    1
                  ],
                  "title": {
                    "text": "Clusters"
                  }
                },
                "yaxis": {
                  "anchor": "x",
                  "domain": [
                    0,
                    1
                  ],
                  "title": {
                    "text": "Silhouette Score"
                  }
                }
              }
            }
          },
          "metadata": {},
          "output_type": "display_data"
        }
      ],
      "source": [
        "cluster_scores=pd.DataFrame(sil)\n",
        "k_frame = pd.Series(k)\n",
        "\n",
        "fig = px.bar(data_frame=cluster_scores,\n",
        "             x=k,\n",
        "             y=cluster_scores.iloc[:, -1]\n",
        "            )\n",
        "\n",
        "fig.update_layout(\n",
        "    yaxis_title=\"Silhouette Score\",\n",
        "    xaxis_title=\"Clusters\",\n",
        "    title=\"Silhouette Score par cluster\"\n",
        ")\n",
        "\n",
        "fig.show()"
      ]
    },
    {
      "cell_type": "markdown",
      "metadata": {},
      "source": [
        "D’après les scores obtenus avec la méthode du coude (Elbow) et le silhouette score, le meilleur compromis semble être 9 clusters (score 0,44). Cependant, on constate que 23 clusters donnent un score proche (0,42). En choisissant 23 clusters, nous obtenons davantage de clusters, ce qui permet une meilleure granularité, notamment dans les zones très denses."
      ]
    },
    {
      "cell_type": "code",
      "execution_count": 283,
      "metadata": {},
      "outputs": [
        {
          "data": {
            "application/vnd.plotly.v1+json": {
              "config": {
                "plotlyServerURL": "https://plot.ly"
              },
              "data": [
                {
                  "hovertemplate": "Lat=%{lat}<br>Lon=%{lon}<br>Kmeans=%{marker.color}<extra></extra>",
                  "lat": {
                    "bdata": "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",
                    "dtype": "f8"
                  },
                  "legendgroup": "",
                  "lon": {
                    "bdata": "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",
                    "dtype": "f8"
                  },
                  "marker": {
                    "color": {
                      "bdata": "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",
                      "dtype": "i4"
                    },
                    "coloraxis": "coloraxis"
                  },
                  "mode": "markers",
                  "name": "",
                  "showlegend": false,
                  "subplot": "map",
                  "type": "scattermap"
                }
              ],
              "layout": {
                "coloraxis": {
                  "colorbar": {
                    "title": {
                      "text": "Kmeans"
                    }
                  },
                  "colorscale": [
                    [
                      0,
                      "#0d0887"
                    ],
                    [
                      0.1111111111111111,
                      "#46039f"
                    ],
                    [
                      0.2222222222222222,
                      "#7201a8"
                    ],
                    [
                      0.3333333333333333,
                      "#9c179e"
                    ],
                    [
                      0.4444444444444444,
                      "#bd3786"
                    ],
                    [
                      0.5555555555555556,
                      "#d8576b"
                    ],
                    [
                      0.6666666666666666,
                      "#ed7953"
                    ],
                    [
                      0.7777777777777778,
                      "#fb9f3a"
                    ],
                    [
                      0.8888888888888888,
                      "#fdca26"
                    ],
                    [
                      1,
                      "#f0f921"
                    ]
                  ]
                },
                "legend": {
                  "tracegroupgap": 0
                },
                "map": {
                  "center": {
                    "lat": 40.74310685185185,
                    "lon": -73.97759240740741
                  },
                  "domain": {
                    "x": [
                      0,
                      1
                    ],
                    "y": [
                      0,
                      1
                    ]
                  },
                  "style": "carto-positron",
                  "zoom": 9
                },
                "mapbox": {
                  "center": {
                    "lat": 40.74310685185185,
                    "lon": -73.97759240740741
                  },
                  "style": "carto-positron",
                  "zoom": 9
                },
                "template": {
                  "data": {
                    "bar": [
                      {
                        "error_x": {
                          "color": "#2a3f5f"
                        },
                        "error_y": {
                          "color": "#2a3f5f"
                        },
                        "marker": {
                          "line": {
                            "color": "#E5ECF6",
                            "width": 0.5
                          },
                          "pattern": {
                            "fillmode": "overlay",
                            "size": 10,
                            "solidity": 0.2
                          }
                        },
                        "type": "bar"
                      }
                    ],
                    "barpolar": [
                      {
                        "marker": {
                          "line": {
                            "color": "#E5ECF6",
                            "width": 0.5
                          },
                          "pattern": {
                            "fillmode": "overlay",
                            "size": 10,
                            "solidity": 0.2
                          }
                        },
                        "type": "barpolar"
                      }
                    ],
                    "carpet": [
                      {
                        "aaxis": {
                          "endlinecolor": "#2a3f5f",
                          "gridcolor": "white",
                          "linecolor": "white",
                          "minorgridcolor": "white",
                          "startlinecolor": "#2a3f5f"
                        },
                        "baxis": {
                          "endlinecolor": "#2a3f5f",
                          "gridcolor": "white",
                          "linecolor": "white",
                          "minorgridcolor": "white",
                          "startlinecolor": "#2a3f5f"
                        },
                        "type": "carpet"
                      }
                    ],
                    "choropleth": [
                      {
                        "colorbar": {
                          "outlinewidth": 0,
                          "ticks": ""
                        },
                        "type": "choropleth"
                      }
                    ],
                    "contour": [
                      {
                        "colorbar": {
                          "outlinewidth": 0,
                          "ticks": ""
                        },
                        "colorscale": [
                          [
                            0,
                            "#0d0887"
                          ],
                          [
                            0.1111111111111111,
                            "#46039f"
                          ],
                          [
                            0.2222222222222222,
                            "#7201a8"
                          ],
                          [
                            0.3333333333333333,
                            "#9c179e"
                          ],
                          [
                            0.4444444444444444,
                            "#bd3786"
                          ],
                          [
                            0.5555555555555556,
                            "#d8576b"
                          ],
                          [
                            0.6666666666666666,
                            "#ed7953"
                          ],
                          [
                            0.7777777777777778,
                            "#fb9f3a"
                          ],
                          [
                            0.8888888888888888,
                            "#fdca26"
                          ],
                          [
                            1,
                            "#f0f921"
                          ]
                        ],
                        "type": "contour"
                      }
                    ],
                    "contourcarpet": [
                      {
                        "colorbar": {
                          "outlinewidth": 0,
                          "ticks": ""
                        },
                        "type": "contourcarpet"
                      }
                    ],
                    "heatmap": [
                      {
                        "colorbar": {
                          "outlinewidth": 0,
                          "ticks": ""
                        },
                        "colorscale": [
                          [
                            0,
                            "#0d0887"
                          ],
                          [
                            0.1111111111111111,
                            "#46039f"
                          ],
                          [
                            0.2222222222222222,
                            "#7201a8"
                          ],
                          [
                            0.3333333333333333,
                            "#9c179e"
                          ],
                          [
                            0.4444444444444444,
                            "#bd3786"
                          ],
                          [
                            0.5555555555555556,
                            "#d8576b"
                          ],
                          [
                            0.6666666666666666,
                            "#ed7953"
                          ],
                          [
                            0.7777777777777778,
                            "#fb9f3a"
                          ],
                          [
                            0.8888888888888888,
                            "#fdca26"
                          ],
                          [
                            1,
                            "#f0f921"
                          ]
                        ],
                        "type": "heatmap"
                      }
                    ],
                    "histogram": [
                      {
                        "marker": {
                          "pattern": {
                            "fillmode": "overlay",
                            "size": 10,
                            "solidity": 0.2
                          }
                        },
                        "type": "histogram"
                      }
                    ],
                    "histogram2d": [
                      {
                        "colorbar": {
                          "outlinewidth": 0,
                          "ticks": ""
                        },
                        "colorscale": [
                          [
                            0,
                            "#0d0887"
                          ],
                          [
                            0.1111111111111111,
                            "#46039f"
                          ],
                          [
                            0.2222222222222222,
                            "#7201a8"
                          ],
                          [
                            0.3333333333333333,
                            "#9c179e"
                          ],
                          [
                            0.4444444444444444,
                            "#bd3786"
                          ],
                          [
                            0.5555555555555556,
                            "#d8576b"
                          ],
                          [
                            0.6666666666666666,
                            "#ed7953"
                          ],
                          [
                            0.7777777777777778,
                            "#fb9f3a"
                          ],
                          [
                            0.8888888888888888,
                            "#fdca26"
                          ],
                          [
                            1,
                            "#f0f921"
                          ]
                        ],
                        "type": "histogram2d"
                      }
                    ],
                    "histogram2dcontour": [
                      {
                        "colorbar": {
                          "outlinewidth": 0,
                          "ticks": ""
                        },
                        "colorscale": [
                          [
                            0,
                            "#0d0887"
                          ],
                          [
                            0.1111111111111111,
                            "#46039f"
                          ],
                          [
                            0.2222222222222222,
                            "#7201a8"
                          ],
                          [
                            0.3333333333333333,
                            "#9c179e"
                          ],
                          [
                            0.4444444444444444,
                            "#bd3786"
                          ],
                          [
                            0.5555555555555556,
                            "#d8576b"
                          ],
                          [
                            0.6666666666666666,
                            "#ed7953"
                          ],
                          [
                            0.7777777777777778,
                            "#fb9f3a"
                          ],
                          [
                            0.8888888888888888,
                            "#fdca26"
                          ],
                          [
                            1,
                            "#f0f921"
                          ]
                        ],
                        "type": "histogram2dcontour"
                      }
                    ],
                    "mesh3d": [
                      {
                        "colorbar": {
                          "outlinewidth": 0,
                          "ticks": ""
                        },
                        "type": "mesh3d"
                      }
                    ],
                    "parcoords": [
                      {
                        "line": {
                          "colorbar": {
                            "outlinewidth": 0,
                            "ticks": ""
                          }
                        },
                        "type": "parcoords"
                      }
                    ],
                    "pie": [
                      {
                        "automargin": true,
                        "type": "pie"
                      }
                    ],
                    "scatter": [
                      {
                        "fillpattern": {
                          "fillmode": "overlay",
                          "size": 10,
                          "solidity": 0.2
                        },
                        "type": "scatter"
                      }
                    ],
                    "scatter3d": [
                      {
                        "line": {
                          "colorbar": {
                            "outlinewidth": 0,
                            "ticks": ""
                          }
                        },
                        "marker": {
                          "colorbar": {
                            "outlinewidth": 0,
                            "ticks": ""
                          }
                        },
                        "type": "scatter3d"
                      }
                    ],
                    "scattercarpet": [
                      {
                        "marker": {
                          "colorbar": {
                            "outlinewidth": 0,
                            "ticks": ""
                          }
                        },
                        "type": "scattercarpet"
                      }
                    ],
                    "scattergeo": [
                      {
                        "marker": {
                          "colorbar": {
                            "outlinewidth": 0,
                            "ticks": ""
                          }
                        },
                        "type": "scattergeo"
                      }
                    ],
                    "scattergl": [
                      {
                        "marker": {
                          "colorbar": {
                            "outlinewidth": 0,
                            "ticks": ""
                          }
                        },
                        "type": "scattergl"
                      }
                    ],
                    "scattermap": [
                      {
                        "marker": {
                          "colorbar": {
                            "outlinewidth": 0,
                            "ticks": ""
                          }
                        },
                        "type": "scattermap"
                      }
                    ],
                    "scattermapbox": [
                      {
                        "marker": {
                          "colorbar": {
                            "outlinewidth": 0,
                            "ticks": ""
                          }
                        },
                        "type": "scattermapbox"
                      }
                    ],
                    "scatterpolar": [
                      {
                        "marker": {
                          "colorbar": {
                            "outlinewidth": 0,
                            "ticks": ""
                          }
                        },
                        "type": "scatterpolar"
                      }
                    ],
                    "scatterpolargl": [
                      {
                        "marker": {
                          "colorbar": {
                            "outlinewidth": 0,
                            "ticks": ""
                          }
                        },
                        "type": "scatterpolargl"
                      }
                    ],
                    "scatterternary": [
                      {
                        "marker": {
                          "colorbar": {
                            "outlinewidth": 0,
                            "ticks": ""
                          }
                        },
                        "type": "scatterternary"
                      }
                    ],
                    "surface": [
                      {
                        "colorbar": {
                          "outlinewidth": 0,
                          "ticks": ""
                        },
                        "colorscale": [
                          [
                            0,
                            "#0d0887"
                          ],
                          [
                            0.1111111111111111,
                            "#46039f"
                          ],
                          [
                            0.2222222222222222,
                            "#7201a8"
                          ],
                          [
                            0.3333333333333333,
                            "#9c179e"
                          ],
                          [
                            0.4444444444444444,
                            "#bd3786"
                          ],
                          [
                            0.5555555555555556,
                            "#d8576b"
                          ],
                          [
                            0.6666666666666666,
                            "#ed7953"
                          ],
                          [
                            0.7777777777777778,
                            "#fb9f3a"
                          ],
                          [
                            0.8888888888888888,
                            "#fdca26"
                          ],
                          [
                            1,
                            "#f0f921"
                          ]
                        ],
                        "type": "surface"
                      }
                    ],
                    "table": [
                      {
                        "cells": {
                          "fill": {
                            "color": "#EBF0F8"
                          },
                          "line": {
                            "color": "white"
                          }
                        },
                        "header": {
                          "fill": {
                            "color": "#C8D4E3"
                          },
                          "line": {
                            "color": "white"
                          }
                        },
                        "type": "table"
                      }
                    ]
                  },
                  "layout": {
                    "annotationdefaults": {
                      "arrowcolor": "#2a3f5f",
                      "arrowhead": 0,
                      "arrowwidth": 1
                    },
                    "autotypenumbers": "strict",
                    "coloraxis": {
                      "colorbar": {
                        "outlinewidth": 0,
                        "ticks": ""
                      }
                    },
                    "colorscale": {
                      "diverging": [
                        [
                          0,
                          "#8e0152"
                        ],
                        [
                          0.1,
                          "#c51b7d"
                        ],
                        [
                          0.2,
                          "#de77ae"
                        ],
                        [
                          0.3,
                          "#f1b6da"
                        ],
                        [
                          0.4,
                          "#fde0ef"
                        ],
                        [
                          0.5,
                          "#f7f7f7"
                        ],
                        [
                          0.6,
                          "#e6f5d0"
                        ],
                        [
                          0.7,
                          "#b8e186"
                        ],
                        [
                          0.8,
                          "#7fbc41"
                        ],
                        [
                          0.9,
                          "#4d9221"
                        ],
                        [
                          1,
                          "#276419"
                        ]
                      ],
                      "sequential": [
                        [
                          0,
                          "#0d0887"
                        ],
                        [
                          0.1111111111111111,
                          "#46039f"
                        ],
                        [
                          0.2222222222222222,
                          "#7201a8"
                        ],
                        [
                          0.3333333333333333,
                          "#9c179e"
                        ],
                        [
                          0.4444444444444444,
                          "#bd3786"
                        ],
                        [
                          0.5555555555555556,
                          "#d8576b"
                        ],
                        [
                          0.6666666666666666,
                          "#ed7953"
                        ],
                        [
                          0.7777777777777778,
                          "#fb9f3a"
                        ],
                        [
                          0.8888888888888888,
                          "#fdca26"
                        ],
                        [
                          1,
                          "#f0f921"
                        ]
                      ],
                      "sequentialminus": [
                        [
                          0,
                          "#0d0887"
                        ],
                        [
                          0.1111111111111111,
                          "#46039f"
                        ],
                        [
                          0.2222222222222222,
                          "#7201a8"
                        ],
                        [
                          0.3333333333333333,
                          "#9c179e"
                        ],
                        [
                          0.4444444444444444,
                          "#bd3786"
                        ],
                        [
                          0.5555555555555556,
                          "#d8576b"
                        ],
                        [
                          0.6666666666666666,
                          "#ed7953"
                        ],
                        [
                          0.7777777777777778,
                          "#fb9f3a"
                        ],
                        [
                          0.8888888888888888,
                          "#fdca26"
                        ],
                        [
                          1,
                          "#f0f921"
                        ]
                      ]
                    },
                    "colorway": [
                      "#636efa",
                      "#EF553B",
                      "#00cc96",
                      "#ab63fa",
                      "#FFA15A",
                      "#19d3f3",
                      "#FF6692",
                      "#B6E880",
                      "#FF97FF",
                      "#FECB52"
                    ],
                    "font": {
                      "color": "#2a3f5f"
                    },
                    "geo": {
                      "bgcolor": "white",
                      "lakecolor": "white",
                      "landcolor": "#E5ECF6",
                      "showlakes": true,
                      "showland": true,
                      "subunitcolor": "white"
                    },
                    "hoverlabel": {
                      "align": "left"
                    },
                    "hovermode": "closest",
                    "mapbox": {
                      "style": "light"
                    },
                    "paper_bgcolor": "white",
                    "plot_bgcolor": "#E5ECF6",
                    "polar": {
                      "angularaxis": {
                        "gridcolor": "white",
                        "linecolor": "white",
                        "ticks": ""
                      },
                      "bgcolor": "#E5ECF6",
                      "radialaxis": {
                        "gridcolor": "white",
                        "linecolor": "white",
                        "ticks": ""
                      }
                    },
                    "scene": {
                      "xaxis": {
                        "backgroundcolor": "#E5ECF6",
                        "gridcolor": "white",
                        "gridwidth": 2,
                        "linecolor": "white",
                        "showbackground": true,
                        "ticks": "",
                        "zerolinecolor": "white"
                      },
                      "yaxis": {
                        "backgroundcolor": "#E5ECF6",
                        "gridcolor": "white",
                        "gridwidth": 2,
                        "linecolor": "white",
                        "showbackground": true,
                        "ticks": "",
                        "zerolinecolor": "white"
                      },
                      "zaxis": {
                        "backgroundcolor": "#E5ECF6",
                        "gridcolor": "white",
                        "gridwidth": 2,
                        "linecolor": "white",
                        "showbackground": true,
                        "ticks": "",
                        "zerolinecolor": "white"
                      }
                    },
                    "shapedefaults": {
                      "line": {
                        "color": "#2a3f5f"
                      }
                    },
                    "ternary": {
                      "aaxis": {
                        "gridcolor": "white",
                        "linecolor": "white",
                        "ticks": ""
                      },
                      "baxis": {
                        "gridcolor": "white",
                        "linecolor": "white",
                        "ticks": ""
                      },
                      "bgcolor": "#E5ECF6",
                      "caxis": {
                        "gridcolor": "white",
                        "linecolor": "white",
                        "ticks": ""
                      }
                    },
                    "title": {
                      "x": 0.05
                    },
                    "xaxis": {
                      "automargin": true,
                      "gridcolor": "white",
                      "linecolor": "white",
                      "ticks": "",
                      "title": {
                        "standoff": 15
                      },
                      "zerolinecolor": "white",
                      "zerolinewidth": 2
                    },
                    "yaxis": {
                      "automargin": true,
                      "gridcolor": "white",
                      "linecolor": "white",
                      "ticks": "",
                      "title": {
                        "standoff": 15
                      },
                      "zerolinecolor": "white",
                      "zerolinewidth": 2
                    }
                  }
                },
                "title": {
                  "text": "HOT POINT Thursday 17H"
                }
              }
            }
          },
          "metadata": {},
          "output_type": "display_data"
        }
      ],
      "source": [
        "kmeans = KMeans(n_clusters=23, random_state=42)\n",
        "kmeans.fit(df_dh1)\n",
        "df_dh1 = df_dh1.copy()\n",
        "df_dh1.loc[:, 'Kmeans'] = kmeans.predict(df_dh1)\n",
        "\n",
        "fig = px.scatter_map(\n",
        "        df_dh1,\n",
        "        lat=\"Lat\",\n",
        "        lon=\"Lon\",\n",
        "        color=\"Kmeans\",\n",
        "        map_style=\"carto-positron\",\n",
        "        zoom=9,\n",
        "        title= f\"HOT POINT {day} {hours}H\"\n",
        ")\n",
        "\n",
        "fig.show()"
      ]
    },
    {
      "cell_type": "markdown",
      "metadata": {},
      "source": [
        "Essayons de donner plus de clarté à notre map en ajoutant un filtre sur le nombre de point minimum par cluster. Cela devrait éliminer le bruit/outliers de certains clusters"
      ]
    },
    {
      "cell_type": "code",
      "execution_count": 284,
      "metadata": {},
      "outputs": [
        {
          "name": "stdout",
          "output_type": "stream",
          "text": [
            "Kmeans\n",
            "0     118\n",
            "10     78\n",
            "19     58\n",
            "17     52\n",
            "8      41\n",
            "2      36\n",
            "16     33\n",
            "18     26\n",
            "7      21\n",
            "15     18\n",
            "1      11\n",
            "13      9\n",
            "3       8\n",
            "4       7\n",
            "21      4\n",
            "12      4\n",
            "20      3\n",
            "6       3\n",
            "14      3\n",
            "22      3\n",
            "11      2\n",
            "5       1\n",
            "9       1\n",
            "Name: count, dtype: int64\n"
          ]
        }
      ],
      "source": [
        "# nombre de point par cluster\n",
        "nb_cluster = df_dh1['Kmeans'].value_counts()\n",
        "print(nb_cluster)\n"
      ]
    },
    {
      "cell_type": "code",
      "execution_count": 285,
      "metadata": {},
      "outputs": [
        {
          "data": {
            "application/vnd.plotly.v1+json": {
              "config": {
                "plotlyServerURL": "https://plot.ly"
              },
              "data": [
                {
                  "hovertemplate": "Lat=%{lat}<br>Lon=%{lon}<br>Kmeans=%{marker.color}<extra></extra>",
                  "lat": {
                    "bdata": "Vg4tsp1fREApyxDHumBEQPAWSFD8YERARUdy+Q9hREDzjlN0JF9EQHPXEvJBX0RAmSoYldRhREDZzvdT411EQAskKH6MYURAgZVDi2xfRED/If32dWBEQJM6AU2EXURAxY8xdy1hREB4eqUsQ1xEQILix5i7XkRAOdbFbTRgREBbQj7o2VxEQDY8vVKWYURAcayL22hgRECfPCzUml5EQHE9CtejYERAescpOpJbREC4QILix2BEQNV46SYxYERAlkOLbOdbREB24JwRpV1EQAyTqYJRYURA/kP67etgREC30QDeAmFEQNSa5h2nYERArfpcbcVeREDV52or9l9EQJAxdy0hX0RAOUVHcvlfREDOiNLe4FtEQLHh6ZWyXERAnMQgsHJgREAxCKwcWlxEQB4Wak3zXkRAArwFEhRfREDarPpcbV1EQOELk6mCYURAjSjtDb5gRECPU3Qkl19EQKAaL90kXkRAKxiV1AlgRECjI7n8h1xEQFYOLbKdX0RAHHxhMlVgREAi/fZ14FxEQFfsL7snX0RA8IXJVMFgREA6I0p7g19EQKFns+pzXURATDeJQWBdREDhC5OpgmFEQAwCK4cWYURAnMQgsHJgREDvycNCrWFEQBSuR+F6XERAY3/ZPXlgREBkXdxGA2BEQEku/yH9XkRAKVyPwvVgREDwp8ZLN2FEQHgLJCh+XERA1XjpJjFgREDkFB3J5V9EQOPHmLuWYERAdLUV+8teREDysFBrml9EQJYhjnVxW0RAgQTFjzFfREAUP8bctVxEQFXBqKROYERArIvbaABfREAbDeAtkGBEQDj4wmSqYERAvVKWIY5dREB0tRX7y15EQCzUmuYdX0RAnMQgsHJgRECdEaW9wV9EQHGsi9toYERAYhBYObRgRECQoPgx5l5EQNO84xQdYURA5WGh1jRfREAijnVxG11EQE3zjlN0XERAdy0hH/RcREBKe4MvTF5EQEYldQKaYERAwaikTkBbRECNl24Sg2BEQP5l9+RhYURAZmZmZmZeRECSy39Iv11EQH2utmJ/YURAfoy5awlhREDF/rJ78mBEQIv9ZffkYURA8BZIUPxgREDHSzeJQWBEQNZW7C+7X0RAKVyPwvVgREC4rwPnjGBEQPOOU3QkX0RA8IXJVMFgREDaG3xhMl1EQEXY8PRKYURAHqfoSC5fRECsrdhfdl9EQDGZKhiVXERAsAPnjChdREAqqRPQRGBEQDAqqRPQXERAWRe30QBeREB/arx0k2BEQOVhodY0X0RAnYAmwoZfREAijnVxG11EQG/whclUYURAWMoyxLFeRECb5h2n6GBEQBpR2ht8YURAG55eKctgREBy+Q/pt19EQIJzRpT2XkRAXCBB8WNcREDFILByaGFEQIJzRpT2XkRATRWMSupcREAqqRPQRGBEQJEPejarXkRA3GgAb4FcREDwFkhQ/GBEQPXb14FzXkRA/mX35GFhREB/+zpwzmBEQFwgQfFjXERAmggbnl5hREAbL90kBmFEQHGsi9toYERAHVpkO99fREDHuriNBmBEQDY8vVKWYURAbqMBvAViRECamZmZmWFEQMUgsHJoYURAAiuHFtleREDJ5T+k315EQIts5/upYURAc9cS8kFfREBLyAc9m11EQGWqYFRSX0RAN4lBYOVgREDUK2UZ4mBEQPRsVn2uXkRANjy9UpZhRECRfvs6cF5EQDj4wmSqYERAjErqBDRhREC/fR04Z1xEQPT91HjpXkRABOeMKO1dREAydy0hH1xEQEhQ/BhzX0RA3GgAb4FcREC62or9ZV9EQAyTqYJRYURAXI/C9ShcREAN4C2QoGBEQHh6pSxDXERAxEKtad5hREDTTWIQWGFEQEYldQKaYERAcF8HzhlhREArGJXUCWBEQCNKe4MvXERAyAc9m1VfRED5MeauJVxEQG/whclUYURAgSbChqdfREACK4cW2V5EQH/ZPXlYYERADeAtkKBgREA2zTtO0WFEQJJc/kP6XURAjErqBDRhREAQejarPl9EQAfwFkhQXERA4lgXt9FgREBU46WbxGBEQOLplbIMYURAgSbChqdfRECZKhiV1GFEQCNKe4MvXERAKcsQx7pgREBE+u3rwGFEQPOOU3QkX0RAH4XrUbheREDwhclUwWBEQOY/pN++XkRAx7q4jQZgREDYgXNGlF5EQNNNYhBYYURAUiegibBhREBIv30dOF9EQBzr4jYaYERA2T15WKhdREBEaW/whWFEQGPuWkI+YERAHHxhMlVgREBuowG8BWJEQPAWSFD8YERAJ6CJsOFhREBTBaOSOmFEQHicoiO5XERARdjw9EphREBhMlUwKmFEQAyTqYJRYURAqz5XW7FfREBUUiegiWBEQMZtNIC3YERAxY8xdy1hREC4HoXrUWBEQMe6uI0GYERAfh04Z0RhREAOT6+UZWBEQB+F61G4XkRANxrAWyBhREDvOEVHcmFEQMzuycNCXURAqDXNO05hRECaCBueXmFEQP32deCcYURANjy9UpZhREBoImx4el1EQAu1pnnHYURAyAc9m1VfRECjAbwFElxEQMe6uI0GYERAWDm0yHZeREDcaABvgVxEQOOlm8QgYERAHHxhMlVgREBOYhBYOVxEQEVHcvkPYURA1zTvOEVfRECCc0aU9l5EQEmdgCbCXkRAo5I6AU1cREC8lpAPel5EQAu1pnnHYURARrbz/dRgREAAkX77OmBEQC2yne+nXkRAf9k9eVhgREA2zTtO0WFEQNXnaiv2X0RAdLUV+8teREBj7lpCPmBEQL4wmSoYXURAguLHmLteREDhC5OpgmFEQBueXinLYERA1edqK/ZfREDlYaHWNF9EQOM2GsBbYERA8x/Sb19fREAOT6+UZWBEQFfsL7snX0RA1JrmHadgREA9LNSa5l1EQEa28/3UYERAMLsnDwtdRECFfNCzWV1EQMZtNIC3YERAq8/VVuxfREBOYhBYOVxEQOLplbIMYURAeAskKH5cRED/snvysGBEQD0s1JrmXURA/Yf029dhREDGbTSAt2BEQKHWNO84XURARPrt68BhREBaZDvfT11EQAwCK4cWYURAnzws1JpeRECBJsKGp19EQM4ZUdobXERA8rBQa5pfREAGEhQ/xlxEQKmkTkATYURAE2HD0ytdREBTliGOdWFEQIZa07zjXERASZ2AJsJeREBLyAc9m11EQEhQ/BhzX0RASZ2AJsJeRECAt0CC4l9EQBpR2ht8YURA",
                    "dtype": "f8"
                  },
                  "legendgroup": "",
                  "lon": {
                    "bdata": "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",
                    "dtype": "f8"
                  },
                  "marker": {
                    "color": {
                      "bdata": "EQAAAAAAAAARAAAAAAAAAAoAAAAKAAAAAAAAAAoAAAAAAAAACgAAABEAAAATAAAAAAAAABMAAAAKAAAAAAAAABMAAAAAAAAAEQAAAAoAAAAAAAAAEwAAAAAAAAARAAAAEwAAAAoAAAAAAAAAAAAAAAAAAAARAAAACgAAABEAAAAKAAAAEQAAABMAAAATAAAAEQAAABMAAAAKAAAACgAAABMAAAAAAAAAAAAAABEAAAAKAAAAAAAAABMAAAAKAAAAEQAAABMAAAAKAAAAAAAAAAAAAAATAAAAEwAAAAAAAAAAAAAAAAAAAAAAAAATAAAAEQAAABEAAAAKAAAAAAAAAAAAAAATAAAAAAAAABEAAAARAAAACgAAAAoAAAATAAAACgAAABMAAAAAAAAACgAAAAAAAAARAAAAEwAAAAoAAAAKAAAAEQAAABEAAAAAAAAAAAAAAAoAAAAAAAAACgAAABMAAAATAAAAEwAAAAoAAAARAAAAEwAAAAAAAAAAAAAACgAAABMAAAARAAAAAAAAABEAAAAAAAAAAAAAABEAAAARAAAAAAAAAAAAAAAKAAAAAAAAABMAAAAAAAAACgAAAAoAAAATAAAAEwAAAAAAAAATAAAACgAAAAAAAAAKAAAAEQAAAAoAAAARAAAACgAAAAAAAAAAAAAAAAAAAAAAAAAKAAAAEwAAAAAAAAAKAAAAEwAAAAAAAAAKAAAAEwAAABEAAAAKAAAAAAAAABEAAAATAAAAAAAAAAAAAAARAAAAEQAAAAAAAAAAAAAAAAAAAAAAAAAAAAAACgAAAAoAAAAAAAAACgAAABMAAAAKAAAAAAAAAAAAAAAKAAAAAAAAAAoAAAARAAAAAAAAABMAAAAKAAAACgAAABMAAAAKAAAAEwAAAAoAAAARAAAAEwAAAAAAAAATAAAAAAAAAAAAAAAAAAAAAAAAAAAAAAATAAAACgAAABMAAAARAAAAEQAAAAoAAAAAAAAAAAAAABEAAAAKAAAAAAAAAAoAAAATAAAAAAAAAAAAAAAAAAAAEQAAAAAAAAATAAAAAAAAAAAAAAAAAAAACgAAAAAAAAAKAAAAAAAAAAoAAAAAAAAAAAAAAAoAAAAAAAAAEwAAAAAAAAARAAAAEQAAAAAAAAAAAAAAAAAAAAAAAAATAAAAEQAAAAAAAAAAAAAAEQAAAAAAAAARAAAAAAAAABEAAAAAAAAAEQAAABEAAAAKAAAAAAAAAAAAAAATAAAAEQAAAAAAAAAAAAAAAAAAAAoAAAAAAAAACgAAABMAAAARAAAACgAAABMAAAARAAAAAAAAABMAAAAAAAAACgAAAAoAAAAKAAAAEwAAAAoAAAAAAAAAEQAAABEAAAAKAAAAAAAAAAAAAAAAAAAACgAAAAAAAAAKAAAACgAAAAAAAAAAAAAAEQAAAAoAAAARAAAACgAAAAAAAAAKAAAAAAAAABMAAAARAAAAEwAAABMAAAAAAAAAAAAAABMAAAAAAAAAEwAAAAAAAAAKAAAAAAAAAAAAAAATAAAAAAAAABMAAAAAAAAACgAAAAoAAAATAAAACgAAABMAAAAAAAAACgAAAAAAAAATAAAACgAAAAoAAAAKAAAACgAAABEAAAAAAAAA",
                      "dtype": "i4"
                    },
                    "coloraxis": "coloraxis"
                  },
                  "mode": "markers",
                  "name": "",
                  "showlegend": false,
                  "subplot": "map",
                  "type": "scattermap"
                }
              ],
              "layout": {
                "coloraxis": {
                  "colorbar": {
                    "title": {
                      "text": "Kmeans"
                    }
                  },
                  "colorscale": [
                    [
                      0,
                      "#0d0887"
                    ],
                    [
                      0.1111111111111111,
                      "#46039f"
                    ],
                    [
                      0.2222222222222222,
                      "#7201a8"
                    ],
                    [
                      0.3333333333333333,
                      "#9c179e"
                    ],
                    [
                      0.4444444444444444,
                      "#bd3786"
                    ],
                    [
                      0.5555555555555556,
                      "#d8576b"
                    ],
                    [
                      0.6666666666666666,
                      "#ed7953"
                    ],
                    [
                      0.7777777777777778,
                      "#fb9f3a"
                    ],
                    [
                      0.8888888888888888,
                      "#fdca26"
                    ],
                    [
                      1,
                      "#f0f921"
                    ]
                  ]
                },
                "legend": {
                  "tracegroupgap": 0
                },
                "map": {
                  "center": {
                    "lat": 40.74620098039215,
                    "lon": -73.98575261437908
                  },
                  "domain": {
                    "x": [
                      0,
                      1
                    ],
                    "y": [
                      0,
                      1
                    ]
                  },
                  "style": "carto-positron",
                  "zoom": 10
                },
                "mapbox": {
                  "center": {
                    "lat": 40.74620098039215,
                    "lon": -73.98575261437908
                  },
                  "style": "carto-positron",
                  "zoom": 10
                },
                "template": {
                  "data": {
                    "bar": [
                      {
                        "error_x": {
                          "color": "#2a3f5f"
                        },
                        "error_y": {
                          "color": "#2a3f5f"
                        },
                        "marker": {
                          "line": {
                            "color": "#E5ECF6",
                            "width": 0.5
                          },
                          "pattern": {
                            "fillmode": "overlay",
                            "size": 10,
                            "solidity": 0.2
                          }
                        },
                        "type": "bar"
                      }
                    ],
                    "barpolar": [
                      {
                        "marker": {
                          "line": {
                            "color": "#E5ECF6",
                            "width": 0.5
                          },
                          "pattern": {
                            "fillmode": "overlay",
                            "size": 10,
                            "solidity": 0.2
                          }
                        },
                        "type": "barpolar"
                      }
                    ],
                    "carpet": [
                      {
                        "aaxis": {
                          "endlinecolor": "#2a3f5f",
                          "gridcolor": "white",
                          "linecolor": "white",
                          "minorgridcolor": "white",
                          "startlinecolor": "#2a3f5f"
                        },
                        "baxis": {
                          "endlinecolor": "#2a3f5f",
                          "gridcolor": "white",
                          "linecolor": "white",
                          "minorgridcolor": "white",
                          "startlinecolor": "#2a3f5f"
                        },
                        "type": "carpet"
                      }
                    ],
                    "choropleth": [
                      {
                        "colorbar": {
                          "outlinewidth": 0,
                          "ticks": ""
                        },
                        "type": "choropleth"
                      }
                    ],
                    "contour": [
                      {
                        "colorbar": {
                          "outlinewidth": 0,
                          "ticks": ""
                        },
                        "colorscale": [
                          [
                            0,
                            "#0d0887"
                          ],
                          [
                            0.1111111111111111,
                            "#46039f"
                          ],
                          [
                            0.2222222222222222,
                            "#7201a8"
                          ],
                          [
                            0.3333333333333333,
                            "#9c179e"
                          ],
                          [
                            0.4444444444444444,
                            "#bd3786"
                          ],
                          [
                            0.5555555555555556,
                            "#d8576b"
                          ],
                          [
                            0.6666666666666666,
                            "#ed7953"
                          ],
                          [
                            0.7777777777777778,
                            "#fb9f3a"
                          ],
                          [
                            0.8888888888888888,
                            "#fdca26"
                          ],
                          [
                            1,
                            "#f0f921"
                          ]
                        ],
                        "type": "contour"
                      }
                    ],
                    "contourcarpet": [
                      {
                        "colorbar": {
                          "outlinewidth": 0,
                          "ticks": ""
                        },
                        "type": "contourcarpet"
                      }
                    ],
                    "heatmap": [
                      {
                        "colorbar": {
                          "outlinewidth": 0,
                          "ticks": ""
                        },
                        "colorscale": [
                          [
                            0,
                            "#0d0887"
                          ],
                          [
                            0.1111111111111111,
                            "#46039f"
                          ],
                          [
                            0.2222222222222222,
                            "#7201a8"
                          ],
                          [
                            0.3333333333333333,
                            "#9c179e"
                          ],
                          [
                            0.4444444444444444,
                            "#bd3786"
                          ],
                          [
                            0.5555555555555556,
                            "#d8576b"
                          ],
                          [
                            0.6666666666666666,
                            "#ed7953"
                          ],
                          [
                            0.7777777777777778,
                            "#fb9f3a"
                          ],
                          [
                            0.8888888888888888,
                            "#fdca26"
                          ],
                          [
                            1,
                            "#f0f921"
                          ]
                        ],
                        "type": "heatmap"
                      }
                    ],
                    "histogram": [
                      {
                        "marker": {
                          "pattern": {
                            "fillmode": "overlay",
                            "size": 10,
                            "solidity": 0.2
                          }
                        },
                        "type": "histogram"
                      }
                    ],
                    "histogram2d": [
                      {
                        "colorbar": {
                          "outlinewidth": 0,
                          "ticks": ""
                        },
                        "colorscale": [
                          [
                            0,
                            "#0d0887"
                          ],
                          [
                            0.1111111111111111,
                            "#46039f"
                          ],
                          [
                            0.2222222222222222,
                            "#7201a8"
                          ],
                          [
                            0.3333333333333333,
                            "#9c179e"
                          ],
                          [
                            0.4444444444444444,
                            "#bd3786"
                          ],
                          [
                            0.5555555555555556,
                            "#d8576b"
                          ],
                          [
                            0.6666666666666666,
                            "#ed7953"
                          ],
                          [
                            0.7777777777777778,
                            "#fb9f3a"
                          ],
                          [
                            0.8888888888888888,
                            "#fdca26"
                          ],
                          [
                            1,
                            "#f0f921"
                          ]
                        ],
                        "type": "histogram2d"
                      }
                    ],
                    "histogram2dcontour": [
                      {
                        "colorbar": {
                          "outlinewidth": 0,
                          "ticks": ""
                        },
                        "colorscale": [
                          [
                            0,
                            "#0d0887"
                          ],
                          [
                            0.1111111111111111,
                            "#46039f"
                          ],
                          [
                            0.2222222222222222,
                            "#7201a8"
                          ],
                          [
                            0.3333333333333333,
                            "#9c179e"
                          ],
                          [
                            0.4444444444444444,
                            "#bd3786"
                          ],
                          [
                            0.5555555555555556,
                            "#d8576b"
                          ],
                          [
                            0.6666666666666666,
                            "#ed7953"
                          ],
                          [
                            0.7777777777777778,
                            "#fb9f3a"
                          ],
                          [
                            0.8888888888888888,
                            "#fdca26"
                          ],
                          [
                            1,
                            "#f0f921"
                          ]
                        ],
                        "type": "histogram2dcontour"
                      }
                    ],
                    "mesh3d": [
                      {
                        "colorbar": {
                          "outlinewidth": 0,
                          "ticks": ""
                        },
                        "type": "mesh3d"
                      }
                    ],
                    "parcoords": [
                      {
                        "line": {
                          "colorbar": {
                            "outlinewidth": 0,
                            "ticks": ""
                          }
                        },
                        "type": "parcoords"
                      }
                    ],
                    "pie": [
                      {
                        "automargin": true,
                        "type": "pie"
                      }
                    ],
                    "scatter": [
                      {
                        "fillpattern": {
                          "fillmode": "overlay",
                          "size": 10,
                          "solidity": 0.2
                        },
                        "type": "scatter"
                      }
                    ],
                    "scatter3d": [
                      {
                        "line": {
                          "colorbar": {
                            "outlinewidth": 0,
                            "ticks": ""
                          }
                        },
                        "marker": {
                          "colorbar": {
                            "outlinewidth": 0,
                            "ticks": ""
                          }
                        },
                        "type": "scatter3d"
                      }
                    ],
                    "scattercarpet": [
                      {
                        "marker": {
                          "colorbar": {
                            "outlinewidth": 0,
                            "ticks": ""
                          }
                        },
                        "type": "scattercarpet"
                      }
                    ],
                    "scattergeo": [
                      {
                        "marker": {
                          "colorbar": {
                            "outlinewidth": 0,
                            "ticks": ""
                          }
                        },
                        "type": "scattergeo"
                      }
                    ],
                    "scattergl": [
                      {
                        "marker": {
                          "colorbar": {
                            "outlinewidth": 0,
                            "ticks": ""
                          }
                        },
                        "type": "scattergl"
                      }
                    ],
                    "scattermap": [
                      {
                        "marker": {
                          "colorbar": {
                            "outlinewidth": 0,
                            "ticks": ""
                          }
                        },
                        "type": "scattermap"
                      }
                    ],
                    "scattermapbox": [
                      {
                        "marker": {
                          "colorbar": {
                            "outlinewidth": 0,
                            "ticks": ""
                          }
                        },
                        "type": "scattermapbox"
                      }
                    ],
                    "scatterpolar": [
                      {
                        "marker": {
                          "colorbar": {
                            "outlinewidth": 0,
                            "ticks": ""
                          }
                        },
                        "type": "scatterpolar"
                      }
                    ],
                    "scatterpolargl": [
                      {
                        "marker": {
                          "colorbar": {
                            "outlinewidth": 0,
                            "ticks": ""
                          }
                        },
                        "type": "scatterpolargl"
                      }
                    ],
                    "scatterternary": [
                      {
                        "marker": {
                          "colorbar": {
                            "outlinewidth": 0,
                            "ticks": ""
                          }
                        },
                        "type": "scatterternary"
                      }
                    ],
                    "surface": [
                      {
                        "colorbar": {
                          "outlinewidth": 0,
                          "ticks": ""
                        },
                        "colorscale": [
                          [
                            0,
                            "#0d0887"
                          ],
                          [
                            0.1111111111111111,
                            "#46039f"
                          ],
                          [
                            0.2222222222222222,
                            "#7201a8"
                          ],
                          [
                            0.3333333333333333,
                            "#9c179e"
                          ],
                          [
                            0.4444444444444444,
                            "#bd3786"
                          ],
                          [
                            0.5555555555555556,
                            "#d8576b"
                          ],
                          [
                            0.6666666666666666,
                            "#ed7953"
                          ],
                          [
                            0.7777777777777778,
                            "#fb9f3a"
                          ],
                          [
                            0.8888888888888888,
                            "#fdca26"
                          ],
                          [
                            1,
                            "#f0f921"
                          ]
                        ],
                        "type": "surface"
                      }
                    ],
                    "table": [
                      {
                        "cells": {
                          "fill": {
                            "color": "#EBF0F8"
                          },
                          "line": {
                            "color": "white"
                          }
                        },
                        "header": {
                          "fill": {
                            "color": "#C8D4E3"
                          },
                          "line": {
                            "color": "white"
                          }
                        },
                        "type": "table"
                      }
                    ]
                  },
                  "layout": {
                    "annotationdefaults": {
                      "arrowcolor": "#2a3f5f",
                      "arrowhead": 0,
                      "arrowwidth": 1
                    },
                    "autotypenumbers": "strict",
                    "coloraxis": {
                      "colorbar": {
                        "outlinewidth": 0,
                        "ticks": ""
                      }
                    },
                    "colorscale": {
                      "diverging": [
                        [
                          0,
                          "#8e0152"
                        ],
                        [
                          0.1,
                          "#c51b7d"
                        ],
                        [
                          0.2,
                          "#de77ae"
                        ],
                        [
                          0.3,
                          "#f1b6da"
                        ],
                        [
                          0.4,
                          "#fde0ef"
                        ],
                        [
                          0.5,
                          "#f7f7f7"
                        ],
                        [
                          0.6,
                          "#e6f5d0"
                        ],
                        [
                          0.7,
                          "#b8e186"
                        ],
                        [
                          0.8,
                          "#7fbc41"
                        ],
                        [
                          0.9,
                          "#4d9221"
                        ],
                        [
                          1,
                          "#276419"
                        ]
                      ],
                      "sequential": [
                        [
                          0,
                          "#0d0887"
                        ],
                        [
                          0.1111111111111111,
                          "#46039f"
                        ],
                        [
                          0.2222222222222222,
                          "#7201a8"
                        ],
                        [
                          0.3333333333333333,
                          "#9c179e"
                        ],
                        [
                          0.4444444444444444,
                          "#bd3786"
                        ],
                        [
                          0.5555555555555556,
                          "#d8576b"
                        ],
                        [
                          0.6666666666666666,
                          "#ed7953"
                        ],
                        [
                          0.7777777777777778,
                          "#fb9f3a"
                        ],
                        [
                          0.8888888888888888,
                          "#fdca26"
                        ],
                        [
                          1,
                          "#f0f921"
                        ]
                      ],
                      "sequentialminus": [
                        [
                          0,
                          "#0d0887"
                        ],
                        [
                          0.1111111111111111,
                          "#46039f"
                        ],
                        [
                          0.2222222222222222,
                          "#7201a8"
                        ],
                        [
                          0.3333333333333333,
                          "#9c179e"
                        ],
                        [
                          0.4444444444444444,
                          "#bd3786"
                        ],
                        [
                          0.5555555555555556,
                          "#d8576b"
                        ],
                        [
                          0.6666666666666666,
                          "#ed7953"
                        ],
                        [
                          0.7777777777777778,
                          "#fb9f3a"
                        ],
                        [
                          0.8888888888888888,
                          "#fdca26"
                        ],
                        [
                          1,
                          "#f0f921"
                        ]
                      ]
                    },
                    "colorway": [
                      "#636efa",
                      "#EF553B",
                      "#00cc96",
                      "#ab63fa",
                      "#FFA15A",
                      "#19d3f3",
                      "#FF6692",
                      "#B6E880",
                      "#FF97FF",
                      "#FECB52"
                    ],
                    "font": {
                      "color": "#2a3f5f"
                    },
                    "geo": {
                      "bgcolor": "white",
                      "lakecolor": "white",
                      "landcolor": "#E5ECF6",
                      "showlakes": true,
                      "showland": true,
                      "subunitcolor": "white"
                    },
                    "hoverlabel": {
                      "align": "left"
                    },
                    "hovermode": "closest",
                    "mapbox": {
                      "style": "light"
                    },
                    "paper_bgcolor": "white",
                    "plot_bgcolor": "#E5ECF6",
                    "polar": {
                      "angularaxis": {
                        "gridcolor": "white",
                        "linecolor": "white",
                        "ticks": ""
                      },
                      "bgcolor": "#E5ECF6",
                      "radialaxis": {
                        "gridcolor": "white",
                        "linecolor": "white",
                        "ticks": ""
                      }
                    },
                    "scene": {
                      "xaxis": {
                        "backgroundcolor": "#E5ECF6",
                        "gridcolor": "white",
                        "gridwidth": 2,
                        "linecolor": "white",
                        "showbackground": true,
                        "ticks": "",
                        "zerolinecolor": "white"
                      },
                      "yaxis": {
                        "backgroundcolor": "#E5ECF6",
                        "gridcolor": "white",
                        "gridwidth": 2,
                        "linecolor": "white",
                        "showbackground": true,
                        "ticks": "",
                        "zerolinecolor": "white"
                      },
                      "zaxis": {
                        "backgroundcolor": "#E5ECF6",
                        "gridcolor": "white",
                        "gridwidth": 2,
                        "linecolor": "white",
                        "showbackground": true,
                        "ticks": "",
                        "zerolinecolor": "white"
                      }
                    },
                    "shapedefaults": {
                      "line": {
                        "color": "#2a3f5f"
                      }
                    },
                    "ternary": {
                      "aaxis": {
                        "gridcolor": "white",
                        "linecolor": "white",
                        "ticks": ""
                      },
                      "baxis": {
                        "gridcolor": "white",
                        "linecolor": "white",
                        "ticks": ""
                      },
                      "bgcolor": "#E5ECF6",
                      "caxis": {
                        "gridcolor": "white",
                        "linecolor": "white",
                        "ticks": ""
                      }
                    },
                    "title": {
                      "x": 0.05
                    },
                    "xaxis": {
                      "automargin": true,
                      "gridcolor": "white",
                      "linecolor": "white",
                      "ticks": "",
                      "title": {
                        "standoff": 15
                      },
                      "zerolinecolor": "white",
                      "zerolinewidth": 2
                    },
                    "yaxis": {
                      "automargin": true,
                      "gridcolor": "white",
                      "linecolor": "white",
                      "ticks": "",
                      "title": {
                        "standoff": 15
                      },
                      "zerolinecolor": "white",
                      "zerolinewidth": 2
                    }
                  }
                },
                "title": {
                  "text": "HOT POINT Thursday 17H avec un minimum de 50 points"
                }
              }
            }
          },
          "metadata": {},
          "output_type": "display_data"
        }
      ],
      "source": [
        "# Nous prendrons un minimum de 50 points par cluster\n",
        "min_point = 50\n",
        "df_dh_cluster = df_dh1[df_dh1['Kmeans'].isin(nb_cluster[nb_cluster >= min_point].index)]\n",
        "\n",
        "fig = px.scatter_map(\n",
        "        df_dh_cluster,\n",
        "        lat=\"Lat\",\n",
        "        lon=\"Lon\",\n",
        "        color=\"Kmeans\",\n",
        "        map_style=\"carto-positron\",\n",
        "        zoom=10,\n",
        "        title= f\"HOT POINT {day} {hours}H avec un minimum de 50 points\"\n",
        ")\n",
        "\n",
        "fig.show()"
      ]
    },
    {
      "cell_type": "markdown",
      "metadata": {},
      "source": [
        "Nous avons maintenant un affichage plus clair des zones chaudes. Les différents clusters se distinguent mieux, notamment dans des quartiers emblématiques de New York comme Midtown et le Financial District.\n",
        "Observons à présent comment réagit le modèle pour les autres jours et heures de la semaine. Dans le modèle suivant, nous utiliserons les mêmes paramètres avec n_clusters = 23."
      ]
    },
    {
      "cell_type": "code",
      "execution_count": 286,
      "metadata": {},
      "outputs": [
        {
          "data": {
            "application/vnd.jupyter.widget-view+json": {
              "model_id": "333717a0f7cd4d5e8c38b62a03b4d2ae",
              "version_major": 2,
              "version_minor": 0
            },
            "text/plain": [
              "Dropdown(description='Jour:', options=('Monday', 'Tuesday', 'Wednesday', 'Thursday', 'Friday', 'Saturday', 'Su…"
            ]
          },
          "metadata": {},
          "output_type": "display_data"
        },
        {
          "data": {
            "application/vnd.jupyter.widget-view+json": {
              "model_id": "21b5def0feeb4866bb92d921e834d268",
              "version_major": 2,
              "version_minor": 0
            },
            "text/plain": [
              "Dropdown(description='Heure:', index=12, options=(0, 1, 2, 3, 4, 5, 6, 7, 8, 9, 10, 11, 12, 13, 14, 15, 16, 17…"
            ]
          },
          "metadata": {},
          "output_type": "display_data"
        },
        {
          "data": {
            "application/vnd.jupyter.widget-view+json": {
              "model_id": "a61c08c157854ba6a8807b9d9ef74929",
              "version_major": 2,
              "version_minor": 0
            },
            "text/plain": [
              "Output()"
            ]
          },
          "metadata": {},
          "output_type": "display_data"
        }
      ],
      "source": [
        "jours_ordre = [\"Monday\",\"Tuesday\",\"Wednesday\",\"Thursday\",\"Friday\",\"Saturday\",\"Sunday\"]\n",
        "all_hours = list(range(24))\n",
        "\n",
        "# Fonction pour créer la figure KMeans\n",
        "def create_figure(day, hour, n_clusters=23):\n",
        "    # Filtrage sur jour et heure\n",
        "    df_plot = df[(df[\"dayname\"] == day) & (df[\"hour\"] == hour)].copy()\n",
        "\n",
        "    # KMeans sur les coordonnées Lat/Lon\n",
        "    coords = df_plot[[\"Lat\", \"Lon\"]].values\n",
        "    kmeans = KMeans(n_clusters=n_clusters, random_state=42, n_init='auto')\n",
        "    df_plot.loc[:, \"Kmeans\"] = kmeans.fit_predict(coords)\n",
        "\n",
        "    # Création de la carte\n",
        "    fig = px.scatter_map(\n",
        "        df_plot,\n",
        "        lat=\"Lat\",\n",
        "        lon=\"Lon\",\n",
        "        color=\"Kmeans\",\n",
        "        map_style=\"carto-positron\",\n",
        "        zoom=10,\n",
        "        width=1000,\n",
        "        height=700,\n",
        "        title=f\"KMeans Clusters - {day} {hour}h\"\n",
        "    )\n",
        "    return fig\n",
        "\n",
        "# Widgets Dropdown pour jour + heure\n",
        "dropdown_day = widgets.Dropdown(\n",
        "    options=jours_ordre,\n",
        "    value=\"Monday\",\n",
        "    description='Jour:',\n",
        ")\n",
        "\n",
        "dropdown_hour = widgets.Dropdown(\n",
        "    options=all_hours,\n",
        "    value=12,\n",
        "    description='Heure:',\n",
        ")\n",
        "\n",
        "output = widgets.Output()\n",
        "\n",
        "# Fonction pour mettre à jour la figure\n",
        "def update_plot(_):\n",
        "    with output:\n",
        "        clear_output(wait=True)\n",
        "        fig = create_figure(dropdown_day.value, dropdown_hour.value)\n",
        "        display(fig)\n",
        "\n",
        "# Observer les changements sur les 2 menus\n",
        "dropdown_day.observe(update_plot, names=\"value\")\n",
        "dropdown_hour.observe(update_plot, names=\"value\")\n",
        "\n",
        "# Affichage initial\n",
        "with output:\n",
        "    fig = create_figure(dropdown_day.value, dropdown_hour.value)\n",
        "    display(fig)\n",
        "\n",
        "# Affichage des menus + output\n",
        "display(dropdown_day, dropdown_hour, output)\n"
      ]
    },
    {
      "cell_type": "markdown",
      "metadata": {},
      "source": [
        "Rendons cela plus lisible en utilisant un cercle de densité basé sur le centroïde. Cela permet de visualiser plus rapidement l’importance de chaque cluster par rapport aux autres.\n",
        "\n",
        "Afin de ne représenter que les clusters les plus significatifs, nous appliquons un filtrage statistique : seuls les clusters dont la densité est supérieure ou égale à la moyenne augmentée d’un écart-type sont conservés."
      ]
    },
    {
      "cell_type": "code",
      "execution_count": 288,
      "metadata": {},
      "outputs": [
        {
          "data": {
            "application/vnd.jupyter.widget-view+json": {
              "model_id": "4d609db0371449238f06fe5cadb031dc",
              "version_major": 2,
              "version_minor": 0
            },
            "text/plain": [
              "Dropdown(description='Jour:', options=('Monday', 'Tuesday', 'Wednesday', 'Thursday', 'Friday', 'Saturday', 'Su…"
            ]
          },
          "metadata": {},
          "output_type": "display_data"
        },
        {
          "data": {
            "application/vnd.jupyter.widget-view+json": {
              "model_id": "7b977f89612146e59b5ab1fad745e1d7",
              "version_major": 2,
              "version_minor": 0
            },
            "text/plain": [
              "Dropdown(description='Heure:', index=12, options=(0, 1, 2, 3, 4, 5, 6, 7, 8, 9, 10, 11, 12, 13, 14, 15, 16, 17…"
            ]
          },
          "metadata": {},
          "output_type": "display_data"
        },
        {
          "data": {
            "application/vnd.jupyter.widget-view+json": {
              "model_id": "977a1ce6573f4866bb592fa249fd2e68",
              "version_major": 2,
              "version_minor": 0
            },
            "text/plain": [
              "Output()"
            ]
          },
          "metadata": {},
          "output_type": "display_data"
        }
      ],
      "source": [
        "def create_figure2(days,hr, k_std=1):\n",
        "    df_plot = df[(df[\"dayname\"] == days) & (df[\"hour\"] == hr)].copy()\n",
        "    df_plot = df_plot.copy()\n",
        "    kmeans = KMeans(n_clusters=23, random_state=42)  #\n",
        "    coords = df_plot[[\"Lat\", \"Lon\"]]  \n",
        "    df_plot.loc[:,\"Kmeans\"] = kmeans.fit_predict(coords)\n",
        "    \n",
        "    # Calculer le centre de chaque cluster\n",
        "    cluster_summary = df_plot.groupby(['Kmeans']).agg(\n",
        "        Lat_center=('Lat', 'mean'),\n",
        "        Lon_center=('Lon', 'mean'),\n",
        "        density=('Kmeans', 'count')\n",
        "    ).reset_index()\n",
        "\n",
        "    # Filtrer les clusters par rapport à la moyenne + k*écart-type de densité\n",
        "    mean_density = cluster_summary['density'].mean()\n",
        "    std_density = cluster_summary['density'].std()\n",
        "    threshold = mean_density + k_std * std_density\n",
        "    cluster_summary = cluster_summary[cluster_summary['density'] >= threshold]\n",
        "\n",
        "    # Normaliser la densité pour que la taille des cercles soit proportionnelle\n",
        "    cluster_summary['density_norm'] = cluster_summary['density'] / cluster_summary['density'].max() * 100  # facteur d'échelle\n",
        "\n",
        "    fig = px.scatter_map(\n",
        "        cluster_summary,\n",
        "        lat=\"Lat_center\",\n",
        "        lon=\"Lon_center\",\n",
        "        size=\"density_norm\",      \n",
        "        color=\"Kmeans\",\n",
        "        hover_name=\"Kmeans\",\n",
        "        hover_data={\"density\": True, \"Lat_center\": False, \"Lon_center\": False},\n",
        "        zoom=10,\n",
        "        map_style=\"carto-positron\",\n",
        "        width=1000,\n",
        "        height=700,\n",
        "        title=f\"Densité des clusters {days} {hr}h\"\n",
        "    )\n",
        "    return fig\n",
        "\n",
        "# Widgets Dropdown pour jour + heure\n",
        "dropdown_day = widgets.Dropdown(\n",
        "    options=jours_ordre,\n",
        "    value=\"Monday\",\n",
        "    description='Jour:',\n",
        ")\n",
        "\n",
        "dropdown_hour = widgets.Dropdown(\n",
        "    options=all_hours,\n",
        "    value=12,\n",
        "    description='Heure:',\n",
        ")\n",
        "\n",
        "output = widgets.Output()\n",
        "\n",
        "# Fonction pour mettre à jour la figure\n",
        "def update_plot(_):\n",
        "    with output:\n",
        "        clear_output(wait=True)\n",
        "        fig = create_figure2(dropdown_day.value, dropdown_hour.value)\n",
        "        display(fig)\n",
        "\n",
        "# Observer les changements sur les 2 menus\n",
        "dropdown_day.observe(update_plot, names=\"value\")\n",
        "dropdown_hour.observe(update_plot, names=\"value\")\n",
        "\n",
        "# Affichage initial\n",
        "with output:\n",
        "    fig = create_figure2(dropdown_day.value, dropdown_hour.value)\n",
        "    display(fig)\n",
        "\n",
        "# Affichage des menus + output\n",
        "display(dropdown_day, dropdown_hour, output)"
      ]
    },
    {
      "cell_type": "markdown",
      "metadata": {},
      "source": [
        "Notre dernier modèle, intégrant un filtrage statistique, révèle les clusters les plus significatifs pour chaque jour et chaque heure.\n",
        "Le cercle de densité offre une lecture immédiate du secteur le plus actif à un moment donné de la journée, ce qui facilite l’identification des zones à forte concentration d’activité.\n",
        "Au-delà de cette visualisation, le modèle permet de comparer la dynamique spatiale entre les jours de semaine et les week-ends. Le filtrage statistique renforce la robustesse des résultats en écartant les clusters peu significatifs, ce qui améliore l’interprétation et soutient la prise de décision."
      ]
    },
    {
      "cell_type": "markdown",
      "metadata": {},
      "source": [
        "### Pour conclure\n",
        "KMEANS offre plusieurs avantages dans notre cas :\n",
        "\n",
        "- Il est simple à mettre en place et très rapide, même sur un gros volume de trajets Uber.\n",
        "\n",
        "- Il permet d’identifier des zones géographiques précises (centroïdes), utiles pour repérer des “hotspots”.\n",
        "\n",
        "- Il reste intuitif et facile à interpréter.\n",
        "\n",
        "Cependant, il présente aussi certaines limites :\n",
        "\n",
        "- Il suppose que les clusters soient “ronds” et séparés de manière euclidienne.\n",
        "\n",
        "- Or, dans notre contexte, certaines zones peuvent être allongées (axes routiers, couloirs urbains), ce que KMeans gère mal.\n",
        "\n",
        "- Les points isolés (trajets éloignés) peuvent tirer les centroïdes et introduire du bruit dans la lecture des cartes.\n",
        "\n",
        "Pour ces raisons, il est pertinent de compléter l’analyse avec un autre modèle : DBSCAN, qui est moins sensible au bruit et mieux adapté aux zones de densité variable."
      ]
    }
  ],
  "metadata": {
    "colab": {
      "provenance": []
    },
    "kernelspec": {
      "display_name": "uber",
      "language": "python",
      "name": "python3"
    },
    "language_info": {
      "codemirror_mode": {
        "name": "ipython",
        "version": 3
      },
      "file_extension": ".py",
      "mimetype": "text/x-python",
      "name": "python",
      "nbconvert_exporter": "python",
      "pygments_lexer": "ipython3",
      "version": "3.10.18"
    }
  },
  "nbformat": 4,
  "nbformat_minor": 0
}
